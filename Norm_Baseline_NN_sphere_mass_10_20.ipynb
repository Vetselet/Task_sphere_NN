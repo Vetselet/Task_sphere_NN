{
  "cells": [
    {
      "cell_type": "markdown",
      "metadata": {
        "id": "view-in-github",
        "colab_type": "text"
      },
      "source": [
        "<a href=\"https://colab.research.google.com/github/Vetselet/Task_sphere_NN/blob/main/Norm_Baseline_NN_sphere_mass_10_20.ipynb\" target=\"_parent\"><img src=\"https://colab.research.google.com/assets/colab-badge.svg\" alt=\"Open In Colab\"/></a>"
      ]
    },
    {
      "cell_type": "markdown",
      "metadata": {
        "id": "pQts9aDeQOod"
      },
      "source": [
        "# Библиотеки"
      ]
    },
    {
      "cell_type": "code",
      "execution_count": null,
      "metadata": {
        "colab": {
          "base_uri": "https://localhost:8080/"
        },
        "id": "iqq9rVmNQJCG",
        "outputId": "79289783-ee18-4b9d-aef7-c896e8ff53fe"
      },
      "outputs": [
        {
          "output_type": "stream",
          "name": "stdout",
          "text": [
            "Populating the interactive namespace from numpy and matplotlib\n"
          ]
        }
      ],
      "source": [
        "import numpy as np\n",
        "import pandas as pd\n",
        "from pathlib import Path\n",
        "from math import *\n",
        "# from iminuit import Minuit\n",
        "import matplotlib.pyplot as plt\n",
        "import matplotlib as mpl\n",
        "from mpl_toolkits.mplot3d import Axes3D\n",
        "from matplotlib.colors import LinearSegmentedColormap\n",
        "%pylab inline\n",
        "import warnings\n",
        "from scipy import stats\n",
        "from scipy.integrate import quad\n",
        "import plotly.express as px\n",
        "from scipy import stats\n",
        "from scipy import interpolate\n",
        "import torch.utils.data as data_utils\n",
        "warnings.filterwarnings('ignore')\n",
        "plt.rcParams['font.size']=15\n",
        "from google.colab import drive\n",
        "\n",
        "import torch # PyTorch package\n",
        "import torchvision # load datasets\n",
        "import torchvision.transforms as transforms # transform data\n",
        "import torch.nn as nn # basic building block for neural neteorks\n",
        "import torch.nn.functional as F # import convolution functions like Relu\n",
        "import torch.optim as optim # optimzer\n",
        "from sklearn.model_selection import train_test_split\n",
        "\n",
        "from sklearn.preprocessing import StandardScaler, MinMaxScaler\n",
        "\n",
        "from torchvision.io import read_image\n",
        "from torchvision import transforms, utils\n",
        "from torch.utils.data import Dataset, DataLoader,ConcatDataset\n",
        "from sklearn.preprocessing import LabelEncoder\n",
        "from torch import nn\n",
        "from torch import optim\n",
        "import datetime\n",
        "\n",
        "plt.rcParams['ytick.direction'] = 'in'\n",
        "plt.rcParams['xtick.direction'] = 'in'\n",
        "\n",
        "plt.rcParams['xtick.major.size']=10\n",
        "plt.rcParams['xtick.minor.size'] = 5\n",
        "plt.rcParams['xtick.major.width'] = 2\n",
        "plt.rcParams['xtick.minor.width'] = 1\n",
        "# plt.rcParams['xtick.minor.visible'] = 'True'\n",
        "\n",
        "plt.rcParams['ytick.major.size'] = 10\n",
        "plt.rcParams['ytick.minor.size'] = 5\n",
        "plt.rcParams['ytick.major.width'] = 2\n",
        "plt.rcParams['ytick.minor.width'] = 1\n",
        "\n",
        "plt.rcParams.update({'font.size':20})\n",
        "plt.rc('xtick', labelsize=20)\n",
        "plt.rc('ytick', labelsize=20)\n",
        "\n",
        "\n",
        "device = torch.device(\"cuda\" if torch.cuda.is_available() else \"cpu\")\n",
        "\n",
        "mp=1.001\n",
        "mHe=4.0026\n",
        "mN=14.007\n",
        "mS=32.064\n",
        "mFe=55.845\n",
        "m=np.array([mp,mHe,mN,mS,mFe])\n",
        "ln_m=np.log(m)\n",
        "\n",
        "import random\n",
        "def set_random_seed(seed):\n",
        "    torch.manual_seed(seed)\n",
        "    torch.cuda.manual_seed(seed)\n",
        "    np.random.seed(seed)\n",
        "    random.seed(seed)\n",
        "    torch.backends.cudnn.deterministic = True\n",
        "\n",
        "set_random_seed(30)"
      ]
    },
    {
      "cell_type": "code",
      "execution_count": null,
      "metadata": {
        "colab": {
          "base_uri": "https://localhost:8080/"
        },
        "id": "81ro6TGZvSTU",
        "outputId": "7c98b156-ce82-4b19-976d-ae8acd6a8f5a"
      },
      "outputs": [
        {
          "output_type": "execute_result",
          "data": {
            "text/plain": [
              "array([9.99500333e-04, 1.38694415e+00, 2.63955720e+00, 3.46773391e+00,\n",
              "       4.02258000e+00])"
            ]
          },
          "metadata": {},
          "execution_count": 2
        }
      ],
      "source": [
        "ln_m"
      ]
    },
    {
      "cell_type": "markdown",
      "metadata": {
        "id": "iGNs8jSvYUX5"
      },
      "source": [
        "# Функции"
      ]
    },
    {
      "cell_type": "code",
      "execution_count": null,
      "metadata": {
        "id": "Nfn9nPUlYWeX"
      },
      "outputs": [],
      "source": [
        "from IPython.display import clear_output\n",
        "from collections import defaultdict\n",
        "import matplotlib.pyplot as plt\n",
        "import numpy as np\n",
        "\n",
        "class ProgressPlotter:\n",
        "  def __init__(self) -> None:\n",
        "    self._history_dict = defaultdict(list)\n",
        "\n",
        "  def add_scalar(self, tag: str, value)-> None:\n",
        "    self._history_dict[tag].append(value)\n",
        "\n",
        "  def display_keys(self,ax,tags):\n",
        "    if isinstance(tags, str):\n",
        "      tags = [tags]\n",
        "    history_len = 0\n",
        "    ax.grid()\n",
        "    for key in tags:\n",
        "      ax.plot(self._history_dict[key], marker=\"X\",label=key)\n",
        "      history_len = max(history_len,len(self.history_dict[key]))\n",
        "    if len(tags) > 1:\n",
        "      ax.legend(loc=\"upper right\")\n",
        "    else:\n",
        "      ax.set_ylabel(key)\n",
        "    ax.set_xlabel('step')\n",
        "    ax.set_xticks(np.arange(history_len))\n",
        "    ax.set_xticklabels(np.arange(history_len))\n",
        "\n",
        "  def display(self,groups = None):\n",
        "    # groups list ofkeys like [['loss_train','loss_val'],['accuracy']]\n",
        "    clear_output()\n",
        "    n_groups = len(groups)\n",
        "    fig, ax = plt.subplots(n_groups, 1, figsize=(12, 3*n_groups))\n",
        "    if n_groups == 1:\n",
        "      ax = [ax]\n",
        "    for i, keys in enumerate(groups):\n",
        "      self.display_keys(ax[i],keys)\n",
        "    fig.tight_layout()\n",
        "    plt.show()\n",
        "\n",
        "  @property\n",
        "  def history_dict(self):\n",
        "    return dict(self._history_dict)\n",
        "\n",
        "\n",
        "def get_correct_count(pred, labels):\n",
        "  # _, predicted = torch.max(pred.data, 1)\n",
        "  predicted,indices= torch.max(pred.data, 1)\n",
        "  return (predicted == labels).sum().item()\n",
        "\n",
        "@torch.inference_mode()\n",
        "def calaculate_accuracy(model, data_loader, criterion ):\n",
        "    correct, total = 0, 0\n",
        "    loss = 0\n",
        "    for batch in data_loader:\n",
        "        video,imgs, labels = batch\n",
        "        video=video.to(device)\n",
        "        imgs=imgs.to(device)\n",
        "        labels=labels.to(device)\n",
        "        batch_size_acc=len(labels)\n",
        "        pred = model(video,imgs,batch_size_acc)\n",
        "        loss += criterion(pred, labels)\n",
        "        correct += get_correct_count(pred,labels)\n",
        "        total += labels.size(0)\n",
        "\n",
        "    return correct / total , loss.item() / len(data_loader)\n",
        "\n",
        "def calaculate_mae(model, data_loader, criterion ):\n",
        "    correct, total = 0, 0\n",
        "    loss = 0\n",
        "    val_mae=0\n",
        "    for batch in data_loader:\n",
        "        video,imgs, labels = batch\n",
        "        video=video.to(device)\n",
        "        imgs=imgs.to(device)\n",
        "        labels=labels.to(device)\n",
        "        batch_size_acc=len(labels)\n",
        "        pred = model(video,imgs,batch_size_acc)\n",
        "        loss += criterion(pred, labels)\n",
        "        # correct += get_correct_count(pred,labels)\n",
        "        mae_loss=nn.L1Loss()\n",
        "        epoch_mae=mae_loss(pred, labels)/batch_size_acc\n",
        "        val_mae+=epoch_mae\n",
        "        # correct += get_correct_count(pred,labels)\n",
        "        total += labels.size(0)\n",
        "\n",
        "    return val_mae/ len(data_loader)    , loss.item() / len(data_loader)"
      ]
    },
    {
      "cell_type": "markdown",
      "metadata": {
        "id": "4ev6TNUvQXU0"
      },
      "source": [
        "# Загрузка данных"
      ]
    },
    {
      "cell_type": "code",
      "execution_count": null,
      "metadata": {
        "colab": {
          "base_uri": "https://localhost:8080/"
        },
        "id": "2o0GHT6b6cS6",
        "outputId": "1155b29c-c035-488d-9b3f-2a3858c9e7f2"
      },
      "outputs": [
        {
          "output_type": "stream",
          "name": "stdout",
          "text": [
            "Mounted at /content/drive\n",
            "(4271, 1, 50, 11, 11)\n",
            "(3977, 1, 50, 11, 11)\n",
            "(3643, 1, 50, 11, 11)\n",
            "(3481, 1, 50, 11, 11)\n",
            "(3213, 1, 50, 11, 11)\n",
            "(4261, 1, 50, 11, 11)\n",
            "(4045, 1, 50, 11, 11)\n",
            "(3701, 1, 50, 11, 11)\n",
            "(3502, 1, 50, 11, 11)\n",
            "(3235, 1, 50, 11, 11)\n",
            "data video =  (37329, 1, 50, 11, 11) ,  data map =  (37329, 2, 11, 11) ,  data y =  (37329,)\n"
          ]
        }
      ],
      "source": [
        "from ast import Pass\n",
        "drive.mount('/content/drive')\n",
        "direct_q1='drive/MyDrive/data_sphere/data_to_NN_q1_900_10PeV_10-20/'\n",
        "direct_q2='drive/MyDrive/data_sphere/data_to_NN_q2_900_10PeV_10-20/'\n",
        "\n",
        "data_direct=[direct_q1+'glob_array_p_q1.npy',direct_q1+'glob_array_He_q1.npy',direct_q1+'glob_array_N_q1.npy',direct_q1+'glob_array_S_q1.npy',direct_q1+'glob_array_Fe_q1.npy',\\\n",
        "             direct_q2+'glob_array_p_q2.npy',direct_q2+'glob_array_He_q2.npy',direct_q2+'glob_array_N_q2.npy',direct_q2+'glob_array_S_q2.npy',direct_q2+'glob_array_Fe_q2.npy']\n",
        "map_direct=[direct_q1+'map2_p_q1.npy',direct_q1+'map2_He_q1.npy',direct_q1+'map2_N_q1.npy',direct_q1+'map2_S_q1.npy',direct_q1+'map2_Fe_q1.npy',\\\n",
        "             direct_q2+'map2_p_q2.npy',direct_q2+'map2_He_q2.npy',direct_q2+'map2_N_q2.npy',direct_q2+'map2_S_q2.npy',direct_q2+'map2_Fe_q2.npy']\n",
        "\n",
        "border=1200   # граница числа фотонов, если их в сумме зарегистрировалось меньше в одном событии, то такое событие не рассматривается.\n",
        "data_all,data_2D,data_y=[],[],[]\n",
        "# target_num=[0,1,1,0,1,1]\n",
        "target_num=[0,1,2,3,4,0,1,2,3,4]\n",
        "\n",
        "target_mass=[ln_m[0],ln_m[1],ln_m[2],ln_m[3],ln_m[4],ln_m[0],ln_m[1],ln_m[2],ln_m[3],ln_m[4]]\n",
        "for i in range(10):\n",
        "\n",
        "    particle_data=np.load( data_direct[i])\n",
        "    particle_data=particle_data.reshape(6000,1,50,11,11)\n",
        "\n",
        "    # Обрезаем данные\n",
        "    bool_mask=[sum(particle_data[i])<border for i in range(6000)]\n",
        "    particle_data=particle_data[~np.array(bool_mask)]\n",
        "    # print(particle_data.min() ,particle_data.max())\n",
        "\n",
        "    map2D=np.load( map_direct[i])\n",
        "    map2D=map2D.reshape(6000,2,11,11)\n",
        "    map2D=map2D[~np.array(bool_mask)]\n",
        "    # print(map2D.min(),map2D.max())\n",
        "\n",
        "    data_all.append(particle_data)\n",
        "    data_2D.append(map2D)\n",
        "    # data_y.append([target_num[i]]*particle_data.shape[0])    # В качетсве y целые числа, 0, 1, 2\n",
        "    data_y.append([target_mass[i]]*particle_data.shape[0])\n",
        "\n",
        "    print(particle_data.shape)\n",
        "\n",
        "\n",
        "if len(data_all)==10:\n",
        "    data_video=np.concatenate([data_all[0],data_all[1],data_all[2],data_all[3],data_all[4],data_all[5],data_all[6],data_all[7],data_all[8],data_all[9]])\n",
        "    data_map = np.concatenate([data_2D[0],data_2D[1],data_2D[2],data_2D[3],data_2D[4],data_2D[5],data_2D[6],data_2D[7],data_2D[8],data_2D[9]])\n",
        "    data_y=np.concatenate([data_y[0],data_y[1],data_y[2],data_y[3],data_y[4],data_y[5],data_y[6],data_y[7],data_y[8],data_y[9]])\n",
        "    print('data video = ',data_video.shape,',  data map = ',data_map.shape,',  data y = ',data_y.shape)\n",
        "\n",
        "data_video=(data_video-data_video.min())/(data_video.max()-data_video.min())   # Нормализция данных по кол-ву фотонов в ФЭУ в видео"
      ]
    },
    {
      "cell_type": "markdown",
      "metadata": {
        "id": "paYZeHLHPOIo"
      },
      "source": [
        "data_video[0][0] -- это для одного события\n",
        "\n",
        "data_map -- [sum_signal, time]"
      ]
    },
    {
      "cell_type": "markdown",
      "metadata": {
        "id": "ucYHGpSbvemm"
      },
      "source": [
        "## Нормализация числа фотонов по каждому событию"
      ]
    },
    {
      "cell_type": "code",
      "execution_count": null,
      "metadata": {
        "id": "AQLCKa6ROunw"
      },
      "outputs": [],
      "source": [
        "# Нормировка видео в каждом событии по максимуму\n",
        "video_norm_each=np.array([data_video[i][0]/data_video[i][0].max() for i in range(data_video.shape[0])])"
      ]
    },
    {
      "cell_type": "code",
      "execution_count": null,
      "metadata": {
        "id": "vMtRDL-MOujG"
      },
      "outputs": [],
      "source": [
        "# Нормировка карты суммарных сигналов в каждом событии по максимуму\n",
        "map_0_norm_each=[data_map[i][0]/data_map[i][0].max() for i in range(data_map.shape[0])]\n",
        "map_time=[data_map[i][1] for i in range(data_map.shape[0])]\n",
        "maps_norm=np.array(list(zip(map_0_norm_each,map_time)))\n",
        "# Нормировка карты времени общая по всем событиям\n",
        "maps_norm[:,1]=(maps_norm[:,1]-maps_norm[:,1].min())/(maps_norm[:,1].max()-maps_norm[:,1].min())"
      ]
    },
    {
      "cell_type": "markdown",
      "metadata": {
        "id": "rhuidMaGvcTB"
      },
      "source": [
        "## Стандартизация"
      ]
    },
    {
      "cell_type": "code",
      "execution_count": null,
      "metadata": {
        "colab": {
          "base_uri": "https://localhost:8080/"
        },
        "id": "rdpC_A_PA16r",
        "outputId": "7be16ac5-bfc6-44fb-8f0f-5de8e0da3763"
      },
      "outputs": [
        {
          "data": {
            "text/plain": [
              "(37329, 2, 11, 11)"
            ]
          },
          "execution_count": 5,
          "metadata": {},
          "output_type": "execute_result"
        }
      ],
      "source": [
        "# Стандартизация карт\n",
        "m=(data_map[:,0]-data_map[:,0].mean())/data_map[:,0].std()  # Стандартизация числа фотонов\n",
        "t=(data_map[:,1]-data_map[:,1].mean())/data_map[:,1].std()  # Стандартизация времени\n",
        "a=np.array(list(zip(m,t)))\n",
        "a.shape"
      ]
    },
    {
      "cell_type": "code",
      "execution_count": null,
      "metadata": {
        "colab": {
          "base_uri": "https://localhost:8080/"
        },
        "id": "4RmdmZ9iF4af",
        "outputId": "e77b6ec7-a8d8-47ff-e24c-2027c0a7fb91"
      },
      "outputs": [
        {
          "data": {
            "text/plain": [
              "(37329, 50, 11, 11)"
            ]
          },
          "execution_count": 6,
          "metadata": {},
          "output_type": "execute_result"
        }
      ],
      "source": [
        "# Стандартизация видеоряда\n",
        "vid=data_video.reshape(data_video.shape[0],50,11,11)\n",
        "v=(vid-vid.mean())/vid.std()\n",
        "v.shape"
      ]
    },
    {
      "cell_type": "markdown",
      "metadata": {
        "id": "eeAqIe8nKTB6"
      },
      "source": [
        "# Введение X и y"
      ]
    },
    {
      "cell_type": "code",
      "execution_count": null,
      "metadata": {
        "colab": {
          "base_uri": "https://localhost:8080/"
        },
        "id": "R3PFGJ9BlpjF",
        "outputId": "7bebb41b-26c3-4a1c-9ebd-3b17a12c2a54"
      },
      "outputs": [
        {
          "output_type": "stream",
          "name": "stdout",
          "text": [
            "X shape =  (37329, 1, 50, 11, 11)\n",
            "y shape =  (37329, 1)\n",
            "(37329, 2)\n",
            "(1, 50, 11, 11)\n",
            "(2, 11, 11)\n"
          ]
        }
      ],
      "source": [
        "X= video_norm_each\n",
        "X = X.reshape(X.shape[0], 1, 50, 11, 11)\n",
        "print( 'X shape = ', X.shape)\n",
        "\n",
        "y=data_y.reshape(data_y.shape[0],1)\n",
        "print( 'y shape = ', y.shape)\n",
        "\n",
        "X_concat=np.array(list(zip(X,maps_norm)))\n",
        "\n",
        "print(X_concat.shape)\n",
        "print(X_concat[0,0].shape)\n",
        "print(X_concat[0,1].shape)"
      ]
    },
    {
      "cell_type": "code",
      "execution_count": null,
      "metadata": {
        "colab": {
          "base_uri": "https://localhost:8080/"
        },
        "id": "-KItICgfTQP_",
        "outputId": "4d23cb22-ec25-419d-cb93-8e0cc04c88f6"
      },
      "outputs": [
        {
          "name": "stdout",
          "output_type": "stream",
          "text": [
            "X shape =  (37329, 1, 50, 11, 11)\n",
            "y shape =  (37329, 1)\n",
            "(37329, 2)\n",
            "(1, 50, 11, 11)\n",
            "(2, 11, 11)\n"
          ]
        }
      ],
      "source": [
        "# Для стандартизованных данных\n",
        "\n",
        "X= v\n",
        "X = X.reshape(X.shape[0], 1, 50, 11, 11)\n",
        "print( 'X shape = ', X.shape)\n",
        "\n",
        "y=data_y.reshape(data_y.shape[0],1)\n",
        "print( 'y shape = ', y.shape)\n",
        "\n",
        "X_concat=np.array(list(zip(X,a)))\n",
        "\n",
        "print(X_concat.shape)\n",
        "print(X_concat[0,0].shape)\n",
        "print(X_concat[0,1].shape)"
      ]
    },
    {
      "cell_type": "markdown",
      "metadata": {
        "id": "RDwHjvs7jr0P"
      },
      "source": [
        "# Разделение на обучающую и треничровачную выборки"
      ]
    },
    {
      "cell_type": "code",
      "execution_count": null,
      "metadata": {
        "id": "UkynEYCazf8m"
      },
      "outputs": [],
      "source": [
        "X_train, X_test, y_train, y_test = train_test_split(X_concat, y, test_size=0.35, stratify = y, random_state=30, shuffle=True)"
      ]
    },
    {
      "cell_type": "code",
      "execution_count": null,
      "metadata": {
        "colab": {
          "base_uri": "https://localhost:8080/"
        },
        "id": "Y91aXoYQNnrK",
        "outputId": "464eb0f6-d130-42d4-8796-b5b43eeed9f3"
      },
      "outputs": [
        {
          "output_type": "execute_result",
          "data": {
            "text/plain": [
              "{0.0009995003330834232: 2986,\n",
              " 1.3869441499613877: 2808,\n",
              " 2.6395572046569096: 2571,\n",
              " 3.4677339054623997: 2444,\n",
              " 4.02257999599279: 2257}"
            ]
          },
          "metadata": {},
          "execution_count": 9
        }
      ],
      "source": [
        "uniq,counts=np.unique(y_test,return_counts=True)\n",
        "dict(zip(uniq,counts))"
      ]
    },
    {
      "cell_type": "code",
      "execution_count": null,
      "metadata": {
        "colab": {
          "base_uri": "https://localhost:8080/",
          "height": 424
        },
        "id": "tjiHvFTOWe3A",
        "outputId": "36158a34-73c2-405d-8443-84fd40655514"
      },
      "outputs": [
        {
          "output_type": "execute_result",
          "data": {
            "text/plain": [
              "              y m_name\n",
              "0      1.386944     He\n",
              "1      3.467734      S\n",
              "2      2.639557      N\n",
              "3      1.386944     He\n",
              "4      2.639557      N\n",
              "...         ...    ...\n",
              "13061  2.639557      N\n",
              "13062  0.001000      p\n",
              "13063  3.467734      S\n",
              "13064  2.639557      N\n",
              "13065  2.639557      N\n",
              "\n",
              "[13066 rows x 2 columns]"
            ],
            "text/html": [
              "\n",
              "\n",
              "  <div id=\"df-43c9223d-c466-46e7-ae04-77698fc54a18\">\n",
              "    <div class=\"colab-df-container\">\n",
              "      <div>\n",
              "<style scoped>\n",
              "    .dataframe tbody tr th:only-of-type {\n",
              "        vertical-align: middle;\n",
              "    }\n",
              "\n",
              "    .dataframe tbody tr th {\n",
              "        vertical-align: top;\n",
              "    }\n",
              "\n",
              "    .dataframe thead th {\n",
              "        text-align: right;\n",
              "    }\n",
              "</style>\n",
              "<table border=\"1\" class=\"dataframe\">\n",
              "  <thead>\n",
              "    <tr style=\"text-align: right;\">\n",
              "      <th></th>\n",
              "      <th>y</th>\n",
              "      <th>m_name</th>\n",
              "    </tr>\n",
              "  </thead>\n",
              "  <tbody>\n",
              "    <tr>\n",
              "      <th>0</th>\n",
              "      <td>1.386944</td>\n",
              "      <td>He</td>\n",
              "    </tr>\n",
              "    <tr>\n",
              "      <th>1</th>\n",
              "      <td>3.467734</td>\n",
              "      <td>S</td>\n",
              "    </tr>\n",
              "    <tr>\n",
              "      <th>2</th>\n",
              "      <td>2.639557</td>\n",
              "      <td>N</td>\n",
              "    </tr>\n",
              "    <tr>\n",
              "      <th>3</th>\n",
              "      <td>1.386944</td>\n",
              "      <td>He</td>\n",
              "    </tr>\n",
              "    <tr>\n",
              "      <th>4</th>\n",
              "      <td>2.639557</td>\n",
              "      <td>N</td>\n",
              "    </tr>\n",
              "    <tr>\n",
              "      <th>...</th>\n",
              "      <td>...</td>\n",
              "      <td>...</td>\n",
              "    </tr>\n",
              "    <tr>\n",
              "      <th>13061</th>\n",
              "      <td>2.639557</td>\n",
              "      <td>N</td>\n",
              "    </tr>\n",
              "    <tr>\n",
              "      <th>13062</th>\n",
              "      <td>0.001000</td>\n",
              "      <td>p</td>\n",
              "    </tr>\n",
              "    <tr>\n",
              "      <th>13063</th>\n",
              "      <td>3.467734</td>\n",
              "      <td>S</td>\n",
              "    </tr>\n",
              "    <tr>\n",
              "      <th>13064</th>\n",
              "      <td>2.639557</td>\n",
              "      <td>N</td>\n",
              "    </tr>\n",
              "    <tr>\n",
              "      <th>13065</th>\n",
              "      <td>2.639557</td>\n",
              "      <td>N</td>\n",
              "    </tr>\n",
              "  </tbody>\n",
              "</table>\n",
              "<p>13066 rows × 2 columns</p>\n",
              "</div>\n",
              "      <button class=\"colab-df-convert\" onclick=\"convertToInteractive('df-43c9223d-c466-46e7-ae04-77698fc54a18')\"\n",
              "              title=\"Convert this dataframe to an interactive table.\"\n",
              "              style=\"display:none;\">\n",
              "\n",
              "  <svg xmlns=\"http://www.w3.org/2000/svg\" height=\"24px\"viewBox=\"0 0 24 24\"\n",
              "       width=\"24px\">\n",
              "    <path d=\"M0 0h24v24H0V0z\" fill=\"none\"/>\n",
              "    <path d=\"M18.56 5.44l.94 2.06.94-2.06 2.06-.94-2.06-.94-.94-2.06-.94 2.06-2.06.94zm-11 1L8.5 8.5l.94-2.06 2.06-.94-2.06-.94L8.5 2.5l-.94 2.06-2.06.94zm10 10l.94 2.06.94-2.06 2.06-.94-2.06-.94-.94-2.06-.94 2.06-2.06.94z\"/><path d=\"M17.41 7.96l-1.37-1.37c-.4-.4-.92-.59-1.43-.59-.52 0-1.04.2-1.43.59L10.3 9.45l-7.72 7.72c-.78.78-.78 2.05 0 2.83L4 21.41c.39.39.9.59 1.41.59.51 0 1.02-.2 1.41-.59l7.78-7.78 2.81-2.81c.8-.78.8-2.07 0-2.86zM5.41 20L4 18.59l7.72-7.72 1.47 1.35L5.41 20z\"/>\n",
              "  </svg>\n",
              "      </button>\n",
              "\n",
              "\n",
              "\n",
              "    <div id=\"df-3ba68e38-2e9c-4ceb-aec2-a9bdc216d2d8\">\n",
              "      <button class=\"colab-df-quickchart\" onclick=\"quickchart('df-3ba68e38-2e9c-4ceb-aec2-a9bdc216d2d8')\"\n",
              "              title=\"Suggest charts.\"\n",
              "              style=\"display:none;\">\n",
              "\n",
              "<svg xmlns=\"http://www.w3.org/2000/svg\" height=\"24px\"viewBox=\"0 0 24 24\"\n",
              "     width=\"24px\">\n",
              "    <g>\n",
              "        <path d=\"M19 3H5c-1.1 0-2 .9-2 2v14c0 1.1.9 2 2 2h14c1.1 0 2-.9 2-2V5c0-1.1-.9-2-2-2zM9 17H7v-7h2v7zm4 0h-2V7h2v10zm4 0h-2v-4h2v4z\"/>\n",
              "    </g>\n",
              "</svg>\n",
              "      </button>\n",
              "    </div>\n",
              "\n",
              "<style>\n",
              "  .colab-df-quickchart {\n",
              "    background-color: #E8F0FE;\n",
              "    border: none;\n",
              "    border-radius: 50%;\n",
              "    cursor: pointer;\n",
              "    display: none;\n",
              "    fill: #1967D2;\n",
              "    height: 32px;\n",
              "    padding: 0 0 0 0;\n",
              "    width: 32px;\n",
              "  }\n",
              "\n",
              "  .colab-df-quickchart:hover {\n",
              "    background-color: #E2EBFA;\n",
              "    box-shadow: 0px 1px 2px rgba(60, 64, 67, 0.3), 0px 1px 3px 1px rgba(60, 64, 67, 0.15);\n",
              "    fill: #174EA6;\n",
              "  }\n",
              "\n",
              "  [theme=dark] .colab-df-quickchart {\n",
              "    background-color: #3B4455;\n",
              "    fill: #D2E3FC;\n",
              "  }\n",
              "\n",
              "  [theme=dark] .colab-df-quickchart:hover {\n",
              "    background-color: #434B5C;\n",
              "    box-shadow: 0px 1px 3px 1px rgba(0, 0, 0, 0.15);\n",
              "    filter: drop-shadow(0px 1px 2px rgba(0, 0, 0, 0.3));\n",
              "    fill: #FFFFFF;\n",
              "  }\n",
              "</style>\n",
              "\n",
              "    <script>\n",
              "      async function quickchart(key) {\n",
              "        const containerElement = document.querySelector('#' + key);\n",
              "        const charts = await google.colab.kernel.invokeFunction(\n",
              "            'suggestCharts', [key], {});\n",
              "      }\n",
              "    </script>\n",
              "\n",
              "      <script>\n",
              "\n",
              "function displayQuickchartButton(domScope) {\n",
              "  let quickchartButtonEl =\n",
              "    domScope.querySelector('#df-3ba68e38-2e9c-4ceb-aec2-a9bdc216d2d8 button.colab-df-quickchart');\n",
              "  quickchartButtonEl.style.display =\n",
              "    google.colab.kernel.accessAllowed ? 'block' : 'none';\n",
              "}\n",
              "\n",
              "        displayQuickchartButton(document);\n",
              "      </script>\n",
              "      <style>\n",
              "    .colab-df-container {\n",
              "      display:flex;\n",
              "      flex-wrap:wrap;\n",
              "      gap: 12px;\n",
              "    }\n",
              "\n",
              "    .colab-df-convert {\n",
              "      background-color: #E8F0FE;\n",
              "      border: none;\n",
              "      border-radius: 50%;\n",
              "      cursor: pointer;\n",
              "      display: none;\n",
              "      fill: #1967D2;\n",
              "      height: 32px;\n",
              "      padding: 0 0 0 0;\n",
              "      width: 32px;\n",
              "    }\n",
              "\n",
              "    .colab-df-convert:hover {\n",
              "      background-color: #E2EBFA;\n",
              "      box-shadow: 0px 1px 2px rgba(60, 64, 67, 0.3), 0px 1px 3px 1px rgba(60, 64, 67, 0.15);\n",
              "      fill: #174EA6;\n",
              "    }\n",
              "\n",
              "    [theme=dark] .colab-df-convert {\n",
              "      background-color: #3B4455;\n",
              "      fill: #D2E3FC;\n",
              "    }\n",
              "\n",
              "    [theme=dark] .colab-df-convert:hover {\n",
              "      background-color: #434B5C;\n",
              "      box-shadow: 0px 1px 3px 1px rgba(0, 0, 0, 0.15);\n",
              "      filter: drop-shadow(0px 1px 2px rgba(0, 0, 0, 0.3));\n",
              "      fill: #FFFFFF;\n",
              "    }\n",
              "  </style>\n",
              "\n",
              "      <script>\n",
              "        const buttonEl =\n",
              "          document.querySelector('#df-43c9223d-c466-46e7-ae04-77698fc54a18 button.colab-df-convert');\n",
              "        buttonEl.style.display =\n",
              "          google.colab.kernel.accessAllowed ? 'block' : 'none';\n",
              "\n",
              "        async function convertToInteractive(key) {\n",
              "          const element = document.querySelector('#df-43c9223d-c466-46e7-ae04-77698fc54a18');\n",
              "          const dataTable =\n",
              "            await google.colab.kernel.invokeFunction('convertToInteractive',\n",
              "                                                     [key], {});\n",
              "          if (!dataTable) return;\n",
              "\n",
              "          const docLinkHtml = 'Like what you see? Visit the ' +\n",
              "            '<a target=\"_blank\" href=https://colab.research.google.com/notebooks/data_table.ipynb>data table notebook</a>'\n",
              "            + ' to learn more about interactive tables.';\n",
              "          element.innerHTML = '';\n",
              "          dataTable['output_type'] = 'display_data';\n",
              "          await google.colab.output.renderOutput(dataTable, element);\n",
              "          const docLink = document.createElement('div');\n",
              "          docLink.innerHTML = docLinkHtml;\n",
              "          element.appendChild(docLink);\n",
              "        }\n",
              "      </script>\n",
              "    </div>\n",
              "  </div>\n"
            ]
          },
          "metadata": {},
          "execution_count": 10
        }
      ],
      "source": [
        "df_y=pd.DataFrame({'y':y_test.reshape(-1)})\n",
        "\n",
        "mass_value =ln_m\n",
        "\n",
        "df_y['m_name']=0\n",
        "df_y['m_name'][df_y['y']==mass_value[0]]='p'\n",
        "df_y['m_name'][df_y['y']==mass_value[1]]='He'\n",
        "df_y['m_name'][df_y['y']==mass_value[2]]='N'\n",
        "df_y['m_name'][df_y['y']==mass_value[3]]='S'\n",
        "df_y['m_name'][df_y['y']==mass_value[4]]='Fe'\n",
        "df_y"
      ]
    },
    {
      "cell_type": "code",
      "execution_count": null,
      "metadata": {
        "id": "LKfzN12sSSLY"
      },
      "outputs": [],
      "source": [
        "class CustomDataset(Dataset):\n",
        "    def __init__(self, X,y):\n",
        "\n",
        "        self.X = X[:,0]\n",
        "        self.map=X[:,1]\n",
        "        self.y=y\n",
        "\n",
        "    def __len__(self):\n",
        "        return len(self.y)\n",
        "\n",
        "    def __getitem__(self, idx):\n",
        "\n",
        "        video = torch.tensor(np.float32(self.X[idx]))\n",
        "        imgs = torch.tensor(np.float32(self.map[idx]))\n",
        "        label=torch.tensor(np.float32(self.y[idx]))\n",
        "\n",
        "        return video/video.max(), imgs/imgs.max(), label\n",
        "\n",
        "batch_size=64\n",
        "\n",
        "X_train_norm=X_train\n",
        "\n",
        "train_dataset=CustomDataset(X_train,y_train)\n",
        "train_dataloader = DataLoader(train_dataset, batch_size=batch_size, shuffle=True)\n",
        "\n",
        "test_dataset=CustomDataset(X_test,y_test)\n",
        "test_dataloader = DataLoader(test_dataset, batch_size=batch_size, shuffle=False)"
      ]
    },
    {
      "cell_type": "markdown",
      "metadata": {
        "id": "SqCaOtrNGiNM"
      },
      "source": [
        "# Архитектура сети"
      ]
    },
    {
      "cell_type": "code",
      "execution_count": null,
      "metadata": {
        "id": "zKdPYiAQjpj3"
      },
      "outputs": [],
      "source": [
        "import torch.nn as nn\n",
        "import torch.nn.functional as F\n",
        "\n",
        "class Net(nn.Module):\n",
        "    def __init__(self):\n",
        "        super().__init__()\n",
        "\n",
        "        self.conv1 = nn.Conv3d(1, 32, (2,1,1), stride=(4,1,1), padding=0)\n",
        "        self.conv2 = nn.Conv3d(32, 16, (2,1,1), stride=(4,1,1), padding=0)\n",
        "        self.conv3 = nn.Conv3d(16, 8, (3,1,1), stride=(1,1,1), padding=0)\n",
        "\n",
        "        self.fc1 = nn.Linear(11*11*10, 11*11*4)\n",
        "        # self.fc1 = nn.Linear(11*11*9, 11*11*4)\n",
        "        # self.fc1 = nn.Linear(11*11*8, 11*11*4)\n",
        "        self.fc2 = nn.Linear(11*11*4, 1)\n",
        "\n",
        "\n",
        "        self.fc1 = nn.Linear(11*11*10, 1)\n",
        "\n",
        "        # self.fc2 = nn.Linear(11*11*1, 1)\n",
        "\n",
        "    def forward(self, video,imgs,batch_size_nn=2):\n",
        "        video = F.relu(self.conv1(video))\n",
        "        video = F.relu(self.conv2(video))\n",
        "        video = F.relu(self.conv3(video))\n",
        "        video = video.view(batch_size_nn,8, 11, 11)\n",
        "        # x=video\n",
        "\n",
        "        x = torch.cat((video, imgs), dim=1)      # Получили размерность (10,11,11)\n",
        "        # x = torch.cat((video, imgs[:,1].reshape(imgs.shape[0],1,11,11)), dim=1)    # Получили размерность (9,11,11)\n",
        "        # x=imgs[:,0].reshape(imgs.shape[0],1,11,11)       # Получили размерность (1,11,11)\n",
        "        x = torch.flatten(x,1)\n",
        "\n",
        "        x= self.fc1(x)\n",
        "        # x= self.fc2(x)\n",
        "\n",
        "        return x"
      ]
    },
    {
      "cell_type": "markdown",
      "metadata": {
        "id": "odY98FM6bmDG"
      },
      "source": [
        "# **Цикл обучения.**"
      ]
    },
    {
      "cell_type": "code",
      "execution_count": null,
      "metadata": {
        "id": "aHsO1j_DYu-H"
      },
      "outputs": [],
      "source": [
        "def train(model, criterion, optimizer, num_epochs=5):\n",
        "    pp = ProgressPlotter()\n",
        "    mae_loss = nn.L1Loss()\n",
        "    for epoch in range(num_epochs):\n",
        "        running_loss = 0.0\n",
        "        correct, total, ep_loss = 0, 0, 0\n",
        "        epochs_mae=0\n",
        "        for i, data in enumerate(train_dataloader, 0):\n",
        "\n",
        "          # get the inputs; data is a list of [inputs, labels]\n",
        "          inputs, imgs, labels = data\n",
        "          inputs=inputs.to(device)\n",
        "          imgs=imgs.to(device)\n",
        "          labels=labels.to(device)\n",
        "          # zero the parameter gradients\n",
        "          optimizer.zero_grad()\n",
        "          batch_size_nn=len(labels)\n",
        "          # forward + backward + optimize\n",
        "          outputs = model(inputs,imgs,batch_size_nn)\n",
        "          loss = criterion(outputs, labels)\n",
        "          # correct += get_correct_count(outputs, labels)\n",
        "\n",
        "          epoch_mae=mae_loss(outputs, labels)/batch_size_nn\n",
        "          epochs_mae+=epoch_mae\n",
        "          # print(epoch_mae)\n",
        "\n",
        "          loss.backward()\n",
        "\n",
        "          if optimizer.param_groups[0][\"lr\"] < 10e-7: # if learning step becomes too small\n",
        "              print(epoch)\n",
        "              break\n",
        "\n",
        "          # scheduler.step(loss)\n",
        "          optimizer.step()\n",
        "\n",
        "          total += labels.size(0)\n",
        "          ep_loss += loss.item()\n",
        "\n",
        "          # print statistics\n",
        "          running_loss += loss.item()\n",
        "          if i % 500 == 499:    # print every 500 mini-batches\n",
        "              print(f'[{epoch + 1}, {i + 1:5d}] loss: {running_loss / 2000:.3f}')\n",
        "              running_loss = 0.0\n",
        "\n",
        "        scheduler.step(loss)   ### !!!!!!!!!!! SCHEDULER\n",
        "\n",
        "        # scheduler.step()\n",
        "\n",
        "        # Logging\n",
        "        pp.add_scalar('loss_train', ep_loss / len(train_dataloader))\n",
        "        pp.add_scalar('mae_train', float(epochs_mae) / len(train_dataloader))\n",
        "        print(float(epochs_mae))\n",
        "\n",
        "        val_mae,loss_val=calaculate_mae(model,test_dataloader,criterion)\n",
        "        print(val_mae)\n",
        "        pp.add_scalar('loss_val',loss_val)\n",
        "        pp.add_scalar('mae_val', float(val_mae))\n",
        "\n",
        "        pp.display([['loss_train','loss_val'],['mae_train','mae_val']])\n",
        "\n",
        "    return pp"
      ]
    },
    {
      "cell_type": "markdown",
      "metadata": {
        "id": "ABUdheTKqiyF"
      },
      "source": [
        "## Само обучение"
      ]
    },
    {
      "cell_type": "code",
      "execution_count": null,
      "metadata": {
        "id": "0oFD-EUpbZrr",
        "colab": {
          "base_uri": "https://localhost:8080/",
          "height": 592
        },
        "outputId": "b84b2549-3bc5-48df-aa61-74b92aadcfff"
      },
      "outputs": [
        {
          "output_type": "display_data",
          "data": {
            "text/plain": [
              "<Figure size 1200x600 with 2 Axes>"
            ],
            "image/png": "[encoded data removed]"
          },
          "metadata": {}
        }
      ],
      "source": [
        "model = Net().to(device)  # Create model instance\n",
        "model.train()\n",
        "optimizer = optim.Adam(model.parameters(), lr=0.004)\n",
        "criterion = nn.MSELoss().to(device) # Loss function\n",
        "\n",
        "scheduler = optim.lr_scheduler.ReduceLROnPlateau(optimizer, \"min\", patience=40)\n",
        "\n",
        "# lambda1 = lambda epoch: 0.65 ** epoch\n",
        "# scheduler = optim.lr_scheduler.ReduceLROnPlateau(optimizer, lr_lambda=lambda1)\n",
        "# scheduler = optim.lr_scheduler.LambdaLR(optimizer, lr_lambda=lambda1)\n",
        "\n",
        "pp = train(model, criterion, optimizer, num_epochs=85)\n",
        "\n",
        "# pp = train(model, criterion, optimizer, num_epochs=25)"
      ]
    },
    {
      "cell_type": "code",
      "execution_count": null,
      "metadata": {
        "id": "IiPoJ_5GO00H"
      },
      "outputs": [],
      "source": [
        "# Хороший вариант с результатом 0.\n",
        "# model = Net().to(device)  # Create model instance\n",
        "# model.train()\n",
        "# optimizer = optim.Adam(model.parameters(), lr=0.004)\n",
        "# criterion = nn.MSELoss().to(device) # Loss function\n",
        "\n",
        "# scheduler = optim.lr_scheduler.ReduceLROnPlateau(optimizer, \"min\", patience=40)\n",
        "\n",
        "# pp = train(model, criterion, optimizer, num_epochs=85)"
      ]
    },
    {
      "cell_type": "markdown",
      "metadata": {
        "id": "CicRQGrbmsbY"
      },
      "source": [
        "## Сохранение весов модели"
      ]
    },
    {
      "cell_type": "code",
      "execution_count": null,
      "metadata": {
        "id": "fqCMegffl0yR"
      },
      "outputs": [],
      "source": [
        "# direct_out_model='drive/MyDrive/data_sphere/'\n",
        "# torch.save(model.state_dict(), direct_out_model+'model_weights_5_q1q2_norm_.pth')"
      ]
    },
    {
      "cell_type": "markdown",
      "metadata": {
        "id": "saEdYO63X7fK"
      },
      "source": [
        "# Разделение событий по массам, полученное с помощью нейронной сети"
      ]
    },
    {
      "cell_type": "code",
      "execution_count": null,
      "metadata": {
        "colab": {
          "base_uri": "https://localhost:8080/",
          "height": 424
        },
        "id": "WWSlDr6GgH5_",
        "outputId": "f9db0c57-ac57-41a7-99df-4f89f9f0b08e"
      },
      "outputs": [
        {
          "output_type": "execute_result",
          "data": {
            "text/plain": [
              "           pred         y m_name\n",
              "0      2.361225  1.386944     He\n",
              "1      1.901479  3.467734      S\n",
              "2      3.313459  2.639557      N\n",
              "3      1.866682  1.386944     He\n",
              "4      0.813110  2.639557      N\n",
              "...         ...       ...    ...\n",
              "13061  2.261002  2.639557      N\n",
              "13062  0.829248  0.001000      p\n",
              "13063  2.677858  3.467734      S\n",
              "13064  2.600153  2.639557      N\n",
              "13065  3.377579  2.639557      N\n",
              "\n",
              "[13066 rows x 3 columns]"
            ],
            "text/html": [
              "\n",
              "\n",
              "  <div id=\"df-c5427b60-28f2-45d3-95ce-ba921a09758b\">\n",
              "    <div class=\"colab-df-container\">\n",
              "      <div>\n",
              "<style scoped>\n",
              "    .dataframe tbody tr th:only-of-type {\n",
              "        vertical-align: middle;\n",
              "    }\n",
              "\n",
              "    .dataframe tbody tr th {\n",
              "        vertical-align: top;\n",
              "    }\n",
              "\n",
              "    .dataframe thead th {\n",
              "        text-align: right;\n",
              "    }\n",
              "</style>\n",
              "<table border=\"1\" class=\"dataframe\">\n",
              "  <thead>\n",
              "    <tr style=\"text-align: right;\">\n",
              "      <th></th>\n",
              "      <th>pred</th>\n",
              "      <th>y</th>\n",
              "      <th>m_name</th>\n",
              "    </tr>\n",
              "  </thead>\n",
              "  <tbody>\n",
              "    <tr>\n",
              "      <th>0</th>\n",
              "      <td>2.361225</td>\n",
              "      <td>1.386944</td>\n",
              "      <td>He</td>\n",
              "    </tr>\n",
              "    <tr>\n",
              "      <th>1</th>\n",
              "      <td>1.901479</td>\n",
              "      <td>3.467734</td>\n",
              "      <td>S</td>\n",
              "    </tr>\n",
              "    <tr>\n",
              "      <th>2</th>\n",
              "      <td>3.313459</td>\n",
              "      <td>2.639557</td>\n",
              "      <td>N</td>\n",
              "    </tr>\n",
              "    <tr>\n",
              "      <th>3</th>\n",
              "      <td>1.866682</td>\n",
              "      <td>1.386944</td>\n",
              "      <td>He</td>\n",
              "    </tr>\n",
              "    <tr>\n",
              "      <th>4</th>\n",
              "      <td>0.813110</td>\n",
              "      <td>2.639557</td>\n",
              "      <td>N</td>\n",
              "    </tr>\n",
              "    <tr>\n",
              "      <th>...</th>\n",
              "      <td>...</td>\n",
              "      <td>...</td>\n",
              "      <td>...</td>\n",
              "    </tr>\n",
              "    <tr>\n",
              "      <th>13061</th>\n",
              "      <td>2.261002</td>\n",
              "      <td>2.639557</td>\n",
              "      <td>N</td>\n",
              "    </tr>\n",
              "    <tr>\n",
              "      <th>13062</th>\n",
              "      <td>0.829248</td>\n",
              "      <td>0.001000</td>\n",
              "      <td>p</td>\n",
              "    </tr>\n",
              "    <tr>\n",
              "      <th>13063</th>\n",
              "      <td>2.677858</td>\n",
              "      <td>3.467734</td>\n",
              "      <td>S</td>\n",
              "    </tr>\n",
              "    <tr>\n",
              "      <th>13064</th>\n",
              "      <td>2.600153</td>\n",
              "      <td>2.639557</td>\n",
              "      <td>N</td>\n",
              "    </tr>\n",
              "    <tr>\n",
              "      <th>13065</th>\n",
              "      <td>3.377579</td>\n",
              "      <td>2.639557</td>\n",
              "      <td>N</td>\n",
              "    </tr>\n",
              "  </tbody>\n",
              "</table>\n",
              "<p>13066 rows × 3 columns</p>\n",
              "</div>\n",
              "      <button class=\"colab-df-convert\" onclick=\"convertToInteractive('df-c5427b60-28f2-45d3-95ce-ba921a09758b')\"\n",
              "              title=\"Convert this dataframe to an interactive table.\"\n",
              "              style=\"display:none;\">\n",
              "\n",
              "  <svg xmlns=\"http://www.w3.org/2000/svg\" height=\"24px\"viewBox=\"0 0 24 24\"\n",
              "       width=\"24px\">\n",
              "    <path d=\"M0 0h24v24H0V0z\" fill=\"none\"/>\n",
              "    <path d=\"M18.56 5.44l.94 2.06.94-2.06 2.06-.94-2.06-.94-.94-2.06-.94 2.06-2.06.94zm-11 1L8.5 8.5l.94-2.06 2.06-.94-2.06-.94L8.5 2.5l-.94 2.06-2.06.94zm10 10l.94 2.06.94-2.06 2.06-.94-2.06-.94-.94-2.06-.94 2.06-2.06.94z\"/><path d=\"M17.41 7.96l-1.37-1.37c-.4-.4-.92-.59-1.43-.59-.52 0-1.04.2-1.43.59L10.3 9.45l-7.72 7.72c-.78.78-.78 2.05 0 2.83L4 21.41c.39.39.9.59 1.41.59.51 0 1.02-.2 1.41-.59l7.78-7.78 2.81-2.81c.8-.78.8-2.07 0-2.86zM5.41 20L4 18.59l7.72-7.72 1.47 1.35L5.41 20z\"/>\n",
              "  </svg>\n",
              "      </button>\n",
              "\n",
              "\n",
              "\n",
              "    <div id=\"df-4cc02e75-bd7d-4857-ab87-bd04e865ac6a\">\n",
              "      <button class=\"colab-df-quickchart\" onclick=\"quickchart('df-4cc02e75-bd7d-4857-ab87-bd04e865ac6a')\"\n",
              "              title=\"Suggest charts.\"\n",
              "              style=\"display:none;\">\n",
              "\n",
              "<svg xmlns=\"http://www.w3.org/2000/svg\" height=\"24px\"viewBox=\"0 0 24 24\"\n",
              "     width=\"24px\">\n",
              "    <g>\n",
              "        <path d=\"M19 3H5c-1.1 0-2 .9-2 2v14c0 1.1.9 2 2 2h14c1.1 0 2-.9 2-2V5c0-1.1-.9-2-2-2zM9 17H7v-7h2v7zm4 0h-2V7h2v10zm4 0h-2v-4h2v4z\"/>\n",
              "    </g>\n",
              "</svg>\n",
              "      </button>\n",
              "    </div>\n",
              "\n",
              "<style>\n",
              "  .colab-df-quickchart {\n",
              "    background-color: #E8F0FE;\n",
              "    border: none;\n",
              "    border-radius: 50%;\n",
              "    cursor: pointer;\n",
              "    display: none;\n",
              "    fill: #1967D2;\n",
              "    height: 32px;\n",
              "    padding: 0 0 0 0;\n",
              "    width: 32px;\n",
              "  }\n",
              "\n",
              "  .colab-df-quickchart:hover {\n",
              "    background-color: #E2EBFA;\n",
              "    box-shadow: 0px 1px 2px rgba(60, 64, 67, 0.3), 0px 1px 3px 1px rgba(60, 64, 67, 0.15);\n",
              "    fill: #174EA6;\n",
              "  }\n",
              "\n",
              "  [theme=dark] .colab-df-quickchart {\n",
              "    background-color: #3B4455;\n",
              "    fill: #D2E3FC;\n",
              "  }\n",
              "\n",
              "  [theme=dark] .colab-df-quickchart:hover {\n",
              "    background-color: #434B5C;\n",
              "    box-shadow: 0px 1px 3px 1px rgba(0, 0, 0, 0.15);\n",
              "    filter: drop-shadow(0px 1px 2px rgba(0, 0, 0, 0.3));\n",
              "    fill: #FFFFFF;\n",
              "  }\n",
              "</style>\n",
              "\n",
              "    <script>\n",
              "      async function quickchart(key) {\n",
              "        const containerElement = document.querySelector('#' + key);\n",
              "        const charts = await google.colab.kernel.invokeFunction(\n",
              "            'suggestCharts', [key], {});\n",
              "      }\n",
              "    </script>\n",
              "\n",
              "      <script>\n",
              "\n",
              "function displayQuickchartButton(domScope) {\n",
              "  let quickchartButtonEl =\n",
              "    domScope.querySelector('#df-4cc02e75-bd7d-4857-ab87-bd04e865ac6a button.colab-df-quickchart');\n",
              "  quickchartButtonEl.style.display =\n",
              "    google.colab.kernel.accessAllowed ? 'block' : 'none';\n",
              "}\n",
              "\n",
              "        displayQuickchartButton(document);\n",
              "      </script>\n",
              "      <style>\n",
              "    .colab-df-container {\n",
              "      display:flex;\n",
              "      flex-wrap:wrap;\n",
              "      gap: 12px;\n",
              "    }\n",
              "\n",
              "    .colab-df-convert {\n",
              "      background-color: #E8F0FE;\n",
              "      border: none;\n",
              "      border-radius: 50%;\n",
              "      cursor: pointer;\n",
              "      display: none;\n",
              "      fill: #1967D2;\n",
              "      height: 32px;\n",
              "      padding: 0 0 0 0;\n",
              "      width: 32px;\n",
              "    }\n",
              "\n",
              "    .colab-df-convert:hover {\n",
              "      background-color: #E2EBFA;\n",
              "      box-shadow: 0px 1px 2px rgba(60, 64, 67, 0.3), 0px 1px 3px 1px rgba(60, 64, 67, 0.15);\n",
              "      fill: #174EA6;\n",
              "    }\n",
              "\n",
              "    [theme=dark] .colab-df-convert {\n",
              "      background-color: #3B4455;\n",
              "      fill: #D2E3FC;\n",
              "    }\n",
              "\n",
              "    [theme=dark] .colab-df-convert:hover {\n",
              "      background-color: #434B5C;\n",
              "      box-shadow: 0px 1px 3px 1px rgba(0, 0, 0, 0.15);\n",
              "      filter: drop-shadow(0px 1px 2px rgba(0, 0, 0, 0.3));\n",
              "      fill: #FFFFFF;\n",
              "    }\n",
              "  </style>\n",
              "\n",
              "      <script>\n",
              "        const buttonEl =\n",
              "          document.querySelector('#df-c5427b60-28f2-45d3-95ce-ba921a09758b button.colab-df-convert');\n",
              "        buttonEl.style.display =\n",
              "          google.colab.kernel.accessAllowed ? 'block' : 'none';\n",
              "\n",
              "        async function convertToInteractive(key) {\n",
              "          const element = document.querySelector('#df-c5427b60-28f2-45d3-95ce-ba921a09758b');\n",
              "          const dataTable =\n",
              "            await google.colab.kernel.invokeFunction('convertToInteractive',\n",
              "                                                     [key], {});\n",
              "          if (!dataTable) return;\n",
              "\n",
              "          const docLinkHtml = 'Like what you see? Visit the ' +\n",
              "            '<a target=\"_blank\" href=https://colab.research.google.com/notebooks/data_table.ipynb>data table notebook</a>'\n",
              "            + ' to learn more about interactive tables.';\n",
              "          element.innerHTML = '';\n",
              "          dataTable['output_type'] = 'display_data';\n",
              "          await google.colab.output.renderOutput(dataTable, element);\n",
              "          const docLink = document.createElement('div');\n",
              "          docLink.innerHTML = docLinkHtml;\n",
              "          element.appendChild(docLink);\n",
              "        }\n",
              "      </script>\n",
              "    </div>\n",
              "  </div>\n"
            ]
          },
          "metadata": {},
          "execution_count": 18
        }
      ],
      "source": [
        "# again no gradients needed\n",
        "with torch.no_grad():\n",
        "    pred_save=[]\n",
        "    out=[]\n",
        "    for data in test_dataloader:\n",
        "        video,images, labels = data\n",
        "        video,images, labels=video.to(device),images.to(device), labels.to(device)\n",
        "        batch_size_prov=len(labels)\n",
        "        outputs = model(video,images,batch_size_prov)\n",
        "        np_batch_out=torch.flatten(outputs).tolist()\n",
        "        out.extend(np_batch_out)\n",
        "\n",
        "out=np.array(out)\n",
        "\n",
        "color3=['red','green','blue']\n",
        "m_name=['p','N','Fe']\n",
        "\n",
        "df_pred=pd.DataFrame({'pred':out,'y':y_test.reshape(-1)})\n",
        "\n",
        "df_pred['m_name']=df_y['m_name']\n",
        "\n",
        "df_pred"
      ]
    },
    {
      "cell_type": "code",
      "execution_count": null,
      "metadata": {
        "colab": {
          "base_uri": "https://localhost:8080/",
          "height": 407
        },
        "id": "fdP-WJ4MgHxU",
        "outputId": "5c765ec9-1778-495d-ba08-ade4c9cc43a2"
      },
      "outputs": [
        {
          "output_type": "display_data",
          "data": {
            "text/plain": [
              "<Figure size 1100x400 with 1 Axes>"
            ],
            "image/png": "[encoded data removed]"
          },
          "metadata": {}
        }
      ],
      "source": [
        "direct_out_fig='drive/MyDrive/data_sphere/'\n",
        "fig = plt.figure(figsize=(11,4))\n",
        "bins=np.arange(0.6,4.2,0.05)\n",
        "bins_mass=np.arange(df_pred['pred'].min(),df_pred['pred'].max(),0.2)\n",
        "for i in range(3):\n",
        "    plt.hist(df_pred['pred'][df_pred['m_name']==m_name[i]],bins=bins_mass,label='test prediction '+m_name[i],color=color3[i],alpha=0.3)\n",
        "    plt.hist(df_pred['pred'][df_pred['m_name']==m_name[i]], histtype='step', bins=bins_mass,color=color3[i])\n",
        "m_pNFe=[ln_m[0],ln_m[2],ln_m[4]]\n",
        "plt.vlines(m_pNFe,0,350, linewidth=3,color='black')\n",
        "plt.xlim(-1.5,7.5)\n",
        "plt.legend(loc='upper right',fontsize=18)\n",
        "plt.ylabel('count of events',fontsize=18)\n",
        "plt.xlabel('ln(A)',fontsize=18)\n",
        "\n",
        "plt.savefig(direct_out_fig+'separation_pNFe_with_norm_05.png',bbox_inches='tight')"
      ]
    },
    {
      "cell_type": "markdown",
      "metadata": {
        "id": "bAOaoL0oYwGb"
      },
      "source": [
        "## Поиск ошибки разделения событий"
      ]
    },
    {
      "cell_type": "code",
      "execution_count": null,
      "metadata": {
        "id": "NrVjojwJgHum"
      },
      "outputs": [],
      "source": [
        "p1=df_pred['pred'][df_pred['m_name']=='p']\n",
        "N1=df_pred['pred'][df_pred['m_name']=='N']\n",
        "Fe1=df_pred['pred'][df_pred['m_name']=='Fe']\n",
        "df=np.array([np.array(p1), np.array(N1),np.array(Fe1)])"
      ]
    },
    {
      "cell_type": "code",
      "execution_count": null,
      "metadata": {
        "colab": {
          "base_uri": "https://localhost:8080/"
        },
        "id": "lqt-m7skgHsB",
        "outputId": "846086ec-5707-46b4-fd05-419347c67d95"
      },
      "outputs": [
        {
          "output_type": "stream",
          "name": "stdout",
          "text": [
            "Ошибка разделения событий протон-азот =  0.26\n",
            "Ошибка разделения событий азот-железо =  0.29\n"
          ]
        }
      ],
      "source": [
        "N=50\n",
        "pn_max_mi,nf_max_mi=100000,100000\n",
        "\n",
        "cri=df\n",
        "#-------------------------------p-N-----------------------------------------------\n",
        "bpn_min=cri[0].mean()\n",
        "bpn_max=cri[1].mean()\n",
        "Nn=(bpn_max-bpn_min)/N\n",
        "\n",
        "for bpn in np.arange(bpn_min,bpn_max,Nn):\n",
        "    pn_p=np.count_nonzero(cri[0]>bpn)/float(len(df[0]))\n",
        "    pn_n=np.count_nonzero(cri[1]<bpn)/float(len(df[1]))\n",
        "\n",
        "    pn_max=max(pn_p,pn_n)\n",
        "\n",
        "    if pn_max<pn_max_mi:\n",
        "        pn_max_mi=pn_max\n",
        "        pn_border_max=bpn\n",
        "        er_pn_max=[round(pn_p,2),round(pn_n,2)]\n",
        "        cr=cri\n",
        "#--------------------------------N-Fe-----------------------------------------\n",
        "\n",
        "bnf_min=cri[1].mean()\n",
        "bnf_max=cri[2].mean()\n",
        "Nf=(bnf_max-bnf_min)/N\n",
        "\n",
        "for bnf in np.arange(bnf_min,bnf_max,Nf):      #Сразу считаю ошибки.\n",
        "    nf_n=np.count_nonzero(cri[1]>bnf)/float(len(df[1]))\n",
        "    nf_f=np.count_nonzero(cri[2]<bnf)/float(len(df[2]))\n",
        "\n",
        "    nf_max=max(nf_n,nf_f)\n",
        "    if nf_max<nf_max_mi:\n",
        "        nf_max_mi=nf_max\n",
        "        nf_border_max=bnf\n",
        "        er_nf_max=[round(nf_n,2),round(nf_f,2)]\n",
        "\n",
        "            #-----------------------------\n",
        "print('Ошибка разделения событий протон-азот = ', round(pn_max_mi,2))\n",
        "print('Ошибка разделения событий азот-железо = ', round(nf_max_mi,2))"
      ]
    },
    {
      "cell_type": "markdown",
      "metadata": {
        "id": "TWQdabVJaCgB"
      },
      "source": [
        "Ошибка разделения событий протон-азот =  0.25\n",
        "\n",
        "Ошибка разделения событий азот-железо =  0.27"
      ]
    },
    {
      "cell_type": "markdown",
      "metadata": {
        "id": "6UkNeeuSnJPj"
      },
      "source": [
        "# Для загруженной модели"
      ]
    },
    {
      "cell_type": "code",
      "execution_count": null,
      "metadata": {
        "colab": {
          "base_uri": "https://localhost:8080/"
        },
        "id": "kWFfOFQbnxJ_",
        "outputId": "ca2a1941-3013-4707-f466-47bbe3ada0b3"
      },
      "outputs": [
        {
          "name": "stdout",
          "output_type": "stream",
          "text": [
            "Mounted at /content/drive\n"
          ]
        },
        {
          "data": {
            "text/plain": [
              "Net(\n",
              "  (conv1): Conv3d(1, 32, kernel_size=(2, 1, 1), stride=(4, 1, 1))\n",
              "  (conv2): Conv3d(32, 16, kernel_size=(2, 1, 1), stride=(4, 1, 1))\n",
              "  (conv3): Conv3d(16, 8, kernel_size=(3, 1, 1), stride=(1, 1, 1))\n",
              "  (fc1): Linear(in_features=1210, out_features=484, bias=True)\n",
              "  (fc2): Linear(in_features=484, out_features=1, bias=True)\n",
              ")"
            ]
          },
          "execution_count": 6,
          "metadata": {},
          "output_type": "execute_result"
        }
      ],
      "source": [
        "from ast import Pass\n",
        "drive.mount('/content/drive')\n",
        "direct_out_model='drive/MyDrive/data_sphere/'\n",
        "model_load=Net().to(device)\n",
        "model_load.load_state_dict(torch.load(direct_out_model+'model_weights_5_q1q2.pth'))\n",
        "model_load.eval()"
      ]
    },
    {
      "cell_type": "markdown",
      "metadata": {
        "id": "otVFHUYpnlP2"
      },
      "source": [
        "## Загрузка дополнительных ядер"
      ]
    },
    {
      "cell_type": "code",
      "execution_count": null,
      "metadata": {
        "colab": {
          "base_uri": "https://localhost:8080/"
        },
        "id": "dfZtFUZmnjwA",
        "outputId": "d119760f-1b9b-4ae6-b706-410e883fcfba"
      },
      "outputs": [
        {
          "name": "stdout",
          "output_type": "stream",
          "text": [
            "(3874, 1, 50, 11, 11)\n",
            "(3788, 1, 50, 11, 11)\n",
            "(3579, 1, 50, 11, 11)\n",
            "(3304, 1, 50, 11, 11)\n",
            "data video =  (14545, 1, 50, 11, 11) ,  data map =  (14545, 2, 11, 11) ,  data y =  (14545,)\n"
          ]
        }
      ],
      "source": [
        "# from ast import Pass\n",
        "# drive.mount('/content/drive')\n",
        "direct_q1='drive/MyDrive/data_sphere/data_to_NN_q1_900_10PeV_10-20/'\n",
        "\n",
        "data_direct=[direct_q1+'glob_array_Be_q1.npy',direct_q1+'glob_array_C_q1.npy',direct_q1+'glob_array_Na_q1.npy',direct_q1+'glob_array_Ca_q1.npy' ]\n",
        "map_direct=[direct_q1+'map2_Be_q1.npy',direct_q1+'map2_C_q1.npy',direct_q1+'map2_Na_q1.npy',direct_q1+'map2_Ca_q1.npy' ]\n",
        "\n",
        "border=1200   # граница числа фотонов, если их в сумме зарегистрировалось меньше в одном событии, то такое событие не рассматривается.\n",
        "data_all,data_2D,data_y=[],[],[]\n",
        "# target_num=[0,1,1,0,1,1]\n",
        "target_num=[0,1,2,3]\n",
        "\n",
        "m_dop=[9,12, 22.98,40.08]\n",
        "ln_m_dop=np.log(m_dop)\n",
        "target_mass=[ln_m_dop[0],ln_m_dop[1],ln_m_dop[2],ln_m_dop[3]]\n",
        "for i in range(4):\n",
        "\n",
        "    particle_data=np.load( data_direct[i])\n",
        "    particle_data=particle_data.reshape(6000,1,50,11,11)\n",
        "\n",
        "    # Обрезаем данные\n",
        "    bool_mask=[sum(particle_data[i])<border for i in range(6000)]\n",
        "    particle_data=particle_data[~np.array(bool_mask)]\n",
        "    # print(particle_data.min() ,particle_data.max())\n",
        "\n",
        "    map2D=np.load( map_direct[i])\n",
        "    map2D=map2D.reshape(6000,2,11,11)\n",
        "    map2D=map2D[~np.array(bool_mask)]\n",
        "    # print(map2D.min(),map2D.max())\n",
        "\n",
        "    data_all.append(particle_data)\n",
        "    data_2D.append(map2D)\n",
        "    # data_y.append([target_num[i]]*particle_data.shape[0])    # В качетсве y целые числа, 0, 1, 2\n",
        "    data_y.append([target_mass[i]]*particle_data.shape[0])\n",
        "\n",
        "    print(particle_data.shape)\n",
        "\n",
        "\n",
        "if len(data_all)==4:\n",
        "    data_video=np.concatenate([data_all[0],data_all[1],data_all[2],data_all[3]])\n",
        "    data_map = np.concatenate([data_2D[0],data_2D[1],data_2D[2],data_2D[3]])\n",
        "    data_y=np.concatenate([data_y[0],data_y[1],data_y[2],data_y[3]])\n",
        "    print('data video = ',data_video.shape,',  data map = ',data_map.shape,',  data y = ',data_y.shape)\n",
        "\n",
        "data_video=(data_video-data_video.min())/(data_video.max()-data_video.min())   # Нормализция данных по кол-ву фотонов в ФЭУ в видео"
      ]
    },
    {
      "cell_type": "code",
      "execution_count": null,
      "metadata": {
        "colab": {
          "base_uri": "https://localhost:8080/"
        },
        "id": "kGw9zpKSnkiM",
        "outputId": "8f4e17ad-c1d5-4fcc-f096-dd6344ab2bf9"
      },
      "outputs": [
        {
          "data": {
            "text/plain": [
              "(14545, 2, 11, 11)"
            ]
          },
          "execution_count": 19,
          "metadata": {},
          "output_type": "execute_result"
        }
      ],
      "source": [
        "# Стандартизация карт\n",
        "m=(data_map[:,0]-data_map[:,0].mean())/data_map[:,0].std()  # Стандартизация числа фотонов\n",
        "t=(data_map[:,1]-data_map[:,1].mean())/data_map[:,1].std()  # Стандартизация времени\n",
        "a=np.array(list(zip(m,t)))\n",
        "a.shape"
      ]
    },
    {
      "cell_type": "code",
      "execution_count": null,
      "metadata": {
        "colab": {
          "base_uri": "https://localhost:8080/"
        },
        "id": "Gqe-5fibq75H",
        "outputId": "3072d32a-feaa-4961-85ff-5a6bd5677f6b"
      },
      "outputs": [
        {
          "data": {
            "text/plain": [
              "(14545, 50, 11, 11)"
            ]
          },
          "execution_count": 20,
          "metadata": {},
          "output_type": "execute_result"
        }
      ],
      "source": [
        "# Стандартизация видеоряда\n",
        "vid=data_video.reshape(data_video.shape[0],50,11,11)\n",
        "v=(vid-vid.mean())/vid.std()\n",
        "v.shape"
      ]
    },
    {
      "cell_type": "code",
      "execution_count": null,
      "metadata": {
        "colab": {
          "base_uri": "https://localhost:8080/"
        },
        "id": "wWpm9KyEq72o",
        "outputId": "64001944-5ee4-444f-f75f-686f2a1728d7"
      },
      "outputs": [
        {
          "name": "stdout",
          "output_type": "stream",
          "text": [
            "X shape =  (14545, 1, 50, 11, 11)\n",
            "y shape =  (14545, 1)\n",
            "(14545, 2)\n",
            "(1, 50, 11, 11)\n",
            "(2, 11, 11)\n"
          ]
        }
      ],
      "source": [
        "X= v\n",
        "X = X.reshape(X.shape[0], 1, 50, 11, 11)\n",
        "print( 'X shape = ', X.shape)\n",
        "\n",
        "y_test=data_y.reshape(data_y.shape[0],1)\n",
        "print( 'y shape = ', y_test.shape)\n",
        "\n",
        "X_test=np.array(list(zip(X,a)))\n",
        "\n",
        "print(X_test.shape)\n",
        "print(X_test[0,0].shape)\n",
        "print(X_test[0,1].shape)"
      ]
    },
    {
      "cell_type": "code",
      "execution_count": null,
      "metadata": {
        "colab": {
          "base_uri": "https://localhost:8080/",
          "height": 424
        },
        "id": "qLoVGbdcq7zx",
        "outputId": "95b5e618-a108-4d50-dc45-17fac769fa2d"
      },
      "outputs": [
        {
          "data": {
            "text/html": [
              "\n",
              "  <div id=\"df-9e089ce7-ffc8-4902-a05b-611989b5ae91\">\n",
              "    <div class=\"colab-df-container\">\n",
              "      <div>\n",
              "<style scoped>\n",
              "    .dataframe tbody tr th:only-of-type {\n",
              "        vertical-align: middle;\n",
              "    }\n",
              "\n",
              "    .dataframe tbody tr th {\n",
              "        vertical-align: top;\n",
              "    }\n",
              "\n",
              "    .dataframe thead th {\n",
              "        text-align: right;\n",
              "    }\n",
              "</style>\n",
              "<table border=\"1\" class=\"dataframe\">\n",
              "  <thead>\n",
              "    <tr style=\"text-align: right;\">\n",
              "      <th></th>\n",
              "      <th>y</th>\n",
              "      <th>m_name</th>\n",
              "    </tr>\n",
              "  </thead>\n",
              "  <tbody>\n",
              "    <tr>\n",
              "      <th>0</th>\n",
              "      <td>2.197225</td>\n",
              "      <td>Be</td>\n",
              "    </tr>\n",
              "    <tr>\n",
              "      <th>1</th>\n",
              "      <td>2.197225</td>\n",
              "      <td>Be</td>\n",
              "    </tr>\n",
              "    <tr>\n",
              "      <th>2</th>\n",
              "      <td>2.197225</td>\n",
              "      <td>Be</td>\n",
              "    </tr>\n",
              "    <tr>\n",
              "      <th>3</th>\n",
              "      <td>2.197225</td>\n",
              "      <td>Be</td>\n",
              "    </tr>\n",
              "    <tr>\n",
              "      <th>4</th>\n",
              "      <td>2.197225</td>\n",
              "      <td>Be</td>\n",
              "    </tr>\n",
              "    <tr>\n",
              "      <th>...</th>\n",
              "      <td>...</td>\n",
              "      <td>...</td>\n",
              "    </tr>\n",
              "    <tr>\n",
              "      <th>14540</th>\n",
              "      <td>3.690877</td>\n",
              "      <td>Ca</td>\n",
              "    </tr>\n",
              "    <tr>\n",
              "      <th>14541</th>\n",
              "      <td>3.690877</td>\n",
              "      <td>Ca</td>\n",
              "    </tr>\n",
              "    <tr>\n",
              "      <th>14542</th>\n",
              "      <td>3.690877</td>\n",
              "      <td>Ca</td>\n",
              "    </tr>\n",
              "    <tr>\n",
              "      <th>14543</th>\n",
              "      <td>3.690877</td>\n",
              "      <td>Ca</td>\n",
              "    </tr>\n",
              "    <tr>\n",
              "      <th>14544</th>\n",
              "      <td>3.690877</td>\n",
              "      <td>Ca</td>\n",
              "    </tr>\n",
              "  </tbody>\n",
              "</table>\n",
              "<p>14545 rows × 2 columns</p>\n",
              "</div>\n",
              "      <button class=\"colab-df-convert\" onclick=\"convertToInteractive('df-9e089ce7-ffc8-4902-a05b-611989b5ae91')\"\n",
              "              title=\"Convert this dataframe to an interactive table.\"\n",
              "              style=\"display:none;\">\n",
              "        \n",
              "  <svg xmlns=\"http://www.w3.org/2000/svg\" height=\"24px\"viewBox=\"0 0 24 24\"\n",
              "       width=\"24px\">\n",
              "    <path d=\"M0 0h24v24H0V0z\" fill=\"none\"/>\n",
              "    <path d=\"M18.56 5.44l.94 2.06.94-2.06 2.06-.94-2.06-.94-.94-2.06-.94 2.06-2.06.94zm-11 1L8.5 8.5l.94-2.06 2.06-.94-2.06-.94L8.5 2.5l-.94 2.06-2.06.94zm10 10l.94 2.06.94-2.06 2.06-.94-2.06-.94-.94-2.06-.94 2.06-2.06.94z\"/><path d=\"M17.41 7.96l-1.37-1.37c-.4-.4-.92-.59-1.43-.59-.52 0-1.04.2-1.43.59L10.3 9.45l-7.72 7.72c-.78.78-.78 2.05 0 2.83L4 21.41c.39.39.9.59 1.41.59.51 0 1.02-.2 1.41-.59l7.78-7.78 2.81-2.81c.8-.78.8-2.07 0-2.86zM5.41 20L4 18.59l7.72-7.72 1.47 1.35L5.41 20z\"/>\n",
              "  </svg>\n",
              "      </button>\n",
              "      \n",
              "  <style>\n",
              "    .colab-df-container {\n",
              "      display:flex;\n",
              "      flex-wrap:wrap;\n",
              "      gap: 12px;\n",
              "    }\n",
              "\n",
              "    .colab-df-convert {\n",
              "      background-color: #E8F0FE;\n",
              "      border: none;\n",
              "      border-radius: 50%;\n",
              "      cursor: pointer;\n",
              "      display: none;\n",
              "      fill: #1967D2;\n",
              "      height: 32px;\n",
              "      padding: 0 0 0 0;\n",
              "      width: 32px;\n",
              "    }\n",
              "\n",
              "    .colab-df-convert:hover {\n",
              "      background-color: #E2EBFA;\n",
              "      box-shadow: 0px 1px 2px rgba(60, 64, 67, 0.3), 0px 1px 3px 1px rgba(60, 64, 67, 0.15);\n",
              "      fill: #174EA6;\n",
              "    }\n",
              "\n",
              "    [theme=dark] .colab-df-convert {\n",
              "      background-color: #3B4455;\n",
              "      fill: #D2E3FC;\n",
              "    }\n",
              "\n",
              "    [theme=dark] .colab-df-convert:hover {\n",
              "      background-color: #434B5C;\n",
              "      box-shadow: 0px 1px 3px 1px rgba(0, 0, 0, 0.15);\n",
              "      filter: drop-shadow(0px 1px 2px rgba(0, 0, 0, 0.3));\n",
              "      fill: #FFFFFF;\n",
              "    }\n",
              "  </style>\n",
              "\n",
              "      <script>\n",
              "        const buttonEl =\n",
              "          document.querySelector('#df-9e089ce7-ffc8-4902-a05b-611989b5ae91 button.colab-df-convert');\n",
              "        buttonEl.style.display =\n",
              "          google.colab.kernel.accessAllowed ? 'block' : 'none';\n",
              "\n",
              "        async function convertToInteractive(key) {\n",
              "          const element = document.querySelector('#df-9e089ce7-ffc8-4902-a05b-611989b5ae91');\n",
              "          const dataTable =\n",
              "            await google.colab.kernel.invokeFunction('convertToInteractive',\n",
              "                                                     [key], {});\n",
              "          if (!dataTable) return;\n",
              "\n",
              "          const docLinkHtml = 'Like what you see? Visit the ' +\n",
              "            '<a target=\"_blank\" href=https://colab.research.google.com/notebooks/data_table.ipynb>data table notebook</a>'\n",
              "            + ' to learn more about interactive tables.';\n",
              "          element.innerHTML = '';\n",
              "          dataTable['output_type'] = 'display_data';\n",
              "          await google.colab.output.renderOutput(dataTable, element);\n",
              "          const docLink = document.createElement('div');\n",
              "          docLink.innerHTML = docLinkHtml;\n",
              "          element.appendChild(docLink);\n",
              "        }\n",
              "      </script>\n",
              "    </div>\n",
              "  </div>\n",
              "  "
            ],
            "text/plain": [
              "              y m_name\n",
              "0      2.197225     Be\n",
              "1      2.197225     Be\n",
              "2      2.197225     Be\n",
              "3      2.197225     Be\n",
              "4      2.197225     Be\n",
              "...         ...    ...\n",
              "14540  3.690877     Ca\n",
              "14541  3.690877     Ca\n",
              "14542  3.690877     Ca\n",
              "14543  3.690877     Ca\n",
              "14544  3.690877     Ca\n",
              "\n",
              "[14545 rows x 2 columns]"
            ]
          },
          "execution_count": 22,
          "metadata": {},
          "output_type": "execute_result"
        }
      ],
      "source": [
        "df_y=pd.DataFrame({'y':y_test.reshape(-1)})\n",
        "\n",
        "mass_value =ln_m_dop\n",
        "\n",
        "df_y['m_name']=0\n",
        "df_y['m_name'][df_y['y']==mass_value[0]]='Be'\n",
        "df_y['m_name'][df_y['y']==mass_value[1]]='C'\n",
        "df_y['m_name'][df_y['y']==mass_value[2]]='Na'\n",
        "df_y['m_name'][df_y['y']==mass_value[3]]='Ca'\n",
        "df_y"
      ]
    },
    {
      "cell_type": "code",
      "execution_count": null,
      "metadata": {
        "id": "dYB9ZlwtrBVY"
      },
      "outputs": [],
      "source": [
        "class CustomDataset(Dataset):\n",
        "    def __init__(self, X,y):\n",
        "        self.X = X[:,0]\n",
        "        self.map=X[:,1]\n",
        "        self.y=y\n",
        "\n",
        "    def __len__(self):\n",
        "        return len(self.y)\n",
        "\n",
        "    def __getitem__(self, idx):\n",
        "\n",
        "        video = torch.tensor(np.float32(self.X[idx]))\n",
        "        imgs = torch.tensor(np.float32(self.map[idx]))\n",
        "        label=torch.tensor(np.float32(self.y[idx]))\n",
        "\n",
        "        return video, imgs, label\n",
        "\n",
        "batch_size=64\n",
        "\n",
        "test_dataset=CustomDataset(X_test,y_test)\n",
        "test_dataloader_dop = DataLoader(test_dataset, batch_size=batch_size, shuffle=True)\n"
      ]
    },
    {
      "cell_type": "code",
      "execution_count": null,
      "metadata": {
        "colab": {
          "base_uri": "https://localhost:8080/",
          "height": 441
        },
        "id": "cGkdhBdBnkeL",
        "outputId": "ca52f66b-8c8a-4a8a-87ed-e7cca1aa4237"
      },
      "outputs": [
        {
          "name": "stdout",
          "output_type": "stream",
          "text": [
            "(14545,) (14545, 1)\n"
          ]
        },
        {
          "data": {
            "text/html": [
              "\n",
              "  <div id=\"df-3651a1c3-2db3-45dd-96ac-3b8387a805ba\">\n",
              "    <div class=\"colab-df-container\">\n",
              "      <div>\n",
              "<style scoped>\n",
              "    .dataframe tbody tr th:only-of-type {\n",
              "        vertical-align: middle;\n",
              "    }\n",
              "\n",
              "    .dataframe tbody tr th {\n",
              "        vertical-align: top;\n",
              "    }\n",
              "\n",
              "    .dataframe thead th {\n",
              "        text-align: right;\n",
              "    }\n",
              "</style>\n",
              "<table border=\"1\" class=\"dataframe\">\n",
              "  <thead>\n",
              "    <tr style=\"text-align: right;\">\n",
              "      <th></th>\n",
              "      <th>pred</th>\n",
              "      <th>y</th>\n",
              "      <th>m_name</th>\n",
              "    </tr>\n",
              "  </thead>\n",
              "  <tbody>\n",
              "    <tr>\n",
              "      <th>0</th>\n",
              "      <td>3.298773</td>\n",
              "      <td>2.197225</td>\n",
              "      <td>Be</td>\n",
              "    </tr>\n",
              "    <tr>\n",
              "      <th>1</th>\n",
              "      <td>2.450405</td>\n",
              "      <td>2.197225</td>\n",
              "      <td>Be</td>\n",
              "    </tr>\n",
              "    <tr>\n",
              "      <th>2</th>\n",
              "      <td>2.562150</td>\n",
              "      <td>2.197225</td>\n",
              "      <td>Be</td>\n",
              "    </tr>\n",
              "    <tr>\n",
              "      <th>3</th>\n",
              "      <td>1.266614</td>\n",
              "      <td>2.197225</td>\n",
              "      <td>Be</td>\n",
              "    </tr>\n",
              "    <tr>\n",
              "      <th>4</th>\n",
              "      <td>3.411076</td>\n",
              "      <td>2.197225</td>\n",
              "      <td>Be</td>\n",
              "    </tr>\n",
              "    <tr>\n",
              "      <th>...</th>\n",
              "      <td>...</td>\n",
              "      <td>...</td>\n",
              "      <td>...</td>\n",
              "    </tr>\n",
              "    <tr>\n",
              "      <th>14540</th>\n",
              "      <td>1.506192</td>\n",
              "      <td>3.690877</td>\n",
              "      <td>Ca</td>\n",
              "    </tr>\n",
              "    <tr>\n",
              "      <th>14541</th>\n",
              "      <td>2.683864</td>\n",
              "      <td>3.690877</td>\n",
              "      <td>Ca</td>\n",
              "    </tr>\n",
              "    <tr>\n",
              "      <th>14542</th>\n",
              "      <td>2.613634</td>\n",
              "      <td>3.690877</td>\n",
              "      <td>Ca</td>\n",
              "    </tr>\n",
              "    <tr>\n",
              "      <th>14543</th>\n",
              "      <td>1.408713</td>\n",
              "      <td>3.690877</td>\n",
              "      <td>Ca</td>\n",
              "    </tr>\n",
              "    <tr>\n",
              "      <th>14544</th>\n",
              "      <td>2.590117</td>\n",
              "      <td>3.690877</td>\n",
              "      <td>Ca</td>\n",
              "    </tr>\n",
              "  </tbody>\n",
              "</table>\n",
              "<p>14545 rows × 3 columns</p>\n",
              "</div>\n",
              "      <button class=\"colab-df-convert\" onclick=\"convertToInteractive('df-3651a1c3-2db3-45dd-96ac-3b8387a805ba')\"\n",
              "              title=\"Convert this dataframe to an interactive table.\"\n",
              "              style=\"display:none;\">\n",
              "        \n",
              "  <svg xmlns=\"http://www.w3.org/2000/svg\" height=\"24px\"viewBox=\"0 0 24 24\"\n",
              "       width=\"24px\">\n",
              "    <path d=\"M0 0h24v24H0V0z\" fill=\"none\"/>\n",
              "    <path d=\"M18.56 5.44l.94 2.06.94-2.06 2.06-.94-2.06-.94-.94-2.06-.94 2.06-2.06.94zm-11 1L8.5 8.5l.94-2.06 2.06-.94-2.06-.94L8.5 2.5l-.94 2.06-2.06.94zm10 10l.94 2.06.94-2.06 2.06-.94-2.06-.94-.94-2.06-.94 2.06-2.06.94z\"/><path d=\"M17.41 7.96l-1.37-1.37c-.4-.4-.92-.59-1.43-.59-.52 0-1.04.2-1.43.59L10.3 9.45l-7.72 7.72c-.78.78-.78 2.05 0 2.83L4 21.41c.39.39.9.59 1.41.59.51 0 1.02-.2 1.41-.59l7.78-7.78 2.81-2.81c.8-.78.8-2.07 0-2.86zM5.41 20L4 18.59l7.72-7.72 1.47 1.35L5.41 20z\"/>\n",
              "  </svg>\n",
              "      </button>\n",
              "      \n",
              "  <style>\n",
              "    .colab-df-container {\n",
              "      display:flex;\n",
              "      flex-wrap:wrap;\n",
              "      gap: 12px;\n",
              "    }\n",
              "\n",
              "    .colab-df-convert {\n",
              "      background-color: #E8F0FE;\n",
              "      border: none;\n",
              "      border-radius: 50%;\n",
              "      cursor: pointer;\n",
              "      display: none;\n",
              "      fill: #1967D2;\n",
              "      height: 32px;\n",
              "      padding: 0 0 0 0;\n",
              "      width: 32px;\n",
              "    }\n",
              "\n",
              "    .colab-df-convert:hover {\n",
              "      background-color: #E2EBFA;\n",
              "      box-shadow: 0px 1px 2px rgba(60, 64, 67, 0.3), 0px 1px 3px 1px rgba(60, 64, 67, 0.15);\n",
              "      fill: #174EA6;\n",
              "    }\n",
              "\n",
              "    [theme=dark] .colab-df-convert {\n",
              "      background-color: #3B4455;\n",
              "      fill: #D2E3FC;\n",
              "    }\n",
              "\n",
              "    [theme=dark] .colab-df-convert:hover {\n",
              "      background-color: #434B5C;\n",
              "      box-shadow: 0px 1px 3px 1px rgba(0, 0, 0, 0.15);\n",
              "      filter: drop-shadow(0px 1px 2px rgba(0, 0, 0, 0.3));\n",
              "      fill: #FFFFFF;\n",
              "    }\n",
              "  </style>\n",
              "\n",
              "      <script>\n",
              "        const buttonEl =\n",
              "          document.querySelector('#df-3651a1c3-2db3-45dd-96ac-3b8387a805ba button.colab-df-convert');\n",
              "        buttonEl.style.display =\n",
              "          google.colab.kernel.accessAllowed ? 'block' : 'none';\n",
              "\n",
              "        async function convertToInteractive(key) {\n",
              "          const element = document.querySelector('#df-3651a1c3-2db3-45dd-96ac-3b8387a805ba');\n",
              "          const dataTable =\n",
              "            await google.colab.kernel.invokeFunction('convertToInteractive',\n",
              "                                                     [key], {});\n",
              "          if (!dataTable) return;\n",
              "\n",
              "          const docLinkHtml = 'Like what you see? Visit the ' +\n",
              "            '<a target=\"_blank\" href=https://colab.research.google.com/notebooks/data_table.ipynb>data table notebook</a>'\n",
              "            + ' to learn more about interactive tables.';\n",
              "          element.innerHTML = '';\n",
              "          dataTable['output_type'] = 'display_data';\n",
              "          await google.colab.output.renderOutput(dataTable, element);\n",
              "          const docLink = document.createElement('div');\n",
              "          docLink.innerHTML = docLinkHtml;\n",
              "          element.appendChild(docLink);\n",
              "        }\n",
              "      </script>\n",
              "    </div>\n",
              "  </div>\n",
              "  "
            ],
            "text/plain": [
              "           pred         y m_name\n",
              "0      3.298773  2.197225     Be\n",
              "1      2.450405  2.197225     Be\n",
              "2      2.562150  2.197225     Be\n",
              "3      1.266614  2.197225     Be\n",
              "4      3.411076  2.197225     Be\n",
              "...         ...       ...    ...\n",
              "14540  1.506192  3.690877     Ca\n",
              "14541  2.683864  3.690877     Ca\n",
              "14542  2.613634  3.690877     Ca\n",
              "14543  1.408713  3.690877     Ca\n",
              "14544  2.590117  3.690877     Ca\n",
              "\n",
              "[14545 rows x 3 columns]"
            ]
          },
          "execution_count": 24,
          "metadata": {},
          "output_type": "execute_result"
        }
      ],
      "source": [
        "# again no gradients needed\n",
        "with torch.no_grad():\n",
        "    pred_save=[]\n",
        "    out=[]\n",
        "    for data in test_dataloader_dop:\n",
        "        video,images, labels = data\n",
        "        video,images, labels=video.to(device),images.to(device), labels.to(device)\n",
        "        batch_size_prov=len(labels)\n",
        "        outputs = model_load(video,images,batch_size_prov)\n",
        "        np_batch_out=torch.flatten(outputs).tolist()\n",
        "        out.extend(np_batch_out)\n",
        "\n",
        "out=np.array(out)\n",
        "print(out.shape,y_test.shape)\n",
        "\n",
        "color3=['blue','orange','red','green']\n",
        "m_name=['Be','C','Na','Ca']\n",
        "\n",
        "df_pred=pd.DataFrame({'pred':out,'y':y_test.reshape(-1)})\n",
        "\n",
        "df_pred['m_name']=df_y['m_name']\n",
        "\n",
        "df_pred"
      ]
    },
    {
      "cell_type": "code",
      "execution_count": null,
      "metadata": {
        "colab": {
          "base_uri": "https://localhost:8080/",
          "height": 417
        },
        "id": "jSblX6t3pFyX",
        "outputId": "d0610320-836f-4a9c-ef26-8dd0e9151d13"
      },
      "outputs": [
        {
          "data": {
            "text/plain": [
              "Text(0.5, 0, 'ln(A)')"
            ]
          },
          "execution_count": 25,
          "metadata": {},
          "output_type": "execute_result"
        },
        {
          "data": {
            "image/png": "[encoded data removed]",
            "text/plain": [
              "<Figure size 1100x400 with 1 Axes>"
            ]
          },
          "metadata": {},
          "output_type": "display_data"
        }
      ],
      "source": [
        "fig = plt.figure(figsize=(11,4))\n",
        "bins=np.arange(0.6,4.2,0.05)\n",
        "bins_mass=np.arange(df_pred['pred'].min(),df_pred['pred'].max(),0.2)\n",
        "for i in range(4):\n",
        "    plt.hist(df_pred['pred'][df_pred['m_name']==m_name[i]],bins=bins_mass,label='test prediction '+m_name[i],color=color3[i],alpha=0.7)\n",
        "plt.vlines(df_pred['y'].unique(),0,350, linewidth=3,color='black')\n",
        "\n",
        "plt.legend(loc='center left',bbox_to_anchor=(1,0.5))\n",
        "plt.ylabel('count of events')\n",
        "plt.xlabel('ln(A)')\n",
        "\n",
        "# plt.savefig(direct_out_fig+'separation_5_type.png',bbox_inches='tight')"
      ]
    },
    {
      "cell_type": "code",
      "execution_count": null,
      "metadata": {
        "id": "b6dghr3tpFv1"
      },
      "outputs": [],
      "source": [
        "# Сохранение выхода нейронной сети\n",
        "df_pred.to_csv(direct_out_model+'predictions_NN_lnA_add.csv')"
      ]
    },
    {
      "cell_type": "code",
      "execution_count": null,
      "metadata": {
        "id": "hbMrazfQpFtX"
      },
      "outputs": [],
      "source": []
    },
    {
      "cell_type": "markdown",
      "metadata": {
        "id": "a6PlV6__owYx"
      },
      "source": [
        " # Для тех же ядер загруженной модели"
      ]
    },
    {
      "cell_type": "code",
      "execution_count": null,
      "metadata": {
        "id": "4vNOySYKpCwh"
      },
      "outputs": [],
      "source": [
        "direct_out_model='drive/MyDrive/data_sphere/'\n",
        "model_load=Net().to(device)\n",
        "model_load.load_state_dict(torch.load(direct_out_model+'model_weights_5_q1q2.pth'))\n",
        "model_load.eval()"
      ]
    },
    {
      "cell_type": "code",
      "execution_count": null,
      "metadata": {
        "colab": {
          "base_uri": "https://localhost:8080/",
          "height": 441
        },
        "id": "uF1Y_yUfnJAN",
        "outputId": "6f21ed7a-c015-4c98-8522-3e042e3dbb22"
      },
      "outputs": [
        {
          "name": "stdout",
          "output_type": "stream",
          "text": [
            "(14932,) (14932, 1)\n"
          ]
        },
        {
          "data": {
            "text/html": [
              "\n",
              "  <div id=\"df-cfb62d95-9fd3-47a6-82dc-e5c75205b2bc\">\n",
              "    <div class=\"colab-df-container\">\n",
              "      <div>\n",
              "<style scoped>\n",
              "    .dataframe tbody tr th:only-of-type {\n",
              "        vertical-align: middle;\n",
              "    }\n",
              "\n",
              "    .dataframe tbody tr th {\n",
              "        vertical-align: top;\n",
              "    }\n",
              "\n",
              "    .dataframe thead th {\n",
              "        text-align: right;\n",
              "    }\n",
              "</style>\n",
              "<table border=\"1\" class=\"dataframe\">\n",
              "  <thead>\n",
              "    <tr style=\"text-align: right;\">\n",
              "      <th></th>\n",
              "      <th>pred</th>\n",
              "      <th>y</th>\n",
              "      <th>m_name</th>\n",
              "    </tr>\n",
              "  </thead>\n",
              "  <tbody>\n",
              "    <tr>\n",
              "      <th>0</th>\n",
              "      <td>1.777473</td>\n",
              "      <td>2.639557</td>\n",
              "      <td>N</td>\n",
              "    </tr>\n",
              "    <tr>\n",
              "      <th>1</th>\n",
              "      <td>1.946728</td>\n",
              "      <td>0.001000</td>\n",
              "      <td>p</td>\n",
              "    </tr>\n",
              "    <tr>\n",
              "      <th>2</th>\n",
              "      <td>1.963326</td>\n",
              "      <td>1.386944</td>\n",
              "      <td>He</td>\n",
              "    </tr>\n",
              "    <tr>\n",
              "      <th>3</th>\n",
              "      <td>3.365410</td>\n",
              "      <td>4.022580</td>\n",
              "      <td>Fe</td>\n",
              "    </tr>\n",
              "    <tr>\n",
              "      <th>4</th>\n",
              "      <td>1.717453</td>\n",
              "      <td>0.001000</td>\n",
              "      <td>p</td>\n",
              "    </tr>\n",
              "    <tr>\n",
              "      <th>...</th>\n",
              "      <td>...</td>\n",
              "      <td>...</td>\n",
              "      <td>...</td>\n",
              "    </tr>\n",
              "    <tr>\n",
              "      <th>14927</th>\n",
              "      <td>3.147259</td>\n",
              "      <td>3.467734</td>\n",
              "      <td>S</td>\n",
              "    </tr>\n",
              "    <tr>\n",
              "      <th>14928</th>\n",
              "      <td>1.534293</td>\n",
              "      <td>0.001000</td>\n",
              "      <td>p</td>\n",
              "    </tr>\n",
              "    <tr>\n",
              "      <th>14929</th>\n",
              "      <td>3.089865</td>\n",
              "      <td>3.467734</td>\n",
              "      <td>S</td>\n",
              "    </tr>\n",
              "    <tr>\n",
              "      <th>14930</th>\n",
              "      <td>2.474803</td>\n",
              "      <td>3.467734</td>\n",
              "      <td>S</td>\n",
              "    </tr>\n",
              "    <tr>\n",
              "      <th>14931</th>\n",
              "      <td>1.513148</td>\n",
              "      <td>0.001000</td>\n",
              "      <td>p</td>\n",
              "    </tr>\n",
              "  </tbody>\n",
              "</table>\n",
              "<p>14932 rows × 3 columns</p>\n",
              "</div>\n",
              "      <button class=\"colab-df-convert\" onclick=\"convertToInteractive('df-cfb62d95-9fd3-47a6-82dc-e5c75205b2bc')\"\n",
              "              title=\"Convert this dataframe to an interactive table.\"\n",
              "              style=\"display:none;\">\n",
              "        \n",
              "  <svg xmlns=\"http://www.w3.org/2000/svg\" height=\"24px\"viewBox=\"0 0 24 24\"\n",
              "       width=\"24px\">\n",
              "    <path d=\"M0 0h24v24H0V0z\" fill=\"none\"/>\n",
              "    <path d=\"M18.56 5.44l.94 2.06.94-2.06 2.06-.94-2.06-.94-.94-2.06-.94 2.06-2.06.94zm-11 1L8.5 8.5l.94-2.06 2.06-.94-2.06-.94L8.5 2.5l-.94 2.06-2.06.94zm10 10l.94 2.06.94-2.06 2.06-.94-2.06-.94-.94-2.06-.94 2.06-2.06.94z\"/><path d=\"M17.41 7.96l-1.37-1.37c-.4-.4-.92-.59-1.43-.59-.52 0-1.04.2-1.43.59L10.3 9.45l-7.72 7.72c-.78.78-.78 2.05 0 2.83L4 21.41c.39.39.9.59 1.41.59.51 0 1.02-.2 1.41-.59l7.78-7.78 2.81-2.81c.8-.78.8-2.07 0-2.86zM5.41 20L4 18.59l7.72-7.72 1.47 1.35L5.41 20z\"/>\n",
              "  </svg>\n",
              "      </button>\n",
              "      \n",
              "  <style>\n",
              "    .colab-df-container {\n",
              "      display:flex;\n",
              "      flex-wrap:wrap;\n",
              "      gap: 12px;\n",
              "    }\n",
              "\n",
              "    .colab-df-convert {\n",
              "      background-color: #E8F0FE;\n",
              "      border: none;\n",
              "      border-radius: 50%;\n",
              "      cursor: pointer;\n",
              "      display: none;\n",
              "      fill: #1967D2;\n",
              "      height: 32px;\n",
              "      padding: 0 0 0 0;\n",
              "      width: 32px;\n",
              "    }\n",
              "\n",
              "    .colab-df-convert:hover {\n",
              "      background-color: #E2EBFA;\n",
              "      box-shadow: 0px 1px 2px rgba(60, 64, 67, 0.3), 0px 1px 3px 1px rgba(60, 64, 67, 0.15);\n",
              "      fill: #174EA6;\n",
              "    }\n",
              "\n",
              "    [theme=dark] .colab-df-convert {\n",
              "      background-color: #3B4455;\n",
              "      fill: #D2E3FC;\n",
              "    }\n",
              "\n",
              "    [theme=dark] .colab-df-convert:hover {\n",
              "      background-color: #434B5C;\n",
              "      box-shadow: 0px 1px 3px 1px rgba(0, 0, 0, 0.15);\n",
              "      filter: drop-shadow(0px 1px 2px rgba(0, 0, 0, 0.3));\n",
              "      fill: #FFFFFF;\n",
              "    }\n",
              "  </style>\n",
              "\n",
              "      <script>\n",
              "        const buttonEl =\n",
              "          document.querySelector('#df-cfb62d95-9fd3-47a6-82dc-e5c75205b2bc button.colab-df-convert');\n",
              "        buttonEl.style.display =\n",
              "          google.colab.kernel.accessAllowed ? 'block' : 'none';\n",
              "\n",
              "        async function convertToInteractive(key) {\n",
              "          const element = document.querySelector('#df-cfb62d95-9fd3-47a6-82dc-e5c75205b2bc');\n",
              "          const dataTable =\n",
              "            await google.colab.kernel.invokeFunction('convertToInteractive',\n",
              "                                                     [key], {});\n",
              "          if (!dataTable) return;\n",
              "\n",
              "          const docLinkHtml = 'Like what you see? Visit the ' +\n",
              "            '<a target=\"_blank\" href=https://colab.research.google.com/notebooks/data_table.ipynb>data table notebook</a>'\n",
              "            + ' to learn more about interactive tables.';\n",
              "          element.innerHTML = '';\n",
              "          dataTable['output_type'] = 'display_data';\n",
              "          await google.colab.output.renderOutput(dataTable, element);\n",
              "          const docLink = document.createElement('div');\n",
              "          docLink.innerHTML = docLinkHtml;\n",
              "          element.appendChild(docLink);\n",
              "        }\n",
              "      </script>\n",
              "    </div>\n",
              "  </div>\n",
              "  "
            ],
            "text/plain": [
              "           pred         y m_name\n",
              "0      1.777473  2.639557      N\n",
              "1      1.946728  0.001000      p\n",
              "2      1.963326  1.386944     He\n",
              "3      3.365410  4.022580     Fe\n",
              "4      1.717453  0.001000      p\n",
              "...         ...       ...    ...\n",
              "14927  3.147259  3.467734      S\n",
              "14928  1.534293  0.001000      p\n",
              "14929  3.089865  3.467734      S\n",
              "14930  2.474803  3.467734      S\n",
              "14931  1.513148  0.001000      p\n",
              "\n",
              "[14932 rows x 3 columns]"
            ]
          },
          "execution_count": 16,
          "metadata": {},
          "output_type": "execute_result"
        }
      ],
      "source": [
        "# again no gradients needed\n",
        "with torch.no_grad():\n",
        "    pred_save=[]\n",
        "    out=[]\n",
        "    for data in test_dataloader:\n",
        "        video,images, labels = data\n",
        "        video,images, labels=video.to(device),images.to(device), labels.to(device)\n",
        "        batch_size_prov=len(labels)\n",
        "        outputs = model_load(video,images,batch_size_prov)\n",
        "        np_batch_out=torch.flatten(outputs).tolist()\n",
        "        out.extend(np_batch_out)\n",
        "\n",
        "out=np.array(out)\n",
        "print(out.shape,y_test.shape)\n",
        "\n",
        "color3=['blue','orange','red','purple','green']\n",
        "m_name=['p','He','N','S','Fe']\n",
        "\n",
        "df_pred=pd.DataFrame({'pred':out,'y':y_test.reshape(-1)})\n",
        "\n",
        "df_pred['m_name']=df_y['m_name']\n",
        "\n",
        "df_pred"
      ]
    },
    {
      "cell_type": "code",
      "execution_count": null,
      "metadata": {
        "colab": {
          "base_uri": "https://localhost:8080/",
          "height": 400
        },
        "id": "MJ22n4iJnI76",
        "outputId": "a524e90d-4458-4846-83f0-a8a4c4b4f87c"
      },
      "outputs": [
        {
          "data": {
            "image/png": "[encoded data removed]",
            "text/plain": [
              "<Figure size 1100x400 with 1 Axes>"
            ]
          },
          "metadata": {},
          "output_type": "display_data"
        }
      ],
      "source": [
        "fig = plt.figure(figsize=(11,4))\n",
        "bins=np.arange(0.6,4.2,0.05)\n",
        "bins_mass=np.arange(df_pred['pred'].min(),df_pred['pred'].max(),0.2)\n",
        "for i in range(5):\n",
        "    plt.hist(df_pred['pred'][df_pred['m_name']==m_name[i]],bins=bins_mass,label='test prediction '+m_name[i],color=color3[i],alpha=0.7)\n",
        "plt.vlines(df_pred['y'].unique(),0,350, linewidth=3,color='black')\n",
        "\n",
        "plt.legend(loc='center left',bbox_to_anchor=(1,0.5))\n",
        "plt.ylabel('count of events')\n",
        "plt.xlabel('ln(A)')\n",
        "\n",
        "# plt.savefig(direct_out_fig+'separation_5_type.png',bbox_inches='tight')"
      ]
    },
    {
      "cell_type": "code",
      "execution_count": null,
      "metadata": {
        "colab": {
          "base_uri": "https://localhost:8080/",
          "height": 35
        },
        "id": "4_24IG86vRJE",
        "outputId": "c76a9eb8-8765-45c8-8bd5-ac5e51aa3e94"
      },
      "outputs": [
        {
          "data": {
            "application/vnd.google.colaboratory.intrinsic+json": {
              "type": "string"
            },
            "text/plain": [
              "'drive/MyDrive/data_sphere/'"
            ]
          },
          "execution_count": 18,
          "metadata": {},
          "output_type": "execute_result"
        }
      ],
      "source": [
        "direct_out_model"
      ]
    },
    {
      "cell_type": "code",
      "execution_count": null,
      "metadata": {
        "id": "HZzDeFAcYvRp"
      },
      "outputs": [],
      "source": [
        "# Сохранение выхода нейронной сети\n",
        "df_pred.to_csv(direct_out_model+'predictions_NN_lnA_norm.csv')"
      ]
    },
    {
      "cell_type": "markdown",
      "metadata": {
        "id": "1Jzus_3taqZS"
      },
      "source": [
        "## Поиск ошибки разделения событий"
      ]
    },
    {
      "cell_type": "code",
      "execution_count": null,
      "metadata": {
        "colab": {
          "base_uri": "https://localhost:8080/"
        },
        "id": "AvysuM-sna68",
        "outputId": "ec97d3c6-8884-49d4-aca5-9314f4a9c182"
      },
      "outputs": [
        {
          "data": {
            "text/plain": [
              "(3,)"
            ]
          },
          "execution_count": 39,
          "metadata": {},
          "output_type": "execute_result"
        }
      ],
      "source": [
        "p1=df_pred['pred'][df_pred['m_name']=='p']\n",
        "N1=df_pred['pred'][df_pred['m_name']=='N']\n",
        "Fe1=df_pred['pred'][df_pred['m_name']=='Fe']\n",
        "df=np.array([np.array(p1), np.array(N1),np.array(Fe1)])\n",
        "df.shape"
      ]
    },
    {
      "cell_type": "code",
      "execution_count": null,
      "metadata": {
        "colab": {
          "base_uri": "https://localhost:8080/"
        },
        "id": "nY7gEVNynI47",
        "outputId": "49473a48-d9ed-425f-ea5b-e0a28263c374"
      },
      "outputs": [
        {
          "name": "stdout",
          "output_type": "stream",
          "text": [
            "Ошибка разделения событий протон-азот =  0.15\n",
            "Ошибка разделения событий азот-железо =  0.17\n"
          ]
        }
      ],
      "source": [
        "N=50\n",
        "pn_max_mi,nf_max_mi=100000,100000\n",
        "\n",
        "cri=df\n",
        "#-------------------------------p-N-----------------------------------------------\n",
        "bpn_min=cri[0].mean()\n",
        "bpn_max=cri[1].mean()\n",
        "Nn=(bpn_max-bpn_min)/N\n",
        "\n",
        "for bpn in np.arange(bpn_min,bpn_max,Nn):\n",
        "    pn_p=np.count_nonzero(cri[0]>bpn)/float(len(df[0]))\n",
        "    pn_n=np.count_nonzero(cri[1]<bpn)/float(len(df[1]))\n",
        "\n",
        "    pn_max=max(pn_p,pn_n)\n",
        "\n",
        "    if pn_max<pn_max_mi:\n",
        "        pn_max_mi=pn_max\n",
        "        pn_border_max=bpn\n",
        "        er_pn_max=[round(pn_p,2),round(pn_n,2)]\n",
        "        cr=cri\n",
        "#--------------------------------N-Fe-----------------------------------------\n",
        "\n",
        "bnf_min=cri[1].mean()\n",
        "bnf_max=cri[2].mean()\n",
        "Nf=(bnf_max-bnf_min)/N\n",
        "\n",
        "for bnf in np.arange(bnf_min,bnf_max,Nf):      #Сразу считаю ошибки.\n",
        "    nf_n=np.count_nonzero(cri[1]>bnf)/float(len(df[1]))\n",
        "    nf_f=np.count_nonzero(cri[2]<bnf)/float(len(df[2]))\n",
        "\n",
        "    nf_max=max(nf_n,nf_f)\n",
        "\n",
        "    if nf_max<nf_max_mi:\n",
        "        nf_max_mi=nf_max\n",
        "        nf_border_max=bnf\n",
        "        er_nf_max=[round(nf_n,2),round(nf_f,2)]\n",
        "\n",
        "            #-----------------------------\n",
        "print('Ошибка разделения событий протон-азот = ', round(pn_max_mi,2))\n",
        "print('Ошибка разделения событий азот-железо = ', round(nf_max_mi,2))"
      ]
    },
    {
      "cell_type": "code",
      "execution_count": null,
      "metadata": {
        "id": "wcXgjj_xnOdK"
      },
      "outputs": [],
      "source": []
    }
  ],
  "metadata": {
    "accelerator": "GPU",
    "colab": {
      "provenance": [],
      "toc_visible": true,
      "include_colab_link": true
    },
    "gpuClass": "standard",
    "kernelspec": {
      "display_name": "Python 3",
      "name": "python3"
    },
    "language_info": {
      "name": "python"
    }
  },
  "nbformat": 4,
  "nbformat_minor": 0
}