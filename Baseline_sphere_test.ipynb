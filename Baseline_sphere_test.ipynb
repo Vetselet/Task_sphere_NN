{
  "nbformat": 4,
  "nbformat_minor": 0,
  "metadata": {
    "colab": {
      "provenance": []
    },
    "kernelspec": {
      "name": "python3",
      "display_name": "Python 3"
    },
    "language_info": {
      "name": "python"
    },
    "accelerator": "GPU",
    "gpuClass": "standard"
  },
  "cells": [
    {
      "cell_type": "markdown",
      "source": [
        "# Библиотеки"
      ],
      "metadata": {
        "id": "pQts9aDeQOod"
      }
    },
    {
      "cell_type": "code",
      "execution_count": null,
      "metadata": {
        "colab": {
          "base_uri": "https://localhost:8080/"
        },
        "id": "iqq9rVmNQJCG",
        "outputId": "69615a19-a4df-4a3b-dcf2-d99eb223b047"
      },
      "outputs": [
        {
          "output_type": "stream",
          "name": "stdout",
          "text": [
            "Populating the interactive namespace from numpy and matplotlib\n"
          ]
        },
        {
          "output_type": "stream",
          "name": "stderr",
          "text": [
            "/usr/local/lib/python3.9/dist-packages/IPython/core/magics/pylab.py:159: UserWarning: pylab import has clobbered these variables: ['ceil', 'fmod', 'hypot', 'isfinite', 'trunc', 'frexp', 'tan', 'nextafter', 'nan', 'remainder', 'log', 'log2', 'sqrt', 'lcm', 'e', 'floor', 'gamma', 'pi', 'fabs', 'modf', 'inf', 'ldexp', 'sin', 'exp', 'log10', 'expm1', 'radians', 'copysign', 'isclose', 'sinh', 'degrees', 'isinf', 'isnan', 'cos', 'log1p', 'gcd', 'tanh', 'cosh', 'prod']\n",
            "`%matplotlib` prevents importing * from pylab and numpy\n",
            "  warn(\"pylab import has clobbered these variables: %s\"  % clobbered +\n"
          ]
        }
      ],
      "source": [
        "import numpy as np\n",
        "import pandas as pd\n",
        "from pathlib import Path\n",
        "from math import *\n",
        "# from iminuit import Minuit\n",
        "import matplotlib.pyplot as plt\n",
        "import matplotlib as mpl\n",
        "from mpl_toolkits.mplot3d import Axes3D\n",
        "from matplotlib.colors import LinearSegmentedColormap\n",
        "%pylab inline\n",
        "import warnings\n",
        "from scipy import stats\n",
        "from scipy.integrate import quad\n",
        "import plotly.express as px\n",
        "from scipy import stats\n",
        "from scipy import interpolate\n",
        "import torch.utils.data as data_utils\n",
        "warnings.filterwarnings('ignore')\n",
        "plt.rcParams['font.size']=15\n",
        "from google.colab import drive\n",
        "\n",
        "import torch # PyTorch package\n",
        "import torchvision # load datasets\n",
        "import torchvision.transforms as transforms # transform data\n",
        "import torch.nn as nn # basic building block for neural neteorks\n",
        "import torch.nn.functional as F # import convolution functions like Relu\n",
        "import torch.optim as optim # optimzer\n",
        "from sklearn.model_selection import train_test_split\n",
        "\n",
        "mp=1.001\n",
        "mN=14.007\n",
        "mFe=55.845\n",
        "m=np.array([mp,mN,mFe])\n",
        "ln_m=np.log(m+0.1)"
      ]
    },
    {
      "cell_type": "markdown",
      "source": [
        "# Загрузка данных"
      ],
      "metadata": {
        "id": "4ev6TNUvQXU0"
      }
    },
    {
      "cell_type": "code",
      "source": [
        "drive.mount('/content/drive')\n",
        "direct='drive/MyDrive/neuro/mosaic_hits/1/'\n",
        "\n",
        "# Для первой модели взаимодействия ================================\n",
        "p_q1=np.load( direct+'glob_array_p_q1.npy')   \n",
        "p_q1.shape"
      ],
      "metadata": {
        "colab": {
          "base_uri": "https://localhost:8080/"
        },
        "id": "IlpnStJJBRo7",
        "outputId": "a404b2ff-c846-4cf1-ef03-868d5ff372f6"
      },
      "execution_count": null,
      "outputs": [
        {
          "output_type": "stream",
          "name": "stdout",
          "text": [
            "Mounted at /content/drive\n"
          ]
        },
        {
          "output_type": "execute_result",
          "data": {
            "text/plain": [
              "(54450000,)"
            ]
          },
          "metadata": {},
          "execution_count": 2
        }
      ]
    },
    {
      "cell_type": "code",
      "source": [
        "drive.mount('/content/drive')\n",
        "direct='drive/MyDrive/neuro/mosaic_hits/1/'\n",
        "\n",
        "# Для первой модели взаимодействия ================================\n",
        "p_q1=np.load( direct+'glob_array_p_q1.npy')   \n",
        "p_q1=p_q1.reshape(6000,75,11,11,1)\n",
        "\n",
        "# p=p[:,:50]    # Лучше до 50 кадров пробовать, дальше нет полезной информации\n",
        "\n",
        "N_q1=np.load( direct+'glob_array_N_q1.npy')   \n",
        "N_q1=N_q1.reshape(6000,75,11,11,1)\n",
        "\n",
        "Fe_q1=np.load( direct+'glob_array_Fe_q1.npy')   \n",
        "Fe_q1=Fe_q1.reshape(6000,75,11,11,1)\n",
        "\n",
        "# Для второй модели взаимодействия =================================\n",
        "direct='drive/MyDrive/neuro/mosaic_hits/2/'\n",
        "\n",
        "p_q2=np.load( direct+'glob_array_p.npy')   \n",
        "p_q2=p_q2.reshape(6000,75,11,11,1)\n",
        "\n",
        "N_q2=np.load( direct+'glob_array_N.npy')   \n",
        "N_q2=N_q2.reshape(6000,75,11,11,1)\n",
        "\n",
        "Fe_q2=np.load( direct+'glob_array_Fe.npy')   \n",
        "Fe_q2=Fe_q2.reshape(6000,75,11,11,1)"
      ],
      "metadata": {
        "colab": {
          "base_uri": "https://localhost:8080/"
        },
        "id": "vj6nZGujQN5h",
        "outputId": "1784cfc9-ad45-4770-cb85-dc7884a44e63"
      },
      "execution_count": null,
      "outputs": [
        {
          "output_type": "stream",
          "name": "stdout",
          "text": [
            "Drive already mounted at /content/drive; to attempt to forcibly remount, call drive.mount(\"/content/drive\", force_remount=True).\n"
          ]
        }
      ]
    },
    {
      "cell_type": "markdown",
      "source": [
        "Проверка, что загрузка прошла успешно"
      ],
      "metadata": {
        "id": "eG58MS87TfOk"
      }
    },
    {
      "cell_type": "code",
      "source": [
        "fig=plt.figure()\n",
        "stop_cadre=75\n",
        "for j in range(10):\n",
        "  for i in range(stop_cadre):\n",
        "    plt.scatter(i,np.count_nonzero(p[j,i,:,:]),color='blue',alpha=0.1)\n",
        "# plt.savefig('nonzero_cadre.png')"
      ],
      "metadata": {
        "id": "GseWxywIQg2U"
      },
      "execution_count": null,
      "outputs": []
    },
    {
      "cell_type": "markdown",
      "source": [
        "Создаем X и y из 36 000 событий."
      ],
      "metadata": {
        "id": "RDwHjvs7jr0P"
      }
    },
    {
      "cell_type": "code",
      "source": [
        "X=np.concatenate((p_q1,N_q1,Fe_q1,p_q2,N_q2,Fe_q2),axis=0)   # p, N, Fe, p, N, Fe    --- последовательность такая\n",
        "print( 'X shape = ', X.shape)\n",
        "\n",
        "# В качетсве y действительные числа, логарифма массы соответствующих ядер\n",
        "# y=np.concatenate((np.array([ln_m[0]]*6000),np.array([ln_m[1]]*6000),np.array([ln_m[2]]*6000),\n",
        "#               np.array([ln_m[0]]*6000),np.array([ln_m[1]]*6000),np.array([ln_m[2]]*6000)),axis=0)\n",
        "\n",
        "# В качетсве y в будущем целые числа, 0, 1, 2 \n",
        "y=np.concatenate((np.array([0]*6000),np.array([1]*6000),np.array([2]*6000),\n",
        "              np.array([0]*6000),np.array([1]*6000),np.array([2]*6000)),axis=0)\n",
        "print( 'y shape = ', y.shape)"
      ],
      "metadata": {
        "colab": {
          "base_uri": "https://localhost:8080/"
        },
        "id": "CHT0GwBfqwnF",
        "outputId": "81c7ade6-b7f2-4d09-fdd6-e244746fe08a"
      },
      "execution_count": null,
      "outputs": [
        {
          "output_type": "stream",
          "name": "stdout",
          "text": [
            "X shape =  (36000, 75, 11, 11, 1)\n",
            "y shape =  (36000,)\n"
          ]
        }
      ]
    },
    {
      "cell_type": "code",
      "source": [
        "X = X.reshape(36000, 1, 75, 11, 11)"
      ],
      "metadata": {
        "id": "EkwIKS3JBteC"
      },
      "execution_count": null,
      "outputs": []
    },
    {
      "cell_type": "code",
      "source": [
        "batch_size = 64\n",
        "\n",
        "#X=X.reshape(36000,75,11,11)\n",
        "\n",
        "X_train, X_test, y_train, y_test = train_test_split(X, y, test_size=0.3, random_state=33, shuffle=True)\n",
        "\n",
        "train_dat    = torch.utils.data.TensorDataset(torch.tensor(np.float32(X_train)), torch.tensor(np.float32(y_train)).type(torch.LongTensor))\n",
        "train_loader = torch.utils.data.DataLoader(train_dat, batch_size = 16, shuffle = True)\n",
        "\n",
        "test_dat    = torch.utils.data.TensorDataset(torch.tensor(np.float32(X_test)), torch.tensor(np.float32(y_test)).type(torch.LongTensor))\n",
        "test_loader = torch.utils.data.DataLoader(test_dat, batch_size = 16, shuffle = False)\n"
      ],
      "metadata": {
        "id": "UkynEYCazf8m"
      },
      "execution_count": null,
      "outputs": []
    },
    {
      "cell_type": "markdown",
      "source": [
        "# Архитектура сети"
      ],
      "metadata": {
        "id": "SqCaOtrNGiNM"
      }
    },
    {
      "cell_type": "code",
      "source": [
        "import torch.nn as nn\n",
        "import torch.nn.functional as F\n",
        "\n",
        "\n",
        "class Net(nn.Module):\n",
        "    def __init__(self):\n",
        "        super().__init__()\n",
        "        self.conv1 = nn.Conv3d(1, 8, 3, stride=1, padding=1)\n",
        "        self.conv2 = nn.Conv3d(8, 16, 3, stride=1, padding=1)\n",
        "\n",
        "        self.pool = nn.MaxPool3d(2, 2)\n",
        "        self.conv3 = nn.Conv3d(16, 32, 3, stride=1, padding=1)\n",
        "        self.fc1 = nn.Linear(32 * 3 * 3, 120)\n",
        "        self.fc2 = nn.Linear(120, 84)\n",
        "        self.fc3 = nn.Linear(84, 3)\n",
        "\n",
        "    def forward(self, x):\n",
        "        x = self.pool(F.relu(self.conv1(x)))\n",
        "        x = self.pool(F.relu(self.conv2(x)))\n",
        "        x = self.pool(F.relu(self.conv3(x)))\n",
        "        x = torch.flatten(x, 1) # flatten all dimensions except batch\n",
        "        x = F.relu(self.fc1(x))\n",
        "        x = F.relu(self.fc2(x))\n",
        "        x = self.fc3(x)\n",
        "        return x\n",
        "\n",
        "\n",
        "net = Net()\n",
        "import torch.optim as optim\n",
        "\n",
        "criterion = nn.CrossEntropyLoss()\n",
        "optimizer = optim.Adam(net.parameters(), lr=0.001)#, momentum=0.9)"
      ],
      "metadata": {
        "id": "WsU5pW04smNc"
      },
      "execution_count": null,
      "outputs": []
    },
    {
      "cell_type": "code",
      "source": [
        "net"
      ],
      "metadata": {
        "colab": {
          "base_uri": "https://localhost:8080/"
        },
        "id": "M_YN_DtGKaq7",
        "outputId": "8bd0dd4e-cf5a-4d7b-e5db-c6eb35f42ece"
      },
      "execution_count": null,
      "outputs": [
        {
          "output_type": "execute_result",
          "data": {
            "text/plain": [
              "Net(\n",
              "  (conv1): Conv3d(1, 8, kernel_size=(3, 3, 3), stride=(1, 1, 1), padding=(1, 1, 1))\n",
              "  (conv2): Conv3d(8, 16, kernel_size=(3, 3, 3), stride=(1, 1, 1), padding=(1, 1, 1))\n",
              "  (pool): MaxPool3d(kernel_size=2, stride=2, padding=0, dilation=1, ceil_mode=False)\n",
              "  (conv3): Conv3d(16, 32, kernel_size=(3, 3, 3), stride=(1, 1, 1), padding=(1, 1, 1))\n",
              "  (fc1): Linear(in_features=288, out_features=120, bias=True)\n",
              "  (fc2): Linear(in_features=120, out_features=84, bias=True)\n",
              "  (fc3): Linear(in_features=84, out_features=3, bias=True)\n",
              ")"
            ]
          },
          "metadata": {},
          "execution_count": 49
        }
      ]
    },
    {
      "cell_type": "code",
      "source": [
        "for epoch in range(15):  # loop over the dataset multiple times\n",
        "\n",
        "    running_loss = 0.0\n",
        "    for i, data in enumerate(train_loader, 0):\n",
        "        # get the inputs; data is a list of [inputs, labels]\n",
        "        inputs, labels = data\n",
        "\n",
        "        # zero the parameter gradients\n",
        "        optimizer.zero_grad()\n",
        "\n",
        "        # forward + backward + optimize\n",
        "        outputs = net(inputs)\n",
        "        loss = criterion(outputs, labels)\n",
        "        loss.backward()\n",
        "        optimizer.step()\n",
        "\n",
        "        # print statistics\n",
        "        running_loss += loss.item()\n",
        "        if i % 2000 == 1999:    # print every 2000 mini-batches\n",
        "            print(f'[{epoch + 1}, {i + 1:5d}] loss: {running_loss / 2000:.3f}')\n",
        "            running_loss = 0.0\n",
        "\n",
        "print('Finished Training')"
      ],
      "metadata": {
        "id": "wMP0X6ojjF7O",
        "colab": {
          "base_uri": "https://localhost:8080/"
        },
        "outputId": "7ce29438-97c8-45f7-e5a4-063289803270"
      },
      "execution_count": null,
      "outputs": [
        {
          "output_type": "stream",
          "name": "stdout",
          "text": [
            "Finished Training\n"
          ]
        }
      ]
    },
    {
      "cell_type": "code",
      "source": [
        "classes=['p','N','Fe']\n",
        "_, predicted = torch.max(outputs, 1)\n",
        "\n",
        "print('Predicted: ', ' '.join(f'{classes[predicted[j]]:5s}'\n",
        "                              for j in range(4)))"
      ],
      "metadata": {
        "id": "PBmK-rzbkrYX",
        "colab": {
          "base_uri": "https://localhost:8080/"
        },
        "outputId": "06094c14-c4a2-4062-d232-d6af81cb6483"
      },
      "execution_count": null,
      "outputs": [
        {
          "output_type": "stream",
          "name": "stdout",
          "text": [
            "Predicted:  N     N     N     N    \n"
          ]
        }
      ]
    },
    {
      "cell_type": "code",
      "source": [
        "correct = 0\n",
        "total = 0\n",
        "# since we're not training, we don't need to calculate the gradients for our outputs\n",
        "with torch.no_grad():\n",
        "    for data in test_loader:\n",
        "        images, labels = data\n",
        "        # calculate outputs by running images through the network\n",
        "        outputs = net(images)\n",
        "        # the class with the highest energy is what we choose as prediction\n",
        "        _, predicted = torch.max(outputs.data, 1)\n",
        "        total += labels.size(0)\n",
        "        correct += (predicted == labels).sum().item()\n",
        "\n",
        "print(f'Accuracy of the network on the 10000 test images: {100 * correct // total} %')"
      ],
      "metadata": {
        "id": "DO5DwaEOkrV-",
        "colab": {
          "base_uri": "https://localhost:8080/"
        },
        "outputId": "10afd3ac-908b-4bb2-9c8b-d2b5949b2c0b"
      },
      "execution_count": null,
      "outputs": [
        {
          "output_type": "stream",
          "name": "stdout",
          "text": [
            "Accuracy of the network on the 10000 test images: 51 %\n"
          ]
        }
      ]
    },
    {
      "cell_type": "code",
      "source": [
        "correct_pred = {classname: 0 for classname in classes}\n",
        "total_pred = {classname: 0 for classname in classes}\n",
        "\n",
        "# again no gradients needed\n",
        "with torch.no_grad():\n",
        "    for data in test_loader:\n",
        "        images, labels = data\n",
        "        outputs = net(images)\n",
        "        _, predictions = torch.max(outputs, 1)\n",
        "        # collect the correct predictions for each class\n",
        "        for label, prediction in zip(labels, predictions):\n",
        "            if label == prediction:\n",
        "                correct_pred[classes[label]] += 1\n",
        "            total_pred[classes[label]] += 1\n",
        "\n",
        "\n",
        "# print accuracy for each class\n",
        "for classname, correct_count in correct_pred.items():\n",
        "    accuracy = 100 * float(correct_count) / total_pred[classname]\n",
        "    print(f'Accuracy for class: {classname:5s} is {accuracy:.1f} %')"
      ],
      "metadata": {
        "id": "IADFDz-FkrTk",
        "colab": {
          "base_uri": "https://localhost:8080/"
        },
        "outputId": "18acda7c-e906-4152-c88f-05650d97fb6d"
      },
      "execution_count": null,
      "outputs": [
        {
          "output_type": "stream",
          "name": "stdout",
          "text": [
            "Accuracy for class: p     is 64.5 %\n",
            "Accuracy for class: N     is 0.0 %\n",
            "Accuracy for class: Fe    is 72.4 %\n"
          ]
        }
      ]
    },
    {
      "cell_type": "code",
      "source": [],
      "metadata": {
        "id": "K7uKjQ3F7rSv"
      },
      "execution_count": null,
      "outputs": []
    },
    {
      "cell_type": "code",
      "source": [],
      "metadata": {
        "id": "NWMoC_DL7rQc"
      },
      "execution_count": null,
      "outputs": []
    },
    {
      "cell_type": "code",
      "source": [],
      "metadata": {
        "id": "j-icCM2B7rN6"
      },
      "execution_count": null,
      "outputs": []
    },
    {
      "cell_type": "code",
      "source": [],
      "metadata": {
        "id": "bDgpf5m7Fgtr"
      },
      "execution_count": null,
      "outputs": []
    },
    {
      "cell_type": "code",
      "source": [],
      "metadata": {
        "id": "T2JZu56FFgrh"
      },
      "execution_count": null,
      "outputs": []
    },
    {
      "cell_type": "code",
      "source": [],
      "metadata": {
        "id": "_RrD5_69Fgo6"
      },
      "execution_count": null,
      "outputs": []
    },
    {
      "cell_type": "code",
      "source": [],
      "metadata": {
        "id": "J6fgWYmSFgmd"
      },
      "execution_count": null,
      "outputs": []
    },
    {
      "cell_type": "code",
      "source": [],
      "metadata": {
        "id": "jChZDC4kFgkl"
      },
      "execution_count": null,
      "outputs": []
    },
    {
      "cell_type": "code",
      "source": [],
      "metadata": {
        "id": "BHwSsoY4Fghz"
      },
      "execution_count": null,
      "outputs": []
    },
    {
      "cell_type": "code",
      "source": [],
      "metadata": {
        "id": "b8IiVmtTFgfh"
      },
      "execution_count": null,
      "outputs": []
    },
    {
      "cell_type": "markdown",
      "source": [
        "# Исследование"
      ],
      "metadata": {
        "id": "ebiSx_d6F9Tv"
      }
    },
    {
      "cell_type": "markdown",
      "source": [
        "Очистка памяти"
      ],
      "metadata": {
        "id": "_JifNJT22Uxy"
      }
    },
    {
      "cell_type": "code",
      "source": [
        "# Очистка памяти\n",
        "from numba import cuda \n",
        "device = cuda.get_current_device()\n",
        "device.reset()"
      ],
      "metadata": {
        "id": "SH4xZBjWr8zY"
      },
      "execution_count": null,
      "outputs": []
    },
    {
      "cell_type": "code",
      "source": [],
      "metadata": {
        "id": "jF6R9ZYq7rLu"
      },
      "execution_count": null,
      "outputs": []
    },
    {
      "cell_type": "code",
      "source": [
        "# get some random training images\n",
        "# trainloader = torch.utils.data.DataLoader(p_q1, batch_size=batch_size,\n",
        "#                                           shuffle=True, num_workers=num_workers)\n",
        "# dataiter = iter(trainloader)\n",
        "# images = next(dataiter)\n",
        "\n",
        "# dataiter = iter(trainloader)\n",
        "# images = next(dataiter)"
      ],
      "metadata": {
        "id": "XngBBUWjSUVx"
      },
      "execution_count": null,
      "outputs": []
    },
    {
      "cell_type": "code",
      "source": [
        "def imshow(img):\n",
        "    # img = img / 2 + 0.5     # unnormalize\n",
        "\n",
        "    npimg = img.numpy()\n",
        "    # print(np.transpose(npimg, (1, 2, 0)))\n",
        "    plt.imshow(np.transpose(npimg, (1, 2, 0)))\n",
        "    plt.show()\n",
        "\n",
        "\n",
        "\n",
        "# show images\n",
        "\n",
        "imshow(torchvision.utils.make_grid(images[0][3]))\n",
        "# print labels\n",
        "# print(' '.join(f'{classes[labels[j]]:5s}' for j in range(batch_size)))"
      ],
      "metadata": {
        "colab": {
          "base_uri": "https://localhost:8080/",
          "height": 287
        },
        "id": "puVDaYSISUQo",
        "outputId": "4832d9e3-cb6b-4ad6-ff8b-8ddee540a98b"
      },
      "execution_count": null,
      "outputs": [
        {
          "output_type": "stream",
          "name": "stderr",
          "text": [
            "WARNING:matplotlib.image:Clipping input data to the valid range for imshow with RGB data ([0..1] for floats or [0..255] for integers).\n"
          ]
        },
        {
          "output_type": "display_data",
          "data": {
            "text/plain": [
              "<Figure size 432x288 with 1 Axes>"
            ],
            "image/png": "[encoded data removed]"
          },
          "metadata": {
            "needs_background": "light"
          }
        }
      ]
    },
    {
      "cell_type": "code",
      "source": [],
      "metadata": {
        "id": "vMlvUJR-F7_o"
      },
      "execution_count": null,
      "outputs": []
    },
    {
      "cell_type": "code",
      "source": [],
      "metadata": {
        "id": "tF6DagRRF713"
      },
      "execution_count": null,
      "outputs": []
    },
    {
      "cell_type": "markdown",
      "source": [
        "Как добавить y компоненту к тензору или numpy?"
      ],
      "metadata": {
        "id": "AebNCu1FjL9X"
      }
    },
    {
      "cell_type": "code",
      "source": [
        "dataloaders_train = torch.utils.data.DataLoader(Xt_train, batch_size=64)\n",
        "\n",
        "Yt_train = Yt_train.type(torch.LongTensor)\n",
        "dataloaders_test = torch.utils.data.DataLoader(Yt_train, batch_size=64)\n",
        "\n",
        "class Network(nn.Module):\n",
        "    def __init__(self):\n",
        "        super().__init__()\n",
        "\n",
        "\n",
        "        self.hidden = nn.Linear(42000, 256)\n",
        "\n",
        "        self.output = nn.Linear(256, 10)\n",
        "\n",
        "\n",
        "        self.sigmoid = nn.Sigmoid()\n",
        "        self.softmax = nn.Softmax(dim=1)\n",
        "\n",
        "    def forward(self, x):\n",
        "\n",
        "        x = self.hidden(x)\n",
        "        x = self.sigmoid(x)\n",
        "        x = self.output(x)\n",
        "        x = self.softmax(x)\n",
        "\n",
        "        return x\n",
        "\n",
        "model = Network()\n",
        "\n",
        "input_size = 784\n",
        "hidden_sizes = [28, 64]\n",
        "output_size = 10 \n",
        "model = nn.Sequential(nn.Linear(input_size, hidden_sizes[0]),\n",
        "                      nn.ReLU(),\n",
        "                      nn.Linear(hidden_sizes[0], hidden_sizes[1]),\n",
        "                      nn.ReLU(),\n",
        "                      nn.Linear(hidden_sizes[1], output_size),\n",
        "                      nn.Softmax(dim=1))\n",
        "print(model)\n",
        "\n",
        "criterion = nn.NLLLoss()\n",
        "optimizer = optim.SGD(model.parameters(), lr=0.003)\n",
        "\n",
        "epochs = 5\n",
        "\n",
        "for e in range(epochs):\n",
        "    running_loss = 0\n",
        "    for images, labels in zip(dataloaders_train, dataloaders_test):\n",
        "\n",
        "        images = images.view(images.shape[0], -1)\n",
        "        #images, labels = Variable(images), Variable(labels)\n",
        "        print(images.dtype)\n",
        "        print(labels.dtype)\n",
        "\n",
        "        optimizer.zero_grad()\n",
        "\n",
        "        output = model(images)\n",
        "        loss = criterion(output, labels)\n",
        "        loss.backward()\n",
        "        optimizer.step()\n",
        "\n",
        "        running_loss += loss.item()\n",
        "    else:\n",
        "        print(f\"Training loss: {running_loss}\")"
      ],
      "metadata": {
        "id": "m7XtUvNUkrRH"
      },
      "execution_count": null,
      "outputs": []
    },
    {
      "cell_type": "code",
      "source": [],
      "metadata": {
        "id": "AybqTScXkrO2"
      },
      "execution_count": null,
      "outputs": []
    }
  ]
}