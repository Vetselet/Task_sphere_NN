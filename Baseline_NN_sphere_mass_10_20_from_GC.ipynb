{
  "nbformat": 4,
  "nbformat_minor": 0,
  "metadata": {
    "colab": {
      "provenance": [],
      "toc_visible": true,
      "include_colab_link": true
    },
    "kernelspec": {
      "name": "python3",
      "display_name": "Python 3"
    },
    "language_info": {
      "name": "python"
    },
    "gpuClass": "standard",
    "accelerator": "GPU"
  },
  "cells": [
    {
      "cell_type": "markdown",
      "metadata": {
        "id": "view-in-github",
        "colab_type": "text"
      },
      "source": [
        "<a href=\"https://colab.research.google.com/github/Vetselet/Task_sphere_NN/blob/main/Baseline_NN_sphere_mass_10_20_from_GC.ipynb\" target=\"_parent\"><img src=\"https://colab.research.google.com/assets/colab-badge.svg\" alt=\"Open In Colab\"/></a>"
      ]
    },
    {
      "cell_type": "markdown",
      "source": [
        "# Библиотеки"
      ],
      "metadata": {
        "id": "pQts9aDeQOod"
      }
    },
    {
      "cell_type": "code",
      "execution_count": 1,
      "metadata": {
        "colab": {
          "base_uri": "https://localhost:8080/"
        },
        "id": "iqq9rVmNQJCG",
        "outputId": "cb354ef0-1c46-4bfb-ef8b-2cef16e611e5"
      },
      "outputs": [
        {
          "output_type": "stream",
          "name": "stdout",
          "text": [
            "Populating the interactive namespace from numpy and matplotlib\n"
          ]
        },
        {
          "output_type": "stream",
          "name": "stderr",
          "text": [
            "/usr/local/lib/python3.10/dist-packages/IPython/core/magics/pylab.py:159: UserWarning: pylab import has clobbered these variables: ['sqrt', 'e', 'ceil', 'gcd', 'gamma', 'isnan', 'nan', 'cos', 'tanh', 'isinf', 'nextafter', 'cosh', 'log1p', 'remainder', 'exp', 'modf', 'isfinite', 'lcm', 'tan', 'pi', 'isclose', 'trunc', 'fmod', 'inf', 'fabs', 'radians', 'sinh', 'sin', 'degrees', 'log', 'prod', 'ldexp', 'floor', 'hypot', 'log10', 'log2', 'expm1', 'frexp', 'copysign']\n",
            "`%matplotlib` prevents importing * from pylab and numpy\n",
            "  warn(\"pylab import has clobbered these variables: %s\"  % clobbered +\n"
          ]
        }
      ],
      "source": [
        "import numpy as np\n",
        "import pandas as pd\n",
        "from pathlib import Path\n",
        "from math import *\n",
        "# from iminuit import Minuit\n",
        "import matplotlib.pyplot as plt\n",
        "import matplotlib as mpl\n",
        "from mpl_toolkits.mplot3d import Axes3D\n",
        "from matplotlib.colors import LinearSegmentedColormap\n",
        "%pylab inline\n",
        "import warnings\n",
        "from scipy import stats\n",
        "from scipy.integrate import quad\n",
        "import plotly.express as px\n",
        "from scipy import stats\n",
        "from scipy import interpolate\n",
        "import torch.utils.data as data_utils\n",
        "warnings.filterwarnings('ignore')\n",
        "plt.rcParams['font.size']=15\n",
        "from google.colab import drive\n",
        "\n",
        "import torch # PyTorch package\n",
        "import torchvision # load datasets\n",
        "import torchvision.transforms as transforms # transform data\n",
        "import torch.nn as nn # basic building block for neural neteorks\n",
        "import torch.nn.functional as F # import convolution functions like Relu\n",
        "import torch.optim as optim # optimzer\n",
        "from sklearn.model_selection import train_test_split\n",
        "\n",
        "from sklearn.preprocessing import StandardScaler, MinMaxScaler\n",
        "\n",
        "from torchvision.io import read_image\n",
        "from torchvision import transforms, utils\n",
        "from torch.utils.data import Dataset, DataLoader,ConcatDataset\n",
        "from sklearn.preprocessing import LabelEncoder\n",
        "from torch import nn\n",
        "from torch import optim\n",
        "import datetime\n",
        "\n",
        "\n",
        "device = torch.device(\"cuda\" if torch.cuda.is_available() else \"cpu\")\n",
        "\n",
        "mp=1.001\n",
        "mHe=4.0026\n",
        "mN=14.007\n",
        "mS=32.064\n",
        "mFe=55.845\n",
        "m=np.array([mp,mHe,mN,mS,mFe])\n",
        "ln_m=np.log(m)\n",
        "\n",
        "import random\n",
        "def set_random_seed(seed):\n",
        "    torch.manual_seed(seed)\n",
        "    torch.cuda.manual_seed(seed)\n",
        "    np.random.seed(seed)\n",
        "    random.seed(seed)\n",
        "    torch.backends.cudnn.deterministic = True\n",
        "\n",
        "set_random_seed(30)"
      ]
    },
    {
      "cell_type": "code",
      "source": [
        "ln_m"
      ],
      "metadata": {
        "colab": {
          "base_uri": "https://localhost:8080/"
        },
        "id": "81ro6TGZvSTU",
        "outputId": "69d5be2e-935b-4b6a-aa9a-9cecc6501194"
      },
      "execution_count": 2,
      "outputs": [
        {
          "output_type": "execute_result",
          "data": {
            "text/plain": [
              "array([9.99500333e-04, 1.38694415e+00, 2.63955720e+00, 3.46773391e+00,\n",
              "       4.02258000e+00])"
            ]
          },
          "metadata": {},
          "execution_count": 2
        }
      ]
    },
    {
      "cell_type": "markdown",
      "source": [
        "# Функции"
      ],
      "metadata": {
        "id": "iGNs8jSvYUX5"
      }
    },
    {
      "cell_type": "code",
      "source": [
        "from IPython.display import clear_output\n",
        "from collections import defaultdict\n",
        "import matplotlib.pyplot as plt\n",
        "import numpy as np\n",
        "\n",
        "class ProgressPlotter:\n",
        "  def __init__(self) -> None:\n",
        "    self._history_dict = defaultdict(list)\n",
        "\n",
        "  def add_scalar(self, tag: str, value)-> None:\n",
        "    self._history_dict[tag].append(value)\n",
        "\n",
        "  def display_keys(self,ax,tags):\n",
        "    if isinstance(tags, str):\n",
        "      tags = [tags]\n",
        "    history_len = 0\n",
        "    ax.grid()\n",
        "    for key in tags:\n",
        "      ax.plot(self._history_dict[key], marker=\"X\",label=key)\n",
        "      history_len = max(history_len,len(self.history_dict[key]))\n",
        "    if len(tags) > 1:\n",
        "      ax.legend(loc=\"upper right\")\n",
        "    else:\n",
        "      ax.set_ylabel(key)\n",
        "    ax.set_xlabel('step')\n",
        "    ax.set_xticks(np.arange(history_len))\n",
        "    ax.set_xticklabels(np.arange(history_len))\n",
        "\n",
        "  def display(self,groups = None):\n",
        "    # groups list ofkeys like [['loss_train','loss_val'],['accuracy']]\n",
        "    clear_output()\n",
        "    n_groups = len(groups)\n",
        "    fig, ax = plt.subplots(n_groups, 1, figsize=(12, 3*n_groups))\n",
        "    if n_groups == 1:\n",
        "      ax = [ax]\n",
        "    for i, keys in enumerate(groups):\n",
        "      self.display_keys(ax[i],keys)\n",
        "    fig.tight_layout()\n",
        "    plt.show()\n",
        "\n",
        "  @property\n",
        "  def history_dict(self):\n",
        "    return dict(self._history_dict)\n",
        "\n",
        "\n",
        "def get_correct_count(pred, labels):\n",
        "  # _, predicted = torch.max(pred.data, 1)\n",
        "  predicted,indices= torch.max(pred.data, 1)\n",
        "  return (predicted == labels).sum().item()\n",
        "\n",
        "@torch.inference_mode()\n",
        "def calaculate_accuracy(model, data_loader, criterion ):\n",
        "    correct, total = 0, 0\n",
        "    loss = 0\n",
        "    for batch in data_loader:\n",
        "        video,imgs, labels = batch\n",
        "        video=video.to(device)\n",
        "        imgs=imgs.to(device)\n",
        "        labels=labels.to(device)\n",
        "        batch_size_acc=len(labels)\n",
        "        pred = model(video,imgs,batch_size_acc)\n",
        "        loss += criterion(pred, labels)\n",
        "        correct += get_correct_count(pred,labels)\n",
        "        total += labels.size(0)\n",
        "\n",
        "    return correct / total , loss.item() / len(data_loader)\n",
        "\n",
        "def calaculate_mae(model, data_loader, criterion ):\n",
        "    correct, total = 0, 0\n",
        "    loss = 0\n",
        "    val_mae=0\n",
        "    for batch in data_loader:\n",
        "        video,imgs, labels = batch\n",
        "        video=video.to(device)\n",
        "        imgs=imgs.to(device)\n",
        "        labels=labels.to(device)\n",
        "        batch_size_acc=len(labels)\n",
        "        pred = model(video,imgs,batch_size_acc)\n",
        "        loss += criterion(pred, labels)\n",
        "        # correct += get_correct_count(pred,labels)\n",
        "        mae_loss=nn.L1Loss()\n",
        "        epoch_mae=mae_loss(pred, labels)/batch_size_acc\n",
        "        val_mae+=epoch_mae\n",
        "        # correct += get_correct_count(pred,labels)\n",
        "        total += labels.size(0)\n",
        "\n",
        "    return val_mae/ len(data_loader)    , loss.item() / len(data_loader)"
      ],
      "metadata": {
        "id": "Nfn9nPUlYWeX"
      },
      "execution_count": 3,
      "outputs": []
    },
    {
      "cell_type": "markdown",
      "source": [
        "# Загрузка данных"
      ],
      "metadata": {
        "id": "4ev6TNUvQXU0"
      }
    },
    {
      "cell_type": "code",
      "source": [
        "from ast import Pass\n",
        "drive.mount('/content/drive')\n",
        "direct_q1='drive/MyDrive/data_sphere/data_to_NN_q1_900_10PeV_10-20/'\n",
        "direct_q2='drive/MyDrive/data_sphere/data_to_NN_q2_900_10PeV_10-20/'\n",
        "\n",
        "data_direct=[direct_q1+'glob_array_p_q1.npy',direct_q1+'glob_array_He_q1.npy',direct_q1+'glob_array_N_q1.npy',direct_q1+'glob_array_S_q1.npy',direct_q1+'glob_array_Fe_q1.npy',\\\n",
        "             direct_q2+'glob_array_p_q2.npy',direct_q2+'glob_array_He_q2.npy',direct_q2+'glob_array_N_q2.npy',direct_q2+'glob_array_S_q2.npy',direct_q2+'glob_array_Fe_q2.npy']\n",
        "map_direct=[direct_q1+'map2_p.npy',direct_q1+'map2_He.npy',direct_q1+'map2_N.npy',direct_q1+'map2_S.npy',direct_q1+'map2_Fe.npy',\\\n",
        "             direct_q2+'map2_p_q2.npy',direct_q2+'map2_He_q2.npy',direct_q2+'map2_N_q2.npy',direct_q2+'map2_S_q2.npy',direct_q2+'map2_Fe_q2.npy']\n",
        "\n",
        "border=1200   # граница числа фотонов, если их в сумме зарегистрировалось меньше в одном событии, то такое событие не рассматривается.\n",
        "data_all,data_2D,data_y=[],[],[]\n",
        "# target_num=[0,1,1,0,1,1]\n",
        "target_num=[0,1,2,3,4,0,1,2,3,4]\n",
        "\n",
        "target_mass=[ln_m[0],ln_m[1],ln_m[2],ln_m[3],ln_m[4],ln_m[0],ln_m[1],ln_m[2],ln_m[3],ln_m[4]]\n",
        "for i in range(10):\n",
        "\n",
        "    particle_data=np.load( data_direct[i])\n",
        "    particle_data=particle_data.reshape(6000,1,50,11,11)\n",
        "\n",
        "    # Обрезаем данные\n",
        "    bool_mask=[sum(particle_data[i])<border for i in range(6000)]\n",
        "    particle_data=particle_data[~np.array(bool_mask)]\n",
        "    # print(particle_data.min() ,particle_data.max())\n",
        "\n",
        "    map2D=np.load( map_direct[i])\n",
        "    map2D=map2D.reshape(6000,2,11,11)\n",
        "    map2D=map2D[~np.array(bool_mask)]\n",
        "    # print(map2D.min(),map2D.max())\n",
        "\n",
        "    data_all.append(particle_data)\n",
        "    data_2D.append(map2D)\n",
        "    # data_y.append([target_num[i]]*particle_data.shape[0])    # В качетсве y целые числа, 0, 1, 2\n",
        "    data_y.append([target_mass[i]]*particle_data.shape[0])\n",
        "\n",
        "    print(particle_data.shape)\n",
        "\n",
        "\n",
        "if len(data_all)==10:\n",
        "    data_video=np.concatenate([data_all[0],data_all[1],data_all[2],data_all[3],data_all[4],data_all[5],data_all[6],data_all[7],data_all[8],data_all[9]])\n",
        "    data_map = np.concatenate([data_2D[0],data_2D[1],data_2D[2],data_2D[3],data_2D[4],data_2D[5],data_2D[6],data_2D[7],data_2D[8],data_2D[9]])\n",
        "    data_y=np.concatenate([data_y[0],data_y[1],data_y[2],data_y[3],data_y[4],data_y[5],data_y[6],data_y[7],data_y[8],data_y[9]])\n",
        "    print('data video = ',data_video.shape,',  data map = ',data_map.shape,',  data y = ',data_y.shape)\n",
        "\n",
        "data_video=(data_video-data_video.min())/(data_video.max()-data_video.min())   # Нормализция данных по кол-ву фотонов в ФЭУ в видео"
      ],
      "metadata": {
        "colab": {
          "base_uri": "https://localhost:8080/"
        },
        "id": "2o0GHT6b6cS6",
        "outputId": "49a10593-ae08-4b03-c816-58cc9083658a"
      },
      "execution_count": 4,
      "outputs": [
        {
          "output_type": "stream",
          "name": "stdout",
          "text": [
            "Mounted at /content/drive\n",
            "(4271, 1, 50, 11, 11)\n",
            "(3977, 1, 50, 11, 11)\n",
            "(3643, 1, 50, 11, 11)\n",
            "(3481, 1, 50, 11, 11)\n",
            "(3213, 1, 50, 11, 11)\n",
            "(4261, 1, 50, 11, 11)\n",
            "(4045, 1, 50, 11, 11)\n",
            "(3701, 1, 50, 11, 11)\n",
            "(3502, 1, 50, 11, 11)\n",
            "(3235, 1, 50, 11, 11)\n",
            "data video =  (37329, 1, 50, 11, 11) ,  data map =  (37329, 2, 11, 11) ,  data y =  (37329,)\n"
          ]
        }
      ]
    },
    {
      "cell_type": "code",
      "source": [
        "# Стандартизация карт\n",
        "m=(data_map[:,0]-data_map[:,0].mean())/data_map[:,0].std()  # Стандартизация числа фотонов\n",
        "t=(data_map[:,1]-data_map[:,1].mean())/data_map[:,1].std()  # Стандартизация времени\n",
        "a=np.array(list(zip(m,t)))\n",
        "a.shape"
      ],
      "metadata": {
        "colab": {
          "base_uri": "https://localhost:8080/"
        },
        "id": "rdpC_A_PA16r",
        "outputId": "5f0d8337-8a18-4235-8f20-5d6de7c6af32"
      },
      "execution_count": 5,
      "outputs": [
        {
          "output_type": "execute_result",
          "data": {
            "text/plain": [
              "(37329, 2, 11, 11)"
            ]
          },
          "metadata": {},
          "execution_count": 5
        }
      ]
    },
    {
      "cell_type": "code",
      "source": [
        "# Стандартизация видеоряда\n",
        "vid=data_video.reshape(data_video.shape[0],50,11,11)\n",
        "v=(vid-vid.mean())/vid.std()\n",
        "v.shape"
      ],
      "metadata": {
        "colab": {
          "base_uri": "https://localhost:8080/"
        },
        "id": "4RmdmZ9iF4af",
        "outputId": "1b792b64-1168-42fe-9e73-745275fce0a7"
      },
      "execution_count": 6,
      "outputs": [
        {
          "output_type": "execute_result",
          "data": {
            "text/plain": [
              "(37329, 50, 11, 11)"
            ]
          },
          "metadata": {},
          "execution_count": 6
        }
      ]
    },
    {
      "cell_type": "markdown",
      "source": [
        "# Введение X и y"
      ],
      "metadata": {
        "id": "eeAqIe8nKTB6"
      }
    },
    {
      "cell_type": "code",
      "source": [
        "X= v\n",
        "X = X.reshape(X.shape[0], 1, 50, 11, 11)\n",
        "print( 'X shape = ', X.shape)\n",
        "\n",
        "y=data_y.reshape(data_y.shape[0],1)\n",
        "print( 'y shape = ', y.shape)\n",
        "\n",
        "X_concat=np.array(list(zip(X,a)))\n",
        "\n",
        "print(X_concat.shape)\n",
        "print(X_concat[0,0].shape)\n",
        "print(X_concat[0,1].shape)"
      ],
      "metadata": {
        "colab": {
          "base_uri": "https://localhost:8080/"
        },
        "id": "-KItICgfTQP_",
        "outputId": "221c5003-f034-472b-a942-b3a93cfa15cc"
      },
      "execution_count": 7,
      "outputs": [
        {
          "output_type": "stream",
          "name": "stdout",
          "text": [
            "X shape =  (37329, 1, 50, 11, 11)\n",
            "y shape =  (37329, 1)\n",
            "(37329, 2)\n",
            "(1, 50, 11, 11)\n",
            "(2, 11, 11)\n"
          ]
        }
      ]
    },
    {
      "cell_type": "markdown",
      "source": [
        "# Разделение на обучающую и треничровачную выборки"
      ],
      "metadata": {
        "id": "RDwHjvs7jr0P"
      }
    },
    {
      "cell_type": "code",
      "source": [
        "X_train, X_test, y_train, y_test = train_test_split(X_concat, y, test_size=0.4, stratify = y, random_state=30, shuffle=True)"
      ],
      "metadata": {
        "id": "UkynEYCazf8m"
      },
      "execution_count": 8,
      "outputs": []
    },
    {
      "cell_type": "code",
      "source": [
        "uniq,counts=np.unique(y_test,return_counts=True)\n",
        "dict(zip(uniq,counts))"
      ],
      "metadata": {
        "id": "Y91aXoYQNnrK",
        "colab": {
          "base_uri": "https://localhost:8080/"
        },
        "outputId": "9d5c7824-2646-4b22-b566-3423c692a267"
      },
      "execution_count": 9,
      "outputs": [
        {
          "output_type": "execute_result",
          "data": {
            "text/plain": [
              "{0.0009995003330834232: 3413,\n",
              " 1.3869441499613877: 3209,\n",
              " 2.6395572046569096: 2938,\n",
              " 3.4677339054623997: 2793,\n",
              " 4.02257999599279: 2579}"
            ]
          },
          "metadata": {},
          "execution_count": 9
        }
      ]
    },
    {
      "cell_type": "code",
      "source": [
        "df_y=pd.DataFrame({'y':y_test.reshape(-1)})\n",
        "\n",
        "mass_value =ln_m\n",
        "\n",
        "df_y['m_name']=0\n",
        "df_y['m_name'][df_y['y']==mass_value[0]]='p'\n",
        "df_y['m_name'][df_y['y']==mass_value[1]]='He'\n",
        "df_y['m_name'][df_y['y']==mass_value[2]]='N'\n",
        "df_y['m_name'][df_y['y']==mass_value[3]]='S'\n",
        "df_y['m_name'][df_y['y']==mass_value[4]]='Fe'\n",
        "df_y"
      ],
      "metadata": {
        "colab": {
          "base_uri": "https://localhost:8080/",
          "height": 424
        },
        "id": "tjiHvFTOWe3A",
        "outputId": "86fff4f6-7eae-4707-9c28-31be1b04b7ef"
      },
      "execution_count": 10,
      "outputs": [
        {
          "output_type": "execute_result",
          "data": {
            "text/plain": [
              "              y m_name\n",
              "0      2.639557      N\n",
              "1      0.001000      p\n",
              "2      1.386944     He\n",
              "3      4.022580     Fe\n",
              "4      0.001000      p\n",
              "...         ...    ...\n",
              "14927  3.467734      S\n",
              "14928  0.001000      p\n",
              "14929  3.467734      S\n",
              "14930  3.467734      S\n",
              "14931  0.001000      p\n",
              "\n",
              "[14932 rows x 2 columns]"
            ],
            "text/html": [
              "\n",
              "  <div id=\"df-9d6dc449-65c2-41a4-9e52-28fabb28d22f\">\n",
              "    <div class=\"colab-df-container\">\n",
              "      <div>\n",
              "<style scoped>\n",
              "    .dataframe tbody tr th:only-of-type {\n",
              "        vertical-align: middle;\n",
              "    }\n",
              "\n",
              "    .dataframe tbody tr th {\n",
              "        vertical-align: top;\n",
              "    }\n",
              "\n",
              "    .dataframe thead th {\n",
              "        text-align: right;\n",
              "    }\n",
              "</style>\n",
              "<table border=\"1\" class=\"dataframe\">\n",
              "  <thead>\n",
              "    <tr style=\"text-align: right;\">\n",
              "      <th></th>\n",
              "      <th>y</th>\n",
              "      <th>m_name</th>\n",
              "    </tr>\n",
              "  </thead>\n",
              "  <tbody>\n",
              "    <tr>\n",
              "      <th>0</th>\n",
              "      <td>2.639557</td>\n",
              "      <td>N</td>\n",
              "    </tr>\n",
              "    <tr>\n",
              "      <th>1</th>\n",
              "      <td>0.001000</td>\n",
              "      <td>p</td>\n",
              "    </tr>\n",
              "    <tr>\n",
              "      <th>2</th>\n",
              "      <td>1.386944</td>\n",
              "      <td>He</td>\n",
              "    </tr>\n",
              "    <tr>\n",
              "      <th>3</th>\n",
              "      <td>4.022580</td>\n",
              "      <td>Fe</td>\n",
              "    </tr>\n",
              "    <tr>\n",
              "      <th>4</th>\n",
              "      <td>0.001000</td>\n",
              "      <td>p</td>\n",
              "    </tr>\n",
              "    <tr>\n",
              "      <th>...</th>\n",
              "      <td>...</td>\n",
              "      <td>...</td>\n",
              "    </tr>\n",
              "    <tr>\n",
              "      <th>14927</th>\n",
              "      <td>3.467734</td>\n",
              "      <td>S</td>\n",
              "    </tr>\n",
              "    <tr>\n",
              "      <th>14928</th>\n",
              "      <td>0.001000</td>\n",
              "      <td>p</td>\n",
              "    </tr>\n",
              "    <tr>\n",
              "      <th>14929</th>\n",
              "      <td>3.467734</td>\n",
              "      <td>S</td>\n",
              "    </tr>\n",
              "    <tr>\n",
              "      <th>14930</th>\n",
              "      <td>3.467734</td>\n",
              "      <td>S</td>\n",
              "    </tr>\n",
              "    <tr>\n",
              "      <th>14931</th>\n",
              "      <td>0.001000</td>\n",
              "      <td>p</td>\n",
              "    </tr>\n",
              "  </tbody>\n",
              "</table>\n",
              "<p>14932 rows × 2 columns</p>\n",
              "</div>\n",
              "      <button class=\"colab-df-convert\" onclick=\"convertToInteractive('df-9d6dc449-65c2-41a4-9e52-28fabb28d22f')\"\n",
              "              title=\"Convert this dataframe to an interactive table.\"\n",
              "              style=\"display:none;\">\n",
              "        \n",
              "  <svg xmlns=\"http://www.w3.org/2000/svg\" height=\"24px\"viewBox=\"0 0 24 24\"\n",
              "       width=\"24px\">\n",
              "    <path d=\"M0 0h24v24H0V0z\" fill=\"none\"/>\n",
              "    <path d=\"M18.56 5.44l.94 2.06.94-2.06 2.06-.94-2.06-.94-.94-2.06-.94 2.06-2.06.94zm-11 1L8.5 8.5l.94-2.06 2.06-.94-2.06-.94L8.5 2.5l-.94 2.06-2.06.94zm10 10l.94 2.06.94-2.06 2.06-.94-2.06-.94-.94-2.06-.94 2.06-2.06.94z\"/><path d=\"M17.41 7.96l-1.37-1.37c-.4-.4-.92-.59-1.43-.59-.52 0-1.04.2-1.43.59L10.3 9.45l-7.72 7.72c-.78.78-.78 2.05 0 2.83L4 21.41c.39.39.9.59 1.41.59.51 0 1.02-.2 1.41-.59l7.78-7.78 2.81-2.81c.8-.78.8-2.07 0-2.86zM5.41 20L4 18.59l7.72-7.72 1.47 1.35L5.41 20z\"/>\n",
              "  </svg>\n",
              "      </button>\n",
              "      \n",
              "  <style>\n",
              "    .colab-df-container {\n",
              "      display:flex;\n",
              "      flex-wrap:wrap;\n",
              "      gap: 12px;\n",
              "    }\n",
              "\n",
              "    .colab-df-convert {\n",
              "      background-color: #E8F0FE;\n",
              "      border: none;\n",
              "      border-radius: 50%;\n",
              "      cursor: pointer;\n",
              "      display: none;\n",
              "      fill: #1967D2;\n",
              "      height: 32px;\n",
              "      padding: 0 0 0 0;\n",
              "      width: 32px;\n",
              "    }\n",
              "\n",
              "    .colab-df-convert:hover {\n",
              "      background-color: #E2EBFA;\n",
              "      box-shadow: 0px 1px 2px rgba(60, 64, 67, 0.3), 0px 1px 3px 1px rgba(60, 64, 67, 0.15);\n",
              "      fill: #174EA6;\n",
              "    }\n",
              "\n",
              "    [theme=dark] .colab-df-convert {\n",
              "      background-color: #3B4455;\n",
              "      fill: #D2E3FC;\n",
              "    }\n",
              "\n",
              "    [theme=dark] .colab-df-convert:hover {\n",
              "      background-color: #434B5C;\n",
              "      box-shadow: 0px 1px 3px 1px rgba(0, 0, 0, 0.15);\n",
              "      filter: drop-shadow(0px 1px 2px rgba(0, 0, 0, 0.3));\n",
              "      fill: #FFFFFF;\n",
              "    }\n",
              "  </style>\n",
              "\n",
              "      <script>\n",
              "        const buttonEl =\n",
              "          document.querySelector('#df-9d6dc449-65c2-41a4-9e52-28fabb28d22f button.colab-df-convert');\n",
              "        buttonEl.style.display =\n",
              "          google.colab.kernel.accessAllowed ? 'block' : 'none';\n",
              "\n",
              "        async function convertToInteractive(key) {\n",
              "          const element = document.querySelector('#df-9d6dc449-65c2-41a4-9e52-28fabb28d22f');\n",
              "          const dataTable =\n",
              "            await google.colab.kernel.invokeFunction('convertToInteractive',\n",
              "                                                     [key], {});\n",
              "          if (!dataTable) return;\n",
              "\n",
              "          const docLinkHtml = 'Like what you see? Visit the ' +\n",
              "            '<a target=\"_blank\" href=https://colab.research.google.com/notebooks/data_table.ipynb>data table notebook</a>'\n",
              "            + ' to learn more about interactive tables.';\n",
              "          element.innerHTML = '';\n",
              "          dataTable['output_type'] = 'display_data';\n",
              "          await google.colab.output.renderOutput(dataTable, element);\n",
              "          const docLink = document.createElement('div');\n",
              "          docLink.innerHTML = docLinkHtml;\n",
              "          element.appendChild(docLink);\n",
              "        }\n",
              "      </script>\n",
              "    </div>\n",
              "  </div>\n",
              "  "
            ]
          },
          "metadata": {},
          "execution_count": 10
        }
      ]
    },
    {
      "cell_type": "code",
      "source": [
        "class CustomDataset(Dataset):\n",
        "    def __init__(self, X,y):\n",
        "        self.X = X[:,0]\n",
        "        self.map=X[:,1]\n",
        "        self.y=y\n",
        "\n",
        "    def __len__(self):\n",
        "        return len(self.y)\n",
        "\n",
        "    def __getitem__(self, idx):\n",
        "\n",
        "        video = torch.tensor(np.float32(self.X[idx]))\n",
        "        imgs = torch.tensor(np.float32(self.map[idx]))\n",
        "        label=torch.tensor(np.float32(self.y[idx]))\n",
        "\n",
        "        return video, imgs, label\n",
        "\n",
        "batch_size=64\n",
        "\n",
        "train_dataset=CustomDataset(X_train,y_train)\n",
        "train_dataloader = DataLoader(train_dataset, batch_size=batch_size, shuffle=True)\n",
        "\n",
        "test_dataset=CustomDataset(X_test,y_test)\n",
        "test_dataloader = DataLoader(test_dataset, batch_size=batch_size, shuffle=False)"
      ],
      "metadata": {
        "id": "LKfzN12sSSLY"
      },
      "execution_count": 11,
      "outputs": []
    },
    {
      "cell_type": "markdown",
      "source": [
        "# Архитектура сети"
      ],
      "metadata": {
        "id": "SqCaOtrNGiNM"
      }
    },
    {
      "cell_type": "code",
      "source": [
        "import torch.nn as nn\n",
        "import torch.nn.functional as F\n",
        "\n",
        "class Net(nn.Module):\n",
        "    def __init__(self):\n",
        "        super().__init__()\n",
        "\n",
        "        self.conv1 = nn.Conv3d(1, 32, (2,1,1), stride=(4,1,1), padding=0)\n",
        "        self.conv2 = nn.Conv3d(32, 16, (2,1,1), stride=(4,1,1), padding=0)\n",
        "        self.conv3 = nn.Conv3d(16, 8, (3,1,1), stride=(1,1,1), padding=0)\n",
        "\n",
        "        self.fc1 = nn.Linear(11*11*10, 11*11*4)\n",
        "        self.fc2 = nn.Linear(11*11*4, 1)\n",
        "\n",
        "    def forward(self, video,imgs,batch_size_nn=2):\n",
        "        video = F.relu(self.conv1(video))\n",
        "        video = F.relu(self.conv2(video))\n",
        "        video = F.relu(self.conv3(video))\n",
        "        video = video.view(batch_size_nn,8, 11, 11)\n",
        "        x = torch.cat((video, imgs), dim=1)    # Получили размерность (10,11,11)\n",
        "\n",
        "        x = torch.flatten(x,1)\n",
        "\n",
        "        x= self.fc1(x)\n",
        "        x= self.fc2(x)\n",
        "\n",
        "        return x"
      ],
      "metadata": {
        "id": "zKdPYiAQjpj3"
      },
      "execution_count": 12,
      "outputs": []
    },
    {
      "cell_type": "markdown",
      "source": [
        "# **Цикл обучения.**"
      ],
      "metadata": {
        "id": "odY98FM6bmDG"
      }
    },
    {
      "cell_type": "code",
      "source": [
        "def train(model, criterion, optimizer, num_epochs=5):\n",
        "    pp = ProgressPlotter()\n",
        "    mae_loss = nn.L1Loss()\n",
        "    for epoch in range(num_epochs):\n",
        "        running_loss = 0.0\n",
        "        correct, total, ep_loss = 0, 0, 0\n",
        "        epochs_mae=0\n",
        "        for i, data in enumerate(train_dataloader, 0):\n",
        "\n",
        "          # get the inputs; data is a list of [inputs, labels]\n",
        "          inputs, imgs, labels = data\n",
        "          inputs=inputs.to(device)\n",
        "          imgs=imgs.to(device)\n",
        "          labels=labels.to(device)\n",
        "          # zero the parameter gradients\n",
        "          optimizer.zero_grad()\n",
        "          batch_size_nn=len(labels)\n",
        "          # forward + backward + optimize\n",
        "          outputs = model(inputs,imgs,batch_size_nn)\n",
        "          loss = criterion(outputs, labels)\n",
        "          # correct += get_correct_count(outputs, labels)\n",
        "\n",
        "          epoch_mae=mae_loss(outputs, labels)/batch_size_nn\n",
        "          epochs_mae+=epoch_mae\n",
        "          # print(epoch_mae)\n",
        "\n",
        "          loss.backward()\n",
        "          optimizer.step()\n",
        "\n",
        "          total += labels.size(0)\n",
        "          ep_loss += loss.item()\n",
        "\n",
        "          # print statistics\n",
        "          running_loss += loss.item()\n",
        "          if i % 500 == 499:    # print every 500 mini-batches\n",
        "              print(f'[{epoch + 1}, {i + 1:5d}] loss: {running_loss / 2000:.3f}')\n",
        "              running_loss = 0.0\n",
        "\n",
        "        # Logging\n",
        "        pp.add_scalar('loss_train', ep_loss / len(train_dataloader))\n",
        "        pp.add_scalar('mae_train', float(epochs_mae) / len(train_dataloader))\n",
        "        print(float(epochs_mae))\n",
        "\n",
        "        val_mae,loss_val=calaculate_mae(model,test_dataloader,criterion)\n",
        "        print(val_mae)\n",
        "        pp.add_scalar('loss_val',loss_val)\n",
        "        pp.add_scalar('mae_val', float(val_mae))\n",
        "\n",
        "        pp.display([['loss_train','loss_val'],['mae_train','mae_val']])\n",
        "\n",
        "    return pp"
      ],
      "metadata": {
        "id": "aHsO1j_DYu-H"
      },
      "execution_count": 13,
      "outputs": []
    },
    {
      "cell_type": "markdown",
      "source": [
        "## Само обучение"
      ],
      "metadata": {
        "id": "ABUdheTKqiyF"
      }
    },
    {
      "cell_type": "code",
      "source": [
        "model = Net().to(device)  # Create model instance\n",
        "model.train()\n",
        "optimizer = optim.Adam(model.parameters(), lr=0.001)\n",
        "criterion = nn.MSELoss().to(device) # Loss function\n",
        "\n",
        "pp = train(model, criterion, optimizer, num_epochs=8)"
      ],
      "metadata": {
        "colab": {
          "base_uri": "https://localhost:8080/",
          "height": 592
        },
        "id": "0oFD-EUpbZrr",
        "outputId": "f1ccec8d-77d8-4434-dff6-52af2863975f"
      },
      "execution_count": 15,
      "outputs": [
        {
          "output_type": "display_data",
          "data": {
            "text/plain": [
              "<Figure size 1200x600 with 2 Axes>"
            ],
            "image/png": "[encoded data removed]"
          },
          "metadata": {}
        }
      ]
    },
    {
      "cell_type": "markdown",
      "source": [
        "## Сохранение весов модели"
      ],
      "metadata": {
        "id": "CicRQGrbmsbY"
      }
    },
    {
      "cell_type": "code",
      "source": [
        "# direct_out_model='drive/MyDrive/data_sphere/'\n",
        "# torch.save(model.state_dict(), direct_out_model+'model_weights_5_q1q2.pth')"
      ],
      "metadata": {
        "id": "fqCMegffl0yR"
      },
      "execution_count": 34,
      "outputs": []
    },
    {
      "cell_type": "markdown",
      "source": [
        "# Разделение событий по массам, полученное с помощью нейронной сети"
      ],
      "metadata": {
        "id": "saEdYO63X7fK"
      }
    },
    {
      "cell_type": "code",
      "source": [
        "# again no gradients needed\n",
        "with torch.no_grad():\n",
        "    pred_save=[]\n",
        "    out=[]\n",
        "    for data in test_dataloader:\n",
        "        video,images, labels = data\n",
        "        video,images, labels=video.to(device),images.to(device), labels.to(device)\n",
        "        batch_size_prov=len(labels)\n",
        "        outputs = model(video,images,batch_size_prov)\n",
        "        np_batch_out=torch.flatten(outputs).tolist()\n",
        "        out.extend(np_batch_out)\n",
        "\n",
        "out=np.array(out)\n",
        "\n",
        "color3=['blue','red','green']\n",
        "m_name=['p','N','Fe']\n",
        "\n",
        "df_pred=pd.DataFrame({'pred':out,'y':y_test.reshape(-1)})\n",
        "\n",
        "df_pred['m_name']=df_y['m_name']\n",
        "\n",
        "df_pred"
      ],
      "metadata": {
        "colab": {
          "base_uri": "https://localhost:8080/",
          "height": 424
        },
        "id": "WWSlDr6GgH5_",
        "outputId": "0baa331c-ac8f-4d20-b329-a144e4f86c70"
      },
      "execution_count": 32,
      "outputs": [
        {
          "output_type": "execute_result",
          "data": {
            "text/plain": [
              "           pred         y m_name\n",
              "0      1.777473  2.639557      N\n",
              "1      1.946728  0.001000      p\n",
              "2      1.963326  1.386944     He\n",
              "3      3.365410  4.022580     Fe\n",
              "4      1.717453  0.001000      p\n",
              "...         ...       ...    ...\n",
              "14927  3.147259  3.467734      S\n",
              "14928  1.534293  0.001000      p\n",
              "14929  3.089865  3.467734      S\n",
              "14930  2.474803  3.467734      S\n",
              "14931  1.513148  0.001000      p\n",
              "\n",
              "[14932 rows x 3 columns]"
            ],
            "text/html": [
              "\n",
              "  <div id=\"df-7e541ff0-2e05-424e-9439-502ea545d05f\">\n",
              "    <div class=\"colab-df-container\">\n",
              "      <div>\n",
              "<style scoped>\n",
              "    .dataframe tbody tr th:only-of-type {\n",
              "        vertical-align: middle;\n",
              "    }\n",
              "\n",
              "    .dataframe tbody tr th {\n",
              "        vertical-align: top;\n",
              "    }\n",
              "\n",
              "    .dataframe thead th {\n",
              "        text-align: right;\n",
              "    }\n",
              "</style>\n",
              "<table border=\"1\" class=\"dataframe\">\n",
              "  <thead>\n",
              "    <tr style=\"text-align: right;\">\n",
              "      <th></th>\n",
              "      <th>pred</th>\n",
              "      <th>y</th>\n",
              "      <th>m_name</th>\n",
              "    </tr>\n",
              "  </thead>\n",
              "  <tbody>\n",
              "    <tr>\n",
              "      <th>0</th>\n",
              "      <td>1.777473</td>\n",
              "      <td>2.639557</td>\n",
              "      <td>N</td>\n",
              "    </tr>\n",
              "    <tr>\n",
              "      <th>1</th>\n",
              "      <td>1.946728</td>\n",
              "      <td>0.001000</td>\n",
              "      <td>p</td>\n",
              "    </tr>\n",
              "    <tr>\n",
              "      <th>2</th>\n",
              "      <td>1.963326</td>\n",
              "      <td>1.386944</td>\n",
              "      <td>He</td>\n",
              "    </tr>\n",
              "    <tr>\n",
              "      <th>3</th>\n",
              "      <td>3.365410</td>\n",
              "      <td>4.022580</td>\n",
              "      <td>Fe</td>\n",
              "    </tr>\n",
              "    <tr>\n",
              "      <th>4</th>\n",
              "      <td>1.717453</td>\n",
              "      <td>0.001000</td>\n",
              "      <td>p</td>\n",
              "    </tr>\n",
              "    <tr>\n",
              "      <th>...</th>\n",
              "      <td>...</td>\n",
              "      <td>...</td>\n",
              "      <td>...</td>\n",
              "    </tr>\n",
              "    <tr>\n",
              "      <th>14927</th>\n",
              "      <td>3.147259</td>\n",
              "      <td>3.467734</td>\n",
              "      <td>S</td>\n",
              "    </tr>\n",
              "    <tr>\n",
              "      <th>14928</th>\n",
              "      <td>1.534293</td>\n",
              "      <td>0.001000</td>\n",
              "      <td>p</td>\n",
              "    </tr>\n",
              "    <tr>\n",
              "      <th>14929</th>\n",
              "      <td>3.089865</td>\n",
              "      <td>3.467734</td>\n",
              "      <td>S</td>\n",
              "    </tr>\n",
              "    <tr>\n",
              "      <th>14930</th>\n",
              "      <td>2.474803</td>\n",
              "      <td>3.467734</td>\n",
              "      <td>S</td>\n",
              "    </tr>\n",
              "    <tr>\n",
              "      <th>14931</th>\n",
              "      <td>1.513148</td>\n",
              "      <td>0.001000</td>\n",
              "      <td>p</td>\n",
              "    </tr>\n",
              "  </tbody>\n",
              "</table>\n",
              "<p>14932 rows × 3 columns</p>\n",
              "</div>\n",
              "      <button class=\"colab-df-convert\" onclick=\"convertToInteractive('df-7e541ff0-2e05-424e-9439-502ea545d05f')\"\n",
              "              title=\"Convert this dataframe to an interactive table.\"\n",
              "              style=\"display:none;\">\n",
              "        \n",
              "  <svg xmlns=\"http://www.w3.org/2000/svg\" height=\"24px\"viewBox=\"0 0 24 24\"\n",
              "       width=\"24px\">\n",
              "    <path d=\"M0 0h24v24H0V0z\" fill=\"none\"/>\n",
              "    <path d=\"M18.56 5.44l.94 2.06.94-2.06 2.06-.94-2.06-.94-.94-2.06-.94 2.06-2.06.94zm-11 1L8.5 8.5l.94-2.06 2.06-.94-2.06-.94L8.5 2.5l-.94 2.06-2.06.94zm10 10l.94 2.06.94-2.06 2.06-.94-2.06-.94-.94-2.06-.94 2.06-2.06.94z\"/><path d=\"M17.41 7.96l-1.37-1.37c-.4-.4-.92-.59-1.43-.59-.52 0-1.04.2-1.43.59L10.3 9.45l-7.72 7.72c-.78.78-.78 2.05 0 2.83L4 21.41c.39.39.9.59 1.41.59.51 0 1.02-.2 1.41-.59l7.78-7.78 2.81-2.81c.8-.78.8-2.07 0-2.86zM5.41 20L4 18.59l7.72-7.72 1.47 1.35L5.41 20z\"/>\n",
              "  </svg>\n",
              "      </button>\n",
              "      \n",
              "  <style>\n",
              "    .colab-df-container {\n",
              "      display:flex;\n",
              "      flex-wrap:wrap;\n",
              "      gap: 12px;\n",
              "    }\n",
              "\n",
              "    .colab-df-convert {\n",
              "      background-color: #E8F0FE;\n",
              "      border: none;\n",
              "      border-radius: 50%;\n",
              "      cursor: pointer;\n",
              "      display: none;\n",
              "      fill: #1967D2;\n",
              "      height: 32px;\n",
              "      padding: 0 0 0 0;\n",
              "      width: 32px;\n",
              "    }\n",
              "\n",
              "    .colab-df-convert:hover {\n",
              "      background-color: #E2EBFA;\n",
              "      box-shadow: 0px 1px 2px rgba(60, 64, 67, 0.3), 0px 1px 3px 1px rgba(60, 64, 67, 0.15);\n",
              "      fill: #174EA6;\n",
              "    }\n",
              "\n",
              "    [theme=dark] .colab-df-convert {\n",
              "      background-color: #3B4455;\n",
              "      fill: #D2E3FC;\n",
              "    }\n",
              "\n",
              "    [theme=dark] .colab-df-convert:hover {\n",
              "      background-color: #434B5C;\n",
              "      box-shadow: 0px 1px 3px 1px rgba(0, 0, 0, 0.15);\n",
              "      filter: drop-shadow(0px 1px 2px rgba(0, 0, 0, 0.3));\n",
              "      fill: #FFFFFF;\n",
              "    }\n",
              "  </style>\n",
              "\n",
              "      <script>\n",
              "        const buttonEl =\n",
              "          document.querySelector('#df-7e541ff0-2e05-424e-9439-502ea545d05f button.colab-df-convert');\n",
              "        buttonEl.style.display =\n",
              "          google.colab.kernel.accessAllowed ? 'block' : 'none';\n",
              "\n",
              "        async function convertToInteractive(key) {\n",
              "          const element = document.querySelector('#df-7e541ff0-2e05-424e-9439-502ea545d05f');\n",
              "          const dataTable =\n",
              "            await google.colab.kernel.invokeFunction('convertToInteractive',\n",
              "                                                     [key], {});\n",
              "          if (!dataTable) return;\n",
              "\n",
              "          const docLinkHtml = 'Like what you see? Visit the ' +\n",
              "            '<a target=\"_blank\" href=https://colab.research.google.com/notebooks/data_table.ipynb>data table notebook</a>'\n",
              "            + ' to learn more about interactive tables.';\n",
              "          element.innerHTML = '';\n",
              "          dataTable['output_type'] = 'display_data';\n",
              "          await google.colab.output.renderOutput(dataTable, element);\n",
              "          const docLink = document.createElement('div');\n",
              "          docLink.innerHTML = docLinkHtml;\n",
              "          element.appendChild(docLink);\n",
              "        }\n",
              "      </script>\n",
              "    </div>\n",
              "  </div>\n",
              "  "
            ]
          },
          "metadata": {},
          "execution_count": 32
        }
      ]
    },
    {
      "cell_type": "code",
      "source": [
        "direct_out_fig='drive/MyDrive/data_sphere/'\n",
        "fig = plt.figure(figsize=(11,4))\n",
        "bins=np.arange(0.6,4.2,0.05)\n",
        "bins_mass=np.arange(df_pred['pred'].min(),df_pred['pred'].max(),0.2)\n",
        "for i in range(3):\n",
        "    plt.hist(df_pred['pred'][df_pred['m_name']==m_name[i]],bins=bins_mass,label='test prediction '+m_name[i],color=color3[i],alpha=0.7)\n",
        "\n",
        "m_pNFe=[ln_m[0],ln_m[2],ln_m[4]]\n",
        "plt.vlines(m_pNFe,0,350, linewidth=3,color='black')\n",
        "\n",
        "plt.legend(loc='center left',bbox_to_anchor=(1,0.5))\n",
        "plt.ylabel('count of events')\n",
        "plt.xlabel('ln(A)')\n",
        "\n",
        "# plt.savefig(direct_out_fig+'separation_pNFe.png',bbox_inches='tight')"
      ],
      "metadata": {
        "colab": {
          "base_uri": "https://localhost:8080/",
          "height": 400
        },
        "id": "fdP-WJ4MgHxU",
        "outputId": "6fa22973-e4e7-4437-a389-c86317b94918"
      },
      "execution_count": 33,
      "outputs": [
        {
          "output_type": "display_data",
          "data": {
            "text/plain": [
              "<Figure size 1100x400 with 1 Axes>"
            ],
            "image/png": "[encoded data removed]"
          },
          "metadata": {}
        }
      ]
    },
    {
      "cell_type": "markdown",
      "source": [
        "## Поиск ошибки разделения событий"
      ],
      "metadata": {
        "id": "bAOaoL0oYwGb"
      }
    },
    {
      "cell_type": "code",
      "source": [
        "p1=df_pred['pred'][df_pred['m_name']=='p']\n",
        "N1=df_pred['pred'][df_pred['m_name']=='N']\n",
        "Fe1=df_pred['pred'][df_pred['m_name']=='Fe']\n",
        "df=np.array([np.array(p1), np.array(N1),np.array(Fe1)])"
      ],
      "metadata": {
        "colab": {
          "base_uri": "https://localhost:8080/"
        },
        "id": "NrVjojwJgHum",
        "outputId": "191c7dc3-6f26-4614-9481-bdb31f87a8fb"
      },
      "execution_count": 25,
      "outputs": [
        {
          "output_type": "execute_result",
          "data": {
            "text/plain": [
              "(3,)"
            ]
          },
          "metadata": {},
          "execution_count": 25
        }
      ]
    },
    {
      "cell_type": "code",
      "source": [
        "N=50\n",
        "pn_max_mi,nf_max_mi=100000,100000\n",
        "\n",
        "cri=df\n",
        "#-------------------------------p-N-----------------------------------------------\n",
        "bpn_min=cri[0].mean()\n",
        "bpn_max=cri[1].mean()\n",
        "Nn=(bpn_max-bpn_min)/N\n",
        "\n",
        "for bpn in np.arange(bpn_min,bpn_max,Nn):\n",
        "    pn_p=np.count_nonzero(cri[0]>bpn)/float(len(df[0]))\n",
        "    pn_n=np.count_nonzero(cri[1]<bpn)/float(len(df[1]))\n",
        "\n",
        "    pn_max=max(pn_p,pn_n)\n",
        "\n",
        "    if pn_max<pn_max_mi:\n",
        "        pn_max_mi=pn_max\n",
        "        pn_border_max=bpn\n",
        "        er_pn_max=[round(pn_p,2),round(pn_n,2)]\n",
        "        cr=cri\n",
        "#--------------------------------N-Fe-----------------------------------------\n",
        "\n",
        "bnf_min=cri[1].mean()\n",
        "bnf_max=cri[2].mean()\n",
        "Nf=(bnf_max-bnf_min)/N\n",
        "\n",
        "for bnf in np.arange(bnf_min,bnf_max,Nf):      #Сразу считаю ошибки.\n",
        "    nf_n=np.count_nonzero(cri[1]>bnf)/float(len(df[1]))\n",
        "    nf_f=np.count_nonzero(cri[2]<bnf)/float(len(df[2]))\n",
        "\n",
        "    nf_max=max(nf_n,nf_f)\n",
        "    if nf_max<nf_max_mi:\n",
        "        nf_max_mi=nf_max\n",
        "        nf_border_max=bnf\n",
        "        er_nf_max=[round(nf_n,2),round(nf_f,2)]\n",
        "\n",
        "            #-----------------------------\n",
        "print('Ошибка разделения событий протон-азот = ', round(pn_max_mi,2))\n",
        "print('Ошибка разделения событий азот-железо = ', round(nf_max_mi,2))"
      ],
      "metadata": {
        "colab": {
          "base_uri": "https://localhost:8080/"
        },
        "id": "lqt-m7skgHsB",
        "outputId": "535490c5-6918-4466-fd7f-8159641ee08b"
      },
      "execution_count": 31,
      "outputs": [
        {
          "output_type": "stream",
          "name": "stdout",
          "text": [
            "Ошибка разделения событий протон-азот =  0.15\n",
            "Ошибка разделения событий азот-железо =  0.17\n"
          ]
        }
      ]
    },
    {
      "cell_type": "markdown",
      "source": [
        "Ошибка разделения событий протон-азот =  0.15\n",
        "\n",
        "Ошибка разделения событий азот-железо =  0.17"
      ],
      "metadata": {
        "id": "TWQdabVJaCgB"
      }
    },
    {
      "cell_type": "markdown",
      "source": [
        "# Для загруженной модели"
      ],
      "metadata": {
        "id": "6UkNeeuSnJPj"
      }
    },
    {
      "cell_type": "code",
      "source": [
        "direct_out_model='drive/MyDrive/data_sphere/'\n",
        "model_load=Net().to(device)\n",
        "model_load.load_state_dict(torch.load(direct_out_model+'model_weights_5_q1q2.pth'))\n",
        "model_load.eval()"
      ],
      "metadata": {
        "id": "kWFfOFQbnxJ_",
        "colab": {
          "base_uri": "https://localhost:8080/"
        },
        "outputId": "9418b3e4-835e-496c-8c6a-12970c8c2b83"
      },
      "execution_count": 35,
      "outputs": [
        {
          "output_type": "execute_result",
          "data": {
            "text/plain": [
              "Net(\n",
              "  (conv1): Conv3d(1, 32, kernel_size=(2, 1, 1), stride=(4, 1, 1))\n",
              "  (conv2): Conv3d(32, 16, kernel_size=(2, 1, 1), stride=(4, 1, 1))\n",
              "  (conv3): Conv3d(16, 8, kernel_size=(3, 1, 1), stride=(1, 1, 1))\n",
              "  (fc1): Linear(in_features=1210, out_features=484, bias=True)\n",
              "  (fc2): Linear(in_features=484, out_features=1, bias=True)\n",
              ")"
            ]
          },
          "metadata": {},
          "execution_count": 35
        }
      ]
    },
    {
      "cell_type": "code",
      "source": [
        "# again no gradients needed\n",
        "with torch.no_grad():\n",
        "    pred_save=[]\n",
        "    out=[]\n",
        "    for data in test_dataloader:\n",
        "        video,images, labels = data\n",
        "        video,images, labels=video.to(device),images.to(device), labels.to(device)\n",
        "        batch_size_prov=len(labels)\n",
        "        outputs = model_load(video,images,batch_size_prov)\n",
        "        np_batch_out=torch.flatten(outputs).tolist()\n",
        "        out.extend(np_batch_out)\n",
        "\n",
        "out=np.array(out)\n",
        "print(out.shape,y_test.shape)\n",
        "\n",
        "color3=['blue','orange','red','purple','green']\n",
        "m_name=['p','He','N','S','Fe']\n",
        "\n",
        "df_pred=pd.DataFrame({'pred':out,'y':y_test.reshape(-1)})\n",
        "\n",
        "df_pred['m_name']=df_y['m_name']\n",
        "\n",
        "df_pred"
      ],
      "metadata": {
        "colab": {
          "base_uri": "https://localhost:8080/",
          "height": 441
        },
        "id": "uF1Y_yUfnJAN",
        "outputId": "411e9f06-eb53-4ae0-f344-1828908386a2"
      },
      "execution_count": 36,
      "outputs": [
        {
          "output_type": "stream",
          "name": "stdout",
          "text": [
            "(14932,) (14932, 1)\n"
          ]
        },
        {
          "output_type": "execute_result",
          "data": {
            "text/plain": [
              "           pred         y m_name\n",
              "0      1.777473  2.639557      N\n",
              "1      1.946728  0.001000      p\n",
              "2      1.963326  1.386944     He\n",
              "3      3.365410  4.022580     Fe\n",
              "4      1.717453  0.001000      p\n",
              "...         ...       ...    ...\n",
              "14927  3.147259  3.467734      S\n",
              "14928  1.534293  0.001000      p\n",
              "14929  3.089865  3.467734      S\n",
              "14930  2.474803  3.467734      S\n",
              "14931  1.513148  0.001000      p\n",
              "\n",
              "[14932 rows x 3 columns]"
            ],
            "text/html": [
              "\n",
              "  <div id=\"df-9aac1fed-7a3d-42ae-a5d7-73668b69be17\">\n",
              "    <div class=\"colab-df-container\">\n",
              "      <div>\n",
              "<style scoped>\n",
              "    .dataframe tbody tr th:only-of-type {\n",
              "        vertical-align: middle;\n",
              "    }\n",
              "\n",
              "    .dataframe tbody tr th {\n",
              "        vertical-align: top;\n",
              "    }\n",
              "\n",
              "    .dataframe thead th {\n",
              "        text-align: right;\n",
              "    }\n",
              "</style>\n",
              "<table border=\"1\" class=\"dataframe\">\n",
              "  <thead>\n",
              "    <tr style=\"text-align: right;\">\n",
              "      <th></th>\n",
              "      <th>pred</th>\n",
              "      <th>y</th>\n",
              "      <th>m_name</th>\n",
              "    </tr>\n",
              "  </thead>\n",
              "  <tbody>\n",
              "    <tr>\n",
              "      <th>0</th>\n",
              "      <td>1.777473</td>\n",
              "      <td>2.639557</td>\n",
              "      <td>N</td>\n",
              "    </tr>\n",
              "    <tr>\n",
              "      <th>1</th>\n",
              "      <td>1.946728</td>\n",
              "      <td>0.001000</td>\n",
              "      <td>p</td>\n",
              "    </tr>\n",
              "    <tr>\n",
              "      <th>2</th>\n",
              "      <td>1.963326</td>\n",
              "      <td>1.386944</td>\n",
              "      <td>He</td>\n",
              "    </tr>\n",
              "    <tr>\n",
              "      <th>3</th>\n",
              "      <td>3.365410</td>\n",
              "      <td>4.022580</td>\n",
              "      <td>Fe</td>\n",
              "    </tr>\n",
              "    <tr>\n",
              "      <th>4</th>\n",
              "      <td>1.717453</td>\n",
              "      <td>0.001000</td>\n",
              "      <td>p</td>\n",
              "    </tr>\n",
              "    <tr>\n",
              "      <th>...</th>\n",
              "      <td>...</td>\n",
              "      <td>...</td>\n",
              "      <td>...</td>\n",
              "    </tr>\n",
              "    <tr>\n",
              "      <th>14927</th>\n",
              "      <td>3.147259</td>\n",
              "      <td>3.467734</td>\n",
              "      <td>S</td>\n",
              "    </tr>\n",
              "    <tr>\n",
              "      <th>14928</th>\n",
              "      <td>1.534293</td>\n",
              "      <td>0.001000</td>\n",
              "      <td>p</td>\n",
              "    </tr>\n",
              "    <tr>\n",
              "      <th>14929</th>\n",
              "      <td>3.089865</td>\n",
              "      <td>3.467734</td>\n",
              "      <td>S</td>\n",
              "    </tr>\n",
              "    <tr>\n",
              "      <th>14930</th>\n",
              "      <td>2.474803</td>\n",
              "      <td>3.467734</td>\n",
              "      <td>S</td>\n",
              "    </tr>\n",
              "    <tr>\n",
              "      <th>14931</th>\n",
              "      <td>1.513148</td>\n",
              "      <td>0.001000</td>\n",
              "      <td>p</td>\n",
              "    </tr>\n",
              "  </tbody>\n",
              "</table>\n",
              "<p>14932 rows × 3 columns</p>\n",
              "</div>\n",
              "      <button class=\"colab-df-convert\" onclick=\"convertToInteractive('df-9aac1fed-7a3d-42ae-a5d7-73668b69be17')\"\n",
              "              title=\"Convert this dataframe to an interactive table.\"\n",
              "              style=\"display:none;\">\n",
              "        \n",
              "  <svg xmlns=\"http://www.w3.org/2000/svg\" height=\"24px\"viewBox=\"0 0 24 24\"\n",
              "       width=\"24px\">\n",
              "    <path d=\"M0 0h24v24H0V0z\" fill=\"none\"/>\n",
              "    <path d=\"M18.56 5.44l.94 2.06.94-2.06 2.06-.94-2.06-.94-.94-2.06-.94 2.06-2.06.94zm-11 1L8.5 8.5l.94-2.06 2.06-.94-2.06-.94L8.5 2.5l-.94 2.06-2.06.94zm10 10l.94 2.06.94-2.06 2.06-.94-2.06-.94-.94-2.06-.94 2.06-2.06.94z\"/><path d=\"M17.41 7.96l-1.37-1.37c-.4-.4-.92-.59-1.43-.59-.52 0-1.04.2-1.43.59L10.3 9.45l-7.72 7.72c-.78.78-.78 2.05 0 2.83L4 21.41c.39.39.9.59 1.41.59.51 0 1.02-.2 1.41-.59l7.78-7.78 2.81-2.81c.8-.78.8-2.07 0-2.86zM5.41 20L4 18.59l7.72-7.72 1.47 1.35L5.41 20z\"/>\n",
              "  </svg>\n",
              "      </button>\n",
              "      \n",
              "  <style>\n",
              "    .colab-df-container {\n",
              "      display:flex;\n",
              "      flex-wrap:wrap;\n",
              "      gap: 12px;\n",
              "    }\n",
              "\n",
              "    .colab-df-convert {\n",
              "      background-color: #E8F0FE;\n",
              "      border: none;\n",
              "      border-radius: 50%;\n",
              "      cursor: pointer;\n",
              "      display: none;\n",
              "      fill: #1967D2;\n",
              "      height: 32px;\n",
              "      padding: 0 0 0 0;\n",
              "      width: 32px;\n",
              "    }\n",
              "\n",
              "    .colab-df-convert:hover {\n",
              "      background-color: #E2EBFA;\n",
              "      box-shadow: 0px 1px 2px rgba(60, 64, 67, 0.3), 0px 1px 3px 1px rgba(60, 64, 67, 0.15);\n",
              "      fill: #174EA6;\n",
              "    }\n",
              "\n",
              "    [theme=dark] .colab-df-convert {\n",
              "      background-color: #3B4455;\n",
              "      fill: #D2E3FC;\n",
              "    }\n",
              "\n",
              "    [theme=dark] .colab-df-convert:hover {\n",
              "      background-color: #434B5C;\n",
              "      box-shadow: 0px 1px 3px 1px rgba(0, 0, 0, 0.15);\n",
              "      filter: drop-shadow(0px 1px 2px rgba(0, 0, 0, 0.3));\n",
              "      fill: #FFFFFF;\n",
              "    }\n",
              "  </style>\n",
              "\n",
              "      <script>\n",
              "        const buttonEl =\n",
              "          document.querySelector('#df-9aac1fed-7a3d-42ae-a5d7-73668b69be17 button.colab-df-convert');\n",
              "        buttonEl.style.display =\n",
              "          google.colab.kernel.accessAllowed ? 'block' : 'none';\n",
              "\n",
              "        async function convertToInteractive(key) {\n",
              "          const element = document.querySelector('#df-9aac1fed-7a3d-42ae-a5d7-73668b69be17');\n",
              "          const dataTable =\n",
              "            await google.colab.kernel.invokeFunction('convertToInteractive',\n",
              "                                                     [key], {});\n",
              "          if (!dataTable) return;\n",
              "\n",
              "          const docLinkHtml = 'Like what you see? Visit the ' +\n",
              "            '<a target=\"_blank\" href=https://colab.research.google.com/notebooks/data_table.ipynb>data table notebook</a>'\n",
              "            + ' to learn more about interactive tables.';\n",
              "          element.innerHTML = '';\n",
              "          dataTable['output_type'] = 'display_data';\n",
              "          await google.colab.output.renderOutput(dataTable, element);\n",
              "          const docLink = document.createElement('div');\n",
              "          docLink.innerHTML = docLinkHtml;\n",
              "          element.appendChild(docLink);\n",
              "        }\n",
              "      </script>\n",
              "    </div>\n",
              "  </div>\n",
              "  "
            ]
          },
          "metadata": {},
          "execution_count": 36
        }
      ]
    },
    {
      "cell_type": "code",
      "source": [
        "fig = plt.figure(figsize=(11,4))\n",
        "bins=np.arange(0.6,4.2,0.05)\n",
        "bins_mass=np.arange(df_pred['pred'].min(),df_pred['pred'].max(),0.2)\n",
        "for i in range(5):\n",
        "    plt.hist(df_pred['pred'][df_pred['m_name']==m_name[i]],bins=bins_mass,label='test prediction '+m_name[i],color=color3[i],alpha=0.7)\n",
        "plt.vlines(df_pred['y'].unique(),0,350, linewidth=3,color='black')\n",
        "\n",
        "plt.legend(loc='center left',bbox_to_anchor=(1,0.5))\n",
        "plt.ylabel('count of events')\n",
        "plt.xlabel('ln(A)')\n",
        "\n",
        "# plt.savefig(direct_out_fig+'separation_5_type.png',bbox_inches='tight')"
      ],
      "metadata": {
        "colab": {
          "base_uri": "https://localhost:8080/",
          "height": 400
        },
        "id": "MJ22n4iJnI76",
        "outputId": "a524e90d-4458-4846-83f0-a8a4c4b4f87c"
      },
      "execution_count": 38,
      "outputs": [
        {
          "output_type": "display_data",
          "data": {
            "text/plain": [
              "<Figure size 1100x400 with 1 Axes>"
            ],
            "image/png": "[encoded data removed]"
          },
          "metadata": {}
        }
      ]
    },
    {
      "cell_type": "code",
      "source": [
        "# Сохранение выхода нейронной сети\n",
        "df_pred.to_csv(direct_out_model+'predicctions_NN_lnA.csv')"
      ],
      "metadata": {
        "id": "HZzDeFAcYvRp"
      },
      "execution_count": null,
      "outputs": []
    },
    {
      "cell_type": "markdown",
      "source": [
        "## Поиск ошибки разделения событий"
      ],
      "metadata": {
        "id": "1Jzus_3taqZS"
      }
    },
    {
      "cell_type": "code",
      "source": [
        "p1=df_pred['pred'][df_pred['m_name']=='p']\n",
        "N1=df_pred['pred'][df_pred['m_name']=='N']\n",
        "Fe1=df_pred['pred'][df_pred['m_name']=='Fe']\n",
        "df=np.array([np.array(p1), np.array(N1),np.array(Fe1)])\n",
        "df.shape"
      ],
      "metadata": {
        "colab": {
          "base_uri": "https://localhost:8080/"
        },
        "id": "AvysuM-sna68",
        "outputId": "ec97d3c6-8884-49d4-aca5-9314f4a9c182"
      },
      "execution_count": 39,
      "outputs": [
        {
          "output_type": "execute_result",
          "data": {
            "text/plain": [
              "(3,)"
            ]
          },
          "metadata": {},
          "execution_count": 39
        }
      ]
    },
    {
      "cell_type": "code",
      "source": [
        "N=50\n",
        "pn_max_mi,nf_max_mi=100000,100000\n",
        "\n",
        "cri=df\n",
        "#-------------------------------p-N-----------------------------------------------\n",
        "bpn_min=cri[0].mean()\n",
        "bpn_max=cri[1].mean()\n",
        "Nn=(bpn_max-bpn_min)/N\n",
        "\n",
        "for bpn in np.arange(bpn_min,bpn_max,Nn):\n",
        "    pn_p=np.count_nonzero(cri[0]>bpn)/float(len(df[0]))\n",
        "    pn_n=np.count_nonzero(cri[1]<bpn)/float(len(df[1]))\n",
        "\n",
        "    pn_max=max(pn_p,pn_n)\n",
        "\n",
        "    if pn_max<pn_max_mi:\n",
        "        pn_max_mi=pn_max\n",
        "        pn_border_max=bpn\n",
        "        er_pn_max=[round(pn_p,2),round(pn_n,2)]\n",
        "        cr=cri\n",
        "#--------------------------------N-Fe-----------------------------------------\n",
        "\n",
        "bnf_min=cri[1].mean()\n",
        "bnf_max=cri[2].mean()\n",
        "Nf=(bnf_max-bnf_min)/N\n",
        "\n",
        "for bnf in np.arange(bnf_min,bnf_max,Nf):      #Сразу считаю ошибки.\n",
        "    nf_n=np.count_nonzero(cri[1]>bnf)/float(len(df[1]))\n",
        "    nf_f=np.count_nonzero(cri[2]<bnf)/float(len(df[2]))\n",
        "\n",
        "    nf_max=max(nf_n,nf_f)\n",
        "\n",
        "    if nf_max<nf_max_mi:\n",
        "        nf_max_mi=nf_max\n",
        "        nf_border_max=bnf\n",
        "        er_nf_max=[round(nf_n,2),round(nf_f,2)]\n",
        "\n",
        "            #-----------------------------\n",
        "print('Ошибка разделения событий протон-азот = ', round(pn_max_mi,2))\n",
        "print('Ошибка разделения событий азот-железо = ', round(nf_max_mi,2))"
      ],
      "metadata": {
        "colab": {
          "base_uri": "https://localhost:8080/"
        },
        "id": "nY7gEVNynI47",
        "outputId": "49473a48-d9ed-425f-ea5b-e0a28263c374"
      },
      "execution_count": 41,
      "outputs": [
        {
          "output_type": "stream",
          "name": "stdout",
          "text": [
            "Ошибка разделения событий протон-азот =  0.15\n",
            "Ошибка разделения событий азот-железо =  0.17\n"
          ]
        }
      ]
    },
    {
      "cell_type": "code",
      "source": [],
      "metadata": {
        "id": "wcXgjj_xnOdK"
      },
      "execution_count": null,
      "outputs": []
    }
  ]
}