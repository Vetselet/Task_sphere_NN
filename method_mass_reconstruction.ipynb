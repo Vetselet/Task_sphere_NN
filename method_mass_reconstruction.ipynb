{
 "cells": [
  {
   "cell_type": "markdown",
   "metadata": {
    "ExecuteTime": {
     "end_time": "2022-11-28T14:35:10.873046Z",
     "start_time": "2022-11-28T14:35:10.866065Z"
    }
   },
   "source": [
    "# Библиотеки"
   ]
  },
  {
   "cell_type": "code",
   "execution_count": 1,
   "metadata": {
    "ExecuteTime": {
     "end_time": "2023-07-19T08:38:19.427661Z",
     "start_time": "2023-07-19T08:38:18.543235Z"
    },
    "cell_style": "center"
   },
   "outputs": [
    {
     "data": {
      "text/plain": [
       "0  0       1.969070\n",
       "   1       2.153930\n",
       "   2       1.613667\n",
       "   3       1.101869\n",
       "   4       1.008112\n",
       "             ...   \n",
       "4  2574    3.975918\n",
       "   2575    2.940794\n",
       "   2576    3.112251\n",
       "   2577    4.095870\n",
       "   2578    2.372703\n",
       "Name: pred, Length: 14932, dtype: float64"
      ]
     },
     "execution_count": 1,
     "metadata": {},
     "output_type": "execute_result"
    }
   ],
   "source": [
    "import matplotlib.pyplot as plt\n",
    "from math import *\n",
    "import numpy as np\n",
    "import pandas as pd\n",
    "import csv\n",
    "from scipy.integrate import quad\n",
    "import plotly.express as px\n",
    "import plotly.graph_objects as go\n",
    "from pathlib import Path\n",
    "from numpy import linalg as LA\n",
    "from iminuit import Minuit\n",
    "from scipy.stats import beta\n",
    "from scipy import interpolate\n",
    "import matplotlib as mpl\n",
    "from scipy.optimize import leastsq, curve_fit\n",
    "from sklearn.linear_model import LinearRegression\n",
    "from matplotlib.ticker import (MultipleLocator, AutoMinorLocator)\n",
    "\n",
    "import warnings\n",
    "warnings.filterwarnings('ignore')\n",
    "\n",
    "plt.rcParams['ytick.direction'] = 'in'\n",
    "plt.rcParams['xtick.direction'] = 'in' \n",
    "\n",
    "plt.rcParams['xtick.major.size']=10\n",
    "plt.rcParams['xtick.minor.size'] = 5\n",
    "plt.rcParams['xtick.major.width'] = 2\n",
    "plt.rcParams['xtick.minor.width'] = 1\n",
    "# plt.rcParams['xtick.minor.visible'] = 'True'\n",
    "\n",
    "plt.rcParams['ytick.major.size'] = 10\n",
    "plt.rcParams['ytick.minor.size'] = 5\n",
    "plt.rcParams['ytick.major.width'] = 2\n",
    "plt.rcParams['ytick.minor.width'] = 1\n",
    "\n",
    "plt.rcParams.update({'font.size':20})\n",
    "plt.rc('xtick', labelsize=20)\n",
    "plt.rc('ytick', labelsize=20)\n",
    "\n",
    "file_predictions=Path.cwd()/'predictions_NN_lnA_norm.csv'\n",
    "\n",
    "rhomax=170\n",
    "p0max=2000\n",
    "chi2max=10000\n",
    "\n",
    "color5=['blue','orange','green','cyan','gray']\n",
    "m_name=['p','He','N','S','Fe']\n",
    "\n",
    "df_pred=((((pd.read_csv(file_predictions,header=0,sep=',')).dropna()).iloc[:,1:]))\n",
    "p=df_pred['pred'][df_pred['m_name']==m_name[0]]\n",
    "p.index=np.arange(len(p))\n",
    "He=df_pred['pred'][df_pred['m_name']==m_name[1]]\n",
    "He.index=np.arange(len(He))\n",
    "N=df_pred['pred'][df_pred['m_name']==m_name[2]]\n",
    "N.index=np.arange(len(N))\n",
    "S=df_pred['pred'][df_pred['m_name']==m_name[3]]\n",
    "S.index=np.arange(len(S))\n",
    "Fe=df_pred['pred'][df_pred['m_name']==m_name[4]]\n",
    "Fe.index=np.arange(len(Fe))\n",
    "\n",
    "#=============================================================================\n",
    "df_together=pd.concat([p,He,N,S,Fe],keys=[0,1,2,3,4])\n",
    "df_together"
   ]
  },
  {
   "cell_type": "markdown",
   "metadata": {},
   "source": [
    "# Определение масс p, N, Fe"
   ]
  },
  {
   "cell_type": "code",
   "execution_count": 2,
   "metadata": {
    "ExecuteTime": {
     "end_time": "2023-07-19T08:38:21.242904Z",
     "start_time": "2023-07-19T08:38:21.224950Z"
    }
   },
   "outputs": [],
   "source": [
    "mp=1.001\n",
    "mHe=4.0026\n",
    "mC=12\n",
    "mN=14.007\n",
    "mS=32.064\n",
    "mCa=40.08\n",
    "mFe=55.845\n",
    "\n",
    "mass_toFe=[1.0078,4.0026,6.941,9.01218,10.81,12.011,14.0067,15.999,18.9984, \\\n",
    "           20.179,22.989,24.305,26.98,27.98,30.97376,32.06,35.453,39.948,39.0983,40.08, \\\n",
    "           44.956,47.9,50.942,51.99,54.938,55.847]\n",
    "mass_name=['p','He','Li','Be','B','C','N','O','F','Ne','Na','Mg','Al','Si','P','S', \\\n",
    "           'Cl','Ar','K','Ca','Sc','Ti','V','Cr','Mn','Fe']"
   ]
  },
  {
   "cell_type": "code",
   "execution_count": 3,
   "metadata": {
    "ExecuteTime": {
     "end_time": "2023-07-19T08:38:21.745569Z",
     "start_time": "2023-07-19T08:38:21.719639Z"
    }
   },
   "outputs": [
    {
     "name": "stdout",
     "output_type": "stream",
     "text": [
      "5\n"
     ]
    }
   ],
   "source": [
    "r=df_together\n",
    "N_samples=5  \n",
    "print(N_samples)\n",
    "\n",
    "if N_samples==5:\n",
    "    m=np.array([mp,mHe,mN,mS,mFe])\n",
    "    ln_m=np.log(m+1)\n",
    "    m_name=['p','He','N','S','Fe']\n",
    "    color7=['blue','orange','red','purple','green']\n",
    "\n",
    "min_common,max_common=[],[]\n",
    "for i in range(N_samples):\n",
    "    min_common.append(min(r[i]))\n",
    "    max_common.append(max(r[i]))\n",
    "min_common,max_common=min(min_common),max(max_common)\n",
    "\n",
    "# Устанавливаю размер бина, в котором будут считаться кол-ва событий с определенным \n",
    "# нормализованным радиусом от 0 до 1\n",
    "glob_step_bins = 0.04"
   ]
  },
  {
   "cell_type": "markdown",
   "metadata": {},
   "source": [
    "# Функции"
   ]
  },
  {
   "cell_type": "code",
   "execution_count": 4,
   "metadata": {
    "ExecuteTime": {
     "end_time": "2023-07-19T08:38:22.790023Z",
     "start_time": "2023-07-19T08:38:22.743149Z"
    },
    "code_folding": [
     53,
     67,
     69,
     77,
     88,
     96,
     99,
     102,
     110,
     113,
     116,
     125
    ]
   },
   "outputs": [],
   "source": [
    "# Гистограмма для рисования по трем ядрам\n",
    "def hist_3(r,add_name,xlabel='ln(A)',one=True,norm=True,step_bins=glob_step_bins,save=False):\n",
    "    if norm==True: bins=np.arange(0,1,step_bins)\n",
    "    else: bins=np.arange(min_common,max_common,step_bins)\n",
    "    if one==True:\n",
    "        fig=plt.figure(figsize=(8,4))   \n",
    "        for i in range(N_samples):\n",
    "            plt.hist(r[i],bins,alpha=0.6,label=m_name[i],color=color7[i])\n",
    "        plt.ylabel('count in bin '+str(step_bins))\n",
    "        plt.xlabel(xlabel)\n",
    "        plt.legend()\n",
    "        if save==True: plt.savefig('distribution_R'+add_name+'.png',bbox_inches='tight')\n",
    "    else:\n",
    "        fig,ax=plt.subplots(nrows=len(r),figsize=(10,3*len(r)))   \n",
    "        for i in range(N_samples):\n",
    "            ax[i].hist(r[i],bins,alpha=0.6,label=m_name[i],color=color7[i])\n",
    "            ax[i].legend(loc='centre left',bbox_to_anchor=(1,1))\n",
    "            ax[i].xaxis.set_minor_locator(AutoMinorLocator())\n",
    "            ax[i].tick_params(which = 'major',    #  Применяем параметры к основным делениям\n",
    "               length = 10,    #  Длинна делений\n",
    "               width = 3,     #  Ширина делений\n",
    "               color = 'black',    #  Цвет делений\n",
    "               pad = 5,    #  Расстояние между черточкой и ее подписью\n",
    "               labelsize = 18,    #  Размер подписи\n",
    "               bottom = True,    #  Рисуем метки снизу\n",
    "               left = True,    #  слева\n",
    "               direction='in'\n",
    "               )    #  Поворот подписей\n",
    "            ax[i].tick_params(which = 'minor',    #  Применяем параметры к основным делениям\n",
    "               length = 5,    #  Длинна делений\n",
    "               width = 3,     #  Ширина делений\n",
    "               color = 'black',    #  Цвет делений\n",
    "               pad = 5,    #  Расстояние между черточкой и ее подписью\n",
    "               labelsize = 18,    #  Размер подписи\n",
    "               bottom = True,    #  Рисуем метки снизу\n",
    "               left = True,    #  слева\n",
    "               direction='in'\n",
    "               )    #  Поворот подписей         \n",
    "        plt.ylabel('count in bin'+str(step_bins))\n",
    "        plt.xlabel(xlabel)\n",
    "        plt.legend(loc='centre left',bbox_to_anchor=(1,1))\n",
    "        if save==True: plt.savefig('distribution_R'+add_name+'.png',bbox_inches='tight')\n",
    "\n",
    "# Бета-распределение\n",
    "def beta_dist(x,a,b):\n",
    "    return (x**(a-1)*(1-x)**(b-1))\n",
    "def integral_beta(x,a,b):\n",
    "    return quad(beta_dist, min(x), max(x), args=(a,b))[0]\n",
    "def beta_pdf(x,a,b):\n",
    "    return beta_dist(x,a,b)/integral_beta(x,a,b)\n",
    "\n",
    "# Находим y - значения кол-ва радиусов в бине для каждого ядра, а затем делим на суммарное число событий\n",
    "# и получаем плонтость распределения на отрезке от 0 до 1\n",
    "def find_y_core(rn,x,step_bins=glob_step_bins):\n",
    "    xn=x-step_bins/2  # Начинаем с min(x) \n",
    "    y=np.zeros((N_samples,len(xn)))\n",
    "#     print(y.shape)\n",
    "    for part in range(N_samples):     \n",
    "        for i in range(len(xn)):\n",
    "            if i==len(xn)-1:   \n",
    "                y[part][i]=np.sum((rn[part]>xn[i]))\n",
    "            else:  \n",
    "                y[part][i]=np.sum((rn[part]<xn[i+1])&(rn[part]>xn[i]))\n",
    "        func_interp=interpolate.interp1d(x,y[part])\n",
    "        Ip=quad(func_interp,min(x),max(x))[0]\n",
    "        y[part]/= Ip \n",
    "    return y  # Плотность распределения на х = (0,1)\n",
    "def find_ab_beta_for_cores(x,y):\n",
    "    a,b=[],[]\n",
    "    for i in range(N_samples):\n",
    "        opt, cor = curve_fit(beta_pdf, x, y[i], p0=(8,16),maxfev=10**5)\n",
    "        ai,bi=opt\n",
    "        a.append(ai)\n",
    "        b.append(bi)\n",
    "    return a,b   # коэффициенты аппроксимации Бета-распределения a = [for p, for N, for Fe]\n",
    "\n",
    "# Аппроксимация линейной функцией\n",
    "def appro_ab(x,y,print_error=False):\n",
    "    x = x.reshape((-1,1)) \n",
    "    model = LinearRegression()\n",
    "    model.fit(x, y)\n",
    "    p0,p1=model.intercept_, model.coef_[0]  # a+bx\n",
    "    y_pred=p0+p1*x.reshape(-1)\n",
    "    if print_error == True:   print('error', ((y_pred - y)**2).sum())\n",
    "    return p0,p1\n",
    "# Аппроксимация квадратичной функцией\n",
    "def sq(x,p0,p1,p2):\n",
    "    return p0+p1*x+p2*x**2\n",
    "def appro_c(x,y,print_error=False):\n",
    "    # Квадратичная аппроксимация\n",
    "    opt, cor = curve_fit(sq, x, y, p0=(1,1,1),maxfev=10**6)\n",
    "    p0,p1,p2=opt\n",
    "    y_pred=sq(x,p0,p1,p2)\n",
    "    if print_error == True:    print('error', ((y_pred - y)**2).sum())\n",
    "    return p0,p1,p2\n",
    "\n",
    "def c_r(p0,p1):\n",
    "    c=1/(ln_m[-1]**2)*(min_manual[-1]-p1*ln_m[-1]-p0)\n",
    "    return c\n",
    "def sq_r(x,p0,p1):\n",
    "    c=c_r(p0,p1)\n",
    "    return p0+p1*x+c*x**2\n",
    "def appro_c_r(x,y,print_error=False):\n",
    "    opt, cor = curve_fit(sq_r, x, y, p0=(1,1),maxfev=10**6)\n",
    "    p0,p1=opt\n",
    "    y_pred=sq_r(x,p0,p1)\n",
    "    if print_error == True:    print('error', ((y_pred - y)**2).sum())\n",
    "    c=c_r(p0,p1)\n",
    "    return p0,p1,c\n",
    "\n",
    "def c_rm(p0,p1):\n",
    "    c=1/(ln_m[-1]**2)*(max_manual[-1]-p1*ln_m[-1]-p0)\n",
    "    return c\n",
    "def sq_rm(x,p0,p1):\n",
    "    c=c_rm(p0,p1)\n",
    "    return p0+p1*x+c*x**2\n",
    "def appro_c_r_max(x,y,print_error=False):\n",
    "    opt, cor = curve_fit(sq_rm, x, y, p0=(1,1),maxfev=10**6)\n",
    "    p0,p1=opt\n",
    "    y_pred=sq_rm(x,p0,p1)\n",
    "    if print_error == True:    print('error', ((y_pred - y)**2).sum())\n",
    "    c=c_rm(p0,p1)\n",
    "    return p0,p1,c\n",
    "\n",
    "\n",
    "def find_manual_border(min_manual,max_manual):\n",
    "    min_per,max_per=np.zeros(N_samples),np.zeros(N_samples)\n",
    "#     print(min_per)\n",
    "    for i in range(N_samples):\n",
    "#         print(i, min_per[i])\n",
    "        min_per[i]=(min_manual[i]-min(r[i]))/(max(r[i])-min(r[i]))\n",
    "        max_per[i]=(max_manual[i]-min(r[i]))/(max(r[i])-min(r[i]))\n",
    "#         print(min_manual[i]-min(r[i]),(max(r[i])-min(r[i])),min(r[i]),max(r[i]))\n",
    "    return min_per,max_per\n",
    "# min_per,max_per=find_manual_border(min_manual,max_manual)\n",
    "\n",
    "def fcn(rtoa):\n",
    "    rtoa['A'] = rtoa['A'].astype('float')\n",
    "    df_mass=rtoa.groupby('real_A').agg({'A':['mean']})\n",
    "    # -1 потому что не учитываем вклад жедлеза\n",
    "    return sum(((df_mass['A']['mean'].to_numpy()[1:-1]-df_mass['A'].index[1:-1])/df_mass['A'].index[1:-1])**2) \n",
    "def mean_A(rtoa):\n",
    "    rtoa['A'] = rtoa['A'].astype('float')\n",
    "    rtoe=rtoa.dropna()\n",
    "    df_mass=rtoa.groupby('real_A').agg({'A':['mean']})\n",
    "    # -1 потому что не учитываем вклад жедлеза\n",
    "    return df_mass['A']['mean']\n"
   ]
  },
  {
   "cell_type": "markdown",
   "metadata": {},
   "source": [
    "# Класс"
   ]
  },
  {
   "cell_type": "code",
   "execution_count": 5,
   "metadata": {
    "ExecuteTime": {
     "end_time": "2023-07-19T08:38:23.462833Z",
     "start_time": "2023-07-19T08:38:23.391026Z"
    },
    "code_folding": [
     25,
     31,
     46,
     161,
     170,
     266,
     300
    ]
   },
   "outputs": [],
   "source": [
    "#В класс обязательно входит r, радиус с которым мы будем работать.\n",
    "# r,min_common,max_common,min_manual,max_manual,\n",
    "class find_A:\n",
    "    def __init__(self, r, add_name,chek=False,manual=False,step_bins = glob_step_bins, norm=True):\n",
    "        self.r=r\n",
    "        self.min_r=min_common\n",
    "        self.max_r=max_common\n",
    "        self.x=np.arange(0.001,0.999,step_bins) + step_bins/2\n",
    "        self.manual=manual\n",
    "        if norm==True:\n",
    "            self.rn=self.norm_individ()\n",
    "        else:\n",
    "            self.rn=self.norm_common()\n",
    "        #  Нашли y - плотность распределния наших смоделированных данных     \n",
    "        self.y=find_y_core(self.rn,self.x)\n",
    "        # Нашли аппроксимации Бета-распределения для каджого ядра\n",
    "        self.a,self.b=find_ab_beta_for_cores(self.x,self.y)\n",
    "        self.chek=chek\n",
    "        self.add_name=add_name\n",
    "        direct_out_for_graph = Path.cwd() / 'graphs'\n",
    "        direct_out_for_graph.mkdir(exist_ok=True)\n",
    "        direct_out_for_graph_mass = direct_out_for_graph / ('graph_mass'+self.add_name)\n",
    "        direct_out_for_graph_mass.mkdir(exist_ok=True)\n",
    "        self.direct_out_for_graph_mass = direct_out_for_graph_mass\n",
    "        \n",
    "    def norm_common(self):\n",
    "        rn=(self.r-self.min_r)/(self.max_r-self.min_r)\n",
    "        return rn\n",
    "    \n",
    "    # Если стоит ручной режим, то нужно будет заранее в global определить \n",
    "    # max_per и т.д.\n",
    "    def norm_individ(self):\n",
    "        r_norm=[]\n",
    "        for i in range(N_samples):\n",
    "            r_norm.append((self.r[i]-np.min(self.r[i]))/(self.r[i].max()-self.r[i].min()))\n",
    "        r_norm=np.array(r_norm)\n",
    "        \n",
    "        if self.manual == True:\n",
    "            r_norm2=[]\n",
    "            for i in range(N_samples):\n",
    "                r_norm2.append(r_norm[i][(r_norm[i]<max_per[i])&(r_norm[i]>min_per[i])])\n",
    "                r_norm2[i]=(r_norm2[i]-np.min(r_norm2[i]))/(r_norm2[i].max()-r_norm2[i].min())\n",
    "            r_norm=np.array(r_norm2)\n",
    "        \n",
    "        return r_norm\n",
    "\n",
    "    def find_Beta_param(self,A):\n",
    "        # Фитируем эти коэффициенты a,b,c , чтобы узнать какие они будут у промежуточных ядер\n",
    "\n",
    "        p0_a,p1_a,p2_a=appro_c(ln_m,self.a)\n",
    "        p0_b,p1_b,p2_b=appro_c(ln_m,self.b)\n",
    "        a_beta=sq(np.log(A+0.1),p0_a,p1_a,p2_a)\n",
    "        b_beta=sq(np.log(A+0.1),p0_b,p1_b,p2_b)\n",
    "\n",
    "        return a_beta,b_beta   # Коэффициенты Бета-распределения для заданной массы A\n",
    "    #FFFFFFFFFFFFFFFFFFFFFFFFFFFFFFFFFFFFFFFFFFFFFFFFFFFFFFFFFFFFFFFFFFFFFFFFFFFFFFFFFFFFFFFFFFFFFFFFFFFFFF\n",
    "    #FFFFFFFFFFFFFFFFFFFFFFFFFFFFFFFFFFFFFFFFFFFFFFFFFFFFFFFFFFFFFFFFFFFFFFFFFFFFFFFFFFFFFFFFFFFFFFFFFFFFFF\n",
    "    def plot_appro_Beta(self,save=False):\n",
    "        fig,(ax1,ax2)=plt.subplots(nrows=1,ncols=2,figsize=(15,4))\n",
    "        df_ab=pd.DataFrame({'ln_m':ln_m,'a':self.a,'b':self.b}).sort_values(by=['ln_m'])\n",
    "        \n",
    "        #================================ a\n",
    "#         ax1.scatter(ln_m,self.a, label='a',marker='o',s=80)\n",
    "        # plt.yscale('log')\n",
    "        ax1.set_xlabel('ln(A+0.1)')\n",
    "        ax1.set_ylabel('parameters Beta a')\n",
    "#         print(self.a,self.b)\n",
    "        a_appro,b_appro=[],[]\n",
    "        for i in range(N_samples):\n",
    "            a_beta,b_beta=self.find_Beta_param(m[i])\n",
    "            a_appro.append(a_beta)\n",
    "            b_appro.append(b_beta)\n",
    "#             print(a_beta,b_beta)\n",
    "            ax1.scatter(ln_m[i],self.a[i],marker='o',s=80,color=color7[i])\n",
    "            ax2.scatter(ln_m[i],self.b[i],marker='o',s=80,label=m_name[i],color=color7[i])\n",
    "            \n",
    "        ax1.plot(ln_m,a_appro)\n",
    "        ax2.plot(ln_m,b_appro)\n",
    "        #================================== b\n",
    "#         ax2.scatter(ln_m,self.b,marker='o',s=80)\n",
    "#         ax2.set_yscale('log')\n",
    "        ax2.set_xlabel('ln(A+0.1)')\n",
    "        ax2.set_ylabel('parameters Beta b')\n",
    "        ax2.legend(loc='center left', bbox_to_anchor=(1, 0.5))\n",
    "        if save==True: plt.savefig(self.direct_out_for_graph_mass/Path('aprro_beta_param_ab_v3'+self.add_name+'.png'),bbox_inches='tight')\n",
    "   \n",
    "    #FFFFFFFFFFFFFFFFFFFFFFFFFFFFFFFFFFFFFFFFFFFFFFFFFFFFFFFFFFFFFFFFFFFFFFFFFFFFFFFFFFFFFFFFFFFFFFFFFFFFFF\n",
    "    #FFFFFFFFFFFFFFFFFFFFFFFFFFFFFFFFFFFFFFFFFFFFFFFFFFFFFFFFFFFFFFFFFFFFFFFFFFFFFFFFFFFFFFFFFFFFFFFFFFFFFF        \n",
    "    def plot_norm(self,init=0,end=N_samples,data=False,fit=True,appro=True, save=False):\n",
    "        fig, ax = plt.subplots(figsize=(13,6))\n",
    "        plt.ylabel('count in bin 0.04')\n",
    "        plt.xlabel('normalized R')                   \n",
    "        #==========================================================================================\n",
    "        for i in range(init,end):\n",
    "            # Рисуем реальные значения гистограммы приведенной к плотности распределения\n",
    "            if data==True: \n",
    "                ax.plot(self.x,self.y[i], label='pdf '+m_name[i],color=color7[i],marker='o')\n",
    "                ax.legend(loc='centre left',bbox_to_anchor=(1,1))\n",
    "                if save==True:\n",
    "                    plt.savefig(self.direct_out_for_graph_mass/Path('data_norm_v3'+self.add_name+'.png'),bbox_inches='tight')\n",
    "            if fit==True:\n",
    "                # Рисуем фитированные по данным распределения \n",
    "                ax.plot(self.x, beta_pdf(self.x,self.a[i],self.b[i]), '-', lw=4, alpha=0.6, \\\n",
    "                        label='fit pdf'+m_name[i],color=color7[i])\n",
    "                ax.legend(loc='centre left',bbox_to_anchor=(1,1))\n",
    "                if save==True:\n",
    "                    plt.savefig(self.direct_out_for_graph_mass/Path('fit_norm_v3'+self.add_name+'.png'),bbox_inches='tight')                \n",
    "            if appro==True:\n",
    "                mass=m[i] # H\n",
    "                a_beta,b_beta=self.find_Beta_param(mass)\n",
    "                # Рисуем аппроксимированные распределения\n",
    "                ax.plot(self.x, beta_pdf(self.x,a_beta,b_beta), linestyle='--',lw=5,\\\n",
    "                        alpha=0.6, label='appro pdf '+m_name[i],color=color7[i])\n",
    "                ax.legend(loc='centre left',bbox_to_anchor=(1,1))           \n",
    "                if save==True:\n",
    "                    plt.savefig(self.direct_out_for_graph_mass/Path('appro_norm_v3'+self.add_name+'.png'),bbox_inches='tight')\n",
    "        \n",
    "        ax.legend(loc='centre left',bbox_to_anchor=(1,1))\n",
    "        plt.ylabel('pdf')\n",
    "        plt.xlabel('normalized R')\n",
    "        if save==True:\n",
    "            plt.savefig(self.direct_out_for_graph_mass/Path('total_norm_distr_v3'+self.add_name+'.png'),bbox_inches='tight')\n",
    "    \n",
    "    #FFFFFFFFFFFFFFFFFFFFFFFFFFFFFFFFFFFFFFFFFFFFFFFFFFFFFFFFFFFFFFFFFFFFFFFFFFFFFFFFFFFFFFFFFFFFFFFFFFFFFF\n",
    "    #FFFFFFFFFFFFFFFFFFFFFFFFFFFFFFFFFFFFFFFFFFFFFFFFFFFFFFFFFFFFFFFFFFFFFFFFFFFFFFFFFFFFFFFFFFFFFFFFFFFFFF  \n",
    "    # Находим зависимость от массы начала и конца распределения на известных ядрах\n",
    "    def fit_border(self,graph=False, save=False):   \n",
    "        # Зависимость начала и конца распределения от массы, точнее логарифма массы\n",
    "        min_value,max_value=[],[]\n",
    "        for i in range(N_samples):\n",
    "            min_value.append(min(r[i]))\n",
    "            max_value.append(max(r[i]))\n",
    "            \n",
    "        if self.manual==True:\n",
    "            min_manual_bord=min_manual.copy()\n",
    "            max_manual_bord=max_manual.copy()\n",
    "            min_a,min_b,min_c=appro_c_r(ln_m,min_manual)   \n",
    "            max_a,max_b,max_c=appro_c_r_max(ln_m,max_manual)            \n",
    "        else:    \n",
    "            min_a,min_b,min_c=appro_c(ln_m,min_value)\n",
    "            max_a,max_b,max_c=appro_c(ln_m,max_value)\n",
    "        \n",
    "        if graph==True:\n",
    "            fig=plt.figure()   \n",
    "            if self.manual==True:\n",
    "                for i in range(N_samples):\n",
    "                    plt.scatter(ln_m[i],min_manual[i],label=m_name[i],color=color7[i])\n",
    "                    plt.scatter(ln_m[i],max_manual[i],color=color7[i])                 \n",
    "            else:\n",
    "                for i in range(N_samples):\n",
    "                    plt.scatter(ln_m[i],min_value[i],label=m_name[i],color=color7[i])\n",
    "                    plt.scatter(ln_m[i],max_value[i],color=color7[i])        \n",
    "            plt.plot(ln_m,min_a+min_b*ln_m+min_c*ln_m**2, label='start R')\n",
    "            plt.plot(ln_m,max_a+max_b*ln_m+max_c*ln_m**2, label='end R')\n",
    "            plt.xlabel('ln(A+0.1)')\n",
    "            plt.ylabel('R')\n",
    "            plt.legend(loc='center left', bbox_to_anchor=(1, 0.5))\n",
    "            if save==True:\n",
    "                plt.savefig(self.direct_out_for_graph_mass/Path('fit_border_v3'+self.add_name+'.png'),bbox_inches='tight')\n",
    "        return min_a,min_b,min_c, max_a,max_b,max_c\n",
    "        \n",
    "    def find_r_start_end(self,A):\n",
    "#         # ИЗМЕНЕНО!!!!!!!!!!!!\n",
    "        if self.chek==True:\n",
    "            min_a,min_b,min_c, max_a,max_b,max_c=min_an[k],min_bn[k],min_cn[k], max_an[k],max_bn[k],max_cn[k]\n",
    "        else:  min_a,min_b,min_c, max_a,max_b,max_c=self.fit_border()\n",
    "#         print(min_a,min_b,min_c, max_a,max_b,max_c)                          \n",
    "        r_start=sq(np.log(A+0.1),min_a,min_b,min_c)\n",
    "        r_end=sq(np.log(A+0.1),max_a,max_b,max_c)\n",
    "        return r_start,r_end\n",
    "    def find_r_distr(self,A):\n",
    "        r_start,r_end=self.find_r_start_end(A)\n",
    "#         print(r_start,r_end)\n",
    "        r_distr=self.x*(r_end-r_start)+r_start\n",
    "        return r_distr    \n",
    "    #FFFFFFFFFFFFFFFFFFFFFFFFFFFFFFFFFFFFFFFFFFFFFFFFFFFFFFFFFFFFFFFFFFFFFFFFFFFFFFFFFFFFFFFFFFFFFFFFFFFFFF\n",
    "    #FFFFFFFFFFFFFFFFFFFFFFFFFFFFFFFFFFFFFFFFFFFFFFFFFFFFFFFFFFFFFFFFFFFFFFFFFFFFFFFFFFFFFFFFFFFFFFFFFFFFFF\n",
    "    def plot(self,appro=False,fcn=False,save=False):\n",
    "        fig, ax = plt.subplots(figsize=(8,4))\n",
    "        if self.manual==True:\n",
    "            for i in range(N_samples):\n",
    "                R_actual=self.x*(max_manual[i]-min_manual[i])+min_manual[i]             \n",
    "                ax.plot(R_actual, beta_pdf(self.x,self.a[i],self.b[i])/(max_manual[i]-min_manual[i]), \\\n",
    "                        linestyle='-',lw=4,  alpha=0.6, label='fit pdf '+m_name[i], color=color7[i])\n",
    "        else:\n",
    "            for i in range(N_samples):\n",
    "                R_actual=self.x*(max(r[i])-min(r[i]))+min(r[i])  \n",
    "#                 if i==\n",
    "#                 ax.plot(R_actual, beta_pdf(self.x,self.a[i],self.b[i])/(max(r[i])-min(r[i])), \\\n",
    "#                         linestyle='-',lw=4,  alpha=0.6, label='fit pdf '+m_name[i], color=color7[i])\n",
    "        #==========================================================================================\n",
    "        if appro==True:\n",
    "            for i in range(N_samples):\n",
    "                A=m[i]\n",
    "                r_start,r_end=self.find_r_start_end(A)\n",
    "#                 print(r_start,r_end)\n",
    "                if self.chek==True: a_beta,b_beta=find_param(A)   # ИЗМЕНЕНО!!!!\n",
    "                else:  a_beta,b_beta=self.find_Beta_param(A) \n",
    "                \n",
    "                f_interpolate=interpolate.interp1d(self.find_r_distr(A),beta_pdf(self.x,a_beta,b_beta))\n",
    "                Integral_below=quad(f_interpolate,min(self.find_r_distr(A)),max(self.find_r_distr(A)))[0]\n",
    "#                 print(Integral_below/(r_end-r_start))\n",
    "                ax.plot(self.find_r_distr(A), beta_pdf(self.x,a_beta,b_beta)/(r_end-r_start), \\\n",
    "                        linestyle='-',lw=4,  alpha=0.6, label=m_name[i],color=color7[i])\n",
    "        #==========================================================================================\n",
    "        plt.legend()\n",
    "        plt.ylim(0,None)\n",
    "        # plt.xscale('log')\n",
    "        plt.ylabel('PDF')\n",
    "        plt.xlabel('ln(A)')\n",
    "        plt.savefig('Beta_R_initial_'+self.add_name+'.png')\n",
    "        \n",
    "        if fcn==True: \n",
    "            plt.title('k = '+str(k)+', j = '+str(j)+', l = '+str(l)+', fcn = '+str(df_fcn['fcn'].loc[l+j*5+k*5*5]))\n",
    "        if save==True:\n",
    "            plt.savefig(self.direct_out_for_graph_mass/Path('R_init_'+self.add_name+'.png'),bbox_inches='tight')        \n",
    "        \n",
    "    def interpolate_distr(self):\n",
    "        some_R=pd.DataFrame()\n",
    "        f_arr=[]\n",
    "        for i in range(len(mass_toFe[:])):\n",
    "            A=mass_toFe[i]\n",
    "            if self.chek==True: a_beta,b_beta=find_param(A)   # ИЗМЕНЕНО!!!!\n",
    "            else:  a_beta,b_beta=self.find_Beta_param(A) \n",
    "            r_i1=self.find_r_distr(A)\n",
    "            beta_i1=beta_pdf(self.x,a_beta,b_beta)\n",
    "\n",
    "            f_inter=interpolate.interp1d(r_i1,beta_i1/(max(r_i1)-min(r_i1)))\n",
    "            if i==0: min_possible_r=min(r_i1)\n",
    "            if i==len(mass_toFe)-1: max_possible_r=max(r_i1) \n",
    "            f_arr.append(f_inter)\n",
    "\n",
    "        return f_arr,min_possible_r,max_possible_r    # Возвращаю масив с интерполяциями для 26 ядер\n",
    "    def from_R_to_A(self):\n",
    "        R_to_A=pd.DataFrame(index=np.arange(len(df_together)),columns=['R','A','type_part'])\n",
    "        add_toi=0\n",
    "        f_arr,min_possible_r,max_possible_r=self.interpolate_distr()\n",
    "        for j in range(N_samples):\n",
    "            print(j)\n",
    "            for i in range(len(self.r[j][:])):\n",
    "                real_i=i+add_toi\n",
    "                R_to_A['R'].loc[real_i]=self.r[j][i]\n",
    "                R_to_A['type_part'].loc[real_i]=m_name[j]\n",
    "                if R_to_A['R'].loc[real_i] >= max_possible_r: \n",
    "                    A_res=m[0]\n",
    "                elif R_to_A['R'].loc[real_i] <= min_possible_r :\n",
    "                    A_res=m[N_samples-1] \n",
    "                else:    \n",
    "                    y_df=pd.DataFrame(index=np.arange(len(mass_toFe)),columns=['A','y','mass'])\n",
    "                    y_df['A']=mass_toFe\n",
    "                    summ=0\n",
    "                    for part in range(len(mass_toFe[:])):\n",
    "                        try: \n",
    "                            summ+=1\n",
    "                            y_interp=f_arr[part](R_to_A['R'].loc[real_i])\n",
    "                            y_df['y'].loc[part]=y_interp\n",
    "                        except:\n",
    "                            y_df['y'].loc[part]=0\n",
    "                        y_df['mass'].loc[part]=mass_name[part]\n",
    "                    y_max=max(y_df['y'])\n",
    "                    A_res=float(y_df['A'][y_df['y']==y_max])\n",
    "                R_to_A['A'].loc[real_i]=A_res\n",
    "#                 if (real_i+1)%500==0: print(real_i)\n",
    "            add_toi+=len(self.r[j])   \n",
    "        return R_to_A \n",
    "    \n",
    "    def minimize(self):\n",
    "        \n",
    "        R_to_A=cl.from_R_to_A()\n",
    "        for i in range(N_samples):\n",
    "            R_to_A['real_A'][R_to_A['type_part']==m_name[i]]=m[i]\n",
    "        fcn(R_to_A)\n",
    "        \n",
    "    def mass_distribution(self):\n",
    "        x=mass_name\n",
    "        y=np.zeros((N_samples,len(mass_toFe)))\n",
    "        for j in range(N_samples):\n",
    "            for i in range(len(mass_toFe)):\n",
    "                y[j][i]=np.count_nonzero(R_to_A['A'][(R_to_A['A']==mass_toFe[i])&(R_to_A['type_part']==m_name[j])])\n",
    "\n",
    "        max_len=max(len(r[0]),len(r[1]),len(r[2])) #,len(r[3]),len(r[4]))\n",
    "        coef=np.zeros(N_samples)\n",
    "        for i in range(N_samples):\n",
    "            coef[i]=max_len/len(r[i])\n",
    "\n",
    "        x1=np.arange(1,27)\n",
    "\n",
    "        fig, ax = plt.subplots(figsize=(15,8))\n",
    "        bottom=0\n",
    "        for j in range(N_samples):\n",
    "            width=0.68\n",
    "            if j!=0: bottom+=y[j-1]*coef[j-1]\n",
    "            ax.bar(x1, y[j]*coef[j], bottom=bottom,width = width,color=color7[j],label=m_name[j],alpha=0.6)\n",
    "        ax.legend(loc='center left',bbox_to_anchor=(1,0.5))\n",
    "        ax.set_xticks(np.arange(1,len(mass_name)+1))\n",
    "        ax.set_xticklabels(mass_name, fontsize=20) #, mass_name, size='small')\n",
    "\n",
    "        plt.savefig(self.direct_out_for_graph_mass/Path('mass_distr_above_'+self.add_name+'.png'),bbox_inches='tight')\n",
    "        plt.show()\n",
    "        \n",
    "    def mass_lineal(self):\n",
    "        fig,ax=plt.subplots(figsize=(10,4))\n",
    "        mA=mean_A(R_to_A)\n",
    "        for i in range(N_samples):\n",
    "            plt.scatter(np.array(mA)[i],[1],color=color7[i],s=80,label=m_name[i])\n",
    "            plt.axvline(np.array(mA.index)[i],color=color7[i])\n",
    "        plt.legend(loc='center left',bbox_to_anchor=(1,0.5),fontsize=20)\n",
    "        plt.savefig(self.direct_out_for_graph_mass/Path('mean_A'+self.add_name+'.png'),bbox_inches='tight')"
   ]
  },
  {
   "cell_type": "markdown",
   "metadata": {},
   "source": [
    "# Восстановление массы "
   ]
  },
  {
   "cell_type": "code",
   "execution_count": 6,
   "metadata": {
    "ExecuteTime": {
     "end_time": "2023-07-19T08:40:53.419167Z",
     "start_time": "2023-07-19T08:38:24.227597Z"
    }
   },
   "outputs": [
    {
     "name": "stdout",
     "output_type": "stream",
     "text": [
      "0\n",
      "1\n",
      "2\n",
      "3\n",
      "4\n",
      "5\n"
     ]
    },
    {
     "data": {
      "image/png": "[encoded data removed]",
      "text/plain": [
       "<Figure size 576x288 with 1 Axes>"
      ]
     },
     "metadata": {
      "needs_background": "light"
     },
     "output_type": "display_data"
    }
   ],
   "source": [
    "cl=find_A(r,add_name='_5_10-20_q1',manual=False)\n",
    "add_name='_9_10-20_q1'\n",
    "cl.plot(save=True,appro=True)\n",
    "R_to_A=cl.from_R_to_A()\n",
    "R_to_A['real_A']=0\n",
    "for typ in range(N_samples):\n",
    "    R_to_A['real_A'][R_to_A['type_part']==m_name[typ]]=m[typ]\n",
    "print(round(fcn(R_to_A)))"
   ]
  },
  {
   "cell_type": "markdown",
   "metadata": {},
   "source": [
    "## Гистограмма выхода нейронной сети на тестовой выборке"
   ]
  },
  {
   "cell_type": "code",
   "execution_count": 7,
   "metadata": {
    "ExecuteTime": {
     "end_time": "2023-07-19T08:40:54.244388Z",
     "start_time": "2023-07-19T08:40:53.481088Z"
    }
   },
   "outputs": [
    {
     "data": {
      "image/png": "[encoded data removed]",
      "text/plain": [
       "<Figure size 576x288 with 1 Axes>"
      ]
     },
     "metadata": {
      "needs_background": "light"
     },
     "output_type": "display_data"
    }
   ],
   "source": [
    "hist_3(r,norm=False,step_bins=0.2,save=True,add_name='1')"
   ]
  },
  {
   "cell_type": "markdown",
   "metadata": {},
   "source": [
    "## Массовое распределение"
   ]
  },
  {
   "cell_type": "code",
   "execution_count": 8,
   "metadata": {
    "ExecuteTime": {
     "end_time": "2023-07-19T08:40:55.072243Z",
     "start_time": "2023-07-19T08:40:54.307262Z"
    }
   },
   "outputs": [
    {
     "data": {
      "image/png": "[encoded data removed]",
      "text/plain": [
       "<Figure size 1080x576 with 1 Axes>"
      ]
     },
     "metadata": {
      "needs_background": "light"
     },
     "output_type": "display_data"
    }
   ],
   "source": [
    "cl.mass_distribution()"
   ]
  },
  {
   "cell_type": "markdown",
   "metadata": {},
   "source": [
    "## Параметризация распределений Бета-распределением"
   ]
  },
  {
   "cell_type": "code",
   "execution_count": 9,
   "metadata": {
    "ExecuteTime": {
     "end_time": "2023-07-19T08:40:55.618913Z",
     "start_time": "2023-07-19T08:40:55.137063Z"
    }
   },
   "outputs": [
    {
     "data": {
      "image/png": "[encoded data removed]",
      "text/plain": [
       "<Figure size 576x288 with 1 Axes>"
      ]
     },
     "metadata": {
      "needs_background": "light"
     },
     "output_type": "display_data"
    }
   ],
   "source": [
    "cl.plot(appro=True)"
   ]
  },
  {
   "cell_type": "markdown",
   "metadata": {},
   "source": [
    "## Аппроксимация границ распределений"
   ]
  },
  {
   "cell_type": "code",
   "execution_count": 10,
   "metadata": {
    "ExecuteTime": {
     "end_time": "2023-07-19T08:41:14.963053Z",
     "start_time": "2023-07-19T08:41:14.814432Z"
    }
   },
   "outputs": [
    {
     "data": {
      "text/plain": [
       "(-1.4444716118440308,\n",
       " -0.06372601642494828,\n",
       " 0.16307468616684456,\n",
       " 4.374547492776035,\n",
       " -0.13921385491143534,\n",
       " 0.09866942924955954)"
      ]
     },
     "execution_count": 10,
     "metadata": {},
     "output_type": "execute_result"
    },
    {
     "data": {
      "image/png": "[encoded data removed]",
      "text/plain": [
       "<Figure size 432x288 with 1 Axes>"
      ]
     },
     "metadata": {
      "needs_background": "light"
     },
     "output_type": "display_data"
    }
   ],
   "source": [
    "cl.fit_border(graph=True)"
   ]
  },
  {
   "cell_type": "markdown",
   "metadata": {},
   "source": [
    "## Аппроксимация параметров Бета-распределения"
   ]
  },
  {
   "cell_type": "code",
   "execution_count": 11,
   "metadata": {
    "ExecuteTime": {
     "end_time": "2023-07-19T08:41:16.352138Z",
     "start_time": "2023-07-19T08:41:16.116317Z"
    }
   },
   "outputs": [
    {
     "data": {
      "image/png": "[encoded data removed]",
      "text/plain": [
       "<Figure size 1080x288 with 2 Axes>"
      ]
     },
     "metadata": {
      "needs_background": "light"
     },
     "output_type": "display_data"
    }
   ],
   "source": [
    "cl.plot_appro_Beta()"
   ]
  },
  {
   "cell_type": "markdown",
   "metadata": {},
   "source": [
    "## Выборочные средние (точки) относительно истинных масс (линии)"
   ]
  },
  {
   "cell_type": "code",
   "execution_count": 12,
   "metadata": {
    "ExecuteTime": {
     "end_time": "2023-07-19T08:41:18.511254Z",
     "start_time": "2023-07-19T08:41:18.273826Z"
    }
   },
   "outputs": [
    {
     "data": {
      "image/png": "[encoded data removed]",
      "text/plain": [
       "<Figure size 720x216 with 1 Axes>"
      ]
     },
     "metadata": {
      "needs_background": "light"
     },
     "output_type": "display_data"
    }
   ],
   "source": [
    "fig,ax=plt.subplots(figsize=(10,3))\n",
    "\n",
    "mA=mean_A(R_to_A)\n",
    "for i in range(N_samples):\n",
    "    plt.scatter(np.array(mA)[i],[1],color=color7[i],s=80,label=m_name[i])\n",
    "    plt.axvline(np.array(mA.index)[i],color=color7[i],linewidth=2)\n",
    "plt.legend(loc='center left',bbox_to_anchor=(1,0.5),fontsize=20)\n",
    "plt.savefig('mean_A_9all_500_convert',bbox_inches='tight')"
   ]
  },
  {
   "cell_type": "markdown",
   "metadata": {},
   "source": [
    "## Аппроксимация зависимости истинных масс от выборочных средних"
   ]
  },
  {
   "cell_type": "code",
   "execution_count": 13,
   "metadata": {
    "ExecuteTime": {
     "end_time": "2023-07-19T08:41:19.961496Z",
     "start_time": "2023-07-19T08:41:19.429430Z"
    }
   },
   "outputs": [
    {
     "name": "stdout",
     "output_type": "stream",
     "text": [
      "error 4.699543139652115\n",
      "error general 0.7663482299759072\n"
     ]
    },
    {
     "data": {
      "image/png": "[encoded data removed]",
      "text/plain": [
       "<Figure size 360x288 with 1 Axes>"
      ]
     },
     "metadata": {
      "needs_background": "light"
     },
     "output_type": "display_data"
    }
   ],
   "source": [
    "mA=mean_A(R_to_A)\n",
    "p0,p1,p2=appro_c(np.array(mA),(np.array(mA.index)-np.array(mA)),print_error=True)\n",
    "y=p0+p1*np.array(mA)+p2*(np.array(mA))**2\n",
    "# print('error general', sum(abs(y+np.array(mA)-np.array(mA.index))/np.array(mA.index)))\n",
    "print('error general', sum(abs(y+np.array(mA)-np.array(mA.index)))/5)\n",
    "\n",
    "# plt.rcParams.update({'font.size':20})\n",
    "# plt.rc('xtick', labelsize=20)\n",
    "# plt.rc('ytick', labelsize=20)\n",
    "\n",
    "\n",
    "fig=plt.figure(figsize=(5,4))\n",
    "for i in range(N_samples):\n",
    "    plt.scatter(np.array(mA)[i],np.array(mA.index)[i]-np.array(mA)[i],color=color7[i],s=80,label=m_name[i])\n",
    "df_y=pd.DataFrame({'y_compute':np.array(mA),'y':y})\n",
    "# print(df_y['y_compute'].to_numpy())\n",
    "# df_y.sort_values(by=['y_compute'])\n",
    "# plt.ylim(-22,12)\n",
    "df_y=df_y.sort_values(by=['y_compute'])\n",
    "plt.plot(df_y['y_compute'].to_numpy(),df_y['y'],label='fit')\n",
    "plt.legend(loc='center left',bbox_to_anchor=(1,0.5),fontsize=20)\n",
    "plt.xlabel('<M>')\n",
    "plt.ylabel(r'$A_{true}$ — <M>')\n",
    "\n",
    "plt.savefig('mean_A_5_900',bbox_inches='tight')"
   ]
  },
  {
   "cell_type": "code",
   "execution_count": 14,
   "metadata": {
    "ExecuteTime": {
     "end_time": "2023-07-19T08:41:21.412782Z",
     "start_time": "2023-07-19T08:41:21.170298Z"
    }
   },
   "outputs": [
    {
     "data": {
      "image/png": "[encoded data removed]",
      "text/plain": [
       "<Figure size 360x288 with 1 Axes>"
      ]
     },
     "metadata": {
      "needs_background": "light"
     },
     "output_type": "display_data"
    }
   ],
   "source": [
    "fig,ax=plt.subplots(figsize=(5,4))\n",
    "\n",
    "mA=mean_A(R_to_A)\n",
    "for i in range(N_samples):\n",
    "    plt.scatter(np.array(mA)[i],np.array(mA.index)[i],color=color7[i],s=80,label=m_name[i])\n",
    "plt.legend(loc='center left',bbox_to_anchor=(1,0.5),fontsize=20)\n",
    "plt.xlim(0,60)\n",
    "plt.ylim(0,60)\n",
    "plt.ylabel(r'$A_{true}$')\n",
    "plt.xlabel('<M>')\n",
    "plt.savefig('mean_A_5_convert',bbox_inches='tight')"
   ]
  },
  {
   "cell_type": "markdown",
   "metadata": {},
   "source": [
    "## Оцененные массы известных типов ядер"
   ]
  },
  {
   "cell_type": "code",
   "execution_count": 15,
   "metadata": {
    "ExecuteTime": {
     "end_time": "2023-07-19T08:41:23.557570Z",
     "start_time": "2023-07-19T08:41:23.290108Z"
    }
   },
   "outputs": [
    {
     "name": "stdout",
     "output_type": "stream",
     "text": [
      "error 4.699543139652115\n",
      "error general 3.831741149879536\n"
     ]
    },
    {
     "data": {
      "image/png": "[encoded data removed]",
      "text/plain": [
       "<Figure size 720x216 with 1 Axes>"
      ]
     },
     "metadata": {
      "needs_background": "light"
     },
     "output_type": "display_data"
    }
   ],
   "source": [
    "mA=mean_A(R_to_A)\n",
    "p0,p1,p2=appro_c(np.array(mA),(np.array(mA.index)-np.array(mA)),print_error=True)\n",
    "y=p0+p1*np.array(mA)+p2*(np.array(mA))**2\n",
    "# print('error general', sum(abs(y+np.array(mA)-np.array(mA.index))/np.array(mA.index)))\n",
    "print('error general', sum(abs(y+np.array(mA)-np.array(mA.index))))\n",
    "\n",
    "fig,ax=plt.subplots(figsize=(10,3))\n",
    "\n",
    "plt.rcParams.update({'font.size':20})\n",
    "plt.rc('xtick', labelsize=20)\n",
    "plt.rc('ytick', labelsize=20)\n",
    "mA=mean_A(R_to_A)\n",
    "for i in range(N_samples):\n",
    "    plt.scatter(np.array(mA)[i]+y[i],[1],color=color7[i],s=80,label=m_name[i])\n",
    "    plt.axvline(np.array(mA.index)[i],color=color7[i],linewidth=2)\n",
    "plt.legend(loc='center left',bbox_to_anchor=(1,0.5),fontsize=20)\n",
    "plt.savefig('mean_A_5_convert_',bbox_inches='tight')"
   ]
  },
  {
   "cell_type": "code",
   "execution_count": null,
   "metadata": {},
   "outputs": [],
   "source": []
  },
  {
   "cell_type": "markdown",
   "metadata": {},
   "source": [
    "## Оцененные массы относительно истинных масс для двух моделей ядерногоо взаимодействия"
   ]
  },
  {
   "cell_type": "code",
   "execution_count": 16,
   "metadata": {
    "ExecuteTime": {
     "end_time": "2023-07-19T08:41:30.683137Z",
     "start_time": "2023-07-19T08:41:30.365998Z"
    }
   },
   "outputs": [
    {
     "data": {
      "image/png": "[encoded data removed]",
      "text/plain": [
       "<Figure size 432x360 with 1 Axes>"
      ]
     },
     "metadata": {
      "needs_background": "light"
     },
     "output_type": "display_data"
    }
   ],
   "source": [
    "add_name='5'\n",
    "fig,ax=plt.subplots(figsize=(6,5))\n",
    "sum_err=0\n",
    "xx=np.linspace(0,60,100)\n",
    "yy=xx\n",
    "plt.plot(xx,yy,color='black')\n",
    "for i in range(N_samples):\n",
    "    plt.scatter(m[i],np.array(mA)[i]+y[i],label=m_name[i],color=color7[i],s=80)\n",
    "    sum_err+=np.array(mA)[i]+y[i]-m[i]\n",
    "plt.legend(loc='lower right') #loc='center left', bbox_to_anchor=(1,0.5))\n",
    "# plt.xlabel('Истинные массы')\n",
    "# plt.ylabel('Оцененные массы')\n",
    "plt.xlabel(r'$A_{true}$')\n",
    "plt.ylabel(r'$A_{est}$')\n",
    "plt.savefig('mean_A_real_1_'+add_name,bbox_inches='tight')"
   ]
  },
  {
   "cell_type": "markdown",
   "metadata": {},
   "source": [
    "# Поиск средних масс по всей выборке"
   ]
  },
  {
   "cell_type": "code",
   "execution_count": 17,
   "metadata": {
    "ExecuteTime": {
     "end_time": "2023-07-19T08:41:32.870715Z",
     "start_time": "2023-07-19T08:41:32.465653Z"
    }
   },
   "outputs": [],
   "source": [
    "cl=find_A(r,add_name='_5_q1q2_10-20_',manual=False)\n",
    "f_arr,min_possible_r,max_possible_r =cl.interpolate_distr()"
   ]
  },
  {
   "cell_type": "code",
   "execution_count": 18,
   "metadata": {
    "ExecuteTime": {
     "end_time": "2023-07-19T08:41:32.947533Z",
     "start_time": "2023-07-19T08:41:32.932550Z"
    },
    "code_folding": [
     0
    ]
   },
   "outputs": [],
   "source": [
    "def extract_data(probab):\n",
    "    p=df_pred['pred'][df_pred['m_name']==m_name[0]]\n",
    "    mask=np.random.choice(a=[True, False], size=(len(p)), p=[probab[0], 1-probab[0]])\n",
    "    p2n=p[mask]\n",
    "    p2n.index=np.arange(len(p2n))\n",
    "    \n",
    "    He=df_pred['pred'][df_pred['m_name']==m_name[1]]\n",
    "    mask=np.random.choice(a=[True, False], size=(len(He)), p=[probab[1], 1-probab[1]])\n",
    "    He2n=He[mask]\n",
    "    He2n.index=np.arange(len(He2n))\n",
    "    \n",
    "    N=df_pred['pred'][df_pred['m_name']==m_name[2]]\n",
    "    mask=np.random.choice(a=[True, False], size=(len(N)), p=[probab[2], 1-probab[2]])\n",
    "    N2n=N[mask]\n",
    "    N2n.index=np.arange(len(N2n))\n",
    "    \n",
    "    S=df_pred['pred'][df_pred['m_name']==m_name[3]]\n",
    "    mask=np.random.choice(a=[True, False], size=(len(S)), p=[probab[3], 1-probab[3]])\n",
    "    S2n=S[mask]\n",
    "    S2n.index=np.arange(len(S2n))\n",
    "    \n",
    "    Fe=df_pred['pred'][df_pred['m_name']==m_name[4]]\n",
    "    mask=np.random.choice(a=[True, False], size=(len(Fe)), p=[probab[4], 1-probab[4]])\n",
    "    Fe2n=Fe[mask]\n",
    "    Fe2n.index=np.arange(len(Fe2n))\n",
    "    \n",
    "    df_together=pd.concat([p2n,He2n,N2n,S2n,Fe2n],keys=[0,1,2,3,4])\n",
    "    return df_together"
   ]
  },
  {
   "cell_type": "code",
   "execution_count": 19,
   "metadata": {
    "ExecuteTime": {
     "end_time": "2023-07-19T08:41:33.230293Z",
     "start_time": "2023-07-19T08:41:33.208352Z"
    },
    "code_folding": [
     0
    ]
   },
   "outputs": [],
   "source": [
    "def from_R_to_A_mix(f_arr,min_possible_r,max_possible_r,r_mix):\n",
    "    R_to_A_mix=pd.DataFrame(index=np.arange(len(df)),columns=['R','A','type_part'])\n",
    "    add_toi=0\n",
    "    for j in range(N_samples):\n",
    "        print(j)\n",
    "        for i in range(len(r_mix[j][:])):\n",
    "            real_i=i+add_toi\n",
    "            R_to_A_mix['R'].loc[real_i]=r_mix[j][i]\n",
    "            R_to_A_mix['type_part'].loc[real_i]=m_name[j]\n",
    "            #         print(R_toA(R_to_A['R'].loc[i]))\n",
    "            if R_to_A_mix['R'].loc[real_i] >= max_possible_r:  #   error!!!!!!!!!!!!!!!!!!\n",
    "                A_res=m[0]\n",
    "            elif R_to_A_mix['R'].loc[real_i] <= min_possible_r :\n",
    "                A_res=m[N_samples-1] \n",
    "            else:    \n",
    "    #             y_interp_arr=[]\n",
    "                y_df=pd.DataFrame(index=np.arange(len(mass_toFe)),columns=['A','y'])\n",
    "                y_df['A']=mass_toFe\n",
    "                summ=0\n",
    "                for part in range(len(mass_toFe[:])):\n",
    "                    try: \n",
    "                        summ+=1\n",
    "                        y_interp=f_arr[part](R_to_A_mix['R'].loc[real_i])\n",
    "    #                     print(y_interp)\n",
    "    #                     y_interp_arr.append(y_interp)\n",
    "                        y_df['y'].loc[part]=y_interp\n",
    "                    except:\n",
    "                        y_df['y'].loc[part]=0\n",
    "                try:\n",
    "                    y_max=max(y_df['y'])\n",
    "\n",
    "                except:\n",
    "                    y_max=max(y_df['y'])\n",
    "    #             print('R', R_to_A['R'].loc[real_i], y_df['y'])    \n",
    "    #                 print(y_max)\n",
    "    #             print(y_df['A'][y_df['y']==y_max])\n",
    "                A_res=float(y_df['A'][y_df['y']==y_max])\n",
    "        #         print(summ)\n",
    "        #         print(y_interp_arr)\n",
    "\n",
    "    #         print(R_to_A['R'].loc[real_i], A_res)\n",
    "            R_to_A_mix['A'].loc[real_i]=A_res\n",
    "    #         if (real_i+1)%200==0: print(real_i)\n",
    "        add_toi+=len(r_mix[j])   \n",
    "    return R_to_A_mix # return R_to_A_mix"
   ]
  },
  {
   "cell_type": "code",
   "execution_count": 20,
   "metadata": {
    "ExecuteTime": {
     "end_time": "2023-07-19T08:41:33.618890Z",
     "start_time": "2023-07-19T08:41:33.606900Z"
    },
    "code_folding": []
   },
   "outputs": [],
   "source": [
    "def find_aver_A(R_to_A_mix):\n",
    "    Ni=np.zeros(26)\n",
    "    for i in range(26):\n",
    "        Ni[i]=np.count_nonzero(R_to_A_mix['A'][(R_to_A_mix['A']<(mass_toFe[i]+0.1))&(R_to_A_mix['A']>(mass_toFe[i]-0.1))])\n",
    "    # Ni\n",
    "    m_aver=sum(mass_toFe*Ni)/np.count_nonzero(R_to_A_mix['A'])\n",
    "#     print(m_aver)\n",
    "\n",
    "    Nri=np.zeros(N_samples)\n",
    "    for i in range(N_samples):\n",
    "        Nri[i]=np.count_nonzero(R_to_A_mix['type_part'][R_to_A_mix['type_part']==m_name[i]])\n",
    "    # Nri\n",
    "    A_aver_real=sum(m*Nri)/np.count_nonzero(R_to_A_mix['A'])\n",
    "#     print(A_aver_real)\n",
    "    return m_aver,A_aver_real,Ni,Nri    #return m_aver, A_aver_real"
   ]
  },
  {
   "cell_type": "code",
   "execution_count": 21,
   "metadata": {
    "ExecuteTime": {
     "end_time": "2023-07-19T08:41:34.131969Z",
     "start_time": "2023-07-19T08:41:34.113990Z"
    }
   },
   "outputs": [],
   "source": [
    "probab_c=[ [1,0.8, 0.1, 0.02,0.01 ],\n",
    "          [1,0.1, 0.1, 0.02,0.01  ],\n",
    "          [0.9,1, 0.2, 0.1,0.01 ],\n",
    "          [0.6,1, 0.3, 0.2,0.1],\n",
    "          [0.6,0.8, 1, 0.3,0.4],\n",
    "          [0.6,0.5, 1, 0.8,0.6],\n",
    "         [1,0.03, 0.03, 0.003,0.003],\n",
    "         [0.6,1, 0.1, 0.1,0.1],\n",
    "         [0.6,0.6, 1, 0.03,0.03],\n",
    "         [0.3,0.4, 0.5, 1,0.1],\n",
    "         [0.9,0.5, 0.01, 0.02,0.01],\n",
    "         [0.9,0.2, 0.01, 0.02,0.01],\n",
    "         [0.9,0.2, 0.1, 0.2,0.1],\n",
    "         [0.2,0.2, 0.2, 0.2,0.6]]"
   ]
  },
  {
   "cell_type": "code",
   "execution_count": 22,
   "metadata": {
    "ExecuteTime": {
     "end_time": "2023-07-19T08:41:34.476612Z",
     "start_time": "2023-07-19T08:41:34.469631Z"
    }
   },
   "outputs": [],
   "source": [
    "prob_all=[]\n",
    "for i in range(100):\n",
    "    prob_loc=[np.random.random()*((100-i)/100),np.random.random()*((100-i)/100)*0.8,np.random.random()*((100-i)/100)*0.8,\n",
    "             np.random.random()*(i/100)*0.8,np.random.random()*(i/100)]\n",
    "    prob_all.append(prob_loc)"
   ]
  },
  {
   "cell_type": "code",
   "execution_count": 23,
   "metadata": {
    "ExecuteTime": {
     "end_time": "2023-07-19T08:41:35.757457Z",
     "start_time": "2023-07-19T08:41:35.738503Z"
    }
   },
   "outputs": [
    {
     "data": {
      "text/plain": [
       "array([[0.05343027, 0.62052418, 0.46641719, 0.003     , 0.003     ],\n",
       "       [0.74873126, 0.19063177, 0.07771291, 0.00582806, 0.00874551],\n",
       "       [0.85611431, 0.01793769, 0.52864113, 0.00857807, 0.00661057],\n",
       "       [0.31467334, 0.417625  , 0.51781371, 0.02163894, 0.00787803],\n",
       "       [0.54807141, 0.16987513, 0.33662703, 0.02102757, 0.02065159],\n",
       "       [0.35921201, 0.68519424, 0.20768425, 0.02744114, 0.03205859],\n",
       "       [0.25621508, 0.2968637 , 0.10489997, 0.01331045, 0.05675168],\n",
       "       [0.70310952, 0.65709355, 0.68180157, 0.02127981, 0.04524105],\n",
       "       [0.06789245, 0.48080562, 0.38665674, 0.01007166, 0.04400369],\n",
       "       [0.57741488, 0.59452693, 0.7164393 , 0.01547262, 0.0116151 ],\n",
       "       [0.39272683, 0.19467934, 0.71709973, 0.0061193 , 0.02676488],\n",
       "       [0.78797049, 0.09848544, 0.28228862, 0.05152282, 0.02177342],\n",
       "       [0.52671909, 0.31075641, 0.43248381, 0.02361433, 0.0137823 ],\n",
       "       [0.45228309, 0.53431198, 0.04209941, 0.06628585, 0.03994621],\n",
       "       [0.26452553, 0.44389748, 0.06194883, 0.05934111, 0.06329558],\n",
       "       [0.40430911, 0.29811837, 0.35454848, 0.02494701, 0.06058655],\n",
       "       [0.56470473, 0.52587121, 0.39137402, 0.04637924, 0.0827689 ],\n",
       "       [0.19021695, 0.36860221, 0.51867234, 0.0790497 , 0.09575504],\n",
       "       [0.12995212, 0.21746112, 0.22523377, 0.06810263, 0.10875343],\n",
       "       [0.20164366, 0.35083902, 0.34324943, 0.0439001 , 0.08410122],\n",
       "       [0.10949107, 0.13876061, 0.45573663, 0.0920032 , 0.1353264 ],\n",
       "       [0.64707005, 0.51530509, 0.4397076 , 0.10004915, 0.09584838],\n",
       "       [0.25626141, 0.60920002, 0.54536361, 0.11535916, 0.05984119],\n",
       "       [0.42688262, 0.1810718 , 0.55219806, 0.02088086, 0.14092423],\n",
       "       [0.06127243, 0.53043007, 0.36420818, 0.1253765 , 0.14853419],\n",
       "       [0.72576307, 0.24491436, 0.10400218, 0.10703031, 0.19681573],\n",
       "       [0.57819015, 0.00466183, 0.19452519, 0.06570303, 0.0181446 ],\n",
       "       [0.45720498, 0.37662778, 0.38150079, 0.20337833, 0.00671059],\n",
       "       [0.70204084, 0.19144015, 0.41470802, 0.20579586, 0.15901231],\n",
       "       [0.60346356, 0.49301102, 0.38982316, 0.18616774, 0.10387792],\n",
       "       [0.09984551, 0.30377814, 0.003     , 0.20219211, 0.02013413],\n",
       "       [0.36185836, 0.54814811, 0.11092351, 0.21239119, 0.2732258 ],\n",
       "       [0.59489943, 0.46617908, 0.07896561, 0.12541999, 0.22757721],\n",
       "       [0.56823978, 0.02172421, 0.04703106, 0.18334826, 0.26304364],\n",
       "       [0.003     , 0.47739864, 0.43657435, 0.13425551, 0.2595316 ],\n",
       "       [0.29028795, 0.28681891, 0.48127794, 0.1998496 , 0.19640123],\n",
       "       [0.63169883, 0.39659794, 0.48270358, 0.02886637, 0.28100264],\n",
       "       [0.6052738 , 0.38662148, 0.28659661, 0.13735454, 0.29533801],\n",
       "       [0.10260887, 0.08998743, 0.07825462, 0.19315817, 0.13736266],\n",
       "       [0.11835996, 0.24995258, 0.25858337, 0.28438612, 0.18252862],\n",
       "       [0.50424342, 0.12786166, 0.26589238, 0.12480511, 0.30928524],\n",
       "       [0.26762438, 0.40574022, 0.38003234, 0.13026857, 0.2378152 ],\n",
       "       [0.22919176, 0.34403207, 0.37962432, 0.3281445 , 0.15353573],\n",
       "       [0.53315784, 0.332013  , 0.37655667, 0.21584346, 0.06746818],\n",
       "       [0.2257869 , 0.04176494, 0.16153677, 0.03855071, 0.07517758],\n",
       "       [0.06076567, 0.08397067, 0.27551688, 0.22963384, 0.21766445],\n",
       "       [0.02492638, 0.16749045, 0.42636733, 0.04494516, 0.07064789],\n",
       "       [0.40675802, 0.07123781, 0.02375911, 0.15629952, 0.34133091],\n",
       "       [0.20800134, 0.32853691, 0.08957598, 0.22856637, 0.03879769],\n",
       "       [0.49436346, 0.09269687, 0.40457088, 0.30765038, 0.40842131],\n",
       "       [0.25459194, 0.16066924, 0.09457104, 0.16465694, 0.42873543],\n",
       "       [0.1932062 , 0.0125074 , 0.06387522, 0.08126169, 0.418851  ],\n",
       "       [0.36579413, 0.03077044, 0.16287305, 0.01817468, 0.22498949],\n",
       "       [0.27114626, 0.0030629 , 0.24143809, 0.30769855, 0.01595281],\n",
       "       [0.39126846, 0.33288041, 0.19230365, 0.33357146, 0.30474988],\n",
       "       [0.27672459, 0.17249969, 0.08140524, 0.14190558, 0.16763323],\n",
       "       [0.02701271, 0.06736215, 0.16898171, 0.13519092, 0.17000987],\n",
       "       [0.26485183, 0.00380375, 0.13412065, 0.38765496, 0.53707088],\n",
       "       [0.29313499, 0.02468843, 0.09919307, 0.074478  , 0.03294463],\n",
       "       [0.003     , 0.27089388, 0.01145725, 0.46982561, 0.09695063],\n",
       "       [0.2424109 , 0.12037362, 0.04532177, 0.46005196, 0.02652317],\n",
       "       [0.30878564, 0.30582052, 0.15345528, 0.36487837, 0.4167072 ],\n",
       "       [0.0558037 , 0.28757116, 0.17695095, 0.00990965, 0.57549583],\n",
       "       [0.06733449, 0.23618857, 0.16617044, 0.33379528, 0.24190397],\n",
       "       [0.03903939, 0.05229381, 0.16503134, 0.50516122, 0.63006716],\n",
       "       [0.08461331, 0.04702251, 0.15895546, 0.17290935, 0.19629557],\n",
       "       [0.33776433, 0.05780815, 0.18455839, 0.08164288, 0.27866992],\n",
       "       [0.26801542, 0.01455738, 0.24101873, 0.01589524, 0.54578118],\n",
       "       [0.30471082, 0.160471  , 0.07023552, 0.47772857, 0.64168375],\n",
       "       [0.08534569, 0.01088055, 0.18734339, 0.46589175, 0.08679484],\n",
       "       [0.19555431, 0.04068158, 0.07757466, 0.45533951, 0.19891318],\n",
       "       [0.21900386, 0.0298751 , 0.07864572, 0.28784539, 0.24946812],\n",
       "       [0.05641662, 0.0280608 , 0.14573045, 0.38778962, 0.46118567],\n",
       "       [0.11714992, 0.0986944 , 0.18246629, 0.3711238 , 0.19189044],\n",
       "       [0.18016016, 0.08469139, 0.18067049, 0.2742819 , 0.59104791],\n",
       "       [0.09460867, 0.18170145, 0.15145343, 0.18792765, 0.37322675],\n",
       "       [0.14981994, 0.08177497, 0.12334886, 0.48864139, 0.39091214],\n",
       "       [0.05464125, 0.03020716, 0.09371161, 0.48624691, 0.65659606],\n",
       "       [0.02756524, 0.04816236, 0.0238288 , 0.17001236, 0.46195486],\n",
       "       [0.19466291, 0.14756873, 0.15800935, 0.51178065, 0.69778641],\n",
       "       [0.10127125, 0.14310031, 0.11552393, 0.32210258, 0.75308436],\n",
       "       [0.11341882, 0.13084483, 0.08973795, 0.39664196, 0.21261138],\n",
       "       [0.13098877, 0.06996645, 0.11127703, 0.39130302, 0.44645023],\n",
       "       [0.09459932, 0.06489455, 0.01700077, 0.38992224, 0.79760732],\n",
       "       [0.0662834 , 0.00647406, 0.09146449, 0.52622139, 0.27582083],\n",
       "       [0.10167115, 0.07354148, 0.00318405, 0.30907086, 0.07514993],\n",
       "       [0.07705712, 0.10829478, 0.08633256, 0.57280606, 0.61731399],\n",
       "       [0.03039972, 0.08586327, 0.07714562, 0.06400093, 0.51643342],\n",
       "       [0.003     , 0.07125577, 0.0902381 , 0.38102662, 0.68047746],\n",
       "       [0.003     , 0.07798048, 0.08430568, 0.037776  , 0.48997681],\n",
       "       [0.08382884, 0.03453709, 0.00758259, 0.14388913, 0.8769377 ],\n",
       "       [0.08047415, 0.02722414, 0.01352467, 0.02545697, 0.58820651],\n",
       "       [0.01500435, 0.02803061, 0.00393309, 0.31527856, 0.25116628],\n",
       "       [0.01570627, 0.026277  , 0.04296033, 0.04017295, 0.44079114],\n",
       "       [0.05302631, 0.01539127, 0.04013466, 0.5590434 , 0.72010234],\n",
       "       [0.01559328, 0.00546761, 0.00461128, 0.37620967, 0.14593035],\n",
       "       [0.00743918, 0.01343981, 0.003     , 0.28867408, 0.21482676],\n",
       "       [0.00303089, 0.01418503, 0.01723231, 0.04320728, 0.35524374],\n",
       "       [0.00631149, 0.003     , 0.00361195, 0.3602184 , 0.33674386],\n",
       "       [0.003     , 0.00336494, 0.00602793, 0.18354897, 0.92275436]])"
      ]
     },
     "execution_count": 23,
     "metadata": {},
     "output_type": "execute_result"
    }
   ],
   "source": [
    "prob_all=np.array(prob_all)\n",
    "prob_all[prob_all<0.003]=0.003\n",
    "prob_all[prob_all>0.997]=0.997\n",
    "prob_all"
   ]
  },
  {
   "cell_type": "markdown",
   "metadata": {},
   "source": [
    "## Составление выборок с разными итоговыми средними массами из данных о двух моделях взаимодействия"
   ]
  },
  {
   "cell_type": "code",
   "execution_count": 24,
   "metadata": {
    "ExecuteTime": {
     "end_time": "2023-07-19T09:21:15.451395Z",
     "start_time": "2023-07-19T08:41:39.741226Z"
    }
   },
   "outputs": [
    {
     "name": "stdout",
     "output_type": "stream",
     "text": [
      "# =  0\n",
      "0\n",
      "1\n",
      "2\n",
      "3\n",
      "4\n",
      "16.875094870365206 7.851248396989129 [519. 732. 321. 216. 122. 136. 143. 181. 100. 118.  90.  75.  73.  67.\n",
      "  62.  58.  75.   0.  36.   0.  10.  36.  22.  37.  25. 333.] [ 180. 2015. 1378.    7.    7.]\n",
      "# =  1\n",
      "0\n",
      "1\n",
      "2\n",
      "3\n",
      "4\n",
      "9.753687236533958 2.864830327868852 [1.174e+03 8.190e+02 3.050e+02 1.570e+02 7.800e+01 1.140e+02 9.400e+01\n",
      " 9.700e+01 5.100e+01 6.000e+01 5.600e+01 5.300e+01 3.700e+01 2.300e+01\n",
      " 3.400e+01 2.700e+01 3.400e+01 0.000e+00 1.900e+01 1.000e+00 4.000e+00\n",
      " 1.400e+01 1.000e+01 1.800e+01 7.000e+00 1.300e+02] [2544.  624.  212.   10.   26.]\n",
      "# =  2\n",
      "0\n",
      "1\n",
      "2\n",
      "3\n",
      "4\n",
      "13.453452609265733 5.8035387237762235 [1290.  960.  386.  206.  123.  156.  144.  156.   85.   86.   82.   76.\n",
      "   56.   61.   71.   54.   69.    0.   41.    0.   10.   31.   14.   36.\n",
      "   22.  361.] [2929.   72. 1532.   22.   21.]\n",
      "# =  3\n",
      "0\n",
      "1\n",
      "2\n",
      "3\n",
      "4\n",
      "16.377724306365714 7.731478518894242 [719. 825. 323. 204. 129. 155. 149. 173. 100. 117.  92.  70.  58.  68.\n",
      "  67.  54.  68.   0.  36.   0.  12.  37.  26.  42.  33. 386.] [1046. 1318. 1496.   60.   23.]\n",
      "# =  4\n",
      "0\n",
      "1\n",
      "2\n",
      "3\n",
      "4\n",
      "13.88493971983991 6.490813150371641 [910. 765. 293. 141.  87. 126. 115. 122.  68.  97.  67.  54.  56.  38.\n",
      "  61.  42.  56.   0.  29.   0.   9.  25.  10.  32.  13. 282.] [1868.  539.  978.   56.   57.]\n",
      "# =  5\n",
      "0\n",
      "1\n",
      "2\n",
      "3\n",
      "4\n",
      "13.831016320754717 5.953120566037736 [974. 952. 376. 220. 117. 151. 154. 172.  95. 112.  80.  78.  59.  64.\n",
      "  55.  50.  77.   0.  42.   1.  13.  29.  15.  31.  19. 304.] [1250. 2257.  580.   72.   81.]\n",
      "# =  6\n",
      "0\n",
      "1\n",
      "2\n",
      "3\n",
      "4\n",
      "14.628563361196658 8.219442234931808 [542. 522. 189. 113.  57.  60.  63.  83.  52.  50.  34.  39.  38.  33.\n",
      "  38.  27.  44.   0.  22.   0.   6.  14.  14.  14.  13. 206.] [840. 957. 280.  36. 160.]\n",
      "# =  7\n",
      "0\n",
      "1\n",
      "2\n",
      "3\n",
      "4\n",
      "15.104354996268098 7.154431258396776 [1459. 1428.  564.  338.  184.  229.  240.  270.  150.  167.  150.  142.\n",
      "  110.  104.  113.   82.  114.    0.   68.    0.   18.   69.   37.   51.\n",
      "   43.  569.] [2415. 2095. 1997.   66.  126.]\n",
      "# =  8\n",
      "0\n",
      "1\n",
      "2\n",
      "3\n",
      "4\n",
      "17.661610292510446 9.562455094824815 [462. 626. 269. 168. 114. 106. 118. 148.  75.  99.  84.  65.  63.  55.\n",
      "  53.  43.  71.   0.  31.   0.   7.  31.  24.  37.  19. 343.] [ 239. 1573. 1162.   30.  107.]\n",
      "# =  9\n",
      "0\n",
      "1\n",
      "2\n",
      "3\n",
      "4\n",
      "15.389784580803937 6.980681345365053 [1.249e+03 1.301e+03 5.180e+02 3.160e+02 1.930e+02 2.270e+02 2.120e+02\n",
      " 2.460e+02 1.240e+02 1.680e+02 1.330e+02 1.240e+02 9.900e+01 9.300e+01\n",
      " 1.140e+02 7.800e+01 1.090e+02 0.000e+00 5.900e+01 1.000e+00 1.800e+01\n",
      " 4.600e+01 3.600e+01 5.600e+01 3.300e+01 5.420e+02] [1977. 1913. 2131.   45.   29.]\n",
      "# =  10\n",
      "0\n",
      "1\n",
      "2\n",
      "3\n",
      "4\n",
      "17.510110481132077 9.094576839622642 [764. 779. 358. 215. 122. 149. 171. 180. 120. 119. 104.  80.  72.  83.\n",
      "  89.  76.  82.   0.  46.   0.  13.  47.  29.  48.  31. 463.] [1395.  623. 2123.   25.   74.]\n",
      "# =  11\n",
      "0\n",
      "1\n",
      "2\n",
      "3\n",
      "4\n",
      "12.8153115884653 5.8186011241446725 [1234.  878.  337.  160.  113.  145.  116.  133.   83.   83.   69.   58.\n",
      "   48.   50.   62.   29.   53.    0.   29.    0.    8.   44.   18.   22.\n",
      "   20.  300.] [2714.  333.  839.  147.   59.]\n",
      "# =  12\n",
      "0\n",
      "1\n",
      "2\n",
      "3\n",
      "4\n",
      "14.820721248803828 6.701302870813397 [972. 868. 363. 197. 111. 147. 149. 163.  95. 101.  99.  83.  64.  58.\n",
      "  66.  48.  67.   0.  45.   0.  11.  47.  15.  28.  19. 364.] [1798. 1005. 1269.   68.   40.]\n",
      "# =  13\n",
      "0\n",
      "1\n",
      "2\n",
      "3\n",
      "4\n",
      "12.765924775796867 6.083962938951917 [1000.  837.  313.  190.  110.  124.  108.  126.   86.   81.   67.   69.\n",
      "   50.   48.   47.   26.   59.    0.   28.    0.    6.   23.   21.   20.\n",
      "   14.  249.] [1591. 1678.  120.  208.  105.]\n",
      "# =  14\n",
      "0\n",
      "1\n",
      "2\n",
      "3\n",
      "4\n",
      "14.881325669626998 8.254819680284191 [662. 613. 230. 147.  71.  87.  86. 115.  54.  73.  56.  52.  42.  36.\n",
      "  35.  31.  51.   0.  35.   0.   3.  25.  15.  18.  12. 266.] [ 898. 1409.  188.  160.  160.]\n",
      "# =  15\n",
      "0\n",
      "1\n",
      "2\n",
      "3\n",
      "4\n",
      "15.696275904027422 8.518259411596688 [786. 729. 283. 166. 100. 115. 125. 120.  76.  82.  69.  80.  52.  53.\n",
      "  61.  45.  61.   0.  32.   1.   8.  34.  18.  39.  27. 339.] [1358.  912. 1008.   74.  149.]\n",
      "# =  16\n",
      "0\n",
      "1\n",
      "2\n",
      "3\n",
      "4\n",
      "15.061122684719535 7.976227852998066 [1167. 1117.  439.  234.  156.  160.  188.  205.  115.  127.  115.   97.\n",
      "   75.   69.   91.   54.   83.    0.   42.    0.   17.   39.   31.   37.\n",
      "   27.  485.] [1943. 1700. 1181.  142.  204.]\n",
      "# =  17\n",
      "0\n",
      "1\n",
      "2\n",
      "3\n",
      "4\n",
      "19.46189420682469 12.640353581661891 [535. 665. 333. 186. 119. 133. 159. 193. 112. 116.  93.  86.  78.  73.\n",
      "  83.  65.  80.   0.  54.   1.  16.  43.  24.  47.  45. 500.] [ 659. 1169. 1519.  234.  258.]\n",
      "# =  18\n",
      "0\n",
      "1\n",
      "2\n",
      "3\n",
      "4\n",
      "20.16843449361702 14.398729021276596 [348. 409. 183. 125.  68.  89.  81.  89.  52.  75.  58.  49.  46.  35.\n",
      "  46.  48.  61.   0.  31.   0.   8.  19.  17.  32.  14. 367.] [450. 757. 683. 206. 254.]\n",
      "# =  19\n",
      "0\n",
      "1\n",
      "2\n",
      "3\n",
      "4\n",
      "17.54439953885029 10.845979532533166 [556. 604. 255. 168. 100. 114. 128. 141.  94.  91.  63.  55.  58.  58.\n",
      "  55.  48.  51.   0.  35.   1.  18.  31.  24.  29.  20. 369.] [ 701. 1142. 1003.  120.  200.]\n",
      "# =  20\n",
      "0\n",
      "1\n",
      "2\n",
      "3\n",
      "4\n",
      "23.429160504017528 17.602681154127097 [283. 416. 198. 130.  86.  98. 104. 122.  67.  93.  71.  58.  52.  49.\n",
      "  66.  55.  71.   0.  31.   0.  11.  45.  26.  40.  31. 535.] [ 362.  455. 1316.  261.  344.]\n",
      "# =  21\n",
      "0\n",
      "1\n",
      "2\n",
      "3\n",
      "4\n",
      "15.532559698086711 8.493531332280146 [1.302e+03 1.176e+03 4.640e+02 2.650e+02 1.640e+02 1.740e+02 1.880e+02\n",
      " 2.410e+02 1.350e+02 1.380e+02 1.180e+02 1.040e+02 8.900e+01 7.900e+01\n",
      " 1.000e+02 6.200e+01 1.010e+02 0.000e+00 5.700e+01 1.000e+00 1.900e+01\n",
      " 4.600e+01 3.200e+01 3.400e+01 4.100e+01 5.670e+02] [2253. 1640. 1315.  259.  230.]\n",
      "# =  22\n",
      "0\n",
      "1\n",
      "2\n",
      "3\n",
      "4\n",
      "18.03881771615008 10.199928670473083 [792. 936. 409. 249. 162. 182. 169. 221. 132. 149. 121. 104.  93.  98.\n",
      "  91.  64. 102.   0.  56.   0.  14.  56.  35.  46.  39. 584.] [ 915. 1897. 1620.  317.  155.]\n",
      "# =  23\n",
      "0\n",
      "1\n",
      "2\n",
      "3\n",
      "4\n",
      "18.991488420542634 12.162115067829458 [764. 747. 301. 185. 124. 135. 134. 165.  82. 114.  93.  83.  74.  85.\n",
      " 100.  55.  82.   0.  53.   1.  14.  38.  26.  51.  32. 590.] [1427.  585. 1681.   59.  376.]\n",
      "# =  24\n",
      "0\n",
      "1\n",
      "2\n",
      "3\n",
      "4\n",
      "21.102700330843117 14.817577267876201 [465. 641. 288. 174. 106. 139. 148. 167. 110. 129.  88.  84.  78.  80.\n",
      "  82.  61.  83.   0.  50.   0.  13.  42.  35.  42.  38. 605.] [ 210. 1721. 1080.  330.  407.]\n",
      "# =  25\n",
      "0\n",
      "1\n",
      "2\n",
      "3\n",
      "4\n",
      "16.12848899146088 11.12371719363028 [1167.  847.  335.  160.  100.  125.  113.  140.   89.   86.   75.   70.\n",
      "   60.   55.   70.   45.   75.    0.   41.    0.   13.   43.   21.   26.\n",
      "   28.  549.] [2483.  731.  297.  306.  516.]\n",
      "# =  26\n",
      "0\n",
      "1\n",
      "2\n",
      "3\n",
      "4\n",
      "13.192401721194882 6.44000106685633 [845. 617. 220. 108.  65.  82.  82. 102.  51.  49.  49.  44.  30.  30.\n",
      "  40.  37.  35.   0.  26.   0.   7.  25.  15.  18.  15. 220.] [2002.   15.  585.  163.   47.]\n",
      "# =  27\n",
      "0\n",
      "1\n",
      "2\n",
      "3\n",
      "4\n",
      "16.32029339057684 9.154402818141788 [926. 901. 378. 245. 128. 161. 150. 189.  99. 125. 113.  89.  74.  70.\n",
      "  68.  58.  92.   0.  56.   0.  14.  48.  26.  42.  27. 463.] [1561. 1251. 1145.  576.    9.]\n",
      "# =  28\n",
      "0\n",
      "1\n",
      "2\n",
      "3\n",
      "4\n",
      "17.779475499522444 11.887482101241643 [1.158e+03 9.680e+02 3.980e+02 2.280e+02 1.150e+02 1.690e+02 1.740e+02\n",
      " 1.820e+02 1.280e+02 1.270e+02 1.140e+02 9.600e+01 7.500e+01 8.500e+01\n",
      " 9.500e+01 5.700e+01 1.010e+02 0.000e+00 4.600e+01 1.000e+00 2.500e+01\n",
      " 6.500e+01 2.900e+01 6.400e+01 3.800e+01 6.970e+02] [2431.  623. 1209.  585.  387.]\n",
      "# =  29\n",
      "0\n",
      "1\n",
      "2\n",
      "3\n",
      "4\n",
      "16.38802931356979 10.181187153696841 [1218. 1148.  456.  251.  163.  177.  206.  204.  124.  158.  122.  111.\n",
      "   90.   87.  104.   79.  113.    0.   53.    0.   19.   50.   35.   50.\n",
      "   37.  612.] [2105. 1601. 1147.  519.  295.]\n",
      "# =  30\n",
      "0\n",
      "1\n",
      "2\n",
      "3\n",
      "4\n",
      "19.009345277630878 13.160048863035431 [328. 363. 134.  82.  39.  62.  70.  75.  60.  50.  36.  44.  43.  31.\n",
      "  36.  30.  47.   0.  22.   0.  14.  19.  18.  15.  13. 260.] [313. 964.   9. 555.  50.]\n",
      "# =  31\n",
      "0\n",
      "1\n",
      "2\n",
      "3\n",
      "4\n",
      "19.792319899387575 15.535029571303586 [862. 818. 338. 207. 111. 134. 131. 159. 106. 119.  94.  94.  76.  81.\n",
      "  77.  74. 100.   0.  61.   0.  18.  38.  30.  45.  40. 759.] [1210. 1727.  339.  598.  698.]\n",
      "# =  32\n",
      "0\n",
      "1\n",
      "2\n",
      "3\n",
      "4\n",
      "16.607421013299557 11.744654042643024 [1142.  949.  352.  205.  113.  148.  128.  159.   98.  112.   90.   79.\n",
      "   91.   68.   64.   68.   81.    0.   40.    0.   19.   48.   23.   34.\n",
      "   29.  597.] [2039. 1502.  242.  382.  572.]\n",
      "# =  33\n",
      "0\n",
      "1\n",
      "2\n",
      "3\n",
      "4\n",
      "19.67211399293286 17.65904322732627 [839. 561. 228. 109.  59.  84.  94. 106.  61.  74.  62.  55.  58.  43.\n",
      "  65.  50.  61.   0.  47.   0.   9.  38.  16.  34.  27. 616.] [1928.   88.  146.  558.  676.]\n",
      "# =  34\n",
      "0\n",
      "1\n"
     ]
    },
    {
     "name": "stdout",
     "output_type": "stream",
     "text": [
      "2\n",
      "3\n",
      "4\n",
      "24.223342134510517 18.840832511036094 [337. 579. 281. 187. 109. 120. 132. 171. 109. 123. 111.  93.  80.  91.\n",
      "  90.  88. 111.   0.  45.   0.  14.  65.  31.  61.  46. 777.] [  13. 1535. 1267.  387.  649.]\n",
      "# =  35\n",
      "0\n",
      "1\n",
      "2\n",
      "3\n",
      "4\n",
      "22.126001038251367 16.227884016393446 [652. 646. 321. 200. 125. 143. 157. 171. 106. 125. 113.  93.  87.  90.\n",
      "  91.  87.  94.   0.  63.   0.  23.  60.  34.  60.  53. 798.] [ 987.  896. 1445.  545.  519.]\n",
      "# =  36\n",
      "0\n",
      "1\n",
      "2\n",
      "3\n",
      "4\n",
      "18.08572843013024 12.372427314325941 [1.191e+03 1.066e+03 4.380e+02 2.430e+02 1.360e+02 1.900e+02 1.790e+02\n",
      " 2.190e+02 1.180e+02 1.340e+02 1.150e+02 1.130e+02 9.600e+01 9.300e+01\n",
      " 1.050e+02 7.200e+01 1.120e+02 0.000e+00 5.500e+01 1.000e+00 2.000e+01\n",
      " 5.800e+01 3.700e+01 5.800e+01 5.000e+01 7.830e+02] [2177. 1265. 1435.   84.  721.]\n",
      "# =  37\n",
      "0\n",
      "1\n",
      "2\n",
      "3\n",
      "4\n",
      "18.478629458646616 14.07488060150376 [1153. 1030.  365.  207.  132.  159.  149.  191.  105.  119.  110.  108.\n",
      "   80.   81.   96.   83.   90.    0.   56.    0.   16.   53.   33.   58.\n",
      "   52.  794.] [2087. 1243.  808.  400.  782.]\n",
      "# =  38\n",
      "0\n",
      "1\n",
      "2\n",
      "3\n",
      "4\n",
      "26.26735836103152 23.186523782234953 [197. 210. 112.  61.  40.  48.  55.  71.  46.  51.  36.  35.  48.  41.\n",
      "  51.  41.  46.   0.  27.   0.  15.  28.  16.  27.  26. 417.] [348. 295. 242. 525. 335.]\n",
      "# =  39\n",
      "0\n",
      "1\n",
      "2\n",
      "3\n",
      "4\n",
      "24.77933529018535 20.35259775144333 [382. 443. 218. 129.  85. 102.  91. 141.  96.  97.  78.  72.  83.  78.\n",
      "  87.  74.  95.   0.  42.   0.  21.  38.  31.  57.  34. 717.] [410. 837. 754. 815. 475.]\n",
      "# =  40\n",
      "0\n",
      "1\n",
      "2\n",
      "3\n",
      "4\n",
      "21.33196819995193 17.522976015380916 [811. 664. 272. 155.  90. 132. 118. 143.  89.  97.  75.  87.  57.  83.\n",
      "  88.  77.  88.   0.  55.   0.  23.  50.  37.  45.  39. 786.] [1727.  432.  799.  375.  828.]\n",
      "# =  41\n",
      "0\n",
      "1\n",
      "2\n",
      "3\n",
      "4\n",
      "20.53528743763115 15.659638983446023 [675. 761. 319. 164. 126. 150. 134. 181.  95. 151.  84.  87.  78.  80.\n",
      "  95.  62. 100.   0.  49.   1.  18.  54.  33.  59.  34. 699.] [ 907. 1306. 1106.  363.  607.]\n",
      "# =  42\n",
      "0\n",
      "1\n",
      "2\n",
      "3\n",
      "4\n",
      "22.31801422894986 17.04334981078524 [569. 628. 297. 198. 110. 132. 154. 180. 105. 169. 112.  96.  89.  79.\n",
      " 102.  75. 102.   0.  54.   0.  24.  60.  38.  52.  41. 762.] [ 750. 1055. 1097.  939.  387.]\n",
      "# =  43\n",
      "0\n",
      "1\n",
      "2\n",
      "3\n",
      "4\n",
      "17.33962241845003 10.672951381674629 [990. 912. 386. 226. 149. 150. 160. 186. 113. 142.  97.  89.  75.  69.\n",
      "  87.  60.  99.   0.  55.   0.  20.  59.  33.  47.  40. 569.] [1837. 1080. 1091.  632.  173.]\n",
      "# =  44\n",
      "0\n",
      "1\n",
      "2\n",
      "3\n",
      "4\n",
      "17.907943047966 12.630791742562232 [354. 301. 138.  66.  55.  53.  50.  51.  24.  45.  35.  34.  23.  26.\n",
      "  32.  18.  32.   0.  22.   0.   3.  23.  10.  20.  17. 215.] [778. 135. 468.  81. 185.]\n",
      "# =  45\n",
      "0\n",
      "1\n",
      "2\n",
      "3\n",
      "4\n",
      "28.530643612121214 25.69328056565657 [169. 243. 158.  94.  76.  79.  74.  95.  71.  88.  76.  58.  68.  65.\n",
      "  72.  56.  71.   0.  37.   1.  12.  41.  21.  50.  33. 667.] [202. 269. 807. 666. 531.]\n",
      "# =  46\n",
      "0\n",
      "1\n",
      "2\n",
      "3\n",
      "4\n",
      "22.754300571161046 14.956999719101125 [190. 327. 156.  99.  74.  79.  93. 104.  60.  66.  74.  57.  49.  56.\n",
      "  60.  36.  48.   0.  31.   1.  12.  29.  15.  31.  33. 356.] [  99.  544. 1216.  119.  158.]\n",
      "# =  47\n",
      "0\n",
      "1\n",
      "2\n",
      "3\n",
      "4\n",
      "23.826922393980848 22.49671313269494 [585. 426. 155.  95.  59.  80.  64.  77.  51.  71.  50.  54.  40.  50.\n",
      "  63.  40.  67.   0.  31.   0.  16.  43.  25.  36.  36. 710.] [1326.  222.   65.  444.  867.]\n",
      "# =  48\n",
      "0\n",
      "1\n",
      "2\n",
      "3\n",
      "4\n",
      "18.50602425208258 12.55498457080768 [504. 503. 236. 129.  73.  92.  85. 113.  70.  79.  61.  70.  49.  46.\n",
      "  49.  39.  48.   0.  20.   0.  18.  32.  17.  26.  20. 382.] [ 711. 1039.  273.  641.   97.]\n",
      "# =  49\n",
      "0\n",
      "1\n",
      "2\n",
      "3\n",
      "4\n",
      "23.62308410958904 20.189943483365948 [ 819.  734.  324.  197.  110.  140.  138.  190.  117.  146.  122.  110.\n",
      "   91.   92.  119.   84.  129.    0.   63.    0.   20.   83.   42.   58.\n",
      "   55. 1127.] [1727.  322. 1202.  862.  997.]\n",
      "# =  50\n",
      "0\n",
      "1\n",
      "2\n",
      "3\n",
      "4\n",
      "26.229103247030153 25.59184282668291 [480. 423. 199. 116.  60.  89.  81. 108.  52.  84.  65.  64.  57.  74.\n",
      "  88.  49.  83.   0.  43.   0.  14.  54.  32.  54.  36. 878.] [ 904.  500.  288.  495. 1096.]\n",
      "# =  51\n",
      "0\n",
      "1\n",
      "2\n",
      "3\n",
      "4\n",
      "30.38775356102004 32.09258369763206 [278. 235. 105.  52.  33.  43.  48.  71.  47.  51.  40.  32.  37.  39.\n",
      "  56.  46.  49.   0.  27.   0.  19.  38.  19.  26.  33. 772.] [ 679.   48.  167.  229. 1073.]\n",
      "# =  52\n",
      "0\n",
      "1\n",
      "2\n",
      "3\n",
      "4\n",
      "20.330988637820518 17.694922435897436 [558. 405. 172.  90.  59.  66.  75.  82.  51.  55.  39.  51.  39.  28.\n",
      "  49.  31.  48.   0.  23.   0.  10.  26.  15.  26.  23. 475.] [1258.   99.  469.   62.  608.]\n",
      "# =  53\n",
      "0\n",
      "1\n",
      "2\n",
      "3\n",
      "4\n",
      "21.822522167373698 16.104046818357116 [418. 379. 163.  94.  58.  88.  86. 118.  65.  73.  71.  70.  53.  55.\n",
      "  71.  53.  75.   0.  37.   0.  14.  43.  16.  34.  30. 429.] [934.  14. 720. 882.  43.]\n",
      "# =  54\n",
      "0\n",
      "1\n",
      "2\n",
      "3\n",
      "4\n",
      "22.159971400945423 18.52146927374302 [768. 729. 296. 190. 112. 136. 133. 194. 108. 130. 107. 100.  99. 104.\n",
      "  95.  60. 118.   0.  58.   0.  18.  47.  34.  54.  41. 923.] [1321. 1070.  560.  940.  763.]\n",
      "# =  55\n",
      "0\n",
      "1\n",
      "2\n",
      "3\n",
      "4\n",
      "20.512078429073856 16.80519406017976 [517. 460. 162.  98.  48.  58.  81.  73.  62.  64.  47.  48.  50.  38.\n",
      "  56.  37.  61.   0.  28.   0.  11.  28.  25.  28.  22. 457.] [938. 561. 242. 389. 429.]\n",
      "# =  56\n",
      "0\n",
      "1\n",
      "2\n",
      "3\n",
      "4\n",
      "30.305161545338443 27.757975223499358 [ 81. 152.  78.  54.  48.  52.  58.  60.  35.  56.  42.  37.  38.  32.\n",
      "  56.  38.  46.   0.  27.   0.   7.  34.  19.  26.  26. 464.] [ 82. 207. 477. 370. 430.]\n",
      "# =  57\n",
      "0\n",
      "1\n",
      "2\n",
      "3\n",
      "4\n",
      "30.86614770212766 31.529261968085105 [ 404.  330.  171.  112.   58.   83.   95.  128.   73.   90.   80.   89.\n",
      "   90.  101.  100.   88.  111.    0.   51.    0.   22.   62.   43.   77.\n",
      "   47. 1255.] [ 900.   15.  377. 1073. 1395.]\n",
      "# =  58\n",
      "0\n",
      "1\n",
      "2\n",
      "3\n",
      "4\n",
      "15.835666430644222 10.273375623911782 [468. 317. 128.  66.  40.  49.  45.  71.  32.  38.  32.  32.  29.  22.\n",
      "  33.  29.  35.   0.  18.   0.   4.  17.   7.  10.   5. 196.] [1027.   92.  296.  212.   96.]\n",
      "# =  59\n",
      "0\n",
      "1\n",
      "2\n",
      "3\n",
      "4\n",
      "27.369443533251733 24.656084863321095 [173. 290. 149. 104.  47.  88.  83.  92.  59.  77.  64.  68.  67.  78.\n",
      "  73.  70.  90.   0.  36.   0.  20.  38.  23.  39.  30. 593.] [   8.  850.   33. 1285.  275.]\n",
      "# =  60\n",
      "0\n",
      "1\n",
      "2\n",
      "3\n",
      "4\n",
      "22.54262283152783 18.006512065745238 [441. 381. 161. 100.  71.  79.  85. 101.  58.  81.  60.  59.  66.  57.\n",
      "  62.  56.  84.   0.  37.   0.  21.  44.  23.  38.  25. 487.] [ 836.  383.  135. 1259.   64.]\n",
      "# =  61\n",
      "0\n",
      "1\n",
      "2\n",
      "3\n",
      "4\n",
      "25.592762912371132 23.21090201890034 [ 629.  648.  279.  169.   94.  128.  128.  180.  108.  112.   91.   96.\n",
      "   97.  115.  105.   70.  110.    0.   57.    0.   26.   73.   45.   60.\n",
      "   60. 1176.] [1010. 1008.  442. 1085. 1111.]\n",
      "# =  62\n",
      "0\n",
      "1\n",
      "2\n",
      "3\n",
      "4\n",
      "29.922920227560052 30.58945176991151 [2.89e+02 3.50e+02 1.81e+02 1.10e+02 6.10e+01 7.30e+01 8.60e+01 1.15e+02\n",
      " 6.10e+01 7.80e+01 7.30e+01 7.30e+01 6.60e+01 6.30e+01 6.00e+01 6.00e+01\n",
      " 8.10e+01 0.00e+00 5.80e+01 1.00e+00 1.80e+01 4.70e+01 3.10e+01 4.60e+01\n",
      " 5.30e+01 1.03e+03] [ 182.  919.  515.   31. 1517.]\n",
      "# =  63\n",
      "0\n",
      "1\n",
      "2\n",
      "3\n",
      "4\n",
      "27.353626826072716 24.797415460203077 [264. 367. 190. 117.  82.  93.  95. 109.  92. 105.  81.  56.  67.  75.\n",
      "  84.  59.  85.   0.  47.   0.  18.  53.  33.  53.  46. 782.] [212. 774. 500. 930. 637.]\n",
      "# =  64\n",
      "0\n",
      "1\n",
      "2\n",
      "3\n",
      "4\n",
      "35.65181808673469 37.40549545918367 [ 115.  209.  158.  100.   69.   96.   97.  160.   90.  125.   99.  115.\n",
      "  102.  114.  115.  107.  134.    0.   74.    0.   30.   88.   49.   99.\n",
      "   66. 1509.] [ 130.  177.  495. 1483. 1635.]\n",
      "# =  65\n",
      "0\n",
      "1\n",
      "2\n",
      "3\n",
      "4\n",
      "28.465014241486067 27.01039040247678 [167. 235. 104.  69.  26.  57.  62.  72.  39.  61.  42.  54.  51.  52.\n",
      "  53.  44.  55.   0.  31.   0.   9.  39.  17.  35.  27. 537.] [309. 151. 461. 497. 520.]\n",
      "# =  66\n",
      "0\n",
      "1\n",
      "2\n",
      "3\n",
      "4\n",
      "22.734651055555556 19.9730325 [565. 421. 191.  98.  66.  79.  69. 103.  50.  63.  55.  51.  44.  41.\n",
      "  55.  44.  69.   0.  39.   0.  16.  44.  23.  37.  25. 632.] [1197.  186.  539.  230.  728.]\n",
      "# =  67\n",
      "0\n",
      "1\n",
      "2\n",
      "3\n",
      "4\n",
      "28.651582333439595 29.031435766656042 [408. 365. 155.  95.  69.  81.  76. 107.  60.  52.  61.  72.  60.  52.\n",
      "  68.  60.  77.   0.  38.   0.  15.  60.  36.  47.  41. 982.] [ 934.   50.  702.   39. 1412.]\n",
      "# =  68\n",
      "0\n",
      "1\n",
      "2\n",
      "3\n",
      "4\n",
      "29.36027250159676 30.059813072173725 [ 519.  493.  233.  134.   88.  119.  114.  176.  103.  128.   98.  110.\n",
      "  100.   99.  122.  113.  136.    0.   67.    0.   29.   71.   47.   72.\n",
      "   56. 1470.] [ 992.  520.  214. 1295. 1676.]\n",
      "# =  69\n",
      "0\n",
      "1\n",
      "2\n",
      "3\n",
      "4\n",
      "29.070794858828485 25.124527180783815 [157. 230. 138.  77.  49.  67.  65. 111.  61. 105.  62.  61.  62.  71.\n",
      "  64.  72.  90.   0.  34.   0.  25.  44.  21.  45.  37. 625.] [ 300.   40.  580. 1266.  187.]\n",
      "# =  70\n",
      "0\n"
     ]
    },
    {
     "name": "stdout",
     "output_type": "stream",
     "text": [
      "1\n",
      "2\n",
      "3\n",
      "4\n",
      "28.024894204258388 26.58538679177192 [300. 302. 143.  88.  55.  82.  82. 108.  67.  94.  63.  62.  52.  62.\n",
      "  80.  57. 100.   0.  36.   0.  31.  40.  25.  50.  33. 759.] [ 654.  133.  207. 1247.  530.]\n",
      "# =  71\n",
      "0\n",
      "1\n",
      "2\n",
      "3\n",
      "4\n",
      "26.812419715302493 25.894478924476076 [340. 300. 141.  81.  57.  62.  68.  89.  54.  70.  60.  63.  53.  56.\n",
      "  63.  41.  67.   0.  36.   0.  16.  45.  25.  34.  34. 674.] [773.  82. 230. 819. 625.]\n",
      "# =  72\n",
      "0\n",
      "1\n",
      "2\n",
      "3\n",
      "4\n",
      "34.880439902534114 35.571245159194284 [ 120.  183.  125.   63.   54.   76.   83.  117.   72.   96.   84.   88.\n",
      "   86.   95.   98.   86.  107.    0.   55.    0.   25.   57.   37.   58.\n",
      "   49. 1164.] [ 206.   91.  467. 1129. 1185.]\n",
      "# =  73\n",
      "0\n",
      "1\n",
      "2\n",
      "3\n",
      "4\n",
      "28.368839463573757 25.804459731786874 [243. 270. 155.  99.  81.  79.  83. 119.  68. 102.  67.  62.  62.  65.\n",
      "  76.  70.  84.   0.  36.   0.  30.  63.  27.  47.  34. 737.] [ 382.  304.  513. 1039.  521.]\n",
      "# =  74\n",
      "0\n",
      "1\n",
      "2\n",
      "3\n",
      "4\n",
      "31.292063012240558 31.835869345396485 [3.430e+02 3.340e+02 1.620e+02 1.210e+02 8.300e+01 9.000e+01 8.300e+01\n",
      " 1.340e+02 8.800e+01 1.050e+02 6.900e+01 9.100e+01 8.400e+01 8.900e+01\n",
      " 1.020e+02 8.500e+01 1.010e+02 0.000e+00 5.800e+01 1.000e+00 2.000e+01\n",
      " 7.400e+01 5.600e+01 7.900e+01 4.900e+01 1.257e+03] [ 617.  285.  545.  791. 1520.]\n",
      "# =  75\n",
      "0\n",
      "1\n",
      "2\n",
      "3\n",
      "4\n",
      "29.048236559063497 28.032467257892872 [254. 313. 171.  98.  60.  70.  77.  99.  63.  87.  58.  59.  70.  72.\n",
      "  72.  59.  73.   0.  48.   0.  13.  39.  29.  45.  29. 861.] [316. 577. 460. 501. 965.]\n",
      "# =  76\n",
      "0\n",
      "1\n",
      "2\n",
      "3\n",
      "4\n",
      "30.188203048780487 30.18208344947735 [ 270.  328.  170.   98.   72.  108.  110.  120.   87.  116.   87.   76.\n",
      "   85.   93.   96.   75.  117.    0.   47.    0.   28.   64.   45.   59.\n",
      "   45. 1048.] [ 525.  259.  340. 1343.  977.]\n",
      "# =  77\n",
      "0\n",
      "1\n",
      "2\n",
      "3\n",
      "4\n",
      "37.05552818862691 39.518522662968095 [ 121.  178.  121.   70.   47.   78.   92.  128.   70.  109.   92.   83.\n",
      "   79.   99.  127.  114.  123.    0.   60.    0.   37.   84.   51.   74.\n",
      "   66. 1502.] [ 198.   82.  276. 1354. 1695.]\n",
      "# =  78\n",
      "0\n",
      "1\n",
      "2\n",
      "3\n",
      "4\n",
      "38.289330951653945 42.334737099236634 [ 68.  94.  60.  37.  26.  42.  34.  63.  46.  56.  34.  50.  36.  54.\n",
      "  71.  43.  64.   0.  29.   0.  13.  41.  24.  39.  44. 897.] [  78.  159.   63.  479. 1186.]\n",
      "# =  79\n",
      "0\n",
      "1\n",
      "2\n",
      "3\n",
      "4\n",
      "31.400004500521376 32.16924713242961 [ 389.  419.  213.  150.   98.  123.  130.  177.  108.  149.  107.  107.\n",
      "  115.  118.  133.   98.  141.    0.   79.    0.   35.   96.   58.   80.\n",
      "   66. 1606.] [ 672.  470.  447. 1413. 1793.]\n",
      "# =  80\n",
      "0\n",
      "1\n",
      "2\n",
      "3\n",
      "4\n",
      "33.85065593089221 36.09295884476534 [ 259.  303.  152.   91.   69.   95.   88.  116.   87.  111.   97.   92.\n",
      "   87.   86.  112.   88.  127.    0.   66.    0.   27.   65.   50.   69.\n",
      "   65. 1476.] [ 339.  459.  330.  858. 1892.]\n",
      "# =  81\n",
      "0\n",
      "1\n",
      "2\n",
      "3\n",
      "4\n",
      "27.694241273743017 25.92773668528864 [247. 298. 139.  98.  60.  71.  82. 124.  63.  87.  69.  71.  75.  76.\n",
      "  78.  67.  80.   0.  43.   0.  11.  58.  26.  46.  39. 677.] [ 377.  440.  261. 1090.  517.]\n",
      "# =  82\n",
      "0\n",
      "1\n",
      "2\n",
      "3\n",
      "4\n",
      "31.92430417305922 32.5497029150046 [ 249.  290.  138.   92.   60.   87.   91.  105.   72.   82.   65.   88.\n",
      "   79.   84.  104.   70.  104.    0.   60.    0.   24.   60.   36.   67.\n",
      "   52. 1100.] [ 430.  258.  331. 1056. 1184.]\n",
      "# =  83\n",
      "0\n",
      "1\n",
      "2\n",
      "3\n",
      "4\n",
      "36.88659553455723 40.78195912526998 [ 182.  204.  118.   78.   51.   64.   64.  130.   68.  103.   76.   99.\n",
      "   99.  101.  112.   85.  116.    0.   69.    0.   23.   75.   53.   81.\n",
      "   75. 1578.] [ 305.  221.   50. 1073. 2055.]\n",
      "# =  84\n",
      "0\n",
      "1\n",
      "2\n",
      "3\n",
      "4\n",
      "33.68194286543345 33.68841334784186 [143. 180.  98.  62.  52.  71.  64. 107.  72. 100.  86.  70.  79.  81.\n",
      "  92.  82.  94.   0.  48.   0.  28.  50.  36.  45.  43. 974.] [ 250.   21.  252. 1503.  731.]\n",
      "# =  85\n",
      "0\n",
      "1\n",
      "2\n",
      "3\n",
      "4\n",
      "26.83752361533779 24.184366646378578 [198. 185.  94.  60.  39.  53.  38.  53.  35.  52.  45.  33.  41.  43.\n",
      "  50.  41.  46.   0.  15.   0.  12.  26.  22.  27.  23. 412.] [358. 219.  11. 865. 190.]\n",
      "# =  86\n",
      "0\n",
      "1\n",
      "2\n",
      "3\n",
      "4\n",
      "34.29700115193644 35.82758723932473 [ 186.  279.  153.  121.   71.  106.   96.  141.   99.  134.  101.  100.\n",
      "  108.  102.  111.  102.  134.    0.   65.    0.   42.   68.   47.   88.\n",
      "   80. 1494.] [ 245.  354.  246. 1621. 1562.]\n",
      "# =  87\n",
      "0\n",
      "1\n",
      "2\n",
      "3\n",
      "4\n",
      "36.32609530080531 40.719699194694456 [106. 128.  81.  58.  31.  42.  40.  69.  43.  52.  44.  47.  51.  40.\n",
      "  59.  50.  68.   0.  37.   0.  13.  44.  24.  42.  36. 906.] [  90.  270.  214.  170. 1367.]\n",
      "# =  88\n",
      "0\n",
      "1\n",
      "2\n",
      "3\n",
      "4\n",
      "38.37357081147794 41.8590596112311 [  58.  131.  106.   74.   57.   76.   72.  122.   74.   98.   61.   61.\n",
      "   80.   98.   98.   84.  108.    0.   64.    0.   23.   68.   47.   64.\n",
      "   74. 1443.] [  15.  187.  250. 1024. 1765.]\n",
      "# =  89\n",
      "0\n",
      "1\n",
      "2\n",
      "3\n",
      "4\n",
      "36.664556114409066 41.312140960604424 [ 61. 121.  62.  51.  34.  38.  34.  75.  33.  46.  31.  43.  51.  42.\n",
      "  55.  44.  59.   0.  37.   0.  16.  39.  30.  33.  30. 788.] [   9.  272.  234.  107. 1231.]\n",
      "# =  90\n",
      "0\n",
      "1\n",
      "2\n",
      "3\n",
      "4\n",
      "38.91330867082376 45.44896238923531 [ 148.  137.   84.   48.   37.   51.   51.   91.   52.   69.   60.   73.\n",
      "   65.   66.   93.   60.  101.    0.   57.    0.   20.   62.   42.   69.\n",
      "   61. 1450.] [ 305.   94.   22.  385. 2241.]\n",
      "# =  91\n",
      "0\n",
      "1\n",
      "2\n",
      "3\n",
      "4\n",
      "38.225170997493734 44.878915989974935 [113. 119.  55.  33.  21.  35.  26.  54.  39.  40.  35.  48.  36.  43.\n",
      "  55.  39.  64.   0.  46.   0.   6.  44.  22.  37.  35. 950.] [ 242.   94.   46.   76. 1537.]\n",
      "# =  92\n",
      "0\n",
      "1\n",
      "2\n",
      "3\n",
      "4\n",
      "35.82777376794258 38.76972272727273 [ 35.  91.  70.  49.  31.  46.  36.  63.  45.  51.  41.  37.  50.  55.\n",
      "  57.  44.  53.   0.  26.   0.  15.  34.  23.  41.  38. 641.] [ 45.  94.   9. 876. 648.]\n",
      "# =  93\n",
      "0\n",
      "1\n",
      "2\n",
      "3\n",
      "4\n",
      "39.47523900464499 45.52589807564698 [ 38.  75.  45.  33.  21.  33.  20.  54.  24.  33.  28.  27.  29.  34.\n",
      "  44.  32.  50.   0.  26.   0.  11.  32.  22.  35.  30. 731.] [  47.   99.  130.  101. 1130.]\n",
      "# =  94\n",
      "0\n",
      "1\n",
      "2\n",
      "3\n",
      "4\n",
      "37.47403219525066 41.460568654353565 [  95.  167.  120.   93.   54.   97.   82.  147.   87.  106.   89.  102.\n",
      "   96.  107.  108.  102.  136.    0.   66.    0.   38.   85.   47.   81.\n",
      "   70. 1615.] [ 171.   57.  117. 1568. 1877.]\n",
      "# =  95\n",
      "0\n",
      "1\n",
      "2\n",
      "3\n",
      "4\n",
      "35.578122496798976 36.31886696542894 [ 30.  77.  47.  45.  34.  48.  45.  58.  39.  53.  41.  35.  51.  53.\n",
      "  64.  47.  58.   0.  21.   0.  21.  39.  24.  35.  26. 571.] [  48.   22.   13. 1101.  378.]\n",
      "# =  96\n",
      "0\n",
      "1\n",
      "2\n",
      "3\n",
      "4\n",
      "36.78729683276451 38.891070443686004 [ 27.  68.  45.  43.  26.  39.  35.  55.  24.  59.  37.  37.  38.  56.\n",
      "  47.  31.  48.   0.  33.   0.  15.  33.  23.  35.  27. 584.] [ 28.  57.  10. 838. 532.]\n",
      "# =  97\n",
      "0\n",
      "1\n",
      "2\n",
      "3\n",
      "4\n",
      "40.80412294827586 48.565722758620694 [ 17.  44.  21.  19.  16.  19.  25.  31.  24.  22.  20.  31.  32.  32.\n",
      "  35.  36.  37.   0.  25.   0.   7.  24.  17.  25.  20. 581.] [ 14.  49.  50. 128. 919.]\n",
      "# =  98\n",
      "0\n",
      "1\n",
      "2\n",
      "3\n",
      "4\n",
      "38.37518916709778 42.30472550439731 [ 20.  67.  57.  48.  28.  45.  46.  73.  45.  67.  51.  56.  43.  56.\n",
      "  72.  44.  74.   0.  33.   0.  23.  38.  24.  54.  33. 836.] [  24.    9.   14. 1001.  885.]\n",
      "# =  99\n",
      "0\n",
      "1\n",
      "2\n",
      "3\n",
      "4\n",
      "42.89424687801516 51.08431929703652 [  14.   47.   49.   35.   33.   46.   41.   85.   52.   72.   63.   80.\n",
      "   76.   69.   99.   69.  103.    0.   60.    0.   25.   69.   37.   73.\n",
      "   62. 1543.] [  19.   11.   16.  485. 2371.]\n"
     ]
    }
   ],
   "source": [
    "df_mass_result=pd.DataFrame(index=np.arange(len(prob_all)),columns=['mass_mean','A_mean_true','Ni','Nri'])\n",
    "probab_min=0.3\n",
    "probab=np.array([probab_min]*N_samples)\n",
    "j=0\n",
    "\n",
    "for i in range(len(prob_all)):\n",
    "    print('# = ', i)\n",
    "    df=extract_data(prob_all[i])\n",
    "    r_mix=df\n",
    "    R_to_A_mix=from_R_to_A_mix(f_arr,min_possible_r,max_possible_r,r_mix)\n",
    "    mass_mean,A_mean_true,Ni,Nri=find_aver_A(R_to_A_mix)\n",
    "    print(mass_mean,A_mean_true,Ni,Nri)\n",
    "    df_mass_result.loc[i]=mass_mean,A_mean_true,Ni,Nri"
   ]
  },
  {
   "cell_type": "markdown",
   "metadata": {},
   "source": [
    "## Аппроксимация сдвига истинной массы от выборочного среднего "
   ]
  },
  {
   "cell_type": "code",
   "execution_count": 25,
   "metadata": {
    "ExecuteTime": {
     "end_time": "2023-07-19T09:21:16.179064Z",
     "start_time": "2023-07-19T09:21:15.564095Z"
    }
   },
   "outputs": [
    {
     "name": "stdout",
     "output_type": "stream",
     "text": [
      "[ 9.75368724 18.03882715 26.32396706 34.60910697 42.89424688] 9.753687236533958 42.89424687801516\n",
      "116.72612158117855\n"
     ]
    },
    {
     "data": {
      "image/png": "[encoded data removed]",
      "text/plain": [
       "<Figure size 432x360 with 1 Axes>"
      ]
     },
     "metadata": {
      "needs_background": "light"
     },
     "output_type": "display_data"
    }
   ],
   "source": [
    "p0_est,p1_est=appro_ab(np.array(df_mass_result['mass_mean']),np.array(df_mass_result['mass_mean']-\n",
    "                                                                     df_mass_result['A_mean_true']))\n",
    "A_est=df_mass_result['mass_mean']-p0_est-p1_est*df_mass_result['mass_mean']\n",
    "def f_line(p0,p1,x):\n",
    "    return p0+p1*x\n",
    "x_many=np.linspace(df_mass_result['mass_mean'].min(),df_mass_result['mass_mean'].max(),5)\n",
    "print(x_many,df_mass_result['mass_mean'].min(),df_mass_result['mass_mean'].max())\n",
    "err_A=sum(abs(A_est-df_mass_result['A_mean_true']))\n",
    "print(err_A)\n",
    "fig=plt.figure(figsize=(6,5))\n",
    "plt.scatter(df_mass_result['mass_mean'],df_mass_result['mass_mean']-df_mass_result['A_mean_true'],s=80)\n",
    "plt.plot(x_many,f_line(p0_est,p1_est,x_many),label='fit')\n",
    "plt.xlabel(r'$\\overline{M}$')\n",
    "plt.ylabel(r'$\\overline{M}-\\overline{A}_{true}$')\n",
    "plt.legend(fontsize=17)\n",
    "plt.grid()\n",
    "# plt.text(14.5,27,'$MAE = 4.7$')\n",
    "plt.savefig('A_aver_true__.png',bbox_inches='tight')"
   ]
  },
  {
   "cell_type": "code",
   "execution_count": 26,
   "metadata": {
    "ExecuteTime": {
     "end_time": "2023-07-19T09:28:08.695081Z",
     "start_time": "2023-07-19T09:28:08.682092Z"
    }
   },
   "outputs": [
    {
     "data": {
      "text/html": [
       "<div>\n",
       "<style scoped>\n",
       "    .dataframe tbody tr th:only-of-type {\n",
       "        vertical-align: middle;\n",
       "    }\n",
       "\n",
       "    .dataframe tbody tr th {\n",
       "        vertical-align: top;\n",
       "    }\n",
       "\n",
       "    .dataframe thead th {\n",
       "        text-align: right;\n",
       "    }\n",
       "</style>\n",
       "<table border=\"1\" class=\"dataframe\">\n",
       "  <thead>\n",
       "    <tr style=\"text-align: right;\">\n",
       "      <th></th>\n",
       "      <th>A_est</th>\n",
       "      <th>A_true</th>\n",
       "    </tr>\n",
       "  </thead>\n",
       "  <tbody>\n",
       "    <tr>\n",
       "      <th>0</th>\n",
       "      <td>10.2463</td>\n",
       "      <td>7.85125</td>\n",
       "    </tr>\n",
       "    <tr>\n",
       "      <th>1</th>\n",
       "      <td>-0.372218</td>\n",
       "      <td>2.86483</td>\n",
       "    </tr>\n",
       "    <tr>\n",
       "      <th>2</th>\n",
       "      <td>5.14438</td>\n",
       "      <td>5.80354</td>\n",
       "    </tr>\n",
       "    <tr>\n",
       "      <th>3</th>\n",
       "      <td>9.50467</td>\n",
       "      <td>7.73148</td>\n",
       "    </tr>\n",
       "    <tr>\n",
       "      <th>4</th>\n",
       "      <td>5.78776</td>\n",
       "      <td>6.49081</td>\n",
       "    </tr>\n",
       "    <tr>\n",
       "      <th>...</th>\n",
       "      <td>...</td>\n",
       "      <td>...</td>\n",
       "    </tr>\n",
       "    <tr>\n",
       "      <th>95</th>\n",
       "      <td>38.1338</td>\n",
       "      <td>36.3189</td>\n",
       "    </tr>\n",
       "    <tr>\n",
       "      <th>96</th>\n",
       "      <td>39.9367</td>\n",
       "      <td>38.8911</td>\n",
       "    </tr>\n",
       "    <tr>\n",
       "      <th>97</th>\n",
       "      <td>45.9261</td>\n",
       "      <td>48.5657</td>\n",
       "    </tr>\n",
       "    <tr>\n",
       "      <th>98</th>\n",
       "      <td>42.3044</td>\n",
       "      <td>42.3047</td>\n",
       "    </tr>\n",
       "    <tr>\n",
       "      <th>99</th>\n",
       "      <td>49.0426</td>\n",
       "      <td>51.0843</td>\n",
       "    </tr>\n",
       "  </tbody>\n",
       "</table>\n",
       "<p>100 rows × 2 columns</p>\n",
       "</div>"
      ],
      "text/plain": [
       "       A_est   A_true\n",
       "0    10.2463  7.85125\n",
       "1  -0.372218  2.86483\n",
       "2    5.14438  5.80354\n",
       "3    9.50467  7.73148\n",
       "4    5.78776  6.49081\n",
       "..       ...      ...\n",
       "95   38.1338  36.3189\n",
       "96   39.9367  38.8911\n",
       "97   45.9261  48.5657\n",
       "98   42.3044  42.3047\n",
       "99   49.0426  51.0843\n",
       "\n",
       "[100 rows x 2 columns]"
      ]
     },
     "execution_count": 26,
     "metadata": {},
     "output_type": "execute_result"
    }
   ],
   "source": [
    "df_A_out=pd.DataFrame({'A_est':A_est,'A_true':df_mass_result['A_mean_true']})\n",
    "df_A_out"
   ]
  },
  {
   "cell_type": "code",
   "execution_count": 27,
   "metadata": {
    "ExecuteTime": {
     "end_time": "2023-07-19T09:28:09.368421Z",
     "start_time": "2023-07-19T09:28:09.348449Z"
    }
   },
   "outputs": [
    {
     "data": {
      "text/html": [
       "<div>\n",
       "<style scoped>\n",
       "    .dataframe tbody tr th:only-of-type {\n",
       "        vertical-align: middle;\n",
       "    }\n",
       "\n",
       "    .dataframe tbody tr th {\n",
       "        vertical-align: top;\n",
       "    }\n",
       "\n",
       "    .dataframe thead th {\n",
       "        text-align: right;\n",
       "    }\n",
       "</style>\n",
       "<table border=\"1\" class=\"dataframe\">\n",
       "  <thead>\n",
       "    <tr style=\"text-align: right;\">\n",
       "      <th></th>\n",
       "      <th>A_est</th>\n",
       "      <th>A_true</th>\n",
       "    </tr>\n",
       "  </thead>\n",
       "  <tbody>\n",
       "    <tr>\n",
       "      <th>0</th>\n",
       "      <td>10.2463</td>\n",
       "      <td>7.85125</td>\n",
       "    </tr>\n",
       "    <tr>\n",
       "      <th>1</th>\n",
       "      <td>-0.372218</td>\n",
       "      <td>2.86483</td>\n",
       "    </tr>\n",
       "    <tr>\n",
       "      <th>2</th>\n",
       "      <td>5.14438</td>\n",
       "      <td>5.80354</td>\n",
       "    </tr>\n",
       "    <tr>\n",
       "      <th>3</th>\n",
       "      <td>9.50467</td>\n",
       "      <td>7.73148</td>\n",
       "    </tr>\n",
       "    <tr>\n",
       "      <th>4</th>\n",
       "      <td>5.78776</td>\n",
       "      <td>6.49081</td>\n",
       "    </tr>\n",
       "    <tr>\n",
       "      <th>...</th>\n",
       "      <td>...</td>\n",
       "      <td>...</td>\n",
       "    </tr>\n",
       "    <tr>\n",
       "      <th>95</th>\n",
       "      <td>38.1338</td>\n",
       "      <td>36.3189</td>\n",
       "    </tr>\n",
       "    <tr>\n",
       "      <th>96</th>\n",
       "      <td>39.9367</td>\n",
       "      <td>38.8911</td>\n",
       "    </tr>\n",
       "    <tr>\n",
       "      <th>97</th>\n",
       "      <td>45.9261</td>\n",
       "      <td>48.5657</td>\n",
       "    </tr>\n",
       "    <tr>\n",
       "      <th>98</th>\n",
       "      <td>42.3044</td>\n",
       "      <td>42.3047</td>\n",
       "    </tr>\n",
       "    <tr>\n",
       "      <th>99</th>\n",
       "      <td>49.0426</td>\n",
       "      <td>51.0843</td>\n",
       "    </tr>\n",
       "  </tbody>\n",
       "</table>\n",
       "<p>99 rows × 2 columns</p>\n",
       "</div>"
      ],
      "text/plain": [
       "       A_est   A_true\n",
       "0    10.2463  7.85125\n",
       "1  -0.372218  2.86483\n",
       "2    5.14438  5.80354\n",
       "3    9.50467  7.73148\n",
       "4    5.78776  6.49081\n",
       "..       ...      ...\n",
       "95   38.1338  36.3189\n",
       "96   39.9367  38.8911\n",
       "97   45.9261  48.5657\n",
       "98   42.3044  42.3047\n",
       "99   49.0426  51.0843\n",
       "\n",
       "[99 rows x 2 columns]"
      ]
     },
     "execution_count": 27,
     "metadata": {},
     "output_type": "execute_result"
    }
   ],
   "source": [
    "df_A_out1=df_A_out.drop(8)\n",
    "df_A_out1"
   ]
  },
  {
   "cell_type": "code",
   "execution_count": 28,
   "metadata": {
    "ExecuteTime": {
     "end_time": "2023-07-19T09:28:11.022802Z",
     "start_time": "2023-07-19T09:28:11.008811Z"
    }
   },
   "outputs": [
    {
     "data": {
      "text/plain": [
       "1.1672612158117854"
      ]
     },
     "execution_count": 28,
     "metadata": {},
     "output_type": "execute_result"
    }
   ],
   "source": [
    "sum(abs(df_A_out['A_est']-df_A_out['A_true']))/len(df_A_out['A_est'])"
   ]
  },
  {
   "cell_type": "markdown",
   "metadata": {},
   "source": [
    "## Оценка восстановления средней массы по всей выборке "
   ]
  },
  {
   "cell_type": "code",
   "execution_count": 29,
   "metadata": {
    "ExecuteTime": {
     "end_time": "2023-07-19T09:28:29.586875Z",
     "start_time": "2023-07-19T09:28:29.290647Z"
    }
   },
   "outputs": [
    {
     "data": {
      "image/png": "[encoded data removed]",
      "text/plain": [
       "<Figure size 432x360 with 1 Axes>"
      ]
     },
     "metadata": {
      "needs_background": "light"
     },
     "output_type": "display_data"
    }
   ],
   "source": [
    "# MAE\n",
    "MAE=sum(abs(df_A_out['A_est']-df_A_out['A_true']))/len(df_A_out['A_est'])\n",
    "\n",
    "fig,ax=plt.subplots(figsize=(6,5))\n",
    "    \n",
    "plt.scatter(df_mass_result['A_mean_true'],A_est,s=80,color='green')  \n",
    "# plt.axhline(15,color='gray',linewidth=2,linestyle='--',label='истинные массы')\n",
    "# plt.legend(loc='center left',bbox_to_anchor=(1,0.5),fontsize=20)\n",
    "x=np.linspace(min(df_A_out['A_true']),max(df_A_out['A_true']),100)\n",
    "y=x\n",
    "plt.plot(x,y,color='green')\n",
    "plt.xlabel('Истинные средние массы')\n",
    "plt.ylabel('Оцененные средние массы')\n",
    "plt.xlabel(r'$\\overline{A}_{true}$')\n",
    "plt.ylabel(r'$\\overline{A}_{est}$')\n",
    "plt.text(4,42.2,'MAE = '+str(round(MAE,2))+' а.е.м.',fontsize=25)\n",
    "plt.grid()\n",
    "plt.savefig('A_est_true_2_'+add_name,bbox_inches='tight')"
   ]
  },
  {
   "cell_type": "code",
   "execution_count": 35,
   "metadata": {
    "ExecuteTime": {
     "end_time": "2023-06-19T14:15:51.652342Z",
     "start_time": "2023-06-19T14:15:51.631371Z"
    }
   },
   "outputs": [
    {
     "data": {
      "text/plain": [
       "70    27.3839\n",
       "71    32.5542\n",
       "72    22.2339\n",
       "73    29.6777\n",
       "74    21.5902\n",
       "75    24.5809\n",
       "76    34.5049\n",
       "77    37.2584\n",
       "78    45.0639\n",
       "79     34.003\n",
       "80    25.7667\n",
       "81    32.0199\n",
       "82    32.2137\n",
       "83    36.2177\n",
       "84    27.8646\n",
       "85    36.6531\n",
       "86    31.6245\n",
       "87    46.0829\n",
       "88    44.4626\n",
       "89    33.0578\n",
       "Name: A_mean_true, dtype: object"
      ]
     },
     "execution_count": 35,
     "metadata": {},
     "output_type": "execute_result"
    }
   ],
   "source": [
    "df_mass_result['A_mean_true'][70:90]"
   ]
  },
  {
   "cell_type": "code",
   "execution_count": 36,
   "metadata": {
    "ExecuteTime": {
     "end_time": "2023-06-19T14:15:57.254334Z",
     "start_time": "2023-06-19T14:15:57.241368Z"
    }
   },
   "outputs": [
    {
     "data": {
      "text/plain": [
       "70     27.294\n",
       "71    33.4585\n",
       "72    22.6967\n",
       "73    29.7516\n",
       "74     20.921\n",
       "75     23.952\n",
       "76    34.0432\n",
       "77    37.1087\n",
       "78    44.8633\n",
       "79    33.7172\n",
       "80    26.3475\n",
       "81    32.5916\n",
       "82    30.6169\n",
       "83    36.5294\n",
       "84    27.8399\n",
       "85    37.0399\n",
       "86     32.104\n",
       "87    44.9754\n",
       "88    43.6104\n",
       "89    32.6084\n",
       "Name: mass_mean, dtype: object"
      ]
     },
     "execution_count": 36,
     "metadata": {},
     "output_type": "execute_result"
    }
   ],
   "source": [
    "A_est[70:90]"
   ]
  },
  {
   "cell_type": "code",
   "execution_count": null,
   "metadata": {},
   "outputs": [],
   "source": []
  }
 ],
 "metadata": {
  "hide_input": false,
  "kernelspec": {
   "display_name": "Python 3 (ipykernel)",
   "language": "python",
   "name": "python3"
  },
  "language_info": {
   "codemirror_mode": {
    "name": "ipython",
    "version": 3
   },
   "file_extension": ".py",
   "mimetype": "text/x-python",
   "name": "python",
   "nbconvert_exporter": "python",
   "pygments_lexer": "ipython3",
   "version": "3.11.3"
  },
  "toc": {
   "base_numbering": 1,
   "nav_menu": {},
   "number_sections": true,
   "sideBar": false,
   "skip_h1_title": false,
   "title_cell": "Table of Contents",
   "title_sidebar": "Contents",
   "toc_cell": false,
   "toc_position": {
    "height": "696.969px",
    "left": "54.9688px",
    "top": "172.969px",
    "width": "277.969px"
   },
   "toc_section_display": true,
   "toc_window_display": true
  },
  "varInspector": {
   "cols": {
    "lenName": 16,
    "lenType": 16,
    "lenVar": 40
   },
   "kernels_config": {
    "python": {
     "delete_cmd_postfix": "",
     "delete_cmd_prefix": "del ",
     "library": "var_list.py",
     "varRefreshCmd": "print(var_dic_list())"
    },
    "r": {
     "delete_cmd_postfix": ") ",
     "delete_cmd_prefix": "rm(",
     "library": "var_list.r",
     "varRefreshCmd": "cat(var_dic_list()) "
    }
   },
   "types_to_exclude": [
    "module",
    "function",
    "builtin_function_or_method",
    "instance",
    "_Feature"
   ],
   "window_display": false
  }
 },
 "nbformat": 4,
 "nbformat_minor": 4
}
