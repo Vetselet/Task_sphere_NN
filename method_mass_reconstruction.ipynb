{
 "cells": [
  {
   "cell_type": "markdown",
   "metadata": {
    "ExecuteTime": {
     "end_time": "2022-11-28T14:35:10.873046Z",
     "start_time": "2022-11-28T14:35:10.866065Z"
    }
   },
   "source": [
    "# Библиотеки"
   ]
  },
  {
   "cell_type": "code",
   "execution_count": 2,
   "metadata": {
    "ExecuteTime": {
     "end_time": "2023-06-16T15:08:25.110675Z",
     "start_time": "2023-06-16T15:08:25.062775Z"
    },
    "cell_style": "center"
   },
   "outputs": [
    {
     "data": {
      "text/plain": [
       "0  0       1.946728\n",
       "   1       1.717453\n",
       "   2       0.278241\n",
       "   3       1.761861\n",
       "   4      -1.054782\n",
       "             ...   \n",
       "4  2574    3.973855\n",
       "   2575    3.686575\n",
       "   2576    2.997633\n",
       "   2577    3.545605\n",
       "   2578    3.482310\n",
       "Name: pred, Length: 14932, dtype: float64"
      ]
     },
     "execution_count": 2,
     "metadata": {},
     "output_type": "execute_result"
    }
   ],
   "source": [
    "import matplotlib.pyplot as plt\n",
    "from math import *\n",
    "import numpy as np\n",
    "import pandas as pd\n",
    "import csv\n",
    "from scipy.integrate import quad\n",
    "import plotly.express as px\n",
    "import plotly.graph_objects as go\n",
    "from pathlib import Path\n",
    "from numpy import linalg as LA\n",
    "from iminuit import Minuit\n",
    "from scipy.stats import beta\n",
    "from scipy import interpolate\n",
    "import matplotlib as mpl\n",
    "from scipy.optimize import leastsq, curve_fit\n",
    "from sklearn.linear_model import LinearRegression\n",
    "from matplotlib.ticker import (MultipleLocator, AutoMinorLocator)\n",
    "\n",
    "import warnings\n",
    "warnings.filterwarnings('ignore')\n",
    "\n",
    "plt.rcParams['ytick.direction'] = 'in'\n",
    "plt.rcParams['xtick.direction'] = 'in' \n",
    "\n",
    "plt.rcParams['xtick.major.size']=10\n",
    "plt.rcParams['xtick.minor.size'] = 5\n",
    "plt.rcParams['xtick.major.width'] = 2\n",
    "plt.rcParams['xtick.minor.width'] = 1\n",
    "# plt.rcParams['xtick.minor.visible'] = 'True'\n",
    "\n",
    "plt.rcParams['ytick.major.size'] = 10\n",
    "plt.rcParams['ytick.minor.size'] = 5\n",
    "plt.rcParams['ytick.major.width'] = 2\n",
    "plt.rcParams['ytick.minor.width'] = 1\n",
    "\n",
    "plt.rcParams.update({'font.size':20})\n",
    "plt.rc('xtick', labelsize=20)\n",
    "plt.rc('ytick', labelsize=20)\n",
    "\n",
    "f1=Path.cwd()/'predictions_NN_lnA.csv'\n",
    "\n",
    "rhomax=170\n",
    "p0max=2000\n",
    "chi2max=10000\n",
    "\n",
    "color5=['blue','orange','green','cyan','gray']\n",
    "m_name=['p','He','N','S','Fe']\n",
    "\n",
    "df_pred=((((pd.read_csv(f1,header=0,sep=',')).dropna()).iloc[:,1:]))\n",
    "p=df_pred['pred'][df_pred['m_name']==m_name[0]]\n",
    "p.index=np.arange(len(p))\n",
    "He=df_pred['pred'][df_pred['m_name']==m_name[1]]\n",
    "He.index=np.arange(len(He))\n",
    "N=df_pred['pred'][df_pred['m_name']==m_name[2]]\n",
    "N.index=np.arange(len(N))\n",
    "S=df_pred['pred'][df_pred['m_name']==m_name[3]]\n",
    "S.index=np.arange(len(S))\n",
    "Fe=df_pred['pred'][df_pred['m_name']==m_name[4]]\n",
    "Fe.index=np.arange(len(Fe))\n",
    "\n",
    "#=============================================================================\n",
    "df_together=pd.concat([p,He,N,S,Fe],keys=[0,1,2,3,4])\n",
    "df_together"
   ]
  },
  {
   "cell_type": "markdown",
   "metadata": {},
   "source": [
    "# Определение масс p, N, Fe"
   ]
  },
  {
   "cell_type": "code",
   "execution_count": 3,
   "metadata": {
    "ExecuteTime": {
     "end_time": "2023-06-16T15:08:30.267942Z",
     "start_time": "2023-06-16T15:08:30.259965Z"
    }
   },
   "outputs": [],
   "source": [
    "mp=1.001\n",
    "mHe=4.0026\n",
    "mC=12\n",
    "mN=14.007\n",
    "mS=32.064\n",
    "mCa=40.08\n",
    "mFe=55.845\n",
    "\n",
    "mass_toFe=[1.0078,4.0026,6.941,9.01218,10.81,12.011,14.0067,15.999,18.9984, \\\n",
    "           20.179,22.989,24.305,26.98,27.98,30.97376,32.06,35.453,39.948,39.0983,40.08, \\\n",
    "           44.956,47.9,50.942,51.99,54.938,55.847]\n",
    "mass_name=['p','He','Li','Be','B','C','N','O','F','Ne','Na','Mg','Al','Si','P','S', \\\n",
    "           'Cl','Ar','K','Ca','Sc','Ti','V','Cr','Mn','Fe']"
   ]
  },
  {
   "cell_type": "code",
   "execution_count": 4,
   "metadata": {
    "ExecuteTime": {
     "end_time": "2023-06-16T15:08:35.210408Z",
     "start_time": "2023-06-16T15:08:35.187492Z"
    }
   },
   "outputs": [
    {
     "name": "stdout",
     "output_type": "stream",
     "text": [
      "5\n"
     ]
    }
   ],
   "source": [
    "r=df_together\n",
    "N_samples=5  \n",
    "print(N_samples)\n",
    "\n",
    "if N_samples==5:\n",
    "    m=np.array([mp,mHe,mN,mS,mFe])\n",
    "    ln_m=np.log(m+1)\n",
    "    m_name=['p','He','N','S','Fe']\n",
    "    color7=['blue','orange','red','purple','green']\n",
    "\n",
    "min_common,max_common=[],[]\n",
    "for i in range(N_samples):\n",
    "    min_common.append(min(r[i]))\n",
    "    max_common.append(max(r[i]))\n",
    "min_common,max_common=min(min_common),max(max_common)\n",
    "\n",
    "# Устанавливаю размер бина, в котором будут считаться кол-ва событий с определенным \n",
    "# нормализованным радиусом от 0 до 1\n",
    "glob_step_bins = 0.04"
   ]
  },
  {
   "cell_type": "markdown",
   "metadata": {},
   "source": [
    "# Функции"
   ]
  },
  {
   "cell_type": "code",
   "execution_count": 5,
   "metadata": {
    "ExecuteTime": {
     "end_time": "2023-06-16T15:08:40.680564Z",
     "start_time": "2023-06-16T15:08:40.626709Z"
    },
    "code_folding": [
     53,
     67,
     69,
     77,
     88,
     96,
     99,
     102,
     110,
     113,
     116,
     125
    ]
   },
   "outputs": [],
   "source": [
    "# Гистограмма для рисования по трем ядрам\n",
    "def hist_3(r,add_name,xlabel='ln(A)',one=True,norm=True,step_bins=glob_step_bins,save=False):\n",
    "    if norm==True: bins=np.arange(0,1,step_bins)\n",
    "    else: bins=np.arange(min_common,max_common,step_bins)\n",
    "    if one==True:\n",
    "        fig=plt.figure(figsize=(8,4))   \n",
    "        for i in range(N_samples):\n",
    "            plt.hist(r[i],bins,alpha=0.6,label=m_name[i],color=color7[i])\n",
    "        plt.ylabel('count in bin '+str(step_bins))\n",
    "        plt.xlabel(xlabel)\n",
    "        plt.legend()\n",
    "        if save==True: plt.savefig('distribution_R'+add_name+'.png',bbox_inches='tight')\n",
    "    else:\n",
    "        fig,ax=plt.subplots(nrows=len(r),figsize=(10,3*len(r)))   \n",
    "        for i in range(N_samples):\n",
    "            ax[i].hist(r[i],bins,alpha=0.6,label=m_name[i],color=color7[i])\n",
    "            ax[i].legend(loc='centre left',bbox_to_anchor=(1,1))\n",
    "            ax[i].xaxis.set_minor_locator(AutoMinorLocator())\n",
    "            ax[i].tick_params(which = 'major',    #  Применяем параметры к основным делениям\n",
    "               length = 10,    #  Длинна делений\n",
    "               width = 3,     #  Ширина делений\n",
    "               color = 'black',    #  Цвет делений\n",
    "               pad = 5,    #  Расстояние между черточкой и ее подписью\n",
    "               labelsize = 18,    #  Размер подписи\n",
    "               bottom = True,    #  Рисуем метки снизу\n",
    "               left = True,    #  слева\n",
    "               direction='in'\n",
    "               )    #  Поворот подписей\n",
    "            ax[i].tick_params(which = 'minor',    #  Применяем параметры к основным делениям\n",
    "               length = 5,    #  Длинна делений\n",
    "               width = 3,     #  Ширина делений\n",
    "               color = 'black',    #  Цвет делений\n",
    "               pad = 5,    #  Расстояние между черточкой и ее подписью\n",
    "               labelsize = 18,    #  Размер подписи\n",
    "               bottom = True,    #  Рисуем метки снизу\n",
    "               left = True,    #  слева\n",
    "               direction='in'\n",
    "               )    #  Поворот подписей         \n",
    "        plt.ylabel('count in bin'+str(step_bins))\n",
    "        plt.xlabel(xlabel)\n",
    "        plt.legend(loc='centre left',bbox_to_anchor=(1,1))\n",
    "        if save==True: plt.savefig('distribution_R'+add_name+'.png',bbox_inches='tight')\n",
    "\n",
    "# Бета-распределение\n",
    "def beta_dist(x,a,b):\n",
    "    return (x**(a-1)*(1-x)**(b-1))\n",
    "def integral_beta(x,a,b):\n",
    "    return quad(beta_dist, min(x), max(x), args=(a,b))[0]\n",
    "def beta_pdf(x,a,b):\n",
    "    return beta_dist(x,a,b)/integral_beta(x,a,b)\n",
    "\n",
    "# Находим y - значения кол-ва радиусов в бине для каждого ядра, а затем делим на суммарное число событий\n",
    "# и получаем плонтость распределения на отрезке от 0 до 1\n",
    "def find_y_core(rn,x,step_bins=glob_step_bins):\n",
    "    xn=x-step_bins/2  # Начинаем с min(x) \n",
    "    y=np.zeros((N_samples,len(xn)))\n",
    "#     print(y.shape)\n",
    "    for part in range(N_samples):     \n",
    "        for i in range(len(xn)):\n",
    "            if i==len(xn)-1:   \n",
    "                y[part][i]=np.sum((rn[part]>xn[i]))\n",
    "            else:  \n",
    "                y[part][i]=np.sum((rn[part]<xn[i+1])&(rn[part]>xn[i]))\n",
    "        func_interp=interpolate.interp1d(x,y[part])\n",
    "        Ip=quad(func_interp,min(x),max(x))[0]\n",
    "        y[part]/= Ip \n",
    "    return y  # Плотность распределения на х = (0,1)\n",
    "def find_ab_beta_for_cores(x,y):\n",
    "    a,b=[],[]\n",
    "    for i in range(N_samples):\n",
    "        opt, cor = curve_fit(beta_pdf, x, y[i], p0=(8,16),maxfev=10**5)\n",
    "        ai,bi=opt\n",
    "        a.append(ai)\n",
    "        b.append(bi)\n",
    "    return a,b   # коэффициенты аппроксимации Бета-распределения a = [for p, for N, for Fe]\n",
    "\n",
    "# Аппроксимация линейной функцией\n",
    "def appro_ab(x,y,print_error=False):\n",
    "    x = x.reshape((-1,1)) \n",
    "    model = LinearRegression()\n",
    "    model.fit(x, y)\n",
    "    p0,p1=model.intercept_, model.coef_[0]  # a+bx\n",
    "    y_pred=p0+p1*x.reshape(-1)\n",
    "    if print_error == True:   print('error', ((y_pred - y)**2).sum())\n",
    "    return p0,p1\n",
    "# Аппроксимация квадратичной функцией\n",
    "def sq(x,p0,p1,p2):\n",
    "    return p0+p1*x+p2*x**2\n",
    "def appro_c(x,y,print_error=False):\n",
    "    # Квадратичная аппроксимация\n",
    "    opt, cor = curve_fit(sq, x, y, p0=(1,1,1),maxfev=10**6)\n",
    "    p0,p1,p2=opt\n",
    "    y_pred=sq(x,p0,p1,p2)\n",
    "    if print_error == True:    print('error', ((y_pred - y)**2).sum())\n",
    "    return p0,p1,p2\n",
    "\n",
    "def c_r(p0,p1):\n",
    "    c=1/(ln_m[-1]**2)*(min_manual[-1]-p1*ln_m[-1]-p0)\n",
    "    return c\n",
    "def sq_r(x,p0,p1):\n",
    "    c=c_r(p0,p1)\n",
    "    return p0+p1*x+c*x**2\n",
    "def appro_c_r(x,y,print_error=False):\n",
    "    opt, cor = curve_fit(sq_r, x, y, p0=(1,1),maxfev=10**6)\n",
    "    p0,p1=opt\n",
    "    y_pred=sq_r(x,p0,p1)\n",
    "    if print_error == True:    print('error', ((y_pred - y)**2).sum())\n",
    "    c=c_r(p0,p1)\n",
    "    return p0,p1,c\n",
    "\n",
    "def c_rm(p0,p1):\n",
    "    c=1/(ln_m[-1]**2)*(max_manual[-1]-p1*ln_m[-1]-p0)\n",
    "    return c\n",
    "def sq_rm(x,p0,p1):\n",
    "    c=c_rm(p0,p1)\n",
    "    return p0+p1*x+c*x**2\n",
    "def appro_c_r_max(x,y,print_error=False):\n",
    "    opt, cor = curve_fit(sq_rm, x, y, p0=(1,1),maxfev=10**6)\n",
    "    p0,p1=opt\n",
    "    y_pred=sq_rm(x,p0,p1)\n",
    "    if print_error == True:    print('error', ((y_pred - y)**2).sum())\n",
    "    c=c_rm(p0,p1)\n",
    "    return p0,p1,c\n",
    "\n",
    "\n",
    "def find_manual_border(min_manual,max_manual):\n",
    "    min_per,max_per=np.zeros(N_samples),np.zeros(N_samples)\n",
    "#     print(min_per)\n",
    "    for i in range(N_samples):\n",
    "#         print(i, min_per[i])\n",
    "        min_per[i]=(min_manual[i]-min(r[i]))/(max(r[i])-min(r[i]))\n",
    "        max_per[i]=(max_manual[i]-min(r[i]))/(max(r[i])-min(r[i]))\n",
    "#         print(min_manual[i]-min(r[i]),(max(r[i])-min(r[i])),min(r[i]),max(r[i]))\n",
    "    return min_per,max_per\n",
    "# min_per,max_per=find_manual_border(min_manual,max_manual)\n",
    "\n",
    "def fcn(rtoa):\n",
    "    rtoa['A'] = rtoa['A'].astype('float')\n",
    "    df_mass=rtoa.groupby('real_A').agg({'A':['mean']})\n",
    "    # -1 потому что не учитываем вклад жедлеза\n",
    "    return sum(((df_mass['A']['mean'].to_numpy()[1:-1]-df_mass['A'].index[1:-1])/df_mass['A'].index[1:-1])**2) \n",
    "def mean_A(rtoa):\n",
    "    rtoa['A'] = rtoa['A'].astype('float')\n",
    "    rtoe=rtoa.dropna()\n",
    "    df_mass=rtoa.groupby('real_A').agg({'A':['mean']})\n",
    "    # -1 потому что не учитываем вклад жедлеза\n",
    "    return df_mass['A']['mean']\n"
   ]
  },
  {
   "cell_type": "markdown",
   "metadata": {},
   "source": [
    "# Класс"
   ]
  },
  {
   "cell_type": "code",
   "execution_count": 6,
   "metadata": {
    "ExecuteTime": {
     "end_time": "2023-06-16T15:08:44.709580Z",
     "start_time": "2023-06-16T15:08:44.646747Z"
    },
    "code_folding": [
     25,
     31,
     46,
     161,
     170,
     266,
     300
    ]
   },
   "outputs": [],
   "source": [
    "#В класс обязательно входит r, радиус с которым мы будем работать.\n",
    "# r,min_common,max_common,min_manual,max_manual,\n",
    "class find_A:\n",
    "    def __init__(self, r, add_name,chek=False,manual=False,step_bins = glob_step_bins, norm=True):\n",
    "        self.r=r\n",
    "        self.min_r=min_common\n",
    "        self.max_r=max_common\n",
    "        self.x=np.arange(0.001,0.999,step_bins) + step_bins/2\n",
    "        self.manual=manual\n",
    "        if norm==True:\n",
    "            self.rn=self.norm_individ()\n",
    "        else:\n",
    "            self.rn=self.norm_common()\n",
    "        #  Нашли y - плотность распределния наших смоделированных данных     \n",
    "        self.y=find_y_core(self.rn,self.x)\n",
    "        # Нашли аппроксимации Бета-распределения для каджого ядра\n",
    "        self.a,self.b=find_ab_beta_for_cores(self.x,self.y)\n",
    "        self.chek=chek\n",
    "        self.add_name=add_name\n",
    "        direct_out_for_graph = Path.cwd() / 'graphs'\n",
    "        direct_out_for_graph.mkdir(exist_ok=True)\n",
    "        direct_out_for_graph_mass = direct_out_for_graph / ('graph_mass'+self.add_name)\n",
    "        direct_out_for_graph_mass.mkdir(exist_ok=True)\n",
    "        self.direct_out_for_graph_mass = direct_out_for_graph_mass\n",
    "        \n",
    "    def norm_common(self):\n",
    "        rn=(self.r-self.min_r)/(self.max_r-self.min_r)\n",
    "        return rn\n",
    "    \n",
    "    # Если стоит ручной режим, то нужно будет заранее в global определить \n",
    "    # max_per и т.д.\n",
    "    def norm_individ(self):\n",
    "        r_norm=[]\n",
    "        for i in range(N_samples):\n",
    "            r_norm.append((self.r[i]-np.min(self.r[i]))/(self.r[i].max()-self.r[i].min()))\n",
    "        r_norm=np.array(r_norm)\n",
    "        \n",
    "        if self.manual == True:\n",
    "            r_norm2=[]\n",
    "            for i in range(N_samples):\n",
    "                r_norm2.append(r_norm[i][(r_norm[i]<max_per[i])&(r_norm[i]>min_per[i])])\n",
    "                r_norm2[i]=(r_norm2[i]-np.min(r_norm2[i]))/(r_norm2[i].max()-r_norm2[i].min())\n",
    "            r_norm=np.array(r_norm2)\n",
    "        \n",
    "        return r_norm\n",
    "\n",
    "    def find_Beta_param(self,A):\n",
    "        # Фитируем эти коэффициенты a,b,c , чтобы узнать какие они будут у промежуточных ядер\n",
    "\n",
    "        p0_a,p1_a,p2_a=appro_c(ln_m,self.a)\n",
    "        p0_b,p1_b,p2_b=appro_c(ln_m,self.b)\n",
    "        a_beta=sq(np.log(A+0.1),p0_a,p1_a,p2_a)\n",
    "        b_beta=sq(np.log(A+0.1),p0_b,p1_b,p2_b)\n",
    "\n",
    "        return a_beta,b_beta   # Коэффициенты Бета-распределения для заданной массы A\n",
    "    #FFFFFFFFFFFFFFFFFFFFFFFFFFFFFFFFFFFFFFFFFFFFFFFFFFFFFFFFFFFFFFFFFFFFFFFFFFFFFFFFFFFFFFFFFFFFFFFFFFFFFF\n",
    "    #FFFFFFFFFFFFFFFFFFFFFFFFFFFFFFFFFFFFFFFFFFFFFFFFFFFFFFFFFFFFFFFFFFFFFFFFFFFFFFFFFFFFFFFFFFFFFFFFFFFFFF\n",
    "    def plot_appro_Beta(self,save=False):\n",
    "        fig,(ax1,ax2)=plt.subplots(nrows=1,ncols=2,figsize=(15,4))\n",
    "        df_ab=pd.DataFrame({'ln_m':ln_m,'a':self.a,'b':self.b}).sort_values(by=['ln_m'])\n",
    "        \n",
    "        #================================ a\n",
    "#         ax1.scatter(ln_m,self.a, label='a',marker='o',s=80)\n",
    "        # plt.yscale('log')\n",
    "        ax1.set_xlabel('ln(A+0.1)')\n",
    "        ax1.set_ylabel('parameters Beta a')\n",
    "#         print(self.a,self.b)\n",
    "        a_appro,b_appro=[],[]\n",
    "        for i in range(N_samples):\n",
    "            a_beta,b_beta=self.find_Beta_param(m[i])\n",
    "            a_appro.append(a_beta)\n",
    "            b_appro.append(b_beta)\n",
    "#             print(a_beta,b_beta)\n",
    "            ax1.scatter(ln_m[i],self.a[i],marker='o',s=80,color=color7[i])\n",
    "            ax2.scatter(ln_m[i],self.b[i],marker='o',s=80,label=m_name[i],color=color7[i])\n",
    "            \n",
    "        ax1.plot(ln_m,a_appro)\n",
    "        ax2.plot(ln_m,b_appro)\n",
    "        #================================== b\n",
    "#         ax2.scatter(ln_m,self.b,marker='o',s=80)\n",
    "#         ax2.set_yscale('log')\n",
    "        ax2.set_xlabel('ln(A+0.1)')\n",
    "        ax2.set_ylabel('parameters Beta b')\n",
    "        ax2.legend(loc='center left', bbox_to_anchor=(1, 0.5))\n",
    "        if save==True: plt.savefig(self.direct_out_for_graph_mass/Path('aprro_beta_param_ab_v3'+self.add_name+'.png'),bbox_inches='tight')\n",
    "   \n",
    "    #FFFFFFFFFFFFFFFFFFFFFFFFFFFFFFFFFFFFFFFFFFFFFFFFFFFFFFFFFFFFFFFFFFFFFFFFFFFFFFFFFFFFFFFFFFFFFFFFFFFFFF\n",
    "    #FFFFFFFFFFFFFFFFFFFFFFFFFFFFFFFFFFFFFFFFFFFFFFFFFFFFFFFFFFFFFFFFFFFFFFFFFFFFFFFFFFFFFFFFFFFFFFFFFFFFFF        \n",
    "    def plot_norm(self,init=0,end=N_samples,data=False,fit=True,appro=True, save=False):\n",
    "        fig, ax = plt.subplots(figsize=(13,6))\n",
    "        plt.ylabel('count in bin 0.04')\n",
    "        plt.xlabel('normalized R')                   \n",
    "        #==========================================================================================\n",
    "        for i in range(init,end):\n",
    "            # Рисуем реальные значения гистограммы приведенной к плотности распределения\n",
    "            if data==True: \n",
    "                ax.plot(self.x,self.y[i], label='pdf '+m_name[i],color=color7[i],marker='o')\n",
    "                ax.legend(loc='centre left',bbox_to_anchor=(1,1))\n",
    "                if save==True:\n",
    "                    plt.savefig(self.direct_out_for_graph_mass/Path('data_norm_v3'+self.add_name+'.png'),bbox_inches='tight')\n",
    "            if fit==True:\n",
    "                # Рисуем фитированные по данным распределения \n",
    "                ax.plot(self.x, beta_pdf(self.x,self.a[i],self.b[i]), '-', lw=4, alpha=0.6, \\\n",
    "                        label='fit pdf'+m_name[i],color=color7[i])\n",
    "                ax.legend(loc='centre left',bbox_to_anchor=(1,1))\n",
    "                if save==True:\n",
    "                    plt.savefig(self.direct_out_for_graph_mass/Path('fit_norm_v3'+self.add_name+'.png'),bbox_inches='tight')                \n",
    "            if appro==True:\n",
    "                mass=m[i] # H\n",
    "                a_beta,b_beta=self.find_Beta_param(mass)\n",
    "                # Рисуем аппроксимированные распределения\n",
    "                ax.plot(self.x, beta_pdf(self.x,a_beta,b_beta), linestyle='--',lw=5,\\\n",
    "                        alpha=0.6, label='appro pdf '+m_name[i],color=color7[i])\n",
    "                ax.legend(loc='centre left',bbox_to_anchor=(1,1))           \n",
    "                if save==True:\n",
    "                    plt.savefig(self.direct_out_for_graph_mass/Path('appro_norm_v3'+self.add_name+'.png'),bbox_inches='tight')\n",
    "        \n",
    "        ax.legend(loc='centre left',bbox_to_anchor=(1,1))\n",
    "        plt.ylabel('pdf')\n",
    "        plt.xlabel('normalized R')\n",
    "        if save==True:\n",
    "            plt.savefig(self.direct_out_for_graph_mass/Path('total_norm_distr_v3'+self.add_name+'.png'),bbox_inches='tight')\n",
    "    \n",
    "    #FFFFFFFFFFFFFFFFFFFFFFFFFFFFFFFFFFFFFFFFFFFFFFFFFFFFFFFFFFFFFFFFFFFFFFFFFFFFFFFFFFFFFFFFFFFFFFFFFFFFFF\n",
    "    #FFFFFFFFFFFFFFFFFFFFFFFFFFFFFFFFFFFFFFFFFFFFFFFFFFFFFFFFFFFFFFFFFFFFFFFFFFFFFFFFFFFFFFFFFFFFFFFFFFFFFF  \n",
    "    # Находим зависимость от массы начала и конца распределения на известных ядрах\n",
    "    def fit_border(self,graph=False, save=False):   \n",
    "        # Зависимость начала и конца распределения от массы, точнее логарифма массы\n",
    "        min_value,max_value=[],[]\n",
    "        for i in range(N_samples):\n",
    "            min_value.append(min(r[i]))\n",
    "            max_value.append(max(r[i]))\n",
    "            \n",
    "        if self.manual==True:\n",
    "            min_manual_bord=min_manual.copy()\n",
    "            max_manual_bord=max_manual.copy()\n",
    "            min_a,min_b,min_c=appro_c_r(ln_m,min_manual)   \n",
    "            max_a,max_b,max_c=appro_c_r_max(ln_m,max_manual)            \n",
    "        else:    \n",
    "            min_a,min_b,min_c=appro_c(ln_m,min_value)\n",
    "            max_a,max_b,max_c=appro_c(ln_m,max_value)\n",
    "        \n",
    "        if graph==True:\n",
    "            fig=plt.figure()   \n",
    "            if self.manual==True:\n",
    "                for i in range(N_samples):\n",
    "                    plt.scatter(ln_m[i],min_manual[i],label=m_name[i],color=color7[i])\n",
    "                    plt.scatter(ln_m[i],max_manual[i],color=color7[i])                 \n",
    "            else:\n",
    "                for i in range(N_samples):\n",
    "                    plt.scatter(ln_m[i],min_value[i],label=m_name[i],color=color7[i])\n",
    "                    plt.scatter(ln_m[i],max_value[i],color=color7[i])        \n",
    "            plt.plot(ln_m,min_a+min_b*ln_m+min_c*ln_m**2, label='start R')\n",
    "            plt.plot(ln_m,max_a+max_b*ln_m+max_c*ln_m**2, label='end R')\n",
    "            plt.xlabel('ln(A+0.1)')\n",
    "            plt.ylabel('R')\n",
    "            plt.legend(loc='center left', bbox_to_anchor=(1, 0.5))\n",
    "            if save==True:\n",
    "                plt.savefig(self.direct_out_for_graph_mass/Path('fit_border_v3'+self.add_name+'.png'),bbox_inches='tight')\n",
    "        return min_a,min_b,min_c, max_a,max_b,max_c\n",
    "        \n",
    "    def find_r_start_end(self,A):\n",
    "#         # ИЗМЕНЕНО!!!!!!!!!!!!\n",
    "        if self.chek==True:\n",
    "            min_a,min_b,min_c, max_a,max_b,max_c=min_an[k],min_bn[k],min_cn[k], max_an[k],max_bn[k],max_cn[k]\n",
    "        else:  min_a,min_b,min_c, max_a,max_b,max_c=self.fit_border()\n",
    "#         print(min_a,min_b,min_c, max_a,max_b,max_c)                          \n",
    "        r_start=sq(np.log(A+0.1),min_a,min_b,min_c)\n",
    "        r_end=sq(np.log(A+0.1),max_a,max_b,max_c)\n",
    "        return r_start,r_end\n",
    "    def find_r_distr(self,A):\n",
    "        r_start,r_end=self.find_r_start_end(A)\n",
    "#         print(r_start,r_end)\n",
    "        r_distr=self.x*(r_end-r_start)+r_start\n",
    "        return r_distr    \n",
    "    #FFFFFFFFFFFFFFFFFFFFFFFFFFFFFFFFFFFFFFFFFFFFFFFFFFFFFFFFFFFFFFFFFFFFFFFFFFFFFFFFFFFFFFFFFFFFFFFFFFFFFF\n",
    "    #FFFFFFFFFFFFFFFFFFFFFFFFFFFFFFFFFFFFFFFFFFFFFFFFFFFFFFFFFFFFFFFFFFFFFFFFFFFFFFFFFFFFFFFFFFFFFFFFFFFFFF\n",
    "    def plot(self,appro=False,fcn=False,save=False):\n",
    "        fig, ax = plt.subplots(figsize=(8,4))\n",
    "        if self.manual==True:\n",
    "            for i in range(N_samples):\n",
    "                R_actual=self.x*(max_manual[i]-min_manual[i])+min_manual[i]             \n",
    "                ax.plot(R_actual, beta_pdf(self.x,self.a[i],self.b[i])/(max_manual[i]-min_manual[i]), \\\n",
    "                        linestyle='-',lw=4,  alpha=0.6, label='fit pdf '+m_name[i], color=color7[i])\n",
    "        else:\n",
    "            for i in range(N_samples):\n",
    "                R_actual=self.x*(max(r[i])-min(r[i]))+min(r[i])  \n",
    "#                 if i==\n",
    "#                 ax.plot(R_actual, beta_pdf(self.x,self.a[i],self.b[i])/(max(r[i])-min(r[i])), \\\n",
    "#                         linestyle='-',lw=4,  alpha=0.6, label='fit pdf '+m_name[i], color=color7[i])\n",
    "        #==========================================================================================\n",
    "        if appro==True:\n",
    "            for i in range(N_samples):\n",
    "                A=m[i]\n",
    "                r_start,r_end=self.find_r_start_end(A)\n",
    "#                 print(r_start,r_end)\n",
    "                if self.chek==True: a_beta,b_beta=find_param(A)   # ИЗМЕНЕНО!!!!\n",
    "                else:  a_beta,b_beta=self.find_Beta_param(A) \n",
    "                \n",
    "                f_interpolate=interpolate.interp1d(self.find_r_distr(A),beta_pdf(self.x,a_beta,b_beta))\n",
    "                Integral_below=quad(f_interpolate,min(self.find_r_distr(A)),max(self.find_r_distr(A)))[0]\n",
    "#                 print(Integral_below/(r_end-r_start))\n",
    "                ax.plot(self.find_r_distr(A), beta_pdf(self.x,a_beta,b_beta)/(r_end-r_start), \\\n",
    "                        linestyle='-',lw=4,  alpha=0.6, label=m_name[i],color=color7[i])\n",
    "        #==========================================================================================\n",
    "        plt.legend()\n",
    "        plt.ylim(0,None)\n",
    "        # plt.xscale('log')\n",
    "        plt.ylabel('PDF')\n",
    "        plt.xlabel('ln(A)')\n",
    "        plt.savefig('Beta_R_initial_'+self.add_name+'.png')\n",
    "        \n",
    "        if fcn==True: \n",
    "            plt.title('k = '+str(k)+', j = '+str(j)+', l = '+str(l)+', fcn = '+str(df_fcn['fcn'].loc[l+j*5+k*5*5]))\n",
    "        if save==True:\n",
    "            plt.savefig(self.direct_out_for_graph_mass/Path('R_init_'+self.add_name+'.png'),bbox_inches='tight')        \n",
    "        \n",
    "    def interpolate_distr(self):\n",
    "        some_R=pd.DataFrame()\n",
    "        f_arr=[]\n",
    "        for i in range(len(mass_toFe[:])):\n",
    "            A=mass_toFe[i]\n",
    "            if self.chek==True: a_beta,b_beta=find_param(A)   # ИЗМЕНЕНО!!!!\n",
    "            else:  a_beta,b_beta=self.find_Beta_param(A) \n",
    "            r_i1=self.find_r_distr(A)\n",
    "            beta_i1=beta_pdf(self.x,a_beta,b_beta)\n",
    "\n",
    "            f_inter=interpolate.interp1d(r_i1,beta_i1/(max(r_i1)-min(r_i1)))\n",
    "            if i==0: min_possible_r=min(r_i1)\n",
    "            if i==len(mass_toFe)-1: max_possible_r=max(r_i1) \n",
    "            f_arr.append(f_inter)\n",
    "\n",
    "        return f_arr,min_possible_r,max_possible_r    # Возвращаю масив с интерполяциями для 26 ядер\n",
    "    def from_R_to_A(self):\n",
    "        R_to_A=pd.DataFrame(index=np.arange(len(df_together)),columns=['R','A','type_part'])\n",
    "        add_toi=0\n",
    "        f_arr,min_possible_r,max_possible_r=self.interpolate_distr()\n",
    "        for j in range(N_samples):\n",
    "            print(j)\n",
    "            for i in range(len(self.r[j][:])):\n",
    "                real_i=i+add_toi\n",
    "                R_to_A['R'].loc[real_i]=self.r[j][i]\n",
    "                R_to_A['type_part'].loc[real_i]=m_name[j]\n",
    "                if R_to_A['R'].loc[real_i] >= max_possible_r: \n",
    "                    A_res=m[0]\n",
    "                elif R_to_A['R'].loc[real_i] <= min_possible_r :\n",
    "                    A_res=m[N_samples-1] \n",
    "                else:    \n",
    "                    y_df=pd.DataFrame(index=np.arange(len(mass_toFe)),columns=['A','y','mass'])\n",
    "                    y_df['A']=mass_toFe\n",
    "                    summ=0\n",
    "                    for part in range(len(mass_toFe[:])):\n",
    "                        try: \n",
    "                            summ+=1\n",
    "                            y_interp=f_arr[part](R_to_A['R'].loc[real_i])\n",
    "                            y_df['y'].loc[part]=y_interp\n",
    "                        except:\n",
    "                            y_df['y'].loc[part]=0\n",
    "                        y_df['mass'].loc[part]=mass_name[part]\n",
    "                    y_max=max(y_df['y'])\n",
    "                    A_res=float(y_df['A'][y_df['y']==y_max])\n",
    "                R_to_A['A'].loc[real_i]=A_res\n",
    "#                 if (real_i+1)%500==0: print(real_i)\n",
    "            add_toi+=len(self.r[j])   \n",
    "        return R_to_A \n",
    "    \n",
    "    def minimize(self):\n",
    "        \n",
    "        R_to_A=cl.from_R_to_A()\n",
    "        for i in range(N_samples):\n",
    "            R_to_A['real_A'][R_to_A['type_part']==m_name[i]]=m[i]\n",
    "        fcn(R_to_A)\n",
    "        \n",
    "    def mass_distribution(self):\n",
    "        x=mass_name\n",
    "        y=np.zeros((N_samples,len(mass_toFe)))\n",
    "        for j in range(N_samples):\n",
    "            for i in range(len(mass_toFe)):\n",
    "                y[j][i]=np.count_nonzero(R_to_A['A'][(R_to_A['A']==mass_toFe[i])&(R_to_A['type_part']==m_name[j])])\n",
    "\n",
    "        max_len=max(len(r[0]),len(r[1]),len(r[2])) #,len(r[3]),len(r[4]))\n",
    "        coef=np.zeros(N_samples)\n",
    "        for i in range(N_samples):\n",
    "            coef[i]=max_len/len(r[i])\n",
    "\n",
    "        x1=np.arange(1,27)\n",
    "\n",
    "        fig, ax = plt.subplots(figsize=(15,8))\n",
    "        bottom=0\n",
    "        for j in range(N_samples):\n",
    "            width=0.68\n",
    "            if j!=0: bottom+=y[j-1]*coef[j-1]\n",
    "            ax.bar(x1, y[j]*coef[j], bottom=bottom,width = width,color=color7[j],label=m_name[j],alpha=0.6)\n",
    "        ax.legend(loc='center left',bbox_to_anchor=(1,0.5))\n",
    "        ax.set_xticks(np.arange(1,len(mass_name)+1))\n",
    "        ax.set_xticklabels(mass_name, fontsize=20) #, mass_name, size='small')\n",
    "\n",
    "        plt.savefig(self.direct_out_for_graph_mass/Path('mass_distr_above_'+self.add_name+'.png'),bbox_inches='tight')\n",
    "        plt.show()\n",
    "        \n",
    "    def mass_lineal(self):\n",
    "        fig,ax=plt.subplots(figsize=(10,4))\n",
    "        mA=mean_A(R_to_A)\n",
    "        for i in range(N_samples):\n",
    "            plt.scatter(np.array(mA)[i],[1],color=color7[i],s=80,label=m_name[i])\n",
    "            plt.axvline(np.array(mA.index)[i],color=color7[i])\n",
    "        plt.legend(loc='center left',bbox_to_anchor=(1,0.5),fontsize=20)\n",
    "        plt.savefig(self.direct_out_for_graph_mass/Path('mean_A'+self.add_name+'.png'),bbox_inches='tight')"
   ]
  },
  {
   "cell_type": "markdown",
   "metadata": {},
   "source": [
    "# Восстановление массы "
   ]
  },
  {
   "cell_type": "code",
   "execution_count": 7,
   "metadata": {
    "ExecuteTime": {
     "end_time": "2023-06-16T15:11:27.695727Z",
     "start_time": "2023-06-16T15:08:50.430715Z"
    }
   },
   "outputs": [
    {
     "name": "stdout",
     "output_type": "stream",
     "text": [
      "0\n",
      "1\n",
      "2\n",
      "3\n",
      "4\n",
      "2\n"
     ]
    },
    {
     "data": {
      "image/png": "[encoded data removed]",
      "text/plain": [
       "<Figure size 576x288 with 1 Axes>"
      ]
     },
     "metadata": {
      "needs_background": "light"
     },
     "output_type": "display_data"
    }
   ],
   "source": [
    "cl=find_A(r,add_name='_5_10-20_q1',manual=False)\n",
    "add_name='_9_10-20_q1'\n",
    "cl.plot(save=True,appro=True)\n",
    "R_to_A=cl.from_R_to_A()\n",
    "R_to_A['real_A']=0\n",
    "for typ in range(N_samples):\n",
    "    R_to_A['real_A'][R_to_A['type_part']==m_name[typ]]=m[typ]\n",
    "print(round(fcn(R_to_A)))"
   ]
  },
  {
   "cell_type": "markdown",
   "metadata": {},
   "source": [
    "## Гистограмма выхода нейронной сети на тестовой выборке"
   ]
  },
  {
   "cell_type": "code",
   "execution_count": 9,
   "metadata": {
    "ExecuteTime": {
     "end_time": "2023-06-16T15:11:38.450201Z",
     "start_time": "2023-06-16T15:11:37.664304Z"
    }
   },
   "outputs": [
    {
     "data": {
      "image/png": "[encoded data removed]",
      "text/plain": [
       "<Figure size 576x288 with 1 Axes>"
      ]
     },
     "metadata": {
      "needs_background": "light"
     },
     "output_type": "display_data"
    }
   ],
   "source": [
    "hist_3(r,norm=False,step_bins=0.2,save=True,add_name='1')"
   ]
  },
  {
   "cell_type": "markdown",
   "metadata": {},
   "source": [
    "## Массовое распределение"
   ]
  },
  {
   "cell_type": "code",
   "execution_count": 10,
   "metadata": {
    "ExecuteTime": {
     "end_time": "2023-06-16T15:12:00.658783Z",
     "start_time": "2023-06-16T15:11:59.871859Z"
    }
   },
   "outputs": [
    {
     "data": {
      "image/png": "[encoded data removed]",
      "text/plain": [
       "<Figure size 1080x576 with 1 Axes>"
      ]
     },
     "metadata": {
      "needs_background": "light"
     },
     "output_type": "display_data"
    }
   ],
   "source": [
    "cl.mass_distribution()"
   ]
  },
  {
   "cell_type": "markdown",
   "metadata": {},
   "source": [
    "## Параметризация распределений Бета-распределением"
   ]
  },
  {
   "cell_type": "code",
   "execution_count": 14,
   "metadata": {
    "ExecuteTime": {
     "end_time": "2023-06-16T15:12:27.050270Z",
     "start_time": "2023-06-16T15:12:26.545632Z"
    }
   },
   "outputs": [
    {
     "data": {
      "image/png": "[encoded data removed]",
      "text/plain": [
       "<Figure size 576x288 with 1 Axes>"
      ]
     },
     "metadata": {
      "needs_background": "light"
     },
     "output_type": "display_data"
    }
   ],
   "source": [
    "cl.plot(appro=True)"
   ]
  },
  {
   "cell_type": "markdown",
   "metadata": {},
   "source": [
    "## Аппроксимация границ распределений"
   ]
  },
  {
   "cell_type": "code",
   "execution_count": 12,
   "metadata": {
    "ExecuteTime": {
     "end_time": "2023-06-16T15:12:22.586838Z",
     "start_time": "2023-06-16T15:12:22.348438Z"
    }
   },
   "outputs": [
    {
     "data": {
      "text/plain": [
       "(-4.274656290466075,\n",
       " 1.7743897879244477,\n",
       " -0.08923775834023136,\n",
       " 3.5215148641644793,\n",
       " 0.3768648602577114,\n",
       " -0.010424743519048476)"
      ]
     },
     "execution_count": 12,
     "metadata": {},
     "output_type": "execute_result"
    },
    {
     "data": {
      "image/png": "[encoded data removed]",
      "text/plain": [
       "<Figure size 432x288 with 1 Axes>"
      ]
     },
     "metadata": {
      "needs_background": "light"
     },
     "output_type": "display_data"
    }
   ],
   "source": [
    "cl.fit_border(graph=True)"
   ]
  },
  {
   "cell_type": "markdown",
   "metadata": {},
   "source": [
    "## Аппроксимация параметров Бета-распределения"
   ]
  },
  {
   "cell_type": "code",
   "execution_count": 15,
   "metadata": {
    "ExecuteTime": {
     "end_time": "2023-06-16T15:12:29.211526Z",
     "start_time": "2023-06-16T15:12:28.993704Z"
    }
   },
   "outputs": [
    {
     "data": {
      "image/png": "[encoded data removed]",
      "text/plain": [
       "<Figure size 1080x288 with 2 Axes>"
      ]
     },
     "metadata": {
      "needs_background": "light"
     },
     "output_type": "display_data"
    }
   ],
   "source": [
    "cl.plot_appro_Beta()"
   ]
  },
  {
   "cell_type": "markdown",
   "metadata": {},
   "source": [
    "## Выборочные средние (точки) относительно истинных масс (линии)"
   ]
  },
  {
   "cell_type": "code",
   "execution_count": 16,
   "metadata": {
    "ExecuteTime": {
     "end_time": "2023-06-16T15:12:31.861583Z",
     "start_time": "2023-06-16T15:12:31.609231Z"
    }
   },
   "outputs": [
    {
     "data": {
      "image/png": "[encoded data removed]",
      "text/plain": [
       "<Figure size 720x216 with 1 Axes>"
      ]
     },
     "metadata": {
      "needs_background": "light"
     },
     "output_type": "display_data"
    }
   ],
   "source": [
    "fig,ax=plt.subplots(figsize=(10,3))\n",
    "\n",
    "mA=mean_A(R_to_A)\n",
    "for i in range(N_samples):\n",
    "    plt.scatter(np.array(mA)[i],[1],color=color7[i],s=80,label=m_name[i])\n",
    "    plt.axvline(np.array(mA.index)[i],color=color7[i],linewidth=2)\n",
    "plt.legend(loc='center left',bbox_to_anchor=(1,0.5),fontsize=20)\n",
    "plt.savefig('mean_A_9all_500_convert',bbox_inches='tight')"
   ]
  },
  {
   "cell_type": "markdown",
   "metadata": {},
   "source": [
    "## Аппроксимация зависимости истинных масс от выборочных средних"
   ]
  },
  {
   "cell_type": "code",
   "execution_count": 19,
   "metadata": {
    "ExecuteTime": {
     "end_time": "2023-06-16T15:13:20.463150Z",
     "start_time": "2023-06-16T15:13:20.173897Z"
    }
   },
   "outputs": [
    {
     "name": "stdout",
     "output_type": "stream",
     "text": [
      "error 3.9030960061908204\n",
      "error general 0.7294789476597269\n"
     ]
    },
    {
     "data": {
      "image/png": "[encoded data removed]",
      "text/plain": [
       "<Figure size 360x288 with 1 Axes>"
      ]
     },
     "metadata": {
      "needs_background": "light"
     },
     "output_type": "display_data"
    }
   ],
   "source": [
    "mA=mean_A(R_to_A)\n",
    "p0,p1,p2=appro_c(np.array(mA),(np.array(mA.index)-np.array(mA)),print_error=True)\n",
    "y=p0+p1*np.array(mA)+p2*(np.array(mA))**2\n",
    "# print('error general', sum(abs(y+np.array(mA)-np.array(mA.index))/np.array(mA.index)))\n",
    "print('error general', sum(abs(y+np.array(mA)-np.array(mA.index)))/5)\n",
    "\n",
    "# plt.rcParams.update({'font.size':20})\n",
    "# plt.rc('xtick', labelsize=20)\n",
    "# plt.rc('ytick', labelsize=20)\n",
    "\n",
    "\n",
    "fig=plt.figure(figsize=(5,4))\n",
    "for i in range(N_samples):\n",
    "    plt.scatter(np.array(mA)[i],np.array(mA.index)[i]-np.array(mA)[i],color=color7[i],s=80,label=m_name[i])\n",
    "df_y=pd.DataFrame({'y_compute':np.array(mA),'y':y})\n",
    "# print(df_y['y_compute'].to_numpy())\n",
    "# df_y.sort_values(by=['y_compute'])\n",
    "# plt.ylim(-22,12)\n",
    "df_y=df_y.sort_values(by=['y_compute'])\n",
    "plt.plot(df_y['y_compute'].to_numpy(),df_y['y'],label='fit')\n",
    "plt.legend(loc='center left',bbox_to_anchor=(1,0.5),fontsize=20)\n",
    "plt.xlabel('<M>')\n",
    "plt.ylabel(r'$A_{true}$ — <M>')\n",
    "\n",
    "plt.savefig('mean_A_5_900',bbox_inches='tight')"
   ]
  },
  {
   "cell_type": "code",
   "execution_count": 17,
   "metadata": {
    "ExecuteTime": {
     "end_time": "2023-06-16T15:12:46.365498Z",
     "start_time": "2023-06-16T15:12:45.790806Z"
    }
   },
   "outputs": [
    {
     "data": {
      "image/png": "[encoded data removed]",
      "text/plain": [
       "<Figure size 360x288 with 1 Axes>"
      ]
     },
     "metadata": {
      "needs_background": "light"
     },
     "output_type": "display_data"
    }
   ],
   "source": [
    "fig,ax=plt.subplots(figsize=(5,4))\n",
    "\n",
    "mA=mean_A(R_to_A)\n",
    "for i in range(N_samples):\n",
    "    plt.scatter(np.array(mA)[i],np.array(mA.index)[i],color=color7[i],s=80,label=m_name[i])\n",
    "plt.legend(loc='center left',bbox_to_anchor=(1,0.5),fontsize=20)\n",
    "plt.xlim(0,60)\n",
    "plt.ylim(0,60)\n",
    "plt.ylabel(r'$A_{true}$')\n",
    "plt.xlabel('<M>')\n",
    "plt.savefig('mean_A_5_convert',bbox_inches='tight')"
   ]
  },
  {
   "cell_type": "markdown",
   "metadata": {},
   "source": [
    "## Оцененные массы известных типов ядер"
   ]
  },
  {
   "cell_type": "code",
   "execution_count": 18,
   "metadata": {
    "ExecuteTime": {
     "end_time": "2023-06-16T15:13:13.335994Z",
     "start_time": "2023-06-16T15:13:13.046767Z"
    }
   },
   "outputs": [
    {
     "name": "stdout",
     "output_type": "stream",
     "text": [
      "error 3.9030960061908204\n",
      "error general 3.6473947382986345\n"
     ]
    },
    {
     "data": {
      "image/png": "[encoded data removed]",
      "text/plain": [
       "<Figure size 720x216 with 1 Axes>"
      ]
     },
     "metadata": {
      "needs_background": "light"
     },
     "output_type": "display_data"
    }
   ],
   "source": [
    "mA=mean_A(R_to_A)\n",
    "p0,p1,p2=appro_c(np.array(mA),(np.array(mA.index)-np.array(mA)),print_error=True)\n",
    "y=p0+p1*np.array(mA)+p2*(np.array(mA))**2\n",
    "# print('error general', sum(abs(y+np.array(mA)-np.array(mA.index))/np.array(mA.index)))\n",
    "print('error general', sum(abs(y+np.array(mA)-np.array(mA.index))))\n",
    "\n",
    "fig,ax=plt.subplots(figsize=(10,3))\n",
    "\n",
    "plt.rcParams.update({'font.size':20})\n",
    "plt.rc('xtick', labelsize=20)\n",
    "plt.rc('ytick', labelsize=20)\n",
    "mA=mean_A(R_to_A)\n",
    "for i in range(N_samples):\n",
    "    plt.scatter(np.array(mA)[i]+y[i],[1],color=color7[i],s=80,label=m_name[i])\n",
    "    plt.axvline(np.array(mA.index)[i],color=color7[i],linewidth=2)\n",
    "plt.legend(loc='center left',bbox_to_anchor=(1,0.5),fontsize=20)\n",
    "plt.savefig('mean_A_5_convert_',bbox_inches='tight')"
   ]
  },
  {
   "cell_type": "code",
   "execution_count": null,
   "metadata": {},
   "outputs": [],
   "source": []
  },
  {
   "cell_type": "markdown",
   "metadata": {},
   "source": [
    "## Оцененные массы относительно истинных масс для двух моделей ядерногоо взаимодействия"
   ]
  },
  {
   "cell_type": "code",
   "execution_count": 20,
   "metadata": {
    "ExecuteTime": {
     "end_time": "2023-06-16T15:13:28.243285Z",
     "start_time": "2023-06-16T15:13:27.986942Z"
    }
   },
   "outputs": [
    {
     "data": {
      "image/png": "[encoded data removed]",
      "text/plain": [
       "<Figure size 432x360 with 1 Axes>"
      ]
     },
     "metadata": {
      "needs_background": "light"
     },
     "output_type": "display_data"
    }
   ],
   "source": [
    "add_name='5'\n",
    "fig,ax=plt.subplots(figsize=(6,5))\n",
    "sum_err=0\n",
    "xx=np.linspace(0,60,100)\n",
    "yy=xx\n",
    "plt.plot(xx,yy,color='black')\n",
    "for i in range(N_samples):\n",
    "    plt.scatter(m[i],np.array(mA)[i]+y[i],label=m_name[i],color=color7[i],s=80)\n",
    "    sum_err+=np.array(mA)[i]+y[i]-m[i]\n",
    "plt.legend(loc='lower right') #loc='center left', bbox_to_anchor=(1,0.5))\n",
    "# plt.xlabel('Истинные массы')\n",
    "# plt.ylabel('Оцененные массы')\n",
    "plt.xlabel(r'$A_{true}$')\n",
    "plt.ylabel(r'$A_{est}$')\n",
    "plt.savefig('mean_A_real_1_'+add_name,bbox_inches='tight')"
   ]
  },
  {
   "cell_type": "markdown",
   "metadata": {},
   "source": [
    "# Поиск средних масс по всей выборке"
   ]
  },
  {
   "cell_type": "code",
   "execution_count": 33,
   "metadata": {
    "ExecuteTime": {
     "end_time": "2023-06-12T12:23:47.303499Z",
     "start_time": "2023-06-12T12:23:46.859656Z"
    }
   },
   "outputs": [],
   "source": [
    "cl=find_A(r,add_name='_5_q1q2_10-20',manual=False)\n",
    "f_arr,min_possible_r,max_possible_r =cl.interpolate_distr()"
   ]
  },
  {
   "cell_type": "code",
   "execution_count": 34,
   "metadata": {
    "ExecuteTime": {
     "end_time": "2023-06-12T12:23:47.568757Z",
     "start_time": "2023-06-12T12:23:47.543827Z"
    },
    "code_folding": [
     0
    ]
   },
   "outputs": [],
   "source": [
    "def extract_data(probab):\n",
    "    p=df_pred['pred'][df_pred['m_name']==m_name[0]]\n",
    "    mask=np.random.choice(a=[True, False], size=(len(p)), p=[probab[0], 1-probab[0]])\n",
    "    p2n=p[mask]\n",
    "    p2n.index=np.arange(len(p2n))\n",
    "    \n",
    "    He=df_pred['pred'][df_pred['m_name']==m_name[1]]\n",
    "    mask=np.random.choice(a=[True, False], size=(len(He)), p=[probab[1], 1-probab[1]])\n",
    "    He2n=He[mask]\n",
    "    He2n.index=np.arange(len(He2n))\n",
    "    \n",
    "    N=df_pred['pred'][df_pred['m_name']==m_name[2]]\n",
    "    mask=np.random.choice(a=[True, False], size=(len(N)), p=[probab[2], 1-probab[2]])\n",
    "    N2n=N[mask]\n",
    "    N2n.index=np.arange(len(N2n))\n",
    "    \n",
    "    S=df_pred['pred'][df_pred['m_name']==m_name[3]]\n",
    "    mask=np.random.choice(a=[True, False], size=(len(S)), p=[probab[3], 1-probab[3]])\n",
    "    S2n=S[mask]\n",
    "    S2n.index=np.arange(len(S2n))\n",
    "    \n",
    "    Fe=df_pred['pred'][df_pred['m_name']==m_name[4]]\n",
    "    mask=np.random.choice(a=[True, False], size=(len(Fe)), p=[probab[4], 1-probab[4]])\n",
    "    Fe2n=Fe[mask]\n",
    "    Fe2n.index=np.arange(len(Fe2n))\n",
    "    \n",
    "    df_together=pd.concat([p2n,He2n,N2n,S2n,Fe2n],keys=[0,1,2,3,4])\n",
    "    return df_together"
   ]
  },
  {
   "cell_type": "code",
   "execution_count": 35,
   "metadata": {
    "ExecuteTime": {
     "end_time": "2023-06-12T12:23:47.990638Z",
     "start_time": "2023-06-12T12:23:47.971681Z"
    },
    "code_folding": [
     0
    ]
   },
   "outputs": [],
   "source": [
    "def from_R_to_A_mix(f_arr,min_possible_r,max_possible_r,r_mix):\n",
    "    R_to_A_mix=pd.DataFrame(index=np.arange(len(df)),columns=['R','A','type_part'])\n",
    "    add_toi=0\n",
    "    for j in range(N_samples):\n",
    "        print(j)\n",
    "        for i in range(len(r_mix[j][:])):\n",
    "            real_i=i+add_toi\n",
    "            R_to_A_mix['R'].loc[real_i]=r_mix[j][i]\n",
    "            R_to_A_mix['type_part'].loc[real_i]=m_name[j]\n",
    "            #         print(R_toA(R_to_A['R'].loc[i]))\n",
    "            if R_to_A_mix['R'].loc[real_i] >= max_possible_r:  #   error!!!!!!!!!!!!!!!!!!\n",
    "                A_res=m[0]\n",
    "            elif R_to_A_mix['R'].loc[real_i] <= min_possible_r :\n",
    "                A_res=m[N_samples-1] \n",
    "            else:    \n",
    "    #             y_interp_arr=[]\n",
    "                y_df=pd.DataFrame(index=np.arange(len(mass_toFe)),columns=['A','y'])\n",
    "                y_df['A']=mass_toFe\n",
    "                summ=0\n",
    "                for part in range(len(mass_toFe[:])):\n",
    "                    try: \n",
    "                        summ+=1\n",
    "                        y_interp=f_arr[part](R_to_A_mix['R'].loc[real_i])\n",
    "    #                     print(y_interp)\n",
    "    #                     y_interp_arr.append(y_interp)\n",
    "                        y_df['y'].loc[part]=y_interp\n",
    "                    except:\n",
    "                        y_df['y'].loc[part]=0\n",
    "                try:\n",
    "                    y_max=max(y_df['y'])\n",
    "\n",
    "                except:\n",
    "                    y_max=max(y_df['y'])\n",
    "    #             print('R', R_to_A['R'].loc[real_i], y_df['y'])    \n",
    "    #                 print(y_max)\n",
    "    #             print(y_df['A'][y_df['y']==y_max])\n",
    "                A_res=float(y_df['A'][y_df['y']==y_max])\n",
    "        #         print(summ)\n",
    "        #         print(y_interp_arr)\n",
    "\n",
    "    #         print(R_to_A['R'].loc[real_i], A_res)\n",
    "            R_to_A_mix['A'].loc[real_i]=A_res\n",
    "    #         if (real_i+1)%200==0: print(real_i)\n",
    "        add_toi+=len(r_mix[j])   \n",
    "    return R_to_A_mix # return R_to_A_mix"
   ]
  },
  {
   "cell_type": "code",
   "execution_count": 36,
   "metadata": {
    "ExecuteTime": {
     "end_time": "2023-06-12T12:23:48.367650Z",
     "start_time": "2023-06-12T12:23:48.349668Z"
    },
    "code_folding": []
   },
   "outputs": [],
   "source": [
    "def find_aver_A(R_to_A_mix):\n",
    "    Ni=np.zeros(26)\n",
    "    for i in range(26):\n",
    "        Ni[i]=np.count_nonzero(R_to_A_mix['A'][(R_to_A_mix['A']<(mass_toFe[i]+0.1))&(R_to_A_mix['A']>(mass_toFe[i]-0.1))])\n",
    "    # Ni\n",
    "    m_aver=sum(mass_toFe*Ni)/np.count_nonzero(R_to_A_mix['A'])\n",
    "#     print(m_aver)\n",
    "\n",
    "    Nri=np.zeros(N_samples)\n",
    "    for i in range(N_samples):\n",
    "        Nri[i]=np.count_nonzero(R_to_A_mix['type_part'][R_to_A_mix['type_part']==m_name[i]])\n",
    "    # Nri\n",
    "    A_aver_real=sum(m*Nri)/np.count_nonzero(R_to_A_mix['A'])\n",
    "#     print(A_aver_real)\n",
    "    return m_aver,A_aver_real,Ni,Nri    #return m_aver, A_aver_real"
   ]
  },
  {
   "cell_type": "code",
   "execution_count": 39,
   "metadata": {
    "ExecuteTime": {
     "end_time": "2023-06-12T12:24:06.271072Z",
     "start_time": "2023-06-12T12:24:06.257093Z"
    }
   },
   "outputs": [],
   "source": [
    "probab_c=[ [1,0.8, 0.1, 0.02,0.01 ],\n",
    "          [1,0.1, 0.1, 0.02,0.01  ],\n",
    "          [0.9,1, 0.2, 0.1,0.01 ],\n",
    "          [0.6,1, 0.3, 0.2,0.1],\n",
    "          [0.6,0.8, 1, 0.3,0.4],\n",
    "          [0.6,0.5, 1, 0.8,0.6],\n",
    "         [1,0.03, 0.03, 0.003,0.003],\n",
    "         [0.6,1, 0.1, 0.1,0.1],\n",
    "         [0.6,0.6, 1, 0.03,0.03],\n",
    "         [0.3,0.4, 0.5, 1,0.1],\n",
    "         [0.9,0.5, 0.01, 0.02,0.01],\n",
    "         [0.9,0.2, 0.01, 0.02,0.01],\n",
    "         [0.9,0.2, 0.1, 0.2,0.1],\n",
    "         [0.2,0.2, 0.2, 0.2,0.6]]"
   ]
  },
  {
   "cell_type": "markdown",
   "metadata": {},
   "source": [
    "## Составление выборок с разными итоговыми средними массами из данных о двух моделях взаимодействия"
   ]
  },
  {
   "cell_type": "code",
   "execution_count": 40,
   "metadata": {
    "ExecuteTime": {
     "end_time": "2023-06-12T12:37:59.123791Z",
     "start_time": "2023-06-12T12:24:07.979434Z"
    }
   },
   "outputs": [
    {
     "name": "stdout",
     "output_type": "stream",
     "text": [
      "# =  0\n",
      "0\n",
      "1\n",
      "2\n",
      "3\n",
      "4\n",
      "8.155871946392788 3.36052875751503 [2179. 2149. 1094.  544.  363.  279.  273.  236.  179.   97.   84.   59.\n",
      "   49.   35.   60.   37.   38.    4.   26.   21.   18.   17.   12.    7.\n",
      "   11.  113.] [4266. 3246.  357.   78.   37.]\n",
      "# =  1\n",
      "0\n",
      "1\n",
      "2\n",
      "3\n",
      "4\n",
      "7.222672686884297 2.9758292833687467 [1855. 1375.  609.  302.  181.  124.  123.  121.   97.   48.   38.   30.\n",
      "   25.   22.   24.   28.   18.    2.   20.    8.   14.   10.    8.    5.\n",
      "    3.   87.] [4266.  422.  386.   72.   31.]\n",
      "# =  2\n",
      "0\n",
      "1\n",
      "2\n",
      "3\n",
      "4\n",
      "9.797029736695922 4.880672436395956 [2085. 2282. 1254.  630.  416.  336.  363.  294.  220.  141.  126.   85.\n",
      "   85.   56.   71.   52.   66.    5.   40.   34.   56.   32.   20.   17.\n",
      "   13.  222.] [3852. 4011.  730.  378.   30.]\n",
      "# =  3\n",
      "0\n",
      "1\n",
      "2\n",
      "3\n",
      "4\n",
      "13.036484108589026 8.627189757043459 [1577. 1948. 1150.  625.  410.  344.  379.  335.  265.  179.  159.  114.\n",
      "   98.   82.  103.   60.   91.    8.   69.   56.   66.   52.   40.   35.\n",
      "   25.  497.] [2604. 4011. 1106.  712.  334.]\n",
      "# =  4\n",
      "0\n",
      "1\n",
      "2\n",
      "3\n",
      "4\n",
      "18.231508907276293 14.571307139810628 [1478. 1890. 1292.  760.  541.  467.  567.  529.  419.  314.  282.  217.\n",
      "  225.  165.  177.  145.  193.   26.  139.  113.  169.  110.   70.   63.\n",
      "   58. 1314.] [2547. 3206. 3672. 1023. 1275.]\n",
      "# =  5\n",
      "0\n",
      "1\n",
      "2\n",
      "3\n",
      "4\n",
      "22.313895045885708 19.96150878383589 [1364. 1592. 1139.  704.  543.  469.  601.  599.  490.  367.  354.  285.\n",
      "  294.  211.  229.  204.  293.   33.  204.  182.  269.  164.  113.  117.\n",
      "   82. 2065.] [2580. 1994. 3672. 2809. 1912.]\n",
      "# =  6\n",
      "0\n",
      "1\n",
      "2\n",
      "3\n",
      "4\n",
      "5.683680589669698 1.59752081578364 [1804. 1270.  538.  245.  138.   93.   83.   82.   59.   28.   24.   21.\n",
      "   21.    9.   14.   12.   13.    0.    5.    3.   10.    6.    4.    2.\n",
      "    2.   25.] [4266.  119.  102.   13.   11.]\n",
      "# =  7\n",
      "0\n",
      "1\n",
      "2\n",
      "3\n",
      "4\n",
      "11.431840002630889 7.073588345172323 [1527. 1888. 1054.  551.  359.  281.  311.  247.  188.  117.  108.   78.\n",
      "   68.   55.   67.   46.   68.    8.   51.   32.   57.   38.   16.   18.\n",
      "   21.  348.] [2536. 4011.  361.  363.  331.]\n",
      "# =  8\n",
      "0\n",
      "1\n",
      "2\n",
      "3\n",
      "4\n",
      "13.735854679624817 8.185775206237993 [1406. 1673. 1103.  651.  462.  385.  488.  420.  319.  239.  183.  141.\n",
      "  140.  111.  118.   94.  112.   13.   78.   65.   88.   47.   39.   30.\n",
      "   27.  417.] [2575. 2403. 3672.   97.  102.]\n",
      "# =  9\n",
      "0\n",
      "1\n",
      "2\n",
      "3\n",
      "4\n",
      "21.924477929577467 19.22218089201878 [ 779.  969.  735.  485.  383.  341.  444.  419.  347.  289.  279.  202.\n",
      "  216.  153.  151.  155.  228.   27.  139.  147.  186.  115.   77.   68.\n",
      "   57. 1129.] [1220. 1647. 1833. 3492.  328.]\n",
      "# =  10\n",
      "0\n",
      "1\n",
      "2\n",
      "3\n",
      "4\n",
      "7.173978394980184 2.682972688243065 [1.859e+03 1.718e+03 8.210e+02 3.980e+02 2.500e+02 1.660e+02 1.760e+02\n",
      " 1.520e+02 1.150e+02 5.800e+01 5.400e+01 3.800e+01 2.600e+01 1.900e+01\n",
      " 2.700e+01 2.300e+01 2.100e+01 1.000e+00 1.600e+01 1.300e+01 1.500e+01\n",
      " 1.100e+01 7.000e+00 4.000e+00 5.000e+00 6.300e+01] [3836. 2101.   32.   55.   32.]\n",
      "# =  11\n",
      "0\n",
      "1\n",
      "2\n",
      "3\n",
      "4\n",
      "6.700953572483647 2.456208989238236 [1.676e+03 1.315e+03 6.120e+02 2.750e+02 1.590e+02 1.220e+02 1.240e+02\n",
      " 1.020e+02 7.100e+01 3.200e+01 3.500e+01 2.100e+01 1.700e+01 1.400e+01\n",
      " 1.800e+01 1.900e+01 1.600e+01 1.000e+00 6.000e+00 9.000e+00 1.200e+01\n",
      " 1.700e+01 6.000e+00 3.000e+00 4.000e+00 5.300e+01] [3805.  804.   32.   55.   43.]\n",
      "# =  12\n",
      "0\n",
      "1\n",
      "2\n",
      "3\n",
      "4\n",
      "11.907809438911022 8.61570524568393 [1714. 1370.  644.  335.  217.  162.  153.  173.  141.   86.   85.   72.\n",
      "   60.   38.   51.   55.   51.    8.   51.   32.   58.   33.   23.   19.\n",
      "   14.  379.] [3860.  804.  353.  688.  319.]\n",
      "# =  13\n",
      "0\n",
      "1\n",
      "2\n",
      "3\n",
      "4\n",
      "28.054577181421198 28.925014370782055 [ 458.  512.  369.  197.  171.  135.  159.  191.  146.  109.  110.  100.\n",
      "  102.   80.   88.   79.  131.   16.   74.   74.  132.   79.   59.   52.\n",
      "   40. 1375.] [ 825.  809.  753.  712. 1939.]\n"
     ]
    }
   ],
   "source": [
    "df_mass_result=pd.DataFrame(index=np.arange(len(probab_c)),columns=['mass_mean','A_mean_true','Ni','Nri'])\n",
    "probab_min=0.3\n",
    "probab=np.array([probab_min]*N_samples)\n",
    "j=0\n",
    "\n",
    "for i in range(len(probab_c)):\n",
    "    print('# = ', i)\n",
    "    df=extract_data(probab_c[i])\n",
    "    r_mix=df\n",
    "    R_to_A_mix=from_R_to_A_mix(f_arr,min_possible_r,max_possible_r,r_mix)\n",
    "    mass_mean,A_mean_true,Ni,Nri=find_aver_A(R_to_A_mix)\n",
    "    print(mass_mean,A_mean_true,Ni,Nri)\n",
    "    df_mass_result.loc[i]=mass_mean,A_mean_true,Ni,Nri"
   ]
  },
  {
   "cell_type": "markdown",
   "metadata": {},
   "source": [
    "## Аппроксимация сдвига истинной массы от выборочного среднего "
   ]
  },
  {
   "cell_type": "code",
   "execution_count": 41,
   "metadata": {
    "ExecuteTime": {
     "end_time": "2023-06-12T12:37:59.529826Z",
     "start_time": "2023-06-12T12:37:59.233972Z"
    }
   },
   "outputs": [
    {
     "name": "stdout",
     "output_type": "stream",
     "text": [
      "[ 5.68368059 11.27640474 16.86912889 22.46185303 28.05457718] 5.683680589669698 28.054577181421198\n",
      "10.4360773452327\n"
     ]
    },
    {
     "data": {
      "image/png": "[encoded data removed]",
      "text/plain": [
       "<Figure size 432x360 with 1 Axes>"
      ]
     },
     "metadata": {
      "needs_background": "light"
     },
     "output_type": "display_data"
    }
   ],
   "source": [
    "p0_est,p1_est=appro_ab(np.array(df_mass_result['mass_mean']),np.array(df_mass_result['mass_mean']-\n",
    "                                                                     df_mass_result['A_mean_true']))\n",
    "A_est=df_mass_result['mass_mean']-p0_est-p1_est*df_mass_result['mass_mean']\n",
    "def f_line(p0,p1,x):\n",
    "    return p0+p1*x\n",
    "x_many=np.linspace(df_mass_result['mass_mean'].min(),df_mass_result['mass_mean'].max(),5)\n",
    "print(x_many,df_mass_result['mass_mean'].min(),df_mass_result['mass_mean'].max())\n",
    "err_A=sum(abs(A_est-df_mass_result['A_mean_true']))\n",
    "print(err_A)\n",
    "fig=plt.figure(figsize=(6,5))\n",
    "plt.scatter(df_mass_result['mass_mean'],df_mass_result['mass_mean']-df_mass_result['A_mean_true'],s=80)\n",
    "plt.plot(x_many,f_line(p0_est,p1_est,x_many),label='fit')\n",
    "plt.xlabel(r'$\\overline{M}$')\n",
    "plt.ylabel(r'$\\overline{M}-\\overline{A}_{true}$')\n",
    "plt.legend(fontsize=17)\n",
    "plt.grid()\n",
    "# plt.text(14.5,27,'$MAE = 4.7$')\n",
    "plt.savefig('A_aver_true_.png',bbox_inches='tight')"
   ]
  },
  {
   "cell_type": "code",
   "execution_count": 42,
   "metadata": {
    "ExecuteTime": {
     "end_time": "2023-06-12T12:37:59.638452Z",
     "start_time": "2023-06-12T12:37:59.624007Z"
    }
   },
   "outputs": [
    {
     "data": {
      "text/html": [
       "<div>\n",
       "<style scoped>\n",
       "    .dataframe tbody tr th:only-of-type {\n",
       "        vertical-align: middle;\n",
       "    }\n",
       "\n",
       "    .dataframe tbody tr th {\n",
       "        vertical-align: top;\n",
       "    }\n",
       "\n",
       "    .dataframe thead th {\n",
       "        text-align: right;\n",
       "    }\n",
       "</style>\n",
       "<table border=\"1\" class=\"dataframe\">\n",
       "  <thead>\n",
       "    <tr style=\"text-align: right;\">\n",
       "      <th></th>\n",
       "      <th>A_est</th>\n",
       "      <th>A_true</th>\n",
       "    </tr>\n",
       "  </thead>\n",
       "  <tbody>\n",
       "    <tr>\n",
       "      <th>0</th>\n",
       "      <td>3.49512</td>\n",
       "      <td>3.36053</td>\n",
       "    </tr>\n",
       "    <tr>\n",
       "      <th>1</th>\n",
       "      <td>2.3913</td>\n",
       "      <td>2.97583</td>\n",
       "    </tr>\n",
       "    <tr>\n",
       "      <th>2</th>\n",
       "      <td>5.43634</td>\n",
       "      <td>4.88067</td>\n",
       "    </tr>\n",
       "    <tr>\n",
       "      <th>3</th>\n",
       "      <td>9.26809</td>\n",
       "      <td>8.62719</td>\n",
       "    </tr>\n",
       "    <tr>\n",
       "      <th>4</th>\n",
       "      <td>15.413</td>\n",
       "      <td>14.5713</td>\n",
       "    </tr>\n",
       "    <tr>\n",
       "      <th>5</th>\n",
       "      <td>20.2418</td>\n",
       "      <td>19.9615</td>\n",
       "    </tr>\n",
       "    <tr>\n",
       "      <th>6</th>\n",
       "      <td>0.570924</td>\n",
       "      <td>1.59752</td>\n",
       "    </tr>\n",
       "    <tr>\n",
       "      <th>7</th>\n",
       "      <td>7.37006</td>\n",
       "      <td>7.07359</td>\n",
       "    </tr>\n",
       "    <tr>\n",
       "      <th>8</th>\n",
       "      <td>10.0953</td>\n",
       "      <td>8.18578</td>\n",
       "    </tr>\n",
       "    <tr>\n",
       "      <th>9</th>\n",
       "      <td>19.7811</td>\n",
       "      <td>19.2222</td>\n",
       "    </tr>\n",
       "    <tr>\n",
       "      <th>10</th>\n",
       "      <td>2.3337</td>\n",
       "      <td>2.68297</td>\n",
       "    </tr>\n",
       "    <tr>\n",
       "      <th>11</th>\n",
       "      <td>1.77419</td>\n",
       "      <td>2.45621</td>\n",
       "    </tr>\n",
       "    <tr>\n",
       "      <th>12</th>\n",
       "      <td>7.93305</td>\n",
       "      <td>8.61571</td>\n",
       "    </tr>\n",
       "    <tr>\n",
       "      <th>13</th>\n",
       "      <td>27.032</td>\n",
       "      <td>28.925</td>\n",
       "    </tr>\n",
       "  </tbody>\n",
       "</table>\n",
       "</div>"
      ],
      "text/plain": [
       "       A_est   A_true\n",
       "0    3.49512  3.36053\n",
       "1     2.3913  2.97583\n",
       "2    5.43634  4.88067\n",
       "3    9.26809  8.62719\n",
       "4     15.413  14.5713\n",
       "5    20.2418  19.9615\n",
       "6   0.570924  1.59752\n",
       "7    7.37006  7.07359\n",
       "8    10.0953  8.18578\n",
       "9    19.7811  19.2222\n",
       "10    2.3337  2.68297\n",
       "11   1.77419  2.45621\n",
       "12   7.93305  8.61571\n",
       "13    27.032   28.925"
      ]
     },
     "execution_count": 42,
     "metadata": {},
     "output_type": "execute_result"
    }
   ],
   "source": [
    "df_A_out=pd.DataFrame({'A_est':A_est,'A_true':df_mass_result['A_mean_true']})\n",
    "df_A_out"
   ]
  },
  {
   "cell_type": "code",
   "execution_count": 49,
   "metadata": {
    "ExecuteTime": {
     "end_time": "2023-06-12T13:25:14.337772Z",
     "start_time": "2023-06-12T13:25:14.323810Z"
    }
   },
   "outputs": [
    {
     "data": {
      "text/html": [
       "<div>\n",
       "<style scoped>\n",
       "    .dataframe tbody tr th:only-of-type {\n",
       "        vertical-align: middle;\n",
       "    }\n",
       "\n",
       "    .dataframe tbody tr th {\n",
       "        vertical-align: top;\n",
       "    }\n",
       "\n",
       "    .dataframe thead th {\n",
       "        text-align: right;\n",
       "    }\n",
       "</style>\n",
       "<table border=\"1\" class=\"dataframe\">\n",
       "  <thead>\n",
       "    <tr style=\"text-align: right;\">\n",
       "      <th></th>\n",
       "      <th>A_est</th>\n",
       "      <th>A_true</th>\n",
       "    </tr>\n",
       "  </thead>\n",
       "  <tbody>\n",
       "    <tr>\n",
       "      <th>0</th>\n",
       "      <td>3.49512</td>\n",
       "      <td>3.36053</td>\n",
       "    </tr>\n",
       "    <tr>\n",
       "      <th>1</th>\n",
       "      <td>2.3913</td>\n",
       "      <td>2.97583</td>\n",
       "    </tr>\n",
       "    <tr>\n",
       "      <th>2</th>\n",
       "      <td>5.43634</td>\n",
       "      <td>4.88067</td>\n",
       "    </tr>\n",
       "    <tr>\n",
       "      <th>3</th>\n",
       "      <td>9.26809</td>\n",
       "      <td>8.62719</td>\n",
       "    </tr>\n",
       "    <tr>\n",
       "      <th>4</th>\n",
       "      <td>15.413</td>\n",
       "      <td>14.5713</td>\n",
       "    </tr>\n",
       "    <tr>\n",
       "      <th>5</th>\n",
       "      <td>20.2418</td>\n",
       "      <td>19.9615</td>\n",
       "    </tr>\n",
       "    <tr>\n",
       "      <th>6</th>\n",
       "      <td>0.570924</td>\n",
       "      <td>1.59752</td>\n",
       "    </tr>\n",
       "    <tr>\n",
       "      <th>7</th>\n",
       "      <td>7.37006</td>\n",
       "      <td>7.07359</td>\n",
       "    </tr>\n",
       "    <tr>\n",
       "      <th>9</th>\n",
       "      <td>19.7811</td>\n",
       "      <td>19.2222</td>\n",
       "    </tr>\n",
       "    <tr>\n",
       "      <th>10</th>\n",
       "      <td>2.3337</td>\n",
       "      <td>2.68297</td>\n",
       "    </tr>\n",
       "    <tr>\n",
       "      <th>11</th>\n",
       "      <td>1.77419</td>\n",
       "      <td>2.45621</td>\n",
       "    </tr>\n",
       "    <tr>\n",
       "      <th>12</th>\n",
       "      <td>7.93305</td>\n",
       "      <td>8.61571</td>\n",
       "    </tr>\n",
       "    <tr>\n",
       "      <th>13</th>\n",
       "      <td>27.032</td>\n",
       "      <td>28.925</td>\n",
       "    </tr>\n",
       "  </tbody>\n",
       "</table>\n",
       "</div>"
      ],
      "text/plain": [
       "       A_est   A_true\n",
       "0    3.49512  3.36053\n",
       "1     2.3913  2.97583\n",
       "2    5.43634  4.88067\n",
       "3    9.26809  8.62719\n",
       "4     15.413  14.5713\n",
       "5    20.2418  19.9615\n",
       "6   0.570924  1.59752\n",
       "7    7.37006  7.07359\n",
       "9    19.7811  19.2222\n",
       "10    2.3337  2.68297\n",
       "11   1.77419  2.45621\n",
       "12   7.93305  8.61571\n",
       "13    27.032   28.925"
      ]
     },
     "execution_count": 49,
     "metadata": {},
     "output_type": "execute_result"
    }
   ],
   "source": [
    "df_A_out1=df_A_out.drop(8)\n",
    "df_A_out1"
   ]
  },
  {
   "cell_type": "code",
   "execution_count": 50,
   "metadata": {
    "ExecuteTime": {
     "end_time": "2023-06-12T13:25:46.971894Z",
     "start_time": "2023-06-12T13:25:46.956906Z"
    }
   },
   "outputs": [
    {
     "data": {
      "text/plain": [
       "0.6558862621742699"
      ]
     },
     "execution_count": 50,
     "metadata": {},
     "output_type": "execute_result"
    }
   ],
   "source": [
    "sum(abs(df_A_out1['A_est']-df_A_out1['A_true']))/len(df_A_out1['A_est'])"
   ]
  },
  {
   "cell_type": "markdown",
   "metadata": {},
   "source": [
    "## Оценка восстановления средней массы по всей выборке "
   ]
  },
  {
   "cell_type": "code",
   "execution_count": 53,
   "metadata": {
    "ExecuteTime": {
     "end_time": "2023-06-12T13:26:15.506303Z",
     "start_time": "2023-06-12T13:26:15.247989Z"
    }
   },
   "outputs": [
    {
     "data": {
      "image/png": "[encoded data removed]",
      "text/plain": [
       "<Figure size 432x360 with 1 Axes>"
      ]
     },
     "metadata": {
      "needs_background": "light"
     },
     "output_type": "display_data"
    }
   ],
   "source": [
    "fig,ax=plt.subplots(figsize=(6,5))\n",
    "    \n",
    "plt.scatter(df_mass_result['A_mean_true'],A_est,s=80,color='green')  \n",
    "# plt.axhline(15,color='gray',linewidth=2,linestyle='--',label='истинные массы')\n",
    "# plt.legend(loc='center left',bbox_to_anchor=(1,0.5),fontsize=20)\n",
    "x=np.linspace(min(df_A_out['A_true']),max(df_A_out['A_true']),100)\n",
    "y=x\n",
    "plt.plot(x,y,color='green')\n",
    "plt.xlabel('Истинные средние массы')\n",
    "plt.ylabel('Оцененные средние массы')\n",
    "plt.xlabel(r'$\\overline{A}_{true}$')\n",
    "plt.ylabel(r'$\\overline{A}_{est}$')\n",
    "plt.text(4,25.2,'$MAE = 0.7~$а.е.м.')\n",
    "plt.grid()\n",
    "plt.savefig('A_est_true_2_'+add_name,bbox_inches='tight')"
   ]
  },
  {
   "cell_type": "code",
   "execution_count": null,
   "metadata": {},
   "outputs": [],
   "source": []
  },
  {
   "cell_type": "code",
   "execution_count": null,
   "metadata": {},
   "outputs": [],
   "source": []
  }
 ],
 "metadata": {
  "hide_input": false,
  "kernelspec": {
   "display_name": "Python 3",
   "language": "python",
   "name": "python3"
  },
  "language_info": {
   "codemirror_mode": {
    "name": "ipython",
    "version": 3
   },
   "file_extension": ".py",
   "mimetype": "text/x-python",
   "name": "python",
   "nbconvert_exporter": "python",
   "pygments_lexer": "ipython3",
   "version": "3.7.6"
  },
  "toc": {
   "base_numbering": 1,
   "nav_menu": {},
   "number_sections": true,
   "sideBar": false,
   "skip_h1_title": false,
   "title_cell": "Table of Contents",
   "title_sidebar": "Contents",
   "toc_cell": false,
   "toc_position": {
    "height": "696.969px",
    "left": "54.9688px",
    "top": "172.969px",
    "width": "277.969px"
   },
   "toc_section_display": true,
   "toc_window_display": true
  },
  "varInspector": {
   "cols": {
    "lenName": 16,
    "lenType": 16,
    "lenVar": 40
   },
   "kernels_config": {
    "python": {
     "delete_cmd_postfix": "",
     "delete_cmd_prefix": "del ",
     "library": "var_list.py",
     "varRefreshCmd": "print(var_dic_list())"
    },
    "r": {
     "delete_cmd_postfix": ") ",
     "delete_cmd_prefix": "rm(",
     "library": "var_list.r",
     "varRefreshCmd": "cat(var_dic_list()) "
    }
   },
   "types_to_exclude": [
    "module",
    "function",
    "builtin_function_or_method",
    "instance",
    "_Feature"
   ],
   "window_display": false
  }
 },
 "nbformat": 4,
 "nbformat_minor": 4
}
